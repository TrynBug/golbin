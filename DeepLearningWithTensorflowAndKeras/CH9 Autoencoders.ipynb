{
 "cells": [
  {
   "cell_type": "markdown",
   "metadata": {},
   "source": [
    "## Vanilla autoencoders"
   ]
  },
  {
   "cell_type": "markdown",
   "metadata": {},
   "source": [
    "The Vanilla autoencoder consists of one hidden layer only. The number of neurons in the hidden layer are less than the number of neurons in the input (or output) layer."
   ]
  },
  {
   "cell_type": "markdown",
   "metadata": {},
   "source": [
    "### TensorFlow Keras Layers - defining custom layers"
   ]
  },
  {
   "cell_type": "markdown",
   "metadata": {},
   "source": [
    "We can make our own layer by simply making it a child class of the Layers class. It is necessary to define the dimensions of the output while defining the layer. Though input dimensions are optional, if you do not define them, it will infer it automatically from the data. To build our own layer we will need to implement three methods:\n",
    "<ul><li>__init__() : Here, you define all input-independent initializations\n",
    "    <li>build() : Here, we define the shapes of input tensors and can perform rest initializations if required.\n",
    "    <li>call() : THis is where the forward computation is performed.\n",
    "</ul>   "
   ]
  },
  {
   "cell_type": "code",
   "execution_count": 1,
   "metadata": {},
   "outputs": [],
   "source": [
    "# create an Encoder class.\n",
    "import tensorflow as tf\n",
    "import tensorflow.keras as K\n",
    "\n",
    "class Encoder(K.layers.Layer):\n",
    "    def __init__(self, hidden_dim):\n",
    "        super(Encoder, self).__init__()\n",
    "        self.hidden_layer = K.layers.Dense(units=hidden_dim, activation=tf.nn.relu)\n",
    "    \n",
    "    def call(self, input_features):\n",
    "        activation = self.hidden_layer(input_features)\n",
    "        return activation"
   ]
  },
  {
   "cell_type": "code",
   "execution_count": 2,
   "metadata": {},
   "outputs": [],
   "source": [
    "# define the Decoder class.\n",
    "# this class takes in the output from the Encoder and then passes it through a fully connected neural network.\n",
    "class Decoder(K.layers.Layer):\n",
    "    def __init__(self, hidden_dim, original_dim):\n",
    "        super(Decoder, self).__init__()\n",
    "        self.output_layer = K.layers.Dense(units=original_dim, activation=tf.nn.relu)\n",
    "\n",
    "    def call(self, encoded):\n",
    "        activation = self.output_layer(encoded)\n",
    "        return activation"
   ]
  },
  {
   "cell_type": "code",
   "execution_count": 3,
   "metadata": {},
   "outputs": [],
   "source": [
    "# build to autoencoder model using tensorflkw.keras.Model object\n",
    "class Autoencoder(K.Model):\n",
    "    def __init__(self, hidden_dim, original_dim):\n",
    "        super(Autoencoder, self).__init__()\n",
    "        self.loss = []\n",
    "        self.encoder = Encoder(hidden_dim=hidden_dim)\n",
    "        self.decoder = Decoder(hidden_dim=hidden_dim, original_dim = original_dim)\n",
    "        \n",
    "    # define the signal flow\n",
    "    def call(self, input_features):\n",
    "        encoded = self.encoder(input_features)\n",
    "        reconstructed = self.decoder(encoded)\n",
    "        return reconstructed"
   ]
  },
  {
   "cell_type": "markdown",
   "metadata": {},
   "source": [
    "### Reconstructing handwritten digits using an autoencoder"
   ]
  },
  {
   "cell_type": "code",
   "execution_count": 5,
   "metadata": {},
   "outputs": [],
   "source": [
    "import numpy as np\n",
    "import tensorflow as tf\n",
    "import tensorflow.keras as K\n",
    "import matplotlib.pyplot as plt"
   ]
  },
  {
   "cell_type": "code",
   "execution_count": 6,
   "metadata": {},
   "outputs": [],
   "source": [
    "# define some Hyperparameters\n",
    "np.random.seed(11)\n",
    "tf.random.set_seed(11)\n",
    "batch_size = 256\n",
    "max_epochs = 50\n",
    "learning_rate = 1e-3\n",
    "momentum = 8e-1\n",
    "hidden_dim = 128\n",
    "original_dim = 784"
   ]
  },
  {
   "cell_type": "code",
   "execution_count": 7,
   "metadata": {},
   "outputs": [],
   "source": [
    "# we are not using one-hot encoded labels; this is the case because we are not using labels to train the network.\n",
    "(x_train, _), (x_test, _) = K.datasets.mnist.load_data()\n",
    "x_train = x_train / 255.\n",
    "x_test = x_test / 255.\n",
    "x_train = x_train.astype(np.float32)\n",
    "x_test = x_test.astype(np.float32)\n",
    "x_train = np.reshape(x_train, (x_train.shape[0], 784))\n",
    "x_test = np.reshape(x_test, (x_test.shape[0], 784))\n",
    "# employ the from_tensor_slices to generate slices of tensors\n",
    "training_dataset = tf.data.Dataset.from_tensor_slices(x_train).batch(batch_size)"
   ]
  },
  {
   "cell_type": "code",
   "execution_count": 8,
   "metadata": {},
   "outputs": [],
   "source": [
    "# define the loss and optimizers to be used for training.\n",
    "autoencoder = Autoencoder(hidden_dim=hidden_dim, original_dim=original_dim)\n",
    "opt = tf.keras.optimizers.Adam(learning_rate=1e-2)\n",
    "\n",
    "def loss(preds, real):\n",
    "    return tf.reduce_mean(tf.square(tf.subtract(preds, real)))"
   ]
  },
  {
   "cell_type": "code",
   "execution_count": 9,
   "metadata": {},
   "outputs": [],
   "source": [
    "# Instead of using the auto-training loop, we will define a custom training.\n",
    "# We use tf.GradientTape to record the gradients as they are calculated and implicitly apply the gradients to all the trainable variables of our model\n",
    "def train(loss, model, opt, original):\n",
    "    with tf.GradientTape() as tape:\n",
    "        preds = model(original)\n",
    "        reconstruction_error = loss(preds, original)\n",
    "        gradients = tape.gradient(reconstruction_error, model.trainable_variables)\n",
    "        gradient_variables = zip(gradients, model.trainable_variables)\n",
    "        opt.apply_gradients(gradient_variables)\n",
    "    \n",
    "    return reconstruction_error"
   ]
  },
  {
   "cell_type": "code",
   "execution_count": 10,
   "metadata": {},
   "outputs": [],
   "source": [
    "# The preceding train() function will be invoked in a training loop, with the dataset fed to the model in batches\n",
    "def train_loop(model, opt, loss, dataset, epochs=20):\n",
    "    for epoch in range(epochs):\n",
    "        \n",
    "        epoch_loss = 0\n",
    "        \n",
    "        for step, batch_features in enumerate(dataset):\n",
    "            loss_values = train(loss, model, opt, batch_features)\n",
    "            epoch_loss += loss_values\n",
    "        \n",
    "        model.loss.append(epoch_loss)\n",
    "        print('Epoch {}/P{}. Loss: {}'.format(epoch+1, epochs, epoch_loss.numpy()))"
   ]
  },
  {
   "cell_type": "code",
   "execution_count": 11,
   "metadata": {},
   "outputs": [
    {
     "name": "stdout",
     "output_type": "stream",
     "text": [
      "Epoch 1/P50. Loss: 5.150146961212158\n",
      "Epoch 2/P50. Loss: 3.076070785522461\n",
      "Epoch 3/P50. Loss: 2.9740633964538574\n",
      "Epoch 4/P50. Loss: 2.887542724609375\n",
      "Epoch 5/P50. Loss: 2.8968920707702637\n",
      "Epoch 6/P50. Loss: 2.836301326751709\n",
      "Epoch 7/P50. Loss: 2.823406934738159\n",
      "Epoch 8/P50. Loss: 2.8302717208862305\n",
      "Epoch 9/P50. Loss: 2.8086085319519043\n",
      "Epoch 10/P50. Loss: 2.796436071395874\n",
      "Epoch 11/P50. Loss: 2.8078413009643555\n",
      "Epoch 12/P50. Loss: 2.8039464950561523\n",
      "Epoch 13/P50. Loss: 2.792804002761841\n",
      "Epoch 14/P50. Loss: 2.803535223007202\n",
      "Epoch 15/P50. Loss: 2.823622226715088\n",
      "Epoch 16/P50. Loss: 2.7801482677459717\n",
      "Epoch 17/P50. Loss: 2.7976064682006836\n",
      "Epoch 18/P50. Loss: 2.781986713409424\n",
      "Epoch 19/P50. Loss: 2.8045694828033447\n",
      "Epoch 20/P50. Loss: 2.7752535343170166\n",
      "Epoch 21/P50. Loss: 2.762800455093384\n",
      "Epoch 22/P50. Loss: 2.798692226409912\n",
      "Epoch 23/P50. Loss: 2.780217170715332\n",
      "Epoch 24/P50. Loss: 2.762648820877075\n",
      "Epoch 25/P50. Loss: 2.7534499168395996\n",
      "Epoch 26/P50. Loss: 2.765437602996826\n",
      "Epoch 27/P50. Loss: 2.7324442863464355\n",
      "Epoch 28/P50. Loss: 2.7726471424102783\n",
      "Epoch 29/P50. Loss: 2.7726972103118896\n",
      "Epoch 30/P50. Loss: 2.7607829570770264\n",
      "Epoch 31/P50. Loss: 2.7555904388427734\n",
      "Epoch 32/P50. Loss: 2.752558469772339\n",
      "Epoch 33/P50. Loss: 2.74651837348938\n",
      "Epoch 34/P50. Loss: 2.7765355110168457\n",
      "Epoch 35/P50. Loss: 2.7555980682373047\n",
      "Epoch 36/P50. Loss: 2.7659881114959717\n",
      "Epoch 37/P50. Loss: 2.76274037361145\n",
      "Epoch 38/P50. Loss: 2.7381253242492676\n",
      "Epoch 39/P50. Loss: 2.7489752769470215\n",
      "Epoch 40/P50. Loss: 2.7436413764953613\n",
      "Epoch 41/P50. Loss: 2.747248888015747\n",
      "Epoch 42/P50. Loss: 2.7320597171783447\n",
      "Epoch 43/P50. Loss: 2.7758939266204834\n",
      "Epoch 44/P50. Loss: 2.767688751220703\n",
      "Epoch 45/P50. Loss: 2.7345361709594727\n",
      "Epoch 46/P50. Loss: 2.7433128356933594\n",
      "Epoch 47/P50. Loss: 2.7372124195098877\n",
      "Epoch 48/P50. Loss: 2.747149705886841\n",
      "Epoch 49/P50. Loss: 2.742342233657837\n",
      "Epoch 50/P50. Loss: 2.753976583480835\n"
     ]
    }
   ],
   "source": [
    "# train our autoencoder\n",
    "train_loop(autoencoder, opt, loss, training_dataset, epochs=max_epochs)"
   ]
  },
  {
   "cell_type": "code",
   "execution_count": 12,
   "metadata": {},
   "outputs": [
    {
     "data": {
      "image/png": "[encoded data removed]",
      "text/plain": [
       "<Figure size 432x288 with 1 Axes>"
      ]
     },
     "metadata": {
      "needs_background": "light"
     },
     "output_type": "display_data"
    }
   ],
   "source": [
    "plt.plot(range(max_epochs), autoencoder.loss)\n",
    "plt.xlabel('Epochs')\n",
    "plt.ylabel('Loss')\n",
    "plt.show()"
   ]
  },
  {
   "cell_type": "code",
   "execution_count": 14,
   "metadata": {},
   "outputs": [
    {
     "data": {
      "image/png": "[encoded data removed]",
      "text/plain": [
       "<Figure size 1440x288 with 20 Axes>"
      ]
     },
     "metadata": {
      "needs_background": "light"
     },
     "output_type": "display_data"
    }
   ],
   "source": [
    "# you can see the original(top) and reconstructed(bottom) images\n",
    "number = 10 # how many digits we will display\n",
    "plt.figure(figsize=(20, 4))\n",
    "for index in range(number):\n",
    "    # display original\n",
    "    ax = plt.subplot(2, number, index + 1)\n",
    "    plt.imshow(x_test[index].reshape(28,28), cmap='gray')\n",
    "    ax.get_xaxis().set_visible(False)\n",
    "    ax.get_yaxis().set_visible(False)\n",
    "    \n",
    "    # display reconstruction\n",
    "    ax = plt.subplot(2, number, index + 1 + number)\n",
    "    plt.imshow(autoencoder(x_test)[index].numpy().reshape(28,28), cmap='gray')\n",
    "    ax.get_xaxis().set_visible(False)\n",
    "    ax.get_yaxis().set_visible(False)\n",
    "\n",
    "plt.show()"
   ]
  },
  {
   "cell_type": "markdown",
   "metadata": {},
   "source": [
    "This should give you an idea of the power of the autoencoder for dimensionality reduction. One advantage of autoencoders over PCA for dimensionality reduction is that while PCA can only represent linear transformations, we can use non-linear activation functions in autoencoders."
   ]
  },
  {
   "cell_type": "markdown",
   "metadata": {},
   "source": [
    " ## Sparse autoencoder"
   ]
  },
  {
   "cell_type": "markdown",
   "metadata": {},
   "source": [
    "In sparse autoencoders, a sparse penalty term is added to the reconstruction error. This tries to ensure that fewer units in the bottleneck layer will fire at any given time. "
   ]
  },
  {
   "cell_type": "code",
   "execution_count": 1,
   "metadata": {},
   "outputs": [],
   "source": [
    "import numpy as np\n",
    "import tensorflow as tf\n",
    "import tensorflow.keras as K\n",
    "import matplotlib.pyplot as plt\n",
    "from tensorflow.keras import regularizers"
   ]
  },
  {
   "cell_type": "code",
   "execution_count": 2,
   "metadata": {},
   "outputs": [],
   "source": [
    "# define some Hyperparameters\n",
    "np.random.seed(11)\n",
    "tf.random.set_seed(11)\n",
    "batch_size = 256\n",
    "max_epochs = 50\n",
    "learning_rate = 1e-3\n",
    "momentum = 8e-1\n",
    "hidden_dim = 128\n",
    "original_dim = 784"
   ]
  },
  {
   "cell_type": "code",
   "execution_count": 3,
   "metadata": {},
   "outputs": [],
   "source": [
    "# we are not using one-hot encoded labels; this is the case because we are not using labels to train the network.\n",
    "(x_train, _), (x_test, _) = K.datasets.mnist.load_data()\n",
    "x_train = x_train / 255.\n",
    "x_test = x_test / 255.\n",
    "x_train = x_train.astype(np.float32)\n",
    "x_test = x_test.astype(np.float32)\n",
    "x_train = np.reshape(x_train, (x_train.shape[0], 784))\n",
    "x_test = np.reshape(x_test, (x_test.shape[0], 784))\n",
    "# employ the from_tensor_slices to generate slices of tensors\n",
    "training_dataset = tf.data.Dataset.from_tensor_slices(x_train).batch(batch_size)"
   ]
  },
  {
   "cell_type": "markdown",
   "metadata": {},
   "source": [
    "you can see that the Dense layer of the Encoder now has an additional parameter, activity_regularizer.\n",
    "<br>\n",
    "The activity regularizer tries to reudce the layer output. It will reduce both weights and bias of the fully connected layer to ensure that the output is as small as it can be.\n",
    "<br>\n",
    "types of activity_regularizer:\n",
    "<ul><li>l1 : Here the activity is computed as the sum of absolute values\n",
    "    <li>l2 : The activity here is calculated as the sum of the squared values\n",
    "    <li>l1_l2 : This includes both L1 and L2 terms"
   ]
  },
  {
   "cell_type": "code",
   "execution_count": 11,
   "metadata": {},
   "outputs": [],
   "source": [
    "# create an Encoder class.\n",
    "class SparseEncoder(K.layers.Layer):\n",
    "    def __init__(self, hidden_dim):\n",
    "        super(SparseEncoder, self).__init__()\n",
    "        self.hidden_layer = K.layers.Dense(units=hidden_dim, \n",
    "                                           activation=tf.nn.relu, \n",
    "                                           activity_regularizer=regularizers.l1(10e-5))\n",
    "        \n",
    "    def call(self, input_features):\n",
    "        activation = self.hidden_layer(input_features)\n",
    "        return activation"
   ]
  },
  {
   "cell_type": "markdown",
   "metadata": {},
   "source": [
    "Alternatively, you can explicitly add a regularization term for sparsity in the loss function. To do so you will need to implement the regularization for the sparsity term as a function. you can check the mathematical details in Andrew Ng's lecture here : https://web.stanford.edu/class/cs294a/sparseAutoencoder_2011new.pdf\n",
    "<br>\n",
    "One standard way to do this is to use Kullback-Leiber (KL) divergence. (https://www.stat.cmu.edu/~cshalizi/754/2006/notes/lecture-28.pdf)"
   ]
  },
  {
   "cell_type": "code",
   "execution_count": 12,
   "metadata": {},
   "outputs": [],
   "source": [
    "# define the Decoder class.\n",
    "class SparseDecoder(K.layers.Layer):\n",
    "    def __init__(self, hidden_dim, original_dim):\n",
    "        super(SparseDecoder, self).__init__()\n",
    "        self.output_layer = K.layers.Dense(units=original_dim, activation=tf.nn.relu)\n",
    "        \n",
    "    def call(self, encoded):\n",
    "        activation = self.output_layer(encoded)\n",
    "        return activation"
   ]
  },
  {
   "cell_type": "code",
   "execution_count": 13,
   "metadata": {},
   "outputs": [],
   "source": [
    "# build to autoencoder model using tensorflkw.keras.Model object\n",
    "class SparseAutoencoder(K.Model):\n",
    "    def __init__(self, hidden_dim, original_dim):\n",
    "        super(SparseAutoencoder, self).__init__()\n",
    "        self.loss = []\n",
    "        self.encoder = SparseEncoder(hidden_dim=hidden_dim)\n",
    "        self.decoder = SparseDecoder(hidden_dim=hidden_dim, original_dim=original_dim)\n",
    "        \n",
    "    def call(self, input_features):\n",
    "        encoded = self.encoder(input_features)\n",
    "        reconstructed = self.decoder(encoded)\n",
    "        return reconstructed"
   ]
  },
  {
   "cell_type": "code",
   "execution_count": 14,
   "metadata": {},
   "outputs": [],
   "source": [
    "autoencoder = SparseAutoencoder(hidden_dim=hidden_dim, original_dim=original_dim)\n",
    "opt = tf.optimizers.SGD(learning_rate=learning_rate, momentum=momentum)\n",
    "\n",
    "def loss(preds, real):\n",
    "    return tf.reduce_mean(tf.square(tf.subtract(preds, real)))\n",
    "\n",
    "# Instead of using the auto-training loop, we will define a custom training.\n",
    "# We use tf.GradientTape to record the gradients as they are calculated and implicitly apply the gradients to all the trainable variables of our model\n",
    "def train(loss, model, opt, original):\n",
    "    with tf.GradientTape() as tape:\n",
    "        preds = model(original)\n",
    "        reconstruction_error = loss(preds, original)\n",
    "    \n",
    "    gradients = tape.gradient(reconstruction_error, model.trainable_variables)\n",
    "    gradient_variables = zip(gradients, model.trainable_variables)\n",
    "    opt.apply_gradients(gradient_variables)\n",
    "    \n",
    "    return reconstruction_error"
   ]
  },
  {
   "cell_type": "code",
   "execution_count": 15,
   "metadata": {},
   "outputs": [],
   "source": [
    "def train_loop(model, opt, loss, dataset, epochs=20):\n",
    "    for epoch in range(epochs):\n",
    "        epoch_loss = 0\n",
    "        for step, batch_features in enumerate(dataset):\n",
    "            loss_values = train(loss, model, opt, batch_features)\n",
    "            epoch_loss += loss_values\n",
    "        model.loss.append(epoch_loss)\n",
    "        print('Epoch {}/{}. Loss:{}'.format(epoch+1, epochs, epoch_loss.numpy()))"
   ]
  },
  {
   "cell_type": "code",
   "execution_count": 16,
   "metadata": {},
   "outputs": [
    {
     "name": "stdout",
     "output_type": "stream",
     "text": [
      "Epoch 1/50. Loss:5.150146484375\n",
      "Epoch 2/50. Loss:3.0760231018066406\n",
      "Epoch 3/50. Loss:2.980156898498535\n",
      "Epoch 4/50. Loss:2.8858799934387207\n",
      "Epoch 5/50. Loss:2.8585197925567627\n",
      "Epoch 6/50. Loss:2.855571746826172\n",
      "Epoch 7/50. Loss:2.8168275356292725\n",
      "Epoch 8/50. Loss:2.830695152282715\n",
      "Epoch 9/50. Loss:2.8172266483306885\n",
      "Epoch 10/50. Loss:2.8357157707214355\n",
      "Epoch 11/50. Loss:2.804548978805542\n",
      "Epoch 12/50. Loss:2.812305212020874\n",
      "Epoch 13/50. Loss:2.800151824951172\n",
      "Epoch 14/50. Loss:2.7960498332977295\n",
      "Epoch 15/50. Loss:2.808089256286621\n",
      "Epoch 16/50. Loss:2.817337989807129\n",
      "Epoch 17/50. Loss:2.817669153213501\n",
      "Epoch 18/50. Loss:2.8156356811523438\n",
      "Epoch 19/50. Loss:2.8165557384490967\n",
      "Epoch 20/50. Loss:2.8044371604919434\n",
      "Epoch 21/50. Loss:2.8042140007019043\n",
      "Epoch 22/50. Loss:2.7992618083953857\n",
      "Epoch 23/50. Loss:2.8132333755493164\n",
      "Epoch 24/50. Loss:2.8045427799224854\n",
      "Epoch 25/50. Loss:2.7994773387908936\n",
      "Epoch 26/50. Loss:2.8280813694000244\n",
      "Epoch 27/50. Loss:2.8119845390319824\n",
      "Epoch 28/50. Loss:2.806807041168213\n",
      "Epoch 29/50. Loss:2.8106348514556885\n",
      "Epoch 30/50. Loss:2.8240444660186768\n",
      "Epoch 31/50. Loss:2.8119194507598877\n",
      "Epoch 32/50. Loss:2.8256633281707764\n",
      "Epoch 33/50. Loss:2.791372537612915\n",
      "Epoch 34/50. Loss:2.8469600677490234\n",
      "Epoch 35/50. Loss:2.803097724914551\n",
      "Epoch 36/50. Loss:2.804966926574707\n",
      "Epoch 37/50. Loss:2.8048255443573\n",
      "Epoch 38/50. Loss:2.805488109588623\n",
      "Epoch 39/50. Loss:2.821958065032959\n",
      "Epoch 40/50. Loss:2.7858049869537354\n",
      "Epoch 41/50. Loss:2.842411994934082\n",
      "Epoch 42/50. Loss:2.8059985637664795\n",
      "Epoch 43/50. Loss:2.8047337532043457\n",
      "Epoch 44/50. Loss:2.852189779281616\n",
      "Epoch 45/50. Loss:2.8022687435150146\n",
      "Epoch 46/50. Loss:2.811974287033081\n",
      "Epoch 47/50. Loss:2.808612823486328\n",
      "Epoch 48/50. Loss:2.783734083175659\n",
      "Epoch 49/50. Loss:2.838690757751465\n",
      "Epoch 50/50. Loss:2.7829933166503906\n"
     ]
    }
   ],
   "source": [
    "model = SparseAutoencoder(hidden_dim=hidden_dim, original_dim=original_dim)\n",
    "opt = tf.keras.optimizers.Adam(learning_rate=1e-2)\n",
    "\n",
    "train_loop(model, opt, loss, training_dataset, epochs=max_epochs)"
   ]
  },
  {
   "cell_type": "code",
   "execution_count": 17,
   "metadata": {},
   "outputs": [
    {
     "data": {
      "image/png": "[encoded data removed]",
      "text/plain": [
       "<Figure size 432x288 with 1 Axes>"
      ]
     },
     "metadata": {
      "needs_background": "light"
     },
     "output_type": "display_data"
    }
   ],
   "source": [
    "plt.plot(range(max_epochs), model.loss)\n",
    "plt.xlabel('Epochs')\n",
    "plt.ylabel('Loss')\n",
    "plt.show()"
   ]
  },
  {
   "cell_type": "code",
   "execution_count": 18,
   "metadata": {},
   "outputs": [
    {
     "data": {
      "image/png": "[encoded data removed]",
      "text/plain": [
       "<Figure size 1440x288 with 20 Axes>"
      ]
     },
     "metadata": {
      "needs_background": "light"
     },
     "output_type": "display_data"
    }
   ],
   "source": [
    "# you can see the original(top) and reconstructed(bottom) images\n",
    "number = 10 # how many digits we will display\n",
    "plt.figure(figsize=(20, 4))\n",
    "for index in range(number):\n",
    "    # display original\n",
    "    ax = plt.subplot(2, number, index + 1)\n",
    "    plt.imshow(x_test[index].reshape(28,28), cmap='gray')\n",
    "    ax.get_xaxis().set_visible(False)\n",
    "    ax.get_yaxis().set_visible(False)\n",
    "    \n",
    "    # display reconstruction\n",
    "    ax = plt.subplot(2, number, index + 1 + number)\n",
    "    plt.imshow(model(x_test)[index].numpy().reshape(28,28), cmap='gray')\n",
    "    ax.get_xaxis().set_visible(False)\n",
    "    ax.get_yaxis().set_visible(False)\n",
    "\n",
    "plt.show()"
   ]
  },
  {
   "cell_type": "markdown",
   "metadata": {},
   "source": [
    "## Denoising autoencoders"
   ]
  },
  {
   "cell_type": "markdown",
   "metadata": {},
   "source": [
    "A denoising autoencoder learns from a corrupted (noisy) input; it feed its encoder network the nosiy input, and then the reconstructed image from the decoder is compared with the original input. The idea is that his will help the network learn how to denoise an input.\n",
    "<br>\n",
    "A Denoising autoencoder has two main differences from other autoencoder: first, n_hidden, the number of hidden units in the bottleneck layer is greater than the number of units in the input layer. Second, the input to the eocnder is corrupted input. To do this we add a noise term in both test and training imges:"
   ]
  },
  {
   "cell_type": "code",
   "execution_count": null,
   "metadata": {},
   "outputs": [],
   "source": [
    "noise = np.random.normal(loc=0.5, scale=0.5, size=x_train.shape)\n",
    "x_train_noisy = x_train + noise\n",
    "noise = np.random.normal(loc=0.5, scale=0.5, size=x_test.shape)\n",
    "x_test_noisy = x_test + noise\n",
    "\n",
    "x_train_noisy = np.clip(x_train_noisy, 0.0, 1.0)\n",
    "x_test_noisy = np.clip(x_test_noisy, 0.0, 1.0)"
   ]
  },
  {
   "cell_type": "markdown",
   "metadata": {},
   "source": [
    "### Clearing images using a Denoising autoencoder"
   ]
  },
  {
   "cell_type": "code",
   "execution_count": 1,
   "metadata": {},
   "outputs": [],
   "source": [
    "import numpy as np\n",
    "import tensorflow as tf\n",
    "import tensorflow.keras as K\n",
    "import matplotlib.pyplot as plt"
   ]
  },
  {
   "cell_type": "code",
   "execution_count": 2,
   "metadata": {},
   "outputs": [],
   "source": [
    "# define some Hyperparameters\n",
    "np.random.seed(11)\n",
    "tf.random.set_seed(11)\n",
    "batch_size = 256\n",
    "max_epochs = 50\n",
    "learning_rate = 1e-3\n",
    "momentum = 8e-1\n",
    "hidden_dim = 128\n",
    "original_dim = 784"
   ]
  },
  {
   "cell_type": "code",
   "execution_count": 3,
   "metadata": {},
   "outputs": [],
   "source": [
    "# we are not using one-hot encoded labels; this is the case because we are not using labels to train the network.\n",
    "(x_train, _), (x_test, _) = K.datasets.mnist.load_data()\n",
    "x_train = x_train / 255.\n",
    "x_test = x_test / 255.\n",
    "x_train = x_train.astype(np.float32)\n",
    "x_test = x_test.astype(np.float32)\n",
    "x_train = np.reshape(x_train, (x_train.shape[0], 784))\n",
    "x_test = np.reshape(x_test, (x_test.shape[0], 784))\n",
    "\n",
    "# Generate corrupted MNIST images by adding noise with normal dist\n",
    "# centered at 0.5 and std=0.5\n",
    "noise = np.random.normal(loc=0.5, scale=0.5, size=x_train.shape)\n",
    "x_train_noisy = x_train + noise\n",
    "noise = np.random.normal(loc=0.5, scale=0.5, size=x_test.shape)\n",
    "x_test_noisy = x_test + noise"
   ]
  },
  {
   "cell_type": "code",
   "execution_count": 4,
   "metadata": {},
   "outputs": [],
   "source": [
    "# We use the same encoder, decoder, and autoencoder classes as defined in the Vanilla autoencoders section\n",
    "\n",
    "# Encoder\n",
    "class Encoder(K.layers.Layer):\n",
    "    def __init__(self, hidden_dim):\n",
    "        super(Encoder, self).__init__()\n",
    "        self.hidden_layer = K.layers.Dense(units=hidden_dim, activation=tf.nn.relu)\n",
    "    \n",
    "    def call(self, input_features):\n",
    "        activation = self.hidden_layer(input_features)\n",
    "        return activation\n",
    "\n",
    "# Decoder\n",
    "class Decoder(K.layers.Layer):\n",
    "    def __init__(self, hidden_dim, original_dim):\n",
    "        super(Decoder, self).__init__()\n",
    "        self.output_layer = K.layers.Dense(units=original_dim, activation=tf.nn.relu)\n",
    "\n",
    "    def call(self, encoded):\n",
    "        activation = self.output_layer(encoded)\n",
    "        return activation\n",
    "    \n",
    "# build to autoencoder model using tensorflkw.keras.Model object\n",
    "class Autoencoder(K.Model):\n",
    "    def __init__(self, hidden_dim, original_dim):\n",
    "        super(Autoencoder, self).__init__()\n",
    "        self.loss = []\n",
    "        self.encoder = Encoder(hidden_dim=hidden_dim)\n",
    "        self.decoder = Decoder(hidden_dim=hidden_dim, original_dim = original_dim)\n",
    "        \n",
    "    # define the signal flow\n",
    "    def call(self, input_features):\n",
    "        encoded = self.encoder(input_features)\n",
    "        reconstructed = self.decoder(encoded)\n",
    "        return reconstructed"
   ]
  },
  {
   "cell_type": "code",
   "execution_count": 5,
   "metadata": {},
   "outputs": [
    {
     "name": "stdout",
     "output_type": "stream",
     "text": [
      "Train on 60000 samples, validate on 10000 samples\n",
      "Epoch 1/50\n",
      "60000/60000 [==============================] - 2s 26us/sample - loss: 0.0530 - val_loss: 0.0352\n",
      "Epoch 2/50\n",
      "60000/60000 [==============================] - 1s 12us/sample - loss: 0.0317 - val_loss: 0.0288\n",
      "Epoch 3/50\n",
      "60000/60000 [==============================] - 1s 12us/sample - loss: 0.0283 - val_loss: 0.0274\n",
      "Epoch 4/50\n",
      "60000/60000 [==============================] - 1s 12us/sample - loss: 0.0275 - val_loss: 0.0269\n",
      "Epoch 5/50\n",
      "60000/60000 [==============================] - 1s 12us/sample - loss: 0.0271 - val_loss: 0.0266\n",
      "Epoch 6/50\n",
      "60000/60000 [==============================] - 1s 12us/sample - loss: 0.0270 - val_loss: 0.0267\n",
      "Epoch 7/50\n",
      "60000/60000 [==============================] - 1s 12us/sample - loss: 0.0269 - val_loss: 0.0265\n",
      "Epoch 8/50\n",
      "60000/60000 [==============================] - 1s 12us/sample - loss: 0.0269 - val_loss: 0.0264\n",
      "Epoch 9/50\n",
      "60000/60000 [==============================] - 1s 12us/sample - loss: 0.0266 - val_loss: 0.0262\n",
      "Epoch 10/50\n",
      "60000/60000 [==============================] - 1s 13us/sample - loss: 0.0264 - val_loss: 0.0258\n",
      "Epoch 11/50\n",
      "60000/60000 [==============================] - 1s 12us/sample - loss: 0.0260 - val_loss: 0.0255\n",
      "Epoch 12/50\n",
      "60000/60000 [==============================] - 1s 13us/sample - loss: 0.0258 - val_loss: 0.0255\n",
      "Epoch 13/50\n",
      "60000/60000 [==============================] - 1s 13us/sample - loss: 0.0258 - val_loss: 0.0254\n",
      "Epoch 14/50\n",
      "60000/60000 [==============================] - 1s 13us/sample - loss: 0.0256 - val_loss: 0.0252\n",
      "Epoch 15/50\n",
      "60000/60000 [==============================] - 1s 12us/sample - loss: 0.0252 - val_loss: 0.0246\n",
      "Epoch 16/50\n",
      "60000/60000 [==============================] - 1s 12us/sample - loss: 0.0248 - val_loss: 0.0243\n",
      "Epoch 17/50\n",
      "60000/60000 [==============================] - 1s 12us/sample - loss: 0.0244 - val_loss: 0.0238\n",
      "Epoch 18/50\n",
      "60000/60000 [==============================] - 1s 13us/sample - loss: 0.0240 - val_loss: 0.0235\n",
      "Epoch 19/50\n",
      "60000/60000 [==============================] - 1s 12us/sample - loss: 0.0237 - val_loss: 0.0230\n",
      "Epoch 20/50\n",
      "60000/60000 [==============================] - 1s 12us/sample - loss: 0.0233 - val_loss: 0.0230\n",
      "Epoch 21/50\n",
      "60000/60000 [==============================] - 1s 12us/sample - loss: 0.0231 - val_loss: 0.0228\n",
      "Epoch 22/50\n",
      "60000/60000 [==============================] - 1s 13us/sample - loss: 0.0231 - val_loss: 0.0228\n",
      "Epoch 23/50\n",
      "60000/60000 [==============================] - 1s 13us/sample - loss: 0.0230 - val_loss: 0.0228\n",
      "Epoch 24/50\n",
      "60000/60000 [==============================] - 1s 12us/sample - loss: 0.0229 - val_loss: 0.0226\n",
      "Epoch 25/50\n",
      "60000/60000 [==============================] - 1s 12us/sample - loss: 0.0227 - val_loss: 0.0225\n",
      "Epoch 26/50\n",
      "60000/60000 [==============================] - 1s 12us/sample - loss: 0.0225 - val_loss: 0.0222\n",
      "Epoch 27/50\n",
      "60000/60000 [==============================] - 1s 13us/sample - loss: 0.0223 - val_loss: 0.0220\n",
      "Epoch 28/50\n",
      "60000/60000 [==============================] - 1s 12us/sample - loss: 0.0222 - val_loss: 0.0218\n",
      "Epoch 29/50\n",
      "60000/60000 [==============================] - 1s 12us/sample - loss: 0.0220 - val_loss: 0.0218\n",
      "Epoch 30/50\n",
      "60000/60000 [==============================] - 1s 12us/sample - loss: 0.0220 - val_loss: 0.0218\n",
      "Epoch 31/50\n",
      "60000/60000 [==============================] - 1s 13us/sample - loss: 0.0219 - val_loss: 0.0216\n",
      "Epoch 32/50\n",
      "60000/60000 [==============================] - 1s 12us/sample - loss: 0.0217 - val_loss: 0.0214\n",
      "Epoch 33/50\n",
      "60000/60000 [==============================] - 1s 12us/sample - loss: 0.0215 - val_loss: 0.0213\n",
      "Epoch 34/50\n",
      "60000/60000 [==============================] - 1s 12us/sample - loss: 0.0214 - val_loss: 0.0212\n",
      "Epoch 35/50\n",
      "60000/60000 [==============================] - 1s 13us/sample - loss: 0.0214 - val_loss: 0.0211\n",
      "Epoch 36/50\n",
      "60000/60000 [==============================] - 1s 13us/sample - loss: 0.0213 - val_loss: 0.0210\n",
      "Epoch 37/50\n",
      "60000/60000 [==============================] - 1s 12us/sample - loss: 0.0212 - val_loss: 0.0211\n",
      "Epoch 38/50\n",
      "60000/60000 [==============================] - 1s 13us/sample - loss: 0.0212 - val_loss: 0.0210\n",
      "Epoch 39/50\n",
      "60000/60000 [==============================] - 1s 12us/sample - loss: 0.0211 - val_loss: 0.0211\n",
      "Epoch 40/50\n",
      "60000/60000 [==============================] - 1s 12us/sample - loss: 0.0212 - val_loss: 0.0210\n",
      "Epoch 41/50\n",
      "60000/60000 [==============================] - 1s 12us/sample - loss: 0.0211 - val_loss: 0.0210\n",
      "Epoch 42/50\n",
      "60000/60000 [==============================] - 1s 12us/sample - loss: 0.0211 - val_loss: 0.0209\n",
      "Epoch 43/50\n",
      "60000/60000 [==============================] - 1s 12us/sample - loss: 0.0211 - val_loss: 0.0209\n",
      "Epoch 44/50\n",
      "60000/60000 [==============================] - 1s 13us/sample - loss: 0.0211 - val_loss: 0.0209\n",
      "Epoch 45/50\n",
      "60000/60000 [==============================] - 1s 12us/sample - loss: 0.0211 - val_loss: 0.0209\n",
      "Epoch 46/50\n",
      "60000/60000 [==============================] - 1s 12us/sample - loss: 0.0211 - val_loss: 0.0210\n",
      "Epoch 47/50\n",
      "60000/60000 [==============================] - 1s 12us/sample - loss: 0.0211 - val_loss: 0.0210\n",
      "Epoch 48/50\n",
      "60000/60000 [==============================] - 1s 12us/sample - loss: 0.0211 - val_loss: 0.0209\n",
      "Epoch 49/50\n",
      "60000/60000 [==============================] - 1s 12us/sample - loss: 0.0211 - val_loss: 0.0210\n",
      "Epoch 50/50\n",
      "60000/60000 [==============================] - 1s 12us/sample - loss: 0.0210 - val_loss: 0.0209\n"
     ]
    }
   ],
   "source": [
    "# create the model and define the loss and optimizers\n",
    "# we are using the easier keras inbuilt compile() and fit() methods:\n",
    "model = Autoencoder(hidden_dim=hidden_dim, original_dim=original_dim)\n",
    "\n",
    "model.compile(loss='mse', optimizer='adam')\n",
    "loss = model.fit(x_train_noisy, x_train, validation_data=(x_test_noisy, x_test),\n",
    "                epochs=max_epochs, batch_size=batch_size)"
   ]
  },
  {
   "cell_type": "code",
   "execution_count": 6,
   "metadata": {},
   "outputs": [
    {
     "data": {
      "image/png": "[encoded data removed]",
      "text/plain": [
       "<Figure size 432x288 with 1 Axes>"
      ]
     },
     "metadata": {
      "needs_background": "light"
     },
     "output_type": "display_data"
    }
   ],
   "source": [
    "# plot the training loss\n",
    "plt.plot(range(max_epochs), loss.history['loss'])\n",
    "plt.xlabel('Epochs')\n",
    "plt.ylabel('Loss')\n",
    "plt.show()"
   ]
  },
  {
   "cell_type": "code",
   "execution_count": 9,
   "metadata": {},
   "outputs": [
    {
     "name": "stdout",
     "output_type": "stream",
     "text": [
      "WARNING:tensorflow:Layer autoencoder is casting an input tensor from dtype float64 to the layer's dtype of float32, which is new behavior in TensorFlow 2.  The layer has dtype float32 because it's dtype defaults to floatx.\n",
      "\n",
      "If you intended to run this layer in float32, you can safely ignore this warning. If in doubt, this warning is likely only an issue if you are porting a TensorFlow 1.X model to TensorFlow 2.\n",
      "\n",
      "To change all layers to have dtype float64 by default, call `tf.keras.backend.set_floatx('float64')`. To change just this layer, pass dtype='float64' to the layer constructor. If you are the author of this layer, you can disable autocasting by passing autocast=False to the base Layer constructor.\n",
      "\n"
     ]
    },
    {
     "data": {
      "image/png": "[encoded data removed]",
      "text/plain": [
       "<Figure size 1440x288 with 20 Axes>"
      ]
     },
     "metadata": {
      "needs_background": "light"
     },
     "output_type": "display_data"
    }
   ],
   "source": [
    "# you can see the original(top) and reconstructed(bottom) images\n",
    "number = 10 # how many digits we will display\n",
    "plt.figure(figsize=(20, 4))\n",
    "for index in range(number):\n",
    "    # display original\n",
    "    ax = plt.subplot(2, number, index + 1)\n",
    "    plt.imshow(x_test_noisy[index].reshape(28,28), cmap='gray')\n",
    "    ax.get_xaxis().set_visible(False)\n",
    "    ax.get_yaxis().set_visible(False)\n",
    "    \n",
    "    # display reconstruction\n",
    "    ax = plt.subplot(2, number, index + 1 + number)\n",
    "    plt.imshow(model(x_test_noisy)[index].numpy().reshape(28,28), cmap='gray')\n",
    "    ax.get_xaxis().set_visible(False)\n",
    "    ax.get_yaxis().set_visible(False)\n",
    "\n",
    "plt.show()"
   ]
  },
  {
   "cell_type": "markdown",
   "metadata": {},
   "source": [
    "## Stacked autoencoder"
   ]
  },
  {
   "cell_type": "markdown",
   "metadata": {},
   "source": [
    "We can build Deep autoencoders by stacking many layers of both encoder and decoder; such an autoencoder is called a Stacked autoencoder. The stacked autoencoder can be trained as a whole network with an aim to minimize the reconstruction error. Or each individual encoder/decoder network can first be pretrained using the unsupervised method you learned earlier, and then the complete network can be fine-tuned. When the deep autoencoder network is a convolutional network, we call it a Convolutional Autoencoder."
   ]
  },
  {
   "cell_type": "markdown",
   "metadata": {},
   "source": [
    "### Convolutional autoencoder for removing noise from images"
   ]
  },
  {
   "cell_type": "markdown",
   "metadata": {},
   "source": [
    "We will make stacks of convolutional layers (along with maxpooling or upsample layers). We will also be training the entire autoencoder as a single entity."
   ]
  },
  {
   "cell_type": "markdown",
   "metadata": {},
   "source": [
    "1. We import all the required modules"
   ]
  },
  {
   "cell_type": "code",
   "execution_count": 2,
   "metadata": {},
   "outputs": [],
   "source": [
    "import numpy as np\n",
    "import tensorflow as tf\n",
    "import tensorflow.keras as K\n",
    "import matplotlib.pyplot as plt\n",
    "from tensorflow.keras.layers import Dense, Conv2D, MaxPooling2D, UpSampling2D"
   ]
  },
  {
   "cell_type": "markdown",
   "metadata": {},
   "source": [
    "2. We specify our hyperparameters."
   ]
  },
  {
   "cell_type": "code",
   "execution_count": 4,
   "metadata": {},
   "outputs": [],
   "source": [
    "np.random.seed(11)\n",
    "tf.random.set_seed(11)\n",
    "batch_size = 128\n",
    "max_epochs = 50\n",
    "filters = [32, 32, 16]"
   ]
  },
  {
   "cell_type": "markdown",
   "metadata": {},
   "source": [
    "3. We read the data and preprocess it."
   ]
  },
  {
   "cell_type": "code",
   "execution_count": 5,
   "metadata": {},
   "outputs": [
    {
     "name": "stdout",
     "output_type": "stream",
     "text": [
      "float32\n"
     ]
    }
   ],
   "source": [
    "(x_train, _), (x_test, _) = K.datasets.mnist.load_data()\n",
    "x_train = x_train / 255.\n",
    "x_test = x_test / 255.\n",
    "x_train = np.reshape(x_train, (len(x_train), 28, 28, 1))\n",
    "x_test = np.reshape(x_test, (len(x_test), 28, 28, 1))\n",
    "\n",
    "noise = 0.5\n",
    "x_train_noisy = x_train + noise * np.random.normal(loc=0.0, scale=1.0, size=x_train.shape)\n",
    "x_test_noisy = x_test + noise * np.random.normal(loc=0.0, scale=1.0, size=x_test.shape)\n",
    "x_train_noisy = np.clip(x_train_noisy, 0, 1)\n",
    "x_test_noisy = np.clip(x_test_noisy, 0, 1)\n",
    "x_train_noisy = x_train_noisy.astype('float32')\n",
    "x_test_noisy = x_test_noisy.astype('float32')\n",
    "\n",
    "print(x_test_noisy[1].dtype)"
   ]
  },
  {
   "cell_type": "markdown",
   "metadata": {},
   "source": [
    "4. Let us now define out encoder. The encoder consists of three convolutional layers, each followed by a max pooling layer. The output image is of size 4 x 4 and the last convolutional layer has 16 filters, the image has 16 channels"
   ]
  },
  {
   "cell_type": "code",
   "execution_count": 10,
   "metadata": {},
   "outputs": [],
   "source": [
    "class Encoder(K.layers.Layer):\n",
    "    def __init__(self, filters):\n",
    "        super(Encoder, self).__init__()\n",
    "        self.conv1 = Conv2D(filters=filters[0], kernel_size=3, strides=1,\n",
    "                            activation='relu', padding='same')\n",
    "        self.conv2 = Conv2D(filters=filters[1], kernel_size=3, strides=1,\n",
    "                            activation='relu', padding='same')\n",
    "        self.conv3 = Conv2D(filters=filters[2], kernel_size=3, strides=1,\n",
    "                            activation='relu', padding='same')\n",
    "        self.pool = MaxPooling2D((2, 2), padding='same')\n",
    "        \n",
    "    def call(self, input_features):\n",
    "        x = self.conv1(input_features)\n",
    "        print('Ex1', x.shape)\n",
    "        x = self.pool(x)\n",
    "        print('Ex2', x.shape)\n",
    "        x = self.conv2(x)\n",
    "        print('Ex3', x.shape)\n",
    "        x = self.pool(x)\n",
    "        print('Ex4', x.shape)\n",
    "        x = self.conv3(x)\n",
    "        print('Ex5', x.shape)\n",
    "        x = self.pool(x)\n",
    "        print('Ex6', x.shape)\n",
    "        return x"
   ]
  },
  {
   "cell_type": "markdown",
   "metadata": {},
   "source": [
    "5. Next comes the decoder. It is the exact opposite of the eocnder in design, and instead of max pooling we are using upsampling to increase the size back.\n",
    "<br>\n",
    "Notice both encoder and decoder are still classes based on the TensorFlow Keras Layers class, but now they have multiple layers inside them."
   ]
  },
  {
   "cell_type": "code",
   "execution_count": 11,
   "metadata": {},
   "outputs": [],
   "source": [
    "class Decoder(K.layers.Layer):\n",
    "    def __init__(self, filters):\n",
    "        super(Decoder, self).__init__()\n",
    "        self.conv1 = Conv2D(filters=filters[2], kernel_size=3, strides=1,\n",
    "                            activation='relu', padding='same')\n",
    "        self.conv2 = Conv2D(filters=filters[1], kernel_size=3, strides=1,\n",
    "                            activation='relu', padding='same')\n",
    "        self.conv3 = Conv2D(filters=filters[0], kernel_size=3, strides=1,\n",
    "                            activation='relu', padding='valid')\n",
    "        self.conv4 = Conv2D(filters=1, kernel_size=3, strides=1,\n",
    "                            activation='sigmoid', padding='same')\n",
    "        self.upsample = UpSampling2D((2,2))\n",
    "        \n",
    "    def call(self, encoded):\n",
    "        x = self.conv1(encoded)\n",
    "        print('dx1', x.shape)\n",
    "        x = self.upsample(x)\n",
    "        print('dx2', x.shape)\n",
    "        x = self.conv2(x)\n",
    "        print('dx3', x.shape)\n",
    "        x = self.upsample(x)\n",
    "        print('dx4', x.shape)\n",
    "        x = self.conv3(x)\n",
    "        print('dx5', x.shape)\n",
    "        x = self.upsample(x)\n",
    "        print('dx6', x.shape)\n",
    "        x = self.conv4(x)\n",
    "        print('dx7', x.shape)\n",
    "        return x"
   ]
  },
  {
   "cell_type": "markdown",
   "metadata": {},
   "source": [
    "6. We combine the eocnder and decoder to make an autoencoder model."
   ]
  },
  {
   "cell_type": "code",
   "execution_count": 12,
   "metadata": {},
   "outputs": [],
   "source": [
    "class Autoencoder(K.Model):\n",
    "    def __init__(self, filters):\n",
    "        super(Autoencoder, self).__init__()\n",
    "        self.encoder = Encoder(filters)\n",
    "        self.decoder = Decoder(filters)\n",
    "        \n",
    "    def call(self, input_features):\n",
    "        print('input_features.shape : ', input_features.shape)\n",
    "        encoded = self.encoder(input_features)\n",
    "        print('encoded.shape : ', encoded.shape)\n",
    "        reconstructed = self.decoder(encoded)\n",
    "        print('reconstructed.shape : ', reconstructed.shape)\n",
    "        return reconstructed"
   ]
  },
  {
   "cell_type": "markdown",
   "metadata": {},
   "source": [
    "7. Now we instantiate our model, then specify the binary cross entropy as the loss function."
   ]
  },
  {
   "cell_type": "code",
   "execution_count": 13,
   "metadata": {},
   "outputs": [
    {
     "name": "stdout",
     "output_type": "stream",
     "text": [
      "input_features.shape :  (None, 28, 28, 1)\n",
      "Ex1 (None, 28, 28, 32)\n",
      "Ex2 (None, 14, 14, 32)\n",
      "Ex3 (None, 14, 14, 32)\n",
      "Ex4 (None, 7, 7, 32)\n",
      "Ex5 (None, 7, 7, 16)\n",
      "Ex6 (None, 4, 4, 16)\n",
      "encoded.shape :  (None, 4, 4, 16)\n",
      "dx1 (None, 4, 4, 16)\n",
      "dx2 (None, 8, 8, 16)\n",
      "dx3 (None, 8, 8, 32)\n",
      "dx4 (None, 16, 16, 32)\n",
      "dx5 (None, 14, 14, 32)\n",
      "dx6 (None, 28, 28, 32)\n",
      "dx7 (None, 28, 28, 1)\n",
      "reconstructed.shape :  (None, 28, 28, 1)\n",
      "Train on 60000 samples, validate on 10000 samples\n",
      "Epoch 1/50\n",
      "input_features.shape :  (None, 28, 28, 1)\n",
      "Ex1 (None, 28, 28, 32)\n",
      "Ex2 (None, 14, 14, 32)\n",
      "Ex3 (None, 14, 14, 32)\n",
      "Ex4 (None, 7, 7, 32)\n",
      "Ex5 (None, 7, 7, 16)\n",
      "Ex6 (None, 4, 4, 16)\n",
      "encoded.shape :  (None, 4, 4, 16)\n",
      "dx1 (None, 4, 4, 16)\n",
      "dx2 (None, 8, 8, 16)\n",
      "dx3 (None, 8, 8, 32)\n",
      "dx4 (None, 16, 16, 32)\n",
      "dx5 (None, 14, 14, 32)\n",
      "dx6 (None, 28, 28, 32)\n",
      "dx7 (None, 28, 28, 1)\n",
      "reconstructed.shape :  (None, 28, 28, 1)\n",
      "input_features.shape :  (None, 28, 28, 1)\n",
      "Ex1 (None, 28, 28, 32)\n",
      "Ex2 (None, 14, 14, 32)\n",
      "Ex3 (None, 14, 14, 32)\n",
      "Ex4 (None, 7, 7, 32)\n",
      "Ex5 (None, 7, 7, 16)\n",
      "Ex6 (None, 4, 4, 16)\n",
      "encoded.shape :  (None, 4, 4, 16)\n",
      "dx1 (None, 4, 4, 16)\n",
      "dx2 (None, 8, 8, 16)\n",
      "dx3 (None, 8, 8, 32)\n",
      "dx4 (None, 16, 16, 32)\n",
      "dx5 (None, 14, 14, 32)\n",
      "dx6 (None, 28, 28, 32)\n",
      "dx7 (None, 28, 28, 1)\n",
      "reconstructed.shape :  (None, 28, 28, 1)\n",
      "59264/60000 [============================>.] - ETA: 0s - loss: 0.2050input_features.shape :  (None, 28, 28, 1)\n",
      "Ex1 (None, 28, 28, 32)\n",
      "Ex2 (None, 14, 14, 32)\n",
      "Ex3 (None, 14, 14, 32)\n",
      "Ex4 (None, 7, 7, 32)\n",
      "Ex5 (None, 7, 7, 16)\n",
      "Ex6 (None, 4, 4, 16)\n",
      "encoded.shape :  (None, 4, 4, 16)\n",
      "dx1 (None, 4, 4, 16)\n",
      "dx2 (None, 8, 8, 16)\n",
      "dx3 (None, 8, 8, 32)\n",
      "dx4 (None, 16, 16, 32)\n",
      "dx5 (None, 14, 14, 32)\n",
      "dx6 (None, 28, 28, 32)\n",
      "dx7 (None, 28, 28, 1)\n",
      "reconstructed.shape :  (None, 28, 28, 1)\n",
      "60000/60000 [==============================] - 4s 58us/sample - loss: 0.2043 - val_loss: 0.1520\n",
      "Epoch 2/50\n",
      "60000/60000 [==============================] - 3s 45us/sample - loss: 0.1419 - val_loss: 0.1366\n",
      "Epoch 3/50\n",
      "60000/60000 [==============================] - 3s 45us/sample - loss: 0.1290 - val_loss: 0.1235\n",
      "Epoch 4/50\n",
      "60000/60000 [==============================] - 3s 45us/sample - loss: 0.1226 - val_loss: 0.1185\n",
      "Epoch 5/50\n",
      "60000/60000 [==============================] - 3s 45us/sample - loss: 0.1183 - val_loss: 0.1157\n",
      "Epoch 6/50\n",
      "60000/60000 [==============================] - 3s 45us/sample - loss: 0.1153 - val_loss: 0.1134\n",
      "Epoch 7/50\n",
      "60000/60000 [==============================] - 3s 45us/sample - loss: 0.1132 - val_loss: 0.1106\n",
      "Epoch 8/50\n",
      "60000/60000 [==============================] - 3s 45us/sample - loss: 0.1114 - val_loss: 0.1101\n",
      "Epoch 9/50\n",
      "60000/60000 [==============================] - 3s 45us/sample - loss: 0.1101 - val_loss: 0.1086\n",
      "Epoch 10/50\n",
      "60000/60000 [==============================] - 3s 45us/sample - loss: 0.1090 - val_loss: 0.1073\n",
      "Epoch 11/50\n",
      "60000/60000 [==============================] - 3s 45us/sample - loss: 0.1080 - val_loss: 0.1064\n",
      "Epoch 12/50\n",
      "60000/60000 [==============================] - 3s 45us/sample - loss: 0.1072 - val_loss: 0.1057\n",
      "Epoch 13/50\n",
      "60000/60000 [==============================] - 3s 46us/sample - loss: 0.1064 - val_loss: 0.1050\n",
      "Epoch 14/50\n",
      "60000/60000 [==============================] - 3s 45us/sample - loss: 0.1057 - val_loss: 0.1042\n",
      "Epoch 15/50\n",
      "60000/60000 [==============================] - 3s 45us/sample - loss: 0.1050 - val_loss: 0.1041\n",
      "Epoch 16/50\n",
      "60000/60000 [==============================] - 3s 45us/sample - loss: 0.1044 - val_loss: 0.1035\n",
      "Epoch 17/50\n",
      "60000/60000 [==============================] - 3s 47us/sample - loss: 0.1039 - val_loss: 0.1028\n",
      "Epoch 18/50\n",
      "60000/60000 [==============================] - 3s 47us/sample - loss: 0.1034 - val_loss: 0.1026\n",
      "Epoch 19/50\n",
      "60000/60000 [==============================] - 3s 46us/sample - loss: 0.1031 - val_loss: 0.1024\n",
      "Epoch 20/50\n",
      "60000/60000 [==============================] - 3s 45us/sample - loss: 0.1028 - val_loss: 0.1018\n",
      "Epoch 21/50\n",
      "60000/60000 [==============================] - 3s 45us/sample - loss: 0.1023 - val_loss: 0.1020\n",
      "Epoch 22/50\n",
      "60000/60000 [==============================] - 3s 45us/sample - loss: 0.1021 - val_loss: 0.1012\n",
      "Epoch 23/50\n",
      "60000/60000 [==============================] - 3s 45us/sample - loss: 0.1019 - val_loss: 0.1011\n",
      "Epoch 24/50\n",
      "60000/60000 [==============================] - 3s 45us/sample - loss: 0.1016 - val_loss: 0.1008\n",
      "Epoch 25/50\n",
      "60000/60000 [==============================] - 3s 45us/sample - loss: 0.1014 - val_loss: 0.1015\n",
      "Epoch 26/50\n",
      "60000/60000 [==============================] - 3s 48us/sample - loss: 0.1012 - val_loss: 0.1005\n",
      "Epoch 27/50\n",
      "60000/60000 [==============================] - 3s 47us/sample - loss: 0.1009 - val_loss: 0.1002\n",
      "Epoch 28/50\n",
      "60000/60000 [==============================] - 3s 45us/sample - loss: 0.1009 - val_loss: 0.0998\n",
      "Epoch 29/50\n",
      "60000/60000 [==============================] - 3s 45us/sample - loss: 0.1007 - val_loss: 0.1023\n",
      "Epoch 30/50\n",
      "60000/60000 [==============================] - 3s 45us/sample - loss: 0.1005 - val_loss: 0.0999\n",
      "Epoch 31/50\n",
      "60000/60000 [==============================] - 3s 45us/sample - loss: 0.1005 - val_loss: 0.1002\n",
      "Epoch 32/50\n",
      "60000/60000 [==============================] - 3s 45us/sample - loss: 0.1002 - val_loss: 0.1003\n",
      "Epoch 33/50\n",
      "60000/60000 [==============================] - 3s 45us/sample - loss: 0.1001 - val_loss: 0.0998\n",
      "Epoch 34/50\n",
      "60000/60000 [==============================] - 3s 45us/sample - loss: 0.1001 - val_loss: 0.0995\n",
      "Epoch 35/50\n",
      "60000/60000 [==============================] - 3s 46us/sample - loss: 0.0999 - val_loss: 0.0994\n",
      "Epoch 36/50\n",
      "60000/60000 [==============================] - 3s 45us/sample - loss: 0.0998 - val_loss: 0.0990\n",
      "Epoch 37/50\n",
      "60000/60000 [==============================] - 3s 45us/sample - loss: 0.0998 - val_loss: 0.0993\n",
      "Epoch 38/50\n",
      "60000/60000 [==============================] - 3s 45us/sample - loss: 0.0996 - val_loss: 0.0991\n",
      "Epoch 39/50\n",
      "60000/60000 [==============================] - 3s 45us/sample - loss: 0.0995 - val_loss: 0.0991\n",
      "Epoch 40/50\n",
      "60000/60000 [==============================] - 3s 45us/sample - loss: 0.0995 - val_loss: 0.0996\n",
      "Epoch 41/50\n",
      "60000/60000 [==============================] - 3s 45us/sample - loss: 0.0993 - val_loss: 0.0987\n",
      "Epoch 42/50\n",
      "60000/60000 [==============================] - 3s 45us/sample - loss: 0.0994 - val_loss: 0.0994\n",
      "Epoch 43/50\n",
      "60000/60000 [==============================] - 3s 45us/sample - loss: 0.0992 - val_loss: 0.0988\n",
      "Epoch 44/50\n",
      "60000/60000 [==============================] - 3s 45us/sample - loss: 0.0990 - val_loss: 0.0991\n",
      "Epoch 45/50\n",
      "60000/60000 [==============================] - 3s 45us/sample - loss: 0.0991 - val_loss: 0.0987\n",
      "Epoch 46/50\n",
      "60000/60000 [==============================] - 3s 45us/sample - loss: 0.0990 - val_loss: 0.0985\n",
      "Epoch 47/50\n",
      "60000/60000 [==============================] - 3s 45us/sample - loss: 0.0989 - val_loss: 0.0987\n",
      "Epoch 48/50\n",
      "60000/60000 [==============================] - 3s 45us/sample - loss: 0.0988 - val_loss: 0.0989\n",
      "Epoch 49/50\n",
      "60000/60000 [==============================] - 3s 45us/sample - loss: 0.0988 - val_loss: 0.0984\n",
      "Epoch 50/50\n",
      "60000/60000 [==============================] - 3s 45us/sample - loss: 0.0986 - val_loss: 0.0983\n"
     ]
    }
   ],
   "source": [
    "model = Autoencoder(filters)\n",
    "model.compile(loss='binary_crossentropy', optimizer='adam')\n",
    "\n",
    "loss = model.fit(x_train_noisy, x_train, validation_data=(x_test_noisy, x_test),\n",
    "                 epochs=max_epochs, batch_size=batch_size)"
   ]
  },
  {
   "cell_type": "markdown",
   "metadata": {},
   "source": [
    "8. You can see the loss curve as the model is trained"
   ]
  },
  {
   "cell_type": "code",
   "execution_count": 14,
   "metadata": {},
   "outputs": [
    {
     "data": {
      "image/png": "[encoded data removed]",
      "text/plain": [
       "<Figure size 432x288 with 1 Axes>"
      ]
     },
     "metadata": {
      "needs_background": "light"
     },
     "output_type": "display_data"
    }
   ],
   "source": [
    "plt.plot(range(max_epochs), loss.history['loss'])\n",
    "plt.xlabel('Epochs')\n",
    "plt.ylabel('Loss')\n",
    "plt.show()"
   ]
  },
  {
   "cell_type": "markdown",
   "metadata": {},
   "source": [
    "9. And finally, you can see the wonderful reconstructed images from the noisy input images"
   ]
  },
  {
   "cell_type": "code",
   "execution_count": 15,
   "metadata": {},
   "outputs": [
    {
     "name": "stdout",
     "output_type": "stream",
     "text": [
      "input_features.shape :  (10000, 28, 28, 1)\n",
      "Ex1 (10000, 28, 28, 32)\n",
      "Ex2 (10000, 14, 14, 32)\n",
      "Ex3 (10000, 14, 14, 32)\n",
      "Ex4 (10000, 7, 7, 32)\n",
      "Ex5 (10000, 7, 7, 16)\n",
      "Ex6 (10000, 4, 4, 16)\n",
      "encoded.shape :  (10000, 4, 4, 16)\n",
      "dx1 (10000, 4, 4, 16)\n",
      "dx2 (10000, 8, 8, 16)\n",
      "dx3 (10000, 8, 8, 32)\n",
      "dx4 (10000, 16, 16, 32)\n",
      "dx5 (10000, 14, 14, 32)\n",
      "dx6 (10000, 28, 28, 32)\n",
      "dx7 (10000, 28, 28, 1)\n",
      "reconstructed.shape :  (10000, 28, 28, 1)\n",
      "input_features.shape :  (10000, 28, 28, 1)\n",
      "Ex1 (10000, 28, 28, 32)\n",
      "Ex2 (10000, 14, 14, 32)\n",
      "Ex3 (10000, 14, 14, 32)\n",
      "Ex4 (10000, 7, 7, 32)\n",
      "Ex5 (10000, 7, 7, 16)\n",
      "Ex6 (10000, 4, 4, 16)\n",
      "encoded.shape :  (10000, 4, 4, 16)\n",
      "dx1 (10000, 4, 4, 16)\n",
      "dx2 (10000, 8, 8, 16)\n",
      "dx3 (10000, 8, 8, 32)\n",
      "dx4 (10000, 16, 16, 32)\n",
      "dx5 (10000, 14, 14, 32)\n",
      "dx6 (10000, 28, 28, 32)\n",
      "dx7 (10000, 28, 28, 1)\n",
      "reconstructed.shape :  (10000, 28, 28, 1)\n",
      "input_features.shape :  (10000, 28, 28, 1)\n",
      "Ex1 (10000, 28, 28, 32)\n",
      "Ex2 (10000, 14, 14, 32)\n",
      "Ex3 (10000, 14, 14, 32)\n",
      "Ex4 (10000, 7, 7, 32)\n",
      "Ex5 (10000, 7, 7, 16)\n",
      "Ex6 (10000, 4, 4, 16)\n",
      "encoded.shape :  (10000, 4, 4, 16)\n",
      "dx1 (10000, 4, 4, 16)\n",
      "dx2 (10000, 8, 8, 16)\n",
      "dx3 (10000, 8, 8, 32)\n",
      "dx4 (10000, 16, 16, 32)\n",
      "dx5 (10000, 14, 14, 32)\n",
      "dx6 (10000, 28, 28, 32)\n",
      "dx7 (10000, 28, 28, 1)\n",
      "reconstructed.shape :  (10000, 28, 28, 1)\n",
      "input_features.shape :  (10000, 28, 28, 1)\n",
      "Ex1 (10000, 28, 28, 32)\n",
      "Ex2 (10000, 14, 14, 32)\n",
      "Ex3 (10000, 14, 14, 32)\n",
      "Ex4 (10000, 7, 7, 32)\n",
      "Ex5 (10000, 7, 7, 16)\n",
      "Ex6 (10000, 4, 4, 16)\n",
      "encoded.shape :  (10000, 4, 4, 16)\n",
      "dx1 (10000, 4, 4, 16)\n",
      "dx2 (10000, 8, 8, 16)\n",
      "dx3 (10000, 8, 8, 32)\n",
      "dx4 (10000, 16, 16, 32)\n",
      "dx5 (10000, 14, 14, 32)\n",
      "dx6 (10000, 28, 28, 32)\n",
      "dx7 (10000, 28, 28, 1)\n",
      "reconstructed.shape :  (10000, 28, 28, 1)\n",
      "input_features.shape :  (10000, 28, 28, 1)\n",
      "Ex1 (10000, 28, 28, 32)\n",
      "Ex2 (10000, 14, 14, 32)\n",
      "Ex3 (10000, 14, 14, 32)\n",
      "Ex4 (10000, 7, 7, 32)\n",
      "Ex5 (10000, 7, 7, 16)\n",
      "Ex6 (10000, 4, 4, 16)\n",
      "encoded.shape :  (10000, 4, 4, 16)\n",
      "dx1 (10000, 4, 4, 16)\n",
      "dx2 (10000, 8, 8, 16)\n",
      "dx3 (10000, 8, 8, 32)\n",
      "dx4 (10000, 16, 16, 32)\n",
      "dx5 (10000, 14, 14, 32)\n",
      "dx6 (10000, 28, 28, 32)\n",
      "dx7 (10000, 28, 28, 1)\n",
      "reconstructed.shape :  (10000, 28, 28, 1)\n",
      "input_features.shape :  (10000, 28, 28, 1)\n",
      "Ex1 (10000, 28, 28, 32)\n",
      "Ex2 (10000, 14, 14, 32)\n",
      "Ex3 (10000, 14, 14, 32)\n",
      "Ex4 (10000, 7, 7, 32)\n",
      "Ex5 (10000, 7, 7, 16)\n",
      "Ex6 (10000, 4, 4, 16)\n",
      "encoded.shape :  (10000, 4, 4, 16)\n",
      "dx1 (10000, 4, 4, 16)\n",
      "dx2 (10000, 8, 8, 16)\n",
      "dx3 (10000, 8, 8, 32)\n",
      "dx4 (10000, 16, 16, 32)\n",
      "dx5 (10000, 14, 14, 32)\n",
      "dx6 (10000, 28, 28, 32)\n",
      "dx7 (10000, 28, 28, 1)\n",
      "reconstructed.shape :  (10000, 28, 28, 1)\n",
      "input_features.shape :  (10000, 28, 28, 1)\n",
      "Ex1 (10000, 28, 28, 32)\n",
      "Ex2 (10000, 14, 14, 32)\n",
      "Ex3 (10000, 14, 14, 32)\n",
      "Ex4 (10000, 7, 7, 32)\n",
      "Ex5 (10000, 7, 7, 16)\n",
      "Ex6 (10000, 4, 4, 16)\n",
      "encoded.shape :  (10000, 4, 4, 16)\n",
      "dx1 (10000, 4, 4, 16)\n",
      "dx2 (10000, 8, 8, 16)\n",
      "dx3 (10000, 8, 8, 32)\n",
      "dx4 (10000, 16, 16, 32)\n",
      "dx5 (10000, 14, 14, 32)\n",
      "dx6 (10000, 28, 28, 32)\n",
      "dx7 (10000, 28, 28, 1)\n",
      "reconstructed.shape :  (10000, 28, 28, 1)\n",
      "input_features.shape :  (10000, 28, 28, 1)\n",
      "Ex1 (10000, 28, 28, 32)\n",
      "Ex2 (10000, 14, 14, 32)\n",
      "Ex3 (10000, 14, 14, 32)\n",
      "Ex4 (10000, 7, 7, 32)\n",
      "Ex5 (10000, 7, 7, 16)\n",
      "Ex6 (10000, 4, 4, 16)\n",
      "encoded.shape :  (10000, 4, 4, 16)\n",
      "dx1 (10000, 4, 4, 16)\n",
      "dx2 (10000, 8, 8, 16)\n",
      "dx3 (10000, 8, 8, 32)\n",
      "dx4 (10000, 16, 16, 32)\n",
      "dx5 (10000, 14, 14, 32)\n",
      "dx6 (10000, 28, 28, 32)\n",
      "dx7 (10000, 28, 28, 1)\n",
      "reconstructed.shape :  (10000, 28, 28, 1)\n",
      "input_features.shape :  (10000, 28, 28, 1)\n",
      "Ex1 (10000, 28, 28, 32)\n",
      "Ex2 (10000, 14, 14, 32)\n",
      "Ex3 (10000, 14, 14, 32)\n",
      "Ex4 (10000, 7, 7, 32)\n",
      "Ex5 (10000, 7, 7, 16)\n",
      "Ex6 (10000, 4, 4, 16)\n",
      "encoded.shape :  (10000, 4, 4, 16)\n",
      "dx1 (10000, 4, 4, 16)\n",
      "dx2 (10000, 8, 8, 16)\n",
      "dx3 (10000, 8, 8, 32)\n",
      "dx4 (10000, 16, 16, 32)\n",
      "dx5 (10000, 14, 14, 32)\n",
      "dx6 (10000, 28, 28, 32)\n",
      "dx7 (10000, 28, 28, 1)\n",
      "reconstructed.shape :  (10000, 28, 28, 1)\n",
      "input_features.shape :  (10000, 28, 28, 1)\n",
      "Ex1 (10000, 28, 28, 32)\n",
      "Ex2 (10000, 14, 14, 32)\n",
      "Ex3 (10000, 14, 14, 32)\n",
      "Ex4 (10000, 7, 7, 32)\n",
      "Ex5 (10000, 7, 7, 16)\n",
      "Ex6 (10000, 4, 4, 16)\n",
      "encoded.shape :  (10000, 4, 4, 16)\n",
      "dx1 (10000, 4, 4, 16)\n",
      "dx2 (10000, 8, 8, 16)\n",
      "dx3 (10000, 8, 8, 32)\n",
      "dx4 (10000, 16, 16, 32)\n",
      "dx5 (10000, 14, 14, 32)\n",
      "dx6 (10000, 28, 28, 32)\n",
      "dx7 (10000, 28, 28, 1)\n",
      "reconstructed.shape :  (10000, 28, 28, 1)\n"
     ]
    },
    {
     "data": {
      "image/png": "[encoded data removed]",
      "text/plain": [
       "<Figure size 1440x288 with 20 Axes>"
      ]
     },
     "metadata": {
      "needs_background": "light"
     },
     "output_type": "display_data"
    }
   ],
   "source": [
    "# you can see the original(top) and reconstructed(bottom) images\n",
    "number = 10 # how many digits we will display\n",
    "plt.figure(figsize=(20, 4))\n",
    "for index in range(number):\n",
    "    # display original\n",
    "    ax = plt.subplot(2, number, index + 1)\n",
    "    plt.imshow(x_test_noisy[index].reshape(28,28), cmap='gray')\n",
    "    ax.get_xaxis().set_visible(False)\n",
    "    ax.get_yaxis().set_visible(False)\n",
    "    \n",
    "    # display reconstruction\n",
    "    ax = plt.subplot(2, number, index + 1 + number)\n",
    "    plt.imshow(model(x_test_noisy)[index].numpy().reshape(28,28), cmap='gray')\n",
    "    ax.get_xaxis().set_visible(False)\n",
    "    ax.get_yaxis().set_visible(False)\n",
    "\n",
    "plt.show()"
   ]
  },
  {
   "cell_type": "markdown",
   "metadata": {},
   "source": [
    "### Keras autoencoder example - sentence vectors"
   ]
  },
  {
   "cell_type": "markdown",
   "metadata": {},
   "source": []
  },
  {
   "cell_type": "code",
   "execution_count": null,
   "metadata": {},
   "outputs": [],
   "source": []
  }
 ],
 "metadata": {
  "kernelspec": {
   "display_name": "Python 3",
   "language": "python",
   "name": "python3"
  },
  "language_info": {
   "codemirror_mode": {
    "name": "ipython",
    "version": 3
   },
   "file_extension": ".py",
   "mimetype": "text/x-python",
   "name": "python",
   "nbconvert_exporter": "python",
   "pygments_lexer": "ipython3",
   "version": "3.7.7"
  }
 },
 "nbformat": 4,
 "nbformat_minor": 4
}
