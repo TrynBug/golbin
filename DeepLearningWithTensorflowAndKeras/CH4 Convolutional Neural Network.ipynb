{
 "cells": [
  {
   "cell_type": "markdown",
   "metadata": {},
   "source": [
    "## Deep Convolutional Neural Network (DCNN)"
   ]
  },
  {
   "cell_type": "markdown",
   "metadata": {},
   "source": [
    "### LeNet code in TnesorFlow 2.0"
   ]
  },
  {
   "cell_type": "code",
   "execution_count": 2,
   "metadata": {},
   "outputs": [],
   "source": [
    "import tensorflow as tf\n",
    "from tensorflow.keras import datasets, layers, models, optimizers\n",
    "import os"
   ]
  },
  {
   "cell_type": "code",
   "execution_count": 32,
   "metadata": {},
   "outputs": [],
   "source": [
    "# network and training\n",
    "EPOCHS = 20\n",
    "BATCH_SIZE = 128\n",
    "VERBOSE = 1\n",
    "OPTIMIZER = tf.keras.optimizers.Adam()\n",
    "VALIDATION_SPLIT=0.2\n",
    "IMG_ROWS, IMG_COLS = 28, 28 # input image dimensions\n",
    "INPUT_SHAPE = (IMG_ROWS, IMG_COLS, 1)\n",
    "NB_CLASSES = 10 # number of outputs = number of digits"
   ]
  },
  {
   "cell_type": "code",
   "execution_count": 19,
   "metadata": {},
   "outputs": [],
   "source": [
    "# define the convnet(LeNet)\n",
    "def build(input_shape, classes):\n",
    "    model = models.Sequential()\n",
    "    \n",
    "    # CONV -> RELU -> POOL\n",
    "    model.add(layers.Convolution2D(20, (5, 5), activation='relu', input_shape=input_shape))\n",
    "    model.add(layers.MaxPooling2D(pool_size=(2,2), strides=(2,2)))\n",
    "    \n",
    "    # CONV -> RELU -> POOL\n",
    "    model.add(layers.Convolution2D(50, (5,5), activation='relu'))\n",
    "    model.add(layers.MaxPooling2D(pool_size=(2,2), strides=(2,2)))\n",
    "    \n",
    "    # Flatten -> RELU layers\n",
    "    model.add(layers.Flatten())\n",
    "    model.add(layers.Dense(500, activation='relu'))\n",
    "    \n",
    "    # a softmax classifier\n",
    "    model.add(layers.Dense(classes, activation='softmax'))\n",
    "    return model"
   ]
  },
  {
   "cell_type": "code",
   "execution_count": 33,
   "metadata": {},
   "outputs": [
    {
     "name": "stdout",
     "output_type": "stream",
     "text": [
      "Model: \"sequential_11\"\n",
      "_________________________________________________________________\n",
      "Layer (type)                 Output Shape              Param #   \n",
      "=================================================================\n",
      "conv2d_21 (Conv2D)           (None, 24, 24, 20)        520       \n",
      "_________________________________________________________________\n",
      "max_pooling2d_20 (MaxPooling (None, 12, 12, 20)        0         \n",
      "_________________________________________________________________\n",
      "conv2d_22 (Conv2D)           (None, 8, 8, 50)          25050     \n",
      "_________________________________________________________________\n",
      "max_pooling2d_21 (MaxPooling (None, 4, 4, 50)          0         \n",
      "_________________________________________________________________\n",
      "flatten_10 (Flatten)         (None, 800)               0         \n",
      "_________________________________________________________________\n",
      "dense_20 (Dense)             (None, 500)               400500    \n",
      "_________________________________________________________________\n",
      "dense_21 (Dense)             (None, 10)                5010      \n",
      "=================================================================\n",
      "Total params: 431,080\n",
      "Trainable params: 431,080\n",
      "Non-trainable params: 0\n",
      "_________________________________________________________________\n",
      "Train on 48000 samples, validate on 12000 samples\n",
      "Epoch 1/20\n",
      "48000/48000 [==============================] - 2s 42us/sample - loss: 0.2132 - accuracy: 0.9385 - val_loss: 0.0725 - val_accuracy: 0.9796\n",
      "Epoch 2/20\n",
      "48000/48000 [==============================] - 1s 25us/sample - loss: 0.0554 - accuracy: 0.9825 - val_loss: 0.0577 - val_accuracy: 0.9841\n",
      "Epoch 3/20\n",
      "48000/48000 [==============================] - 1s 25us/sample - loss: 0.0368 - accuracy: 0.9884 - val_loss: 0.0396 - val_accuracy: 0.9882\n",
      "Epoch 4/20\n",
      "48000/48000 [==============================] - 1s 25us/sample - loss: 0.0263 - accuracy: 0.9919 - val_loss: 0.0451 - val_accuracy: 0.9871\n",
      "Epoch 5/20\n",
      "48000/48000 [==============================] - 1s 25us/sample - loss: 0.0198 - accuracy: 0.9935 - val_loss: 0.0367 - val_accuracy: 0.9905\n",
      "Epoch 6/20\n",
      "48000/48000 [==============================] - 1s 25us/sample - loss: 0.0162 - accuracy: 0.9947 - val_loss: 0.0431 - val_accuracy: 0.9873\n",
      "Epoch 7/20\n",
      "48000/48000 [==============================] - 1s 25us/sample - loss: 0.0136 - accuracy: 0.9956 - val_loss: 0.0415 - val_accuracy: 0.9891\n",
      "Epoch 8/20\n",
      "48000/48000 [==============================] - 1s 25us/sample - loss: 0.0103 - accuracy: 0.9966 - val_loss: 0.0452 - val_accuracy: 0.9892\n",
      "Epoch 9/20\n",
      "48000/48000 [==============================] - 1s 25us/sample - loss: 0.0101 - accuracy: 0.9965 - val_loss: 0.0393 - val_accuracy: 0.9898\n",
      "Epoch 10/20\n",
      "48000/48000 [==============================] - 1s 27us/sample - loss: 0.0069 - accuracy: 0.9979 - val_loss: 0.0394 - val_accuracy: 0.9892\n",
      "Epoch 11/20\n",
      "48000/48000 [==============================] - 1s 25us/sample - loss: 0.0077 - accuracy: 0.9974 - val_loss: 0.0413 - val_accuracy: 0.9902\n",
      "Epoch 12/20\n",
      "48000/48000 [==============================] - 1s 25us/sample - loss: 0.0039 - accuracy: 0.9988 - val_loss: 0.0371 - val_accuracy: 0.9918\n",
      "Epoch 13/20\n",
      "48000/48000 [==============================] - 1s 25us/sample - loss: 0.0089 - accuracy: 0.9969 - val_loss: 0.0450 - val_accuracy: 0.9898\n",
      "Epoch 14/20\n",
      "48000/48000 [==============================] - 1s 25us/sample - loss: 0.0056 - accuracy: 0.9980 - val_loss: 0.0492 - val_accuracy: 0.9887\n",
      "Epoch 15/20\n",
      "48000/48000 [==============================] - 1s 25us/sample - loss: 0.0058 - accuracy: 0.9980 - val_loss: 0.0504 - val_accuracy: 0.9878\n",
      "Epoch 16/20\n",
      "48000/48000 [==============================] - 1s 25us/sample - loss: 0.0040 - accuracy: 0.9990 - val_loss: 0.0432 - val_accuracy: 0.9911\n",
      "Epoch 17/20\n",
      "48000/48000 [==============================] - 1s 25us/sample - loss: 0.0040 - accuracy: 0.9986 - val_loss: 0.0451 - val_accuracy: 0.9894\n",
      "Epoch 18/20\n",
      "48000/48000 [==============================] - 1s 25us/sample - loss: 0.0051 - accuracy: 0.9984 - val_loss: 0.0471 - val_accuracy: 0.9900\n",
      "Epoch 19/20\n",
      "48000/48000 [==============================] - 1s 25us/sample - loss: 0.0043 - accuracy: 0.9985 - val_loss: 0.0485 - val_accuracy: 0.9900\n",
      "Epoch 20/20\n",
      "48000/48000 [==============================] - 1s 25us/sample - loss: 0.0019 - accuracy: 0.9994 - val_loss: 0.0484 - val_accuracy: 0.9908\n",
      "10000/10000 [==============================] - 1s 54us/sample - loss: 0.0379 - accuracy: 0.9916\n",
      "\n",
      "Test score: 0.03786451516075539\n",
      "Test accuracy: 0.9916\n"
     ]
    }
   ],
   "source": [
    "# data: shuffled and split between train and test sets\n",
    "(X_train, y_train), (X_test, y_test) = datasets.mnist.load_data()\n",
    "\n",
    "# reshape\n",
    "X_train = X_train.reshape((60000, 28, 28, 1))\n",
    "X_test = X_test.reshape((10000, 28, 28, 1))\n",
    "\n",
    "# normalize\n",
    "X_train, X_test = X_train / 255.0, X_test / 255.0\n",
    "\n",
    "# cast\n",
    "X_train = X_train.astype('float32')\n",
    "X_test = X_test.astype('float32')\n",
    "\n",
    "# convert class vectors to binary class matrices (one-hot encoding)\n",
    "y_train = tf.keras.utils.to_categorical(y_train, NB_CLASSES)\n",
    "y_test = tf.keras.utils.to_categorical(y_test, NB_CLASSES)\n",
    "\n",
    "# initialize the optimizer and model\n",
    "model = build(input_shape=INPUT_SHAPE, classes=NB_CLASSES)\n",
    "model.compile(loss='categorical_crossentropy', optimizer=OPTIMIZER, metrics=['accuracy'])\n",
    "model.summary()\n",
    "\n",
    "'''\n",
    "# use TensorBoard, princess Aurora!\n",
    "callbacks = [\n",
    "    # Write TensorBoard logs to './logs' directory\n",
    "    tf.keras.callbacks.TensorBoard(log_dir='./logs')\n",
    "]\n",
    "'''\n",
    "# fit\n",
    "history = model.fit(X_train, y_train, batch_size=BATCH_SIZE, epochs=EPOCHS,\n",
    "                    verbose=VERBOSE, validation_split=VALIDATION_SPLIT)\n",
    "#                    ,callbacks=callbacks)\n",
    "\n",
    "score = model.evaluate(X_test, y_test, verbose=VERBOSE)\n",
    "print('\\nTest score:', score[0])\n",
    "print('Test accuracy:', score[1])"
   ]
  },
  {
   "cell_type": "markdown",
   "metadata": {},
   "source": [
    "## Recognizing CIFAR-10 images with deep learning"
   ]
  },
  {
   "cell_type": "code",
   "execution_count": 2,
   "metadata": {},
   "outputs": [],
   "source": [
    "import tensorflow as tf\n",
    "from tensorflow.keras import datasets, layers, models, optimizers"
   ]
  },
  {
   "cell_type": "code",
   "execution_count": 3,
   "metadata": {},
   "outputs": [],
   "source": [
    "# CIFAR_10 is a set of 60K images 32x32 pixels on 3 channels\n",
    "IMG_CHANNELS = 3\n",
    "IMG_ROWS = 32\n",
    "IMG_COLS = 32\n",
    "\n",
    "# constant\n",
    "BATCH_SIZE = 128\n",
    "EPOCHS = 20\n",
    "CLASSES = 10\n",
    "VERBOSE = 1\n",
    "VALIDATION_SPLIT = 0.2\n",
    "OPTIM = tf.keras.optimizers.RMSprop()"
   ]
  },
  {
   "cell_type": "code",
   "execution_count": 4,
   "metadata": {},
   "outputs": [],
   "source": [
    "# define the convnet\n",
    "def build(input_shape, classes):\n",
    "    model = models.Sequential()\n",
    "    model.add(layers.Convolution2D(32, (3,3), activation='relu', input_shape=input_shape))\n",
    "    model.add(layers.MaxPooling2D(pool_size=(2,2)))\n",
    "    model.add(layers.Dropout(0.25))\n",
    "    \n",
    "    model.add(layers.Flatten())\n",
    "    model.add(layers.Dense(512, activation='relu'))\n",
    "    model.add(layers.Dropout(0.5))\n",
    "    model.add(layers.Dense(classes, activation='softmax'))\n",
    "    return model"
   ]
  },
  {
   "cell_type": "code",
   "execution_count": 5,
   "metadata": {},
   "outputs": [],
   "source": [
    "# data: shuffled and split between train and test sets\n",
    "(X_train, y_train), (X_test, y_test) = datasets.cifar10.load_data()\n",
    "# normalize\n",
    "X_train, X_test = X_train / 255.0, X_test / 255.0\n",
    "# convert to categorical\n",
    "# convert class vectors to binary class matrices\n",
    "y_train = tf.keras.utils.to_categorical(y_train, CLASSES)\n",
    "y_test = tf.keras.utils.to_categorical(y_test, CLASSES)"
   ]
  },
  {
   "cell_type": "code",
   "execution_count": 6,
   "metadata": {},
   "outputs": [],
   "source": [
    "X_train = X_train.astype('float32')\n",
    "X_test = X_test.astype('float32')"
   ]
  },
  {
   "cell_type": "code",
   "execution_count": 7,
   "metadata": {},
   "outputs": [
    {
     "name": "stdout",
     "output_type": "stream",
     "text": [
      "Model: \"sequential\"\n",
      "_________________________________________________________________\n",
      "Layer (type)                 Output Shape              Param #   \n",
      "=================================================================\n",
      "conv2d (Conv2D)              (None, 30, 30, 32)        896       \n",
      "_________________________________________________________________\n",
      "max_pooling2d (MaxPooling2D) (None, 15, 15, 32)        0         \n",
      "_________________________________________________________________\n",
      "dropout (Dropout)            (None, 15, 15, 32)        0         \n",
      "_________________________________________________________________\n",
      "flatten (Flatten)            (None, 7200)              0         \n",
      "_________________________________________________________________\n",
      "dense (Dense)                (None, 512)               3686912   \n",
      "_________________________________________________________________\n",
      "dropout_1 (Dropout)          (None, 512)               0         \n",
      "_________________________________________________________________\n",
      "dense_1 (Dense)              (None, 10)                5130      \n",
      "=================================================================\n",
      "Total params: 3,692,938\n",
      "Trainable params: 3,692,938\n",
      "Non-trainable params: 0\n",
      "_________________________________________________________________\n",
      "Train on 40000 samples, validate on 10000 samples\n",
      "Epoch 1/20\n",
      "  128/40000 [..............................] - ETA: 10:25 - loss: 2.3304 - accuracy: 0.1406WARNING:tensorflow:Method (on_train_batch_end) is slow compared to the batch update (0.105095). Check your callbacks.\n",
      "40000/40000 [==============================] - 4s 112us/sample - loss: 1.7400 - accuracy: 0.3830 - val_loss: 1.4680 - val_accuracy: 0.4792\n",
      "Epoch 2/20\n",
      "40000/40000 [==============================] - 2s 52us/sample - loss: 1.3935 - accuracy: 0.5099 - val_loss: 1.2887 - val_accuracy: 0.5568\n",
      "Epoch 3/20\n",
      "40000/40000 [==============================] - 2s 51us/sample - loss: 1.2619 - accuracy: 0.5579 - val_loss: 1.2313 - val_accuracy: 0.5753\n",
      "Epoch 4/20\n",
      "40000/40000 [==============================] - 2s 52us/sample - loss: 1.1669 - accuracy: 0.5918 - val_loss: 1.3181 - val_accuracy: 0.5351\n",
      "Epoch 5/20\n",
      "40000/40000 [==============================] - 2s 54us/sample - loss: 1.0887 - accuracy: 0.6184 - val_loss: 1.0951 - val_accuracy: 0.6229\n",
      "Epoch 6/20\n",
      "40000/40000 [==============================] - 2s 53us/sample - loss: 1.0238 - accuracy: 0.6420 - val_loss: 1.1687 - val_accuracy: 0.5977\n",
      "Epoch 7/20\n",
      "40000/40000 [==============================] - 2s 54us/sample - loss: 0.9718 - accuracy: 0.6585 - val_loss: 1.0828 - val_accuracy: 0.6235\n",
      "Epoch 8/20\n",
      "40000/40000 [==============================] - 2s 51us/sample - loss: 0.9230 - accuracy: 0.6754 - val_loss: 1.0509 - val_accuracy: 0.6388\n",
      "Epoch 9/20\n",
      "40000/40000 [==============================] - 2s 54us/sample - loss: 0.8774 - accuracy: 0.6940 - val_loss: 1.0633 - val_accuracy: 0.6487\n",
      "Epoch 10/20\n",
      "40000/40000 [==============================] - 2s 51us/sample - loss: 0.8297 - accuracy: 0.7107 - val_loss: 1.1736 - val_accuracy: 0.6211\n",
      "Epoch 11/20\n",
      "40000/40000 [==============================] - 2s 50us/sample - loss: 0.7945 - accuracy: 0.7246 - val_loss: 1.0408 - val_accuracy: 0.6560\n",
      "Epoch 12/20\n",
      "40000/40000 [==============================] - 2s 51us/sample - loss: 0.7602 - accuracy: 0.7372 - val_loss: 1.0230 - val_accuracy: 0.6645\n",
      "Epoch 13/20\n",
      "40000/40000 [==============================] - 2s 51us/sample - loss: 0.7240 - accuracy: 0.7495 - val_loss: 0.9799 - val_accuracy: 0.6790\n",
      "Epoch 14/20\n",
      "40000/40000 [==============================] - 2s 51us/sample - loss: 0.6949 - accuracy: 0.7589 - val_loss: 1.0538 - val_accuracy: 0.6686\n",
      "Epoch 15/20\n",
      "40000/40000 [==============================] - 2s 50us/sample - loss: 0.6727 - accuracy: 0.7681 - val_loss: 1.0622 - val_accuracy: 0.6640\n",
      "Epoch 16/20\n",
      "40000/40000 [==============================] - 2s 51us/sample - loss: 0.6477 - accuracy: 0.7757 - val_loss: 1.0102 - val_accuracy: 0.6806\n",
      "Epoch 17/20\n",
      "40000/40000 [==============================] - 2s 50us/sample - loss: 0.6128 - accuracy: 0.7900 - val_loss: 1.0866 - val_accuracy: 0.6626\n",
      "Epoch 18/20\n",
      "40000/40000 [==============================] - 2s 51us/sample - loss: 0.5970 - accuracy: 0.7950 - val_loss: 1.0385 - val_accuracy: 0.6827\n",
      "Epoch 19/20\n",
      "40000/40000 [==============================] - 2s 51us/sample - loss: 0.5745 - accuracy: 0.8040 - val_loss: 1.0486 - val_accuracy: 0.6797\n",
      "Epoch 20/20\n",
      "40000/40000 [==============================] - 2s 50us/sample - loss: 0.5621 - accuracy: 0.8065 - val_loss: 1.1392 - val_accuracy: 0.6654\n"
     ]
    },
    {
     "data": {
      "text/plain": [
       "<tensorflow.python.keras.callbacks.History at 0x186a54dbc88>"
      ]
     },
     "execution_count": 7,
     "metadata": {},
     "output_type": "execute_result"
    }
   ],
   "source": [
    "model=build((IMG_ROWS, IMG_COLS, IMG_CHANNELS), CLASSES)\n",
    "model.summary()\n",
    "\n",
    "# use TensorBoard\n",
    "log_dir = 'D:\\\\project_minor\\\\python\\\\golbin2\\\\DeepLearningWithTensorflowAndKeras\\\\logs'\n",
    "callbacks = [tf.keras.callbacks.TensorBoard(log_dir=log_dir)]\n",
    "\n",
    "# train\n",
    "model.compile(loss='categorical_crossentropy', optimizer=OPTIM, metrics=['accuracy'])\n",
    "model.fit(X_train, y_train, batch_size=BATCH_SIZE, epochs=EPOCHS,\n",
    "          validation_split=VALIDATION_SPLIT, verbose=VERBOSE, callbacks=callbacks)"
   ]
  },
  {
   "cell_type": "code",
   "execution_count": 8,
   "metadata": {},
   "outputs": [
    {
     "name": "stdout",
     "output_type": "stream",
     "text": [
      "10000/10000 [==============================] - 0s 24us/sample - loss: 1.1414 - accuracy: 0.6585\n",
      "\n",
      "Test score: 1.141379397201538\n",
      "Test accuracy: 0.6585\n"
     ]
    }
   ],
   "source": [
    "score = model.evaluate(X_test, y_test, batch_size=BATCH_SIZE, verbose=VERBOSE)\n",
    "print('\\nTest score:', score[0])\n",
    "print('Test accuracy:', score[1])"
   ]
  },
  {
   "cell_type": "markdown",
   "metadata": {},
   "source": [
    "### Improbing the CIFAR-10 performance with a deeper network"
   ]
  },
  {
   "cell_type": "markdown",
   "metadata": {},
   "source": [
    "One way to improve the performance is to define a deeper network with multiple convolutional operations.  \n",
    "1st module: (CONV+CONV+MaxPool+DropOut)  \n",
    "2nd module: (CONV+CONV+MaxPool+DropOut)  \n",
    "3rd module: (CONV+CONV+MaxPool+DropOut)  "
   ]
  },
  {
   "cell_type": "markdown",
   "metadata": {},
   "source": [
    "#### Understanding Batch Normalization"
   ]
  },
  {
   "cell_type": "markdown",
   "metadata": {},
   "source": [
    "BatchNormalization is another form of regularization and one of the most effective improvements proposed during the last few years.  \n",
    "BatchNormalization enables us to accelerate training, in some cases by havling the training epochs, and it offers some regularization.  \n",
    "During training, weights in early layers naturally change and therefore the inputs of later layers can significantly change. In other words, each layer must continuously re-adjust its weights to the different distribution for every batch. This may slow down the model's training greatly. The key idea is to make layer inputs more similar in distribution, batch after batch and epoch after epoch.  \n",
    "Another issue is that the sigmoid activation function works very well close to zero, but tends to \"get stuck\" when values get sufficiently far away from zero. If, occasionally, neuron outputs fluctuate far away from the sigmoid zero, then said neuron becomes unable to update its own weights.  \n",
    "The other key idea is therefore to transform the layer outputs into a Gaussian distribution unit close to zero. In this way, layers will have significantly less variation from batch to batch. Mathematically, the formula is very simple. The activation input $x$ is centered around zero by subtracting the batch mean $\\mu$ from it. Then, the result is divided by $\\sigma + \\epsilon$ to prevent division by zero. Then, we use a linear transformation $y = \\lambda x + \\beta$ to make sure that the normalizing effect is applied during training.  \n",
    "In this way, $\\lambda$ and $\\beta$ are parameters that got optimized during the training phase in a similar way to any other layer. BatchNormalization has been proven as a very effective way to increase both the speed of training and accuracy, because it helps to prevent activations becoming either too small and vanishing or too big and exploding."
   ]
  },
  {
   "cell_type": "code",
   "execution_count": 2,
   "metadata": {},
   "outputs": [],
   "source": [
    "import tensorflow as tf\n",
    "from tensorflow.keras import datasets, layers, models, optimizers, regularizers\n",
    "from tensorflow.keras.preprocessing.image import ImageDataGenerator\n",
    "import numpy as np"
   ]
  },
  {
   "cell_type": "code",
   "execution_count": 3,
   "metadata": {},
   "outputs": [],
   "source": [
    "# CIFAR_10 is a set of 60K images 32x32 pixels on 3 channels\n",
    "EPOCHS=50\n",
    "NUM_CLASSES = 10"
   ]
  },
  {
   "cell_type": "code",
   "execution_count": 4,
   "metadata": {},
   "outputs": [],
   "source": [
    "# define the convnet\n",
    "def build_model():\n",
    "    model = models.Sequential()\n",
    "    \n",
    "    # 1st block\n",
    "    model.add(layers.Convolution2D(32, (3,3), padding='same', activation='relu', input_shape=x_train.shape[1:]))\n",
    "    model.add(layers.BatchNormalization())\n",
    "    model.add(layers.Conv2D(32, (3,3), padding='same', activation='relu'))\n",
    "    model.add(layers.BatchNormalization())\n",
    "    model.add(layers.MaxPooling2D(pool_size=(2,2)))\n",
    "    model.add(layers.Dropout(0.2))\n",
    "    \n",
    "    # 2nd block\n",
    "    model.add(layers.Conv2D(64, (3,3), padding='same', activation='relu'))\n",
    "    model.add(layers.BatchNormalization())\n",
    "    model.add(layers.Conv2D(64, (3,3), padding='same', activation='relu'))\n",
    "    model.add(layers.BatchNormalization())\n",
    "    model.add(layers.MaxPooling2D(pool_size=(2,2)))\n",
    "    model.add(layers.Dropout(0.3))\n",
    "    \n",
    "    # 3rd block\n",
    "    model.add(layers.Conv2D(128, (3,3), padding='same', activation='relu'))\n",
    "    model.add(layers.BatchNormalization())\n",
    "    model.add(layers.Conv2D(128, (3,3), padding='same', activation='relu'))\n",
    "    model.add(layers.BatchNormalization())\n",
    "    model.add(layers.MaxPooling2D(pool_size=(2,2)))\n",
    "    model.add(layers.Dropout(0.4))\n",
    "    \n",
    "    # dense\n",
    "    model.add(layers.Flatten())\n",
    "    model.add(layers.Dense(NUM_CLASSES, activation='softmax'))\n",
    "    return model"
   ]
  },
  {
   "cell_type": "code",
   "execution_count": 5,
   "metadata": {},
   "outputs": [],
   "source": [
    "def load_data():\n",
    "    (x_train, y_train), (x_test, y_test) = datasets.cifar10.load_data()\n",
    "    x_train = x_train.astype('float32')\n",
    "    x_test = x_test.astype('float32')\n",
    "    \n",
    "    # normalize\n",
    "    mean = np.mean(x_train, axis=(0,1,2,3))\n",
    "    std = np.std(x_train, axis=(0,1,2,3))\n",
    "    x_train = (x_train-mean)/(std+1e-7)\n",
    "    x_test = (x_test-mean)/(std+1e-7)\n",
    "    \n",
    "    y_train = tf.keras.utils.to_categorical(y_train, NUM_CLASSES)\n",
    "    y_test = tf.keras.utils.to_categorical(y_test, NUM_CLASSES)\n",
    "    return x_train, y_train, x_test, y_test"
   ]
  },
  {
   "cell_type": "code",
   "execution_count": 6,
   "metadata": {},
   "outputs": [],
   "source": [
    "(x_train, y_train, x_test, y_test) = load_data()\n",
    "model = build_model()\n",
    "model.compile(loss='categorical_crossentropy', optimizer='RMSprop', metrics=['accuracy'])"
   ]
  },
  {
   "cell_type": "code",
   "execution_count": 15,
   "metadata": {},
   "outputs": [
    {
     "name": "stdout",
     "output_type": "stream",
     "text": [
      "Model: \"sequential\"\n",
      "_________________________________________________________________\n",
      "Layer (type)                 Output Shape              Param #   \n",
      "=================================================================\n",
      "conv2d (Conv2D)              (None, 32, 32, 32)        896       \n",
      "_________________________________________________________________\n",
      "batch_normalization (BatchNo (None, 32, 32, 32)        128       \n",
      "_________________________________________________________________\n",
      "conv2d_1 (Conv2D)            (None, 32, 32, 32)        9248      \n",
      "_________________________________________________________________\n",
      "batch_normalization_1 (Batch (None, 32, 32, 32)        128       \n",
      "_________________________________________________________________\n",
      "max_pooling2d (MaxPooling2D) (None, 16, 16, 32)        0         \n",
      "_________________________________________________________________\n",
      "dropout (Dropout)            (None, 16, 16, 32)        0         \n",
      "_________________________________________________________________\n",
      "conv2d_2 (Conv2D)            (None, 16, 16, 64)        18496     \n",
      "_________________________________________________________________\n",
      "batch_normalization_2 (Batch (None, 16, 16, 64)        256       \n",
      "_________________________________________________________________\n",
      "conv2d_3 (Conv2D)            (None, 16, 16, 64)        36928     \n",
      "_________________________________________________________________\n",
      "batch_normalization_3 (Batch (None, 16, 16, 64)        256       \n",
      "_________________________________________________________________\n",
      "max_pooling2d_1 (MaxPooling2 (None, 8, 8, 64)          0         \n",
      "_________________________________________________________________\n",
      "dropout_1 (Dropout)          (None, 8, 8, 64)          0         \n",
      "_________________________________________________________________\n",
      "conv2d_4 (Conv2D)            (None, 8, 8, 128)         73856     \n",
      "_________________________________________________________________\n",
      "batch_normalization_4 (Batch (None, 8, 8, 128)         512       \n",
      "_________________________________________________________________\n",
      "conv2d_5 (Conv2D)            (None, 8, 8, 128)         147584    \n",
      "_________________________________________________________________\n",
      "batch_normalization_5 (Batch (None, 8, 8, 128)         512       \n",
      "_________________________________________________________________\n",
      "max_pooling2d_2 (MaxPooling2 (None, 4, 4, 128)         0         \n",
      "_________________________________________________________________\n",
      "dropout_2 (Dropout)          (None, 4, 4, 128)         0         \n",
      "_________________________________________________________________\n",
      "flatten (Flatten)            (None, 2048)              0         \n",
      "_________________________________________________________________\n",
      "dense (Dense)                (None, 10)                20490     \n",
      "=================================================================\n",
      "Total params: 309,290\n",
      "Trainable params: 308,394\n",
      "Non-trainable params: 896\n",
      "_________________________________________________________________\n"
     ]
    }
   ],
   "source": [
    "model.summary()"
   ]
  },
  {
   "cell_type": "code",
   "execution_count": 12,
   "metadata": {},
   "outputs": [
    {
     "name": "stdout",
     "output_type": "stream",
     "text": [
      "Train on 50000 samples, validate on 10000 samples\n",
      "Epoch 1/50\n",
      "50000/50000 [==============================] - 11s 211us/sample - loss: 1.7387 - accuracy: 0.4858 - val_loss: 1.4445 - val_accuracy: 0.5786\n",
      "Epoch 2/50\n",
      "50000/50000 [==============================] - 6s 128us/sample - loss: 1.1281 - accuracy: 0.6437 - val_loss: 1.3431 - val_accuracy: 0.6194\n",
      "Epoch 3/50\n",
      "50000/50000 [==============================] - 7s 131us/sample - loss: 0.8686 - accuracy: 0.7096 - val_loss: 0.7684 - val_accuracy: 0.7382\n",
      "Epoch 4/50\n",
      "50000/50000 [==============================] - 7s 131us/sample - loss: 0.7509 - accuracy: 0.7488 - val_loss: 0.7502 - val_accuracy: 0.7458\n",
      "Epoch 5/50\n",
      "50000/50000 [==============================] - 6s 130us/sample - loss: 0.6645 - accuracy: 0.7759 - val_loss: 0.6236 - val_accuracy: 0.7837\n",
      "Epoch 6/50\n",
      "50000/50000 [==============================] - 7s 132us/sample - loss: 0.6032 - accuracy: 0.7961 - val_loss: 0.6454 - val_accuracy: 0.7891\n",
      "Epoch 7/50\n",
      "50000/50000 [==============================] - 7s 139us/sample - loss: 0.5614 - accuracy: 0.8080 - val_loss: 0.5527 - val_accuracy: 0.8142\n",
      "Epoch 8/50\n",
      "50000/50000 [==============================] - 6s 130us/sample - loss: 0.5186 - accuracy: 0.8223 - val_loss: 0.5826 - val_accuracy: 0.8018\n",
      "Epoch 9/50\n",
      "50000/50000 [==============================] - 6s 129us/sample - loss: 0.4895 - accuracy: 0.8332 - val_loss: 0.5829 - val_accuracy: 0.8045\n",
      "Epoch 10/50\n",
      "50000/50000 [==============================] - 7s 135us/sample - loss: 0.4590 - accuracy: 0.8423 - val_loss: 0.5249 - val_accuracy: 0.8252\n",
      "Epoch 11/50\n",
      "50000/50000 [==============================] - 7s 133us/sample - loss: 0.4376 - accuracy: 0.8484 - val_loss: 0.5613 - val_accuracy: 0.8180\n",
      "Epoch 12/50\n",
      "50000/50000 [==============================] - 7s 131us/sample - loss: 0.4105 - accuracy: 0.8597 - val_loss: 0.4971 - val_accuracy: 0.8310\n",
      "Epoch 13/50\n",
      "50000/50000 [==============================] - 7s 137us/sample - loss: 0.3961 - accuracy: 0.8646 - val_loss: 0.5556 - val_accuracy: 0.8157\n",
      "Epoch 14/50\n",
      "50000/50000 [==============================] - 7s 131us/sample - loss: 0.3781 - accuracy: 0.8697 - val_loss: 0.5196 - val_accuracy: 0.8298\n",
      "Epoch 15/50\n",
      "50000/50000 [==============================] - 7s 131us/sample - loss: 0.3629 - accuracy: 0.8733 - val_loss: 0.4836 - val_accuracy: 0.8387\n",
      "Epoch 16/50\n",
      "50000/50000 [==============================] - 6s 129us/sample - loss: 0.3486 - accuracy: 0.8780 - val_loss: 0.5189 - val_accuracy: 0.8344\n",
      "Epoch 17/50\n",
      "50000/50000 [==============================] - 7s 131us/sample - loss: 0.3322 - accuracy: 0.8844 - val_loss: 0.4915 - val_accuracy: 0.8366\n",
      "Epoch 18/50\n",
      "50000/50000 [==============================] - 7s 132us/sample - loss: 0.3195 - accuracy: 0.8872 - val_loss: 0.5392 - val_accuracy: 0.8290\n",
      "Epoch 19/50\n",
      "50000/50000 [==============================] - 7s 130us/sample - loss: 0.3091 - accuracy: 0.8916 - val_loss: 0.5037 - val_accuracy: 0.8389\n",
      "Epoch 20/50\n",
      "50000/50000 [==============================] - 7s 133us/sample - loss: 0.3015 - accuracy: 0.8942 - val_loss: 0.4847 - val_accuracy: 0.8434\n",
      "Epoch 21/50\n",
      "50000/50000 [==============================] - 7s 135us/sample - loss: 0.2919 - accuracy: 0.8972 - val_loss: 0.4811 - val_accuracy: 0.8456\n",
      "Epoch 22/50\n",
      "50000/50000 [==============================] - 7s 135us/sample - loss: 0.2792 - accuracy: 0.9018 - val_loss: 0.4956 - val_accuracy: 0.8422\n",
      "Epoch 23/50\n",
      "50000/50000 [==============================] - 7s 134us/sample - loss: 0.2719 - accuracy: 0.9046 - val_loss: 0.4802 - val_accuracy: 0.8444\n",
      "Epoch 24/50\n",
      "50000/50000 [==============================] - 7s 136us/sample - loss: 0.2658 - accuracy: 0.9052 - val_loss: 0.4684 - val_accuracy: 0.8555\n",
      "Epoch 25/50\n",
      "50000/50000 [==============================] - 7s 136us/sample - loss: 0.2597 - accuracy: 0.9075 - val_loss: 0.5273 - val_accuracy: 0.8424\n",
      "Epoch 26/50\n",
      "50000/50000 [==============================] - 7s 136us/sample - loss: 0.2495 - accuracy: 0.9106 - val_loss: 0.5080 - val_accuracy: 0.8425\n",
      "Epoch 27/50\n",
      "50000/50000 [==============================] - 7s 138us/sample - loss: 0.2411 - accuracy: 0.9145 - val_loss: 0.5124 - val_accuracy: 0.8431\n",
      "Epoch 28/50\n",
      "50000/50000 [==============================] - 7s 135us/sample - loss: 0.2400 - accuracy: 0.9148 - val_loss: 0.4886 - val_accuracy: 0.8516\n",
      "Epoch 29/50\n",
      "50000/50000 [==============================] - 6s 130us/sample - loss: 0.2316 - accuracy: 0.9177 - val_loss: 0.4747 - val_accuracy: 0.8535\n",
      "Epoch 30/50\n",
      "50000/50000 [==============================] - 7s 130us/sample - loss: 0.2279 - accuracy: 0.9183 - val_loss: 0.5013 - val_accuracy: 0.8458\n",
      "Epoch 31/50\n",
      "50000/50000 [==============================] - 7s 134us/sample - loss: 0.2230 - accuracy: 0.9206 - val_loss: 0.4871 - val_accuracy: 0.8559\n",
      "Epoch 32/50\n",
      "50000/50000 [==============================] - 7s 138us/sample - loss: 0.2159 - accuracy: 0.9218 - val_loss: 0.4797 - val_accuracy: 0.8512\n",
      "Epoch 33/50\n",
      "50000/50000 [==============================] - 7s 135us/sample - loss: 0.2131 - accuracy: 0.9238 - val_loss: 0.5189 - val_accuracy: 0.8481\n",
      "Epoch 34/50\n",
      "50000/50000 [==============================] - 7s 136us/sample - loss: 0.2040 - accuracy: 0.9255 - val_loss: 0.4847 - val_accuracy: 0.8555\n",
      "Epoch 35/50\n",
      "50000/50000 [==============================] - 7s 133us/sample - loss: 0.2077 - accuracy: 0.9244 - val_loss: 0.4986 - val_accuracy: 0.8532\n",
      "Epoch 36/50\n",
      "50000/50000 [==============================] - 7s 130us/sample - loss: 0.2004 - accuracy: 0.9285 - val_loss: 0.5048 - val_accuracy: 0.8544\n",
      "Epoch 37/50\n",
      "50000/50000 [==============================] - 6s 130us/sample - loss: 0.1976 - accuracy: 0.9299 - val_loss: 0.4973 - val_accuracy: 0.8516\n",
      "Epoch 38/50\n",
      "50000/50000 [==============================] - 7s 132us/sample - loss: 0.1940 - accuracy: 0.9297 - val_loss: 0.4868 - val_accuracy: 0.8595\n",
      "Epoch 39/50\n",
      "50000/50000 [==============================] - 7s 133us/sample - loss: 0.1904 - accuracy: 0.9314 - val_loss: 0.5106 - val_accuracy: 0.8561\n",
      "Epoch 40/50\n",
      "50000/50000 [==============================] - 6s 128us/sample - loss: 0.1840 - accuracy: 0.9343 - val_loss: 0.5284 - val_accuracy: 0.8529\n",
      "Epoch 41/50\n",
      "50000/50000 [==============================] - 6s 130us/sample - loss: 0.1808 - accuracy: 0.9350 - val_loss: 0.5044 - val_accuracy: 0.8542\n",
      "Epoch 42/50\n",
      "50000/50000 [==============================] - 7s 130us/sample - loss: 0.1806 - accuracy: 0.9345 - val_loss: 0.4838 - val_accuracy: 0.8588\n",
      "Epoch 43/50\n",
      "50000/50000 [==============================] - 6s 129us/sample - loss: 0.1777 - accuracy: 0.9354 - val_loss: 0.4803 - val_accuracy: 0.8615\n",
      "Epoch 44/50\n",
      "50000/50000 [==============================] - 6s 129us/sample - loss: 0.1785 - accuracy: 0.9365 - val_loss: 0.5023 - val_accuracy: 0.8558\n",
      "Epoch 45/50\n",
      "50000/50000 [==============================] - 6s 129us/sample - loss: 0.1770 - accuracy: 0.9359 - val_loss: 0.5075 - val_accuracy: 0.8606\n",
      "Epoch 46/50\n",
      "50000/50000 [==============================] - 6s 129us/sample - loss: 0.1715 - accuracy: 0.9377 - val_loss: 0.5040 - val_accuracy: 0.8553\n",
      "Epoch 47/50\n",
      "50000/50000 [==============================] - 6s 129us/sample - loss: 0.1694 - accuracy: 0.9387 - val_loss: 0.5515 - val_accuracy: 0.8531\n",
      "Epoch 48/50\n",
      "50000/50000 [==============================] - 6s 128us/sample - loss: 0.1687 - accuracy: 0.9395 - val_loss: 0.4849 - val_accuracy: 0.8617\n",
      "Epoch 49/50\n",
      "50000/50000 [==============================] - 7s 131us/sample - loss: 0.1621 - accuracy: 0.9419 - val_loss: 0.5147 - val_accuracy: 0.8571\n",
      "Epoch 50/50\n",
      "50000/50000 [==============================] - 6s 128us/sample - loss: 0.1607 - accuracy: 0.9420 - val_loss: 0.5155 - val_accuracy: 0.8560\n"
     ]
    },
    {
     "ename": "NameError",
     "evalue": "name 'BATCH_SIZE' is not defined",
     "output_type": "error",
     "traceback": [
      "\u001b[1;31m---------------------------------------------------------------------------\u001b[0m",
      "\u001b[1;31mNameError\u001b[0m                                 Traceback (most recent call last)",
      "\u001b[1;32m<ipython-input-12-8745556a5b26>\u001b[0m in \u001b[0;36m<module>\u001b[1;34m\u001b[0m\n\u001b[0;32m      2\u001b[0m \u001b[0mbatch_size\u001b[0m \u001b[1;33m=\u001b[0m \u001b[1;36m64\u001b[0m\u001b[1;33m\u001b[0m\u001b[1;33m\u001b[0m\u001b[0m\n\u001b[0;32m      3\u001b[0m \u001b[0mmodel\u001b[0m\u001b[1;33m.\u001b[0m\u001b[0mfit\u001b[0m\u001b[1;33m(\u001b[0m\u001b[0mx_train\u001b[0m\u001b[1;33m,\u001b[0m \u001b[0my_train\u001b[0m\u001b[1;33m,\u001b[0m \u001b[0mbatch_size\u001b[0m\u001b[1;33m=\u001b[0m\u001b[0mbatch_size\u001b[0m\u001b[1;33m,\u001b[0m \u001b[0mepochs\u001b[0m\u001b[1;33m=\u001b[0m\u001b[0mEPOCHS\u001b[0m\u001b[1;33m,\u001b[0m \u001b[0mvalidation_data\u001b[0m\u001b[1;33m=\u001b[0m\u001b[1;33m(\u001b[0m\u001b[0mx_test\u001b[0m\u001b[1;33m,\u001b[0m \u001b[0my_test\u001b[0m\u001b[1;33m)\u001b[0m\u001b[1;33m)\u001b[0m\u001b[1;33m\u001b[0m\u001b[1;33m\u001b[0m\u001b[0m\n\u001b[1;32m----> 4\u001b[1;33m \u001b[0mscore\u001b[0m \u001b[1;33m=\u001b[0m \u001b[0mmodel\u001b[0m\u001b[1;33m.\u001b[0m\u001b[0mevaluate\u001b[0m\u001b[1;33m(\u001b[0m\u001b[0mx_test\u001b[0m\u001b[1;33m,\u001b[0m \u001b[0my_test\u001b[0m\u001b[1;33m,\u001b[0m \u001b[0mbatch_size\u001b[0m\u001b[1;33m=\u001b[0m\u001b[0mBATCH_SIZE\u001b[0m\u001b[1;33m)\u001b[0m\u001b[1;33m\u001b[0m\u001b[1;33m\u001b[0m\u001b[0m\n\u001b[0m\u001b[0;32m      5\u001b[0m \u001b[0mprint\u001b[0m\u001b[1;33m(\u001b[0m\u001b[1;34m'\\nTest score:'\u001b[0m\u001b[1;33m,\u001b[0m \u001b[0mscore\u001b[0m\u001b[1;33m[\u001b[0m\u001b[1;36m0\u001b[0m\u001b[1;33m]\u001b[0m\u001b[1;33m)\u001b[0m\u001b[1;33m\u001b[0m\u001b[1;33m\u001b[0m\u001b[0m\n\u001b[0;32m      6\u001b[0m \u001b[0mprint\u001b[0m\u001b[1;33m(\u001b[0m\u001b[1;34m'Test accuracy:'\u001b[0m\u001b[1;33m,\u001b[0m \u001b[0mscore\u001b[0m\u001b[1;33m[\u001b[0m\u001b[1;36m1\u001b[0m\u001b[1;33m]\u001b[0m\u001b[1;33m)\u001b[0m\u001b[1;33m\u001b[0m\u001b[1;33m\u001b[0m\u001b[0m\n",
      "\u001b[1;31mNameError\u001b[0m: name 'BATCH_SIZE' is not defined"
     ]
    }
   ],
   "source": [
    "# train\n",
    "batch_size = 64\n",
    "model.fit(x_train, y_train, batch_size=batch_size, epochs=EPOCHS, validation_data=(x_test, y_test))"
   ]
  },
  {
   "cell_type": "code",
   "execution_count": 14,
   "metadata": {
    "scrolled": true
   },
   "outputs": [
    {
     "name": "stdout",
     "output_type": "stream",
     "text": [
      "10000/10000 [==============================] - 1s 52us/sample - loss: 0.5155 - accuracy: 0.8560\n",
      "\n",
      "Test score: 0.5155008586883545\n",
      "Test accuracy: 0.856\n"
     ]
    }
   ],
   "source": [
    "score = model.evaluate(x_test, y_test, batch_size=batch_size)\n",
    "print('\\nTest score:', score[0])\n",
    "print('Test accuracy:', score[1])"
   ]
  },
  {
   "cell_type": "markdown",
   "metadata": {},
   "source": [
    "### Improving the CIFAR-10 performance with data augmentation"
   ]
  },
  {
   "cell_type": "markdown",
   "metadata": {},
   "source": [
    "Another way to improve the performance is to generate more images for our training. The idea here is that we can take the standard CIFAR training set and augment this set with multiple types of transformation, including rotation, rescaling, horizontal or vertical flip, zooming, channel shift, and many more."
   ]
  },
  {
   "cell_type": "code",
   "execution_count": 7,
   "metadata": {},
   "outputs": [],
   "source": [
    "from tensorflow.keras.preprocessing.image import ImageDataGenerator\n",
    "# image augmentation\n",
    "datagen = ImageDataGenerator(\n",
    "    rotation_range=30,\n",
    "    width_shift_range=0.2,\n",
    "    height_shift_range=0.2,\n",
    "    horizontal_flip=True\n",
    ")\n",
    "datagen.fit(x_train)"
   ]
  },
  {
   "cell_type": "markdown",
   "metadata": {},
   "source": [
    "**`rotation-ragne`** is a value in degrees (0-180) for randomly rotating pictures; **`width_shift`** and **`height_shift`** are ranges for randomly translating pictures vertically or horizontally. **`zoom_range`** is for randomly zooming pictures; **`horizontal_flip`** is for randomly flipping half of the images horizontally; and **`fill_mode`** is the strategy used for filling in new pixels that can appear after a rotation or a shift."
   ]
  },
  {
   "cell_type": "markdown",
   "metadata": {},
   "source": [
    "Now we can apply this intuition directly for training. For efficiency, the generator runs in parallel to the model. This allows image augmentation on a CPU while training in parallel on a GPU."
   ]
  },
  {
   "cell_type": "code",
   "execution_count": 9,
   "metadata": {},
   "outputs": [
    {
     "name": "stdout",
     "output_type": "stream",
     "text": [
      "WARNING:tensorflow:From <ipython-input-9-ce6151cd32e1>:3: Model.fit_generator (from tensorflow.python.keras.engine.training) is deprecated and will be removed in a future version.\n",
      "Instructions for updating:\n",
      "Please use Model.fit, which supports generators.\n",
      "WARNING:tensorflow:sample_weight modes were coerced from\n",
      "  ...\n",
      "    to  \n",
      "  ['...']\n",
      "Train for 782 steps, validate on 10000 samples\n",
      "Epoch 1/50\n",
      "782/782 [==============================] - 22s 29ms/step - loss: 2.1419 - accuracy: 0.3515 - val_loss: 1.5328 - val_accuracy: 0.4851\n",
      "Epoch 2/50\n",
      "782/782 [==============================] - 19s 24ms/step - loss: 1.5548 - accuracy: 0.4842 - val_loss: 1.4076 - val_accuracy: 0.5558\n",
      "Epoch 3/50\n",
      "782/782 [==============================] - 19s 24ms/step - loss: 1.2995 - accuracy: 0.5552 - val_loss: 1.0591 - val_accuracy: 0.6457\n",
      "Epoch 4/50\n",
      "782/782 [==============================] - 19s 24ms/step - loss: 1.1431 - accuracy: 0.6007 - val_loss: 1.0455 - val_accuracy: 0.6492\n",
      "Epoch 5/50\n",
      "782/782 [==============================] - 19s 24ms/step - loss: 1.0395 - accuracy: 0.6357 - val_loss: 0.9141 - val_accuracy: 0.6950\n",
      "Epoch 6/50\n",
      "782/782 [==============================] - 19s 24ms/step - loss: 0.9690 - accuracy: 0.6605 - val_loss: 0.8494 - val_accuracy: 0.7103\n",
      "Epoch 7/50\n",
      "782/782 [==============================] - 19s 24ms/step - loss: 0.9157 - accuracy: 0.6799 - val_loss: 0.7707 - val_accuracy: 0.7431\n",
      "Epoch 8/50\n",
      "782/782 [==============================] - 19s 24ms/step - loss: 0.8748 - accuracy: 0.6954 - val_loss: 0.7396 - val_accuracy: 0.7536\n",
      "Epoch 9/50\n",
      "782/782 [==============================] - 19s 24ms/step - loss: 0.8466 - accuracy: 0.7082 - val_loss: 0.8334 - val_accuracy: 0.7325\n",
      "Epoch 10/50\n",
      "782/782 [==============================] - 19s 24ms/step - loss: 0.8128 - accuracy: 0.7175 - val_loss: 0.7449 - val_accuracy: 0.7599\n",
      "Epoch 11/50\n",
      "782/782 [==============================] - 19s 24ms/step - loss: 0.7926 - accuracy: 0.7248 - val_loss: 0.7247 - val_accuracy: 0.7599\n",
      "Epoch 12/50\n",
      "782/782 [==============================] - 19s 25ms/step - loss: 0.7683 - accuracy: 0.7331 - val_loss: 0.6555 - val_accuracy: 0.7824\n",
      "Epoch 13/50\n",
      "782/782 [==============================] - 19s 25ms/step - loss: 0.7495 - accuracy: 0.7387 - val_loss: 0.6858 - val_accuracy: 0.7766\n",
      "Epoch 14/50\n",
      "782/782 [==============================] - 19s 24ms/step - loss: 0.7287 - accuracy: 0.7487 - val_loss: 0.7118 - val_accuracy: 0.7721\n",
      "Epoch 15/50\n",
      "782/782 [==============================] - 19s 24ms/step - loss: 0.7196 - accuracy: 0.7489 - val_loss: 0.6321 - val_accuracy: 0.7932\n",
      "Epoch 16/50\n",
      "782/782 [==============================] - 19s 25ms/step - loss: 0.7027 - accuracy: 0.7558 - val_loss: 0.6288 - val_accuracy: 0.7946\n",
      "Epoch 17/50\n",
      "782/782 [==============================] - 19s 24ms/step - loss: 0.6921 - accuracy: 0.7600 - val_loss: 0.6163 - val_accuracy: 0.7944\n",
      "Epoch 18/50\n",
      "782/782 [==============================] - 19s 24ms/step - loss: 0.6859 - accuracy: 0.7636 - val_loss: 0.6013 - val_accuracy: 0.8081\n",
      "Epoch 19/50\n",
      "782/782 [==============================] - 19s 24ms/step - loss: 0.6707 - accuracy: 0.7678 - val_loss: 0.5953 - val_accuracy: 0.8038\n",
      "Epoch 20/50\n",
      "782/782 [==============================] - 19s 24ms/step - loss: 0.6643 - accuracy: 0.7727 - val_loss: 0.5803 - val_accuracy: 0.8099\n",
      "Epoch 21/50\n",
      "782/782 [==============================] - 19s 24ms/step - loss: 0.6577 - accuracy: 0.7730 - val_loss: 0.6136 - val_accuracy: 0.8009\n",
      "Epoch 22/50\n",
      "782/782 [==============================] - 19s 24ms/step - loss: 0.6441 - accuracy: 0.7795 - val_loss: 0.5950 - val_accuracy: 0.8073\n",
      "Epoch 23/50\n",
      "782/782 [==============================] - 19s 24ms/step - loss: 0.6365 - accuracy: 0.7803 - val_loss: 0.6334 - val_accuracy: 0.7882\n",
      "Epoch 24/50\n",
      "782/782 [==============================] - 19s 24ms/step - loss: 0.6302 - accuracy: 0.7829 - val_loss: 0.6111 - val_accuracy: 0.8056\n",
      "Epoch 25/50\n",
      "782/782 [==============================] - 19s 24ms/step - loss: 0.6289 - accuracy: 0.7838 - val_loss: 0.6413 - val_accuracy: 0.7988\n",
      "Epoch 26/50\n",
      "782/782 [==============================] - 19s 24ms/step - loss: 0.6191 - accuracy: 0.7863 - val_loss: 0.6150 - val_accuracy: 0.7991\n",
      "Epoch 27/50\n",
      "782/782 [==============================] - 19s 24ms/step - loss: 0.6101 - accuracy: 0.7903 - val_loss: 0.5256 - val_accuracy: 0.8269\n",
      "Epoch 28/50\n",
      "782/782 [==============================] - 19s 24ms/step - loss: 0.6070 - accuracy: 0.7900 - val_loss: 0.5714 - val_accuracy: 0.8175\n",
      "Epoch 29/50\n",
      "782/782 [==============================] - 19s 24ms/step - loss: 0.6013 - accuracy: 0.7912 - val_loss: 0.5495 - val_accuracy: 0.8179\n",
      "Epoch 30/50\n",
      "782/782 [==============================] - 19s 24ms/step - loss: 0.5995 - accuracy: 0.7922 - val_loss: 0.5294 - val_accuracy: 0.8267\n",
      "Epoch 31/50\n",
      "782/782 [==============================] - 19s 24ms/step - loss: 0.5964 - accuracy: 0.7945 - val_loss: 0.5009 - val_accuracy: 0.8330\n",
      "Epoch 32/50\n",
      "782/782 [==============================] - 19s 24ms/step - loss: 0.5835 - accuracy: 0.7984 - val_loss: 0.5288 - val_accuracy: 0.8238\n",
      "Epoch 33/50\n",
      "782/782 [==============================] - 19s 24ms/step - loss: 0.5846 - accuracy: 0.7975 - val_loss: 0.6422 - val_accuracy: 0.8053\n",
      "Epoch 34/50\n",
      "782/782 [==============================] - 19s 24ms/step - loss: 0.5797 - accuracy: 0.7994 - val_loss: 0.5849 - val_accuracy: 0.8124\n",
      "Epoch 35/50\n",
      "782/782 [==============================] - 19s 24ms/step - loss: 0.5789 - accuracy: 0.7996 - val_loss: 0.4968 - val_accuracy: 0.8393\n",
      "Epoch 36/50\n",
      "782/782 [==============================] - 19s 24ms/step - loss: 0.5770 - accuracy: 0.8013 - val_loss: 0.6005 - val_accuracy: 0.8099\n",
      "Epoch 37/50\n",
      "782/782 [==============================] - 19s 24ms/step - loss: 0.5708 - accuracy: 0.8021 - val_loss: 0.5324 - val_accuracy: 0.8279\n",
      "Epoch 38/50\n",
      "782/782 [==============================] - 19s 24ms/step - loss: 0.5664 - accuracy: 0.8035 - val_loss: 0.5425 - val_accuracy: 0.8250\n",
      "Epoch 39/50\n",
      "782/782 [==============================] - 19s 24ms/step - loss: 0.5665 - accuracy: 0.8059 - val_loss: 0.5654 - val_accuracy: 0.8182\n",
      "Epoch 40/50\n",
      "782/782 [==============================] - 19s 24ms/step - loss: 0.5579 - accuracy: 0.8076 - val_loss: 0.5028 - val_accuracy: 0.8331\n",
      "Epoch 41/50\n",
      "782/782 [==============================] - 19s 24ms/step - loss: 0.5603 - accuracy: 0.8084 - val_loss: 0.5664 - val_accuracy: 0.8219\n",
      "Epoch 42/50\n",
      "782/782 [==============================] - 19s 24ms/step - loss: 0.5522 - accuracy: 0.8102 - val_loss: 0.5619 - val_accuracy: 0.8191\n",
      "Epoch 43/50\n",
      "782/782 [==============================] - 19s 24ms/step - loss: 0.5522 - accuracy: 0.8091 - val_loss: 0.5299 - val_accuracy: 0.8268\n",
      "Epoch 44/50\n",
      "782/782 [==============================] - 19s 24ms/step - loss: 0.5523 - accuracy: 0.8086 - val_loss: 0.4899 - val_accuracy: 0.8420\n",
      "Epoch 45/50\n",
      "782/782 [==============================] - 19s 24ms/step - loss: 0.5428 - accuracy: 0.8123 - val_loss: 0.5444 - val_accuracy: 0.8267\n",
      "Epoch 46/50\n",
      "782/782 [==============================] - 19s 25ms/step - loss: 0.5407 - accuracy: 0.8122 - val_loss: 0.4751 - val_accuracy: 0.8415\n",
      "Epoch 47/50\n",
      "782/782 [==============================] - 19s 24ms/step - loss: 0.5394 - accuracy: 0.8134 - val_loss: 0.5756 - val_accuracy: 0.8219\n",
      "Epoch 48/50\n",
      "782/782 [==============================] - 19s 24ms/step - loss: 0.5351 - accuracy: 0.8141 - val_loss: 0.4742 - val_accuracy: 0.8467\n",
      "Epoch 49/50\n",
      "782/782 [==============================] - 19s 24ms/step - loss: 0.5374 - accuracy: 0.8132 - val_loss: 0.4777 - val_accuracy: 0.8430\n",
      "Epoch 50/50\n",
      "782/782 [==============================] - 19s 25ms/step - loss: 0.5296 - accuracy: 0.8174 - val_loss: 0.5647 - val_accuracy: 0.8252\n"
     ]
    },
    {
     "data": {
      "text/plain": [
       "<tensorflow.python.keras.callbacks.History at 0x24e8df01a88>"
      ]
     },
     "execution_count": 9,
     "metadata": {},
     "output_type": "execute_result"
    }
   ],
   "source": [
    "# train\n",
    "batch_size = 64\n",
    "model.fit_generator(datagen.flow(x_train, y_train, batch_size=batch_size), epochs=EPOCHS, verbose=1, validation_data=(x_test, y_test))"
   ]
  },
  {
   "cell_type": "code",
   "execution_count": 16,
   "metadata": {},
   "outputs": [],
   "source": [
    "# save to disk\n",
    "model_json = model.to_json()\n",
    "with open('./models/cifar10_architecture.json', 'w') as json_file:\n",
    "    json_file.write(model_json)\n",
    "model.save_weights('./models/cifar10_weights.h5')"
   ]
  },
  {
   "cell_type": "code",
   "execution_count": 11,
   "metadata": {},
   "outputs": [
    {
     "name": "stdout",
     "output_type": "stream",
     "text": [
      "10000/10000 [==============================] - 1s 53us/sample - loss: 0.5647 - accuracy: 0.8252\n",
      "\n",
      "Test result: 82.520 loss: 0.565\n"
     ]
    }
   ],
   "source": [
    "#test\n",
    "scores = model.evaluate(x_test, y_test, batch_size=128, verbose=1)\n",
    "print('\\nTest result: %.3f loss: %.3f' % (scores[1]*100, scores[0]))"
   ]
  },
  {
   "cell_type": "markdown",
   "metadata": {},
   "source": [
    "A list of state-of-the-art results for CIFAR-10 is available online (http://rodrigob.github.io/are_we_there_yet/build/classification_datasets_results.html). As of April 2019, the best result has an accuracy of 96.53%."
   ]
  },
  {
   "cell_type": "markdown",
   "metadata": {},
   "source": [
    "### Predicting with CIFAR-10"
   ]
  },
  {
   "cell_type": "markdown",
   "metadata": {},
   "source": [
    "Let's suppose the we want to use the deep learning model we just trained for CIFAR-10 for a bulk evaluation of images."
   ]
  },
  {
   "cell_type": "code",
   "execution_count": 14,
   "metadata": {},
   "outputs": [],
   "source": [
    "import numpy as np\n",
    "from skimage.transform import resize\n",
    "from imageio import imread\n",
    "from tensorflow.keras.models import model_from_json\n",
    "from tensorflow.keras.optimizers import SGD"
   ]
  },
  {
   "cell_type": "code",
   "execution_count": 18,
   "metadata": {},
   "outputs": [],
   "source": [
    "# load model\n",
    "model_architecture = './models/cifar10_architecture.json'\n",
    "model_weights = './models/cifar10_weights.h5'\n",
    "model = model_from_json(open(model_architecture).read())\n",
    "model.load_weights(model_weights)"
   ]
  },
  {
   "cell_type": "code",
   "execution_count": 21,
   "metadata": {},
   "outputs": [
    {
     "name": "stdout",
     "output_type": "stream",
     "text": [
      "imgs.shape: (2, 32, 32, 3)\n"
     ]
    }
   ],
   "source": [
    "# load images\n",
    "dir = 'D:/project_minor/python/golbin2/DeepLearningWithTensorflowAndKeras/sources/Chapter 4/'\n",
    "img_names = [dir+'cat-standing.jpg', dir+'dog.jpg']\n",
    "imgs = [resize(imread(img_name), (32, 32)).astype('float32') for img_name in img_names]\n",
    "imgs = np.array(imgs) / 255\n",
    "print('imgs.shape:', imgs.shape)"
   ]
  },
  {
   "cell_type": "code",
   "execution_count": 22,
   "metadata": {},
   "outputs": [],
   "source": [
    "# train\n",
    "optim = SGD()\n",
    "model.compile(loss='categorical_crossentropy', optimizer=optim, metrics=['accuracy'])"
   ]
  },
  {
   "cell_type": "code",
   "execution_count": 23,
   "metadata": {},
   "outputs": [
    {
     "name": "stdout",
     "output_type": "stream",
     "text": [
      "predictions: [0 0]\n"
     ]
    }
   ],
   "source": [
    "# predict\n",
    "predictions = model.predict_classes(imgs)\n",
    "print('predictions:', predictions)"
   ]
  },
  {
   "cell_type": "markdown",
   "metadata": {},
   "source": [
    "## Very deep convolutional networks for large-scale image recognition"
   ]
  },
  {
   "cell_type": "markdown",
   "metadata": {},
   "source": [
    "the ImageNet ILSVRC-2012 ( http://image-net.org/challenges/LSVRC/2012/ ) dataset, which includes images of 1,000 classes, and is split into three sets: training (1.3 million images), validation (50,000 images), and testing (100,000 images). Each image is (224×224) on 3 channels. The model achieves 7.5% top-5 error on ILSVRC-2012-val, 7.4% top-5 error on ILSVRC-2012-test."
   ]
  },
  {
   "cell_type": "code",
   "execution_count": 1,
   "metadata": {},
   "outputs": [],
   "source": [
    "import tensorflow as tf\n",
    "from tensorflow.keras import layers, models"
   ]
  },
  {
   "cell_type": "code",
   "execution_count": 34,
   "metadata": {},
   "outputs": [],
   "source": [
    "# define a VGG16 network\n",
    "def VGG_16(weights_path=None):\n",
    "    model = models.Sequential()\n",
    "    model.add(layers.ZeroPadding2D((1,1), input_shape=(244,244,3)))\n",
    "    model.add(layers.Convolution2D(64, (3,3), activation='relu'))\n",
    "    model.add(layers.ZeroPadding2D((1,1)))\n",
    "    model.add(layers.Convolution2D(64, (3,3), activation='relu'))\n",
    "    model.add(layers.MaxPooling2D((2,2), strides=(2,2)))\n",
    "    \n",
    "    model.add(layers.ZeroPadding2D((1,1)))\n",
    "    model.add(layers.Convolution2D(128, (3,3), activation='relu'))\n",
    "    model.add(layers.ZeroPadding2D((1,1)))\n",
    "    model.add(layers.Convolution2D(128, (3,3), activation='relu'))\n",
    "    model.add(layers.MaxPooling2D((2,2), strides=(2,2)))\n",
    "    \n",
    "    model.add(layers.ZeroPadding2D((1,1)))\n",
    "    model.add(layers.Convolution2D(256, (3,3), activation='relu'))\n",
    "    model.add(layers.ZeroPadding2D((1,1)))\n",
    "    model.add(layers.Convolution2D(256, (3,3), activation='relu'))\n",
    "    model.add(layers.ZeroPadding2D((1,1)))\n",
    "    model.add(layers.Convolution2D(256, (3,3), activation='relu'))\n",
    "    model.add(layers.MaxPooling2D((2,2), strides=(2,2)))\n",
    "    \n",
    "    model.add(layers.ZeroPadding2D((1,1)))\n",
    "    model.add(layers.Convolution2D(512, (3,3), activation='relu'))\n",
    "    model.add(layers.ZeroPadding2D((1,1)))\n",
    "    model.add(layers.Convolution2D(512, (3,3), activation='relu'))\n",
    "    model.add(layers.ZeroPadding2D((1,1)))\n",
    "    model.add(layers.Convolution2D(512, (3,3), activation='relu'))\n",
    "    model.add(layers.MaxPooling2D((2,2), strides=(2,2)))\n",
    "    \n",
    "    model.add(layers.ZeroPadding2D((1,1)))\n",
    "    model.add(layers.Convolution2D(512, (3,3), activation='relu'))\n",
    "    model.add(layers.ZeroPadding2D((1,1)))\n",
    "    model.add(layers.Convolution2D(512, (3,3), activation='relu'))\n",
    "    model.add(layers.ZeroPadding2D((1,1)))\n",
    "    model.add(layers.Convolution2D(512, (3,3), activation='relu'))\n",
    "    model.add(layers.MaxPooling2D((2,2), strides=(2,2)))\n",
    "    \n",
    "    model.add(layers.Flatten())\n",
    "    # top layer of the VGG net\n",
    "    model.add(layers.Dense(4096, activation='relu'))\n",
    "    model.add(layers.Dropout(0.5))\n",
    "    model.add(layers.Dense(4096, activation='relu'))\n",
    "    model.add(layers.Dropout(0.5))\n",
    "    model.add(layers.Dense(1000, activation='softmax'))\n",
    "    \n",
    "    if weights_path:\n",
    "        model.load_weights(weights_path)\n",
    "    return model"
   ]
  },
  {
   "cell_type": "markdown",
   "metadata": {},
   "source": [
    "We have implemented a VGG16. Next, we are going to utilize it."
   ]
  },
  {
   "cell_type": "markdown",
   "metadata": {},
   "source": [
    "### Recognizing cats with a VGG16 Net"
   ]
  },
  {
   "cell_type": "markdown",
   "metadata": {},
   "source": [
    "Now let us test the image of a cat.  \n",
    "Note that we are going to use predefined weights"
   ]
  },
  {
   "cell_type": "code",
   "execution_count": 14,
   "metadata": {},
   "outputs": [],
   "source": [
    "import cv2\n",
    "import numpy as np\n",
    "import os"
   ]
  },
  {
   "cell_type": "code",
   "execution_count": 38,
   "metadata": {},
   "outputs": [],
   "source": [
    "dir = dir = 'D:/project_minor/python/golbin2/DeepLearningWithTensorflowAndKeras/sources/Chapter 4/'\n",
    "im = cv2.resize(cv2.imread(dir + 'cat.jpg'), (244, 244)).astype(np.float32)"
   ]
  },
  {
   "cell_type": "code",
   "execution_count": 39,
   "metadata": {},
   "outputs": [],
   "source": [
    "#im = im.transpose((2, 0, 1))\n",
    "im = np.expand_dims(im, axis=0)"
   ]
  },
  {
   "cell_type": "code",
   "execution_count": 31,
   "metadata": {},
   "outputs": [],
   "source": [
    "# Test pretrained model\n",
    "path_file = 'D:/project_minor/python/golbin2/DeepLearningWithTensorflowAndKeras/sources/Chapter 4/vgg16/vgg16_weights_tf_dim_ordering_tf_kernels.h5'"
   ]
  },
  {
   "cell_type": "code",
   "execution_count": 35,
   "metadata": {},
   "outputs": [],
   "source": [
    "model = VGG_16(path_file)"
   ]
  },
  {
   "cell_type": "code",
   "execution_count": 36,
   "metadata": {},
   "outputs": [
    {
     "name": "stdout",
     "output_type": "stream",
     "text": [
      "Model: \"sequential_3\"\n",
      "_________________________________________________________________\n",
      "Layer (type)                 Output Shape              Param #   \n",
      "=================================================================\n",
      "zero_padding2d_22 (ZeroPaddi (None, 246, 246, 3)       0         \n",
      "_________________________________________________________________\n",
      "conv2d_22 (Conv2D)           (None, 244, 244, 64)      1792      \n",
      "_________________________________________________________________\n",
      "zero_padding2d_23 (ZeroPaddi (None, 246, 246, 64)      0         \n",
      "_________________________________________________________________\n",
      "conv2d_23 (Conv2D)           (None, 244, 244, 64)      36928     \n",
      "_________________________________________________________________\n",
      "max_pooling2d_10 (MaxPooling (None, 122, 122, 64)      0         \n",
      "_________________________________________________________________\n",
      "zero_padding2d_24 (ZeroPaddi (None, 124, 124, 64)      0         \n",
      "_________________________________________________________________\n",
      "conv2d_24 (Conv2D)           (None, 122, 122, 128)     73856     \n",
      "_________________________________________________________________\n",
      "zero_padding2d_25 (ZeroPaddi (None, 124, 124, 128)     0         \n",
      "_________________________________________________________________\n",
      "conv2d_25 (Conv2D)           (None, 122, 122, 128)     147584    \n",
      "_________________________________________________________________\n",
      "max_pooling2d_11 (MaxPooling (None, 61, 61, 128)       0         \n",
      "_________________________________________________________________\n",
      "zero_padding2d_26 (ZeroPaddi (None, 63, 63, 128)       0         \n",
      "_________________________________________________________________\n",
      "conv2d_26 (Conv2D)           (None, 61, 61, 256)       295168    \n",
      "_________________________________________________________________\n",
      "zero_padding2d_27 (ZeroPaddi (None, 63, 63, 256)       0         \n",
      "_________________________________________________________________\n",
      "conv2d_27 (Conv2D)           (None, 61, 61, 256)       590080    \n",
      "_________________________________________________________________\n",
      "zero_padding2d_28 (ZeroPaddi (None, 63, 63, 256)       0         \n",
      "_________________________________________________________________\n",
      "conv2d_28 (Conv2D)           (None, 61, 61, 256)       590080    \n",
      "_________________________________________________________________\n",
      "max_pooling2d_12 (MaxPooling (None, 30, 30, 256)       0         \n",
      "_________________________________________________________________\n",
      "zero_padding2d_29 (ZeroPaddi (None, 32, 32, 256)       0         \n",
      "_________________________________________________________________\n",
      "conv2d_29 (Conv2D)           (None, 30, 30, 512)       1180160   \n",
      "_________________________________________________________________\n",
      "zero_padding2d_30 (ZeroPaddi (None, 32, 32, 512)       0         \n",
      "_________________________________________________________________\n",
      "conv2d_30 (Conv2D)           (None, 30, 30, 512)       2359808   \n",
      "_________________________________________________________________\n",
      "zero_padding2d_31 (ZeroPaddi (None, 32, 32, 512)       0         \n",
      "_________________________________________________________________\n",
      "conv2d_31 (Conv2D)           (None, 30, 30, 512)       2359808   \n",
      "_________________________________________________________________\n",
      "max_pooling2d_13 (MaxPooling (None, 15, 15, 512)       0         \n",
      "_________________________________________________________________\n",
      "zero_padding2d_32 (ZeroPaddi (None, 17, 17, 512)       0         \n",
      "_________________________________________________________________\n",
      "conv2d_32 (Conv2D)           (None, 15, 15, 512)       2359808   \n",
      "_________________________________________________________________\n",
      "zero_padding2d_33 (ZeroPaddi (None, 17, 17, 512)       0         \n",
      "_________________________________________________________________\n",
      "conv2d_33 (Conv2D)           (None, 15, 15, 512)       2359808   \n",
      "_________________________________________________________________\n",
      "zero_padding2d_34 (ZeroPaddi (None, 17, 17, 512)       0         \n",
      "_________________________________________________________________\n",
      "conv2d_34 (Conv2D)           (None, 15, 15, 512)       2359808   \n",
      "_________________________________________________________________\n",
      "max_pooling2d_14 (MaxPooling (None, 7, 7, 512)         0         \n",
      "_________________________________________________________________\n",
      "flatten_2 (Flatten)          (None, 25088)             0         \n",
      "_________________________________________________________________\n",
      "dense_6 (Dense)              (None, 4096)              102764544 \n",
      "_________________________________________________________________\n",
      "dropout_4 (Dropout)          (None, 4096)              0         \n",
      "_________________________________________________________________\n",
      "dense_7 (Dense)              (None, 4096)              16781312  \n",
      "_________________________________________________________________\n",
      "dropout_5 (Dropout)          (None, 4096)              0         \n",
      "_________________________________________________________________\n",
      "dense_8 (Dense)              (None, 1000)              4097000   \n",
      "=================================================================\n",
      "Total params: 138,357,544\n",
      "Trainable params: 138,357,544\n",
      "Non-trainable params: 0\n",
      "_________________________________________________________________\n"
     ]
    }
   ],
   "source": [
    "model.summary()"
   ]
  },
  {
   "cell_type": "code",
   "execution_count": 40,
   "metadata": {},
   "outputs": [
    {
     "name": "stdout",
     "output_type": "stream",
     "text": [
      "285\n"
     ]
    }
   ],
   "source": [
    "model.compile(optimizer='sgd', loss='categorical_crossentropy')\n",
    "out = model.predict(im)\n",
    "print(np.argmax(out))"
   ]
  },
  {
   "cell_type": "markdown",
   "metadata": {},
   "source": [
    "When the code is executed, the class 285 is returned, which corresponds to \"Egyptiam cat\"\n",
    "(https://gist.github.com/yrevar/942d3a0ac09ec9e5eb3a)"
   ]
  },
  {
   "cell_type": "markdown",
   "metadata": {},
   "source": [
    "## Utilizing tf.keras built-in VGG16 Net module"
   ]
  },
  {
   "cell_type": "markdown",
   "metadata": {},
   "source": [
    "**`tf.keras`** applications are prebuilt and pretrained deep learning models. Weights are downloaded automatically when instantiating a model and stored at **`~/.keras/models/~`**. Using built-in code is very easy:"
   ]
  },
  {
   "cell_type": "code",
   "execution_count": 21,
   "metadata": {},
   "outputs": [],
   "source": [
    "import tensorflow as tf\n",
    "from tensorflow.keras.applications.vgg16 import VGG16\n",
    "import matplotlib.pyplot as plt\n",
    "import numpy as np\n",
    "import cv2"
   ]
  },
  {
   "cell_type": "code",
   "execution_count": 23,
   "metadata": {},
   "outputs": [
    {
     "name": "stdout",
     "output_type": "stream",
     "text": [
      "Downloading data from https://github.com/fchollet/deep-learning-models/releases/download/v0.1/vgg16_weights_tf_dim_ordering_tf_kernels.h5\n",
      "553467904/553467096 [==============================] - 167s 0us/step\n"
     ]
    }
   ],
   "source": [
    "# prebuild model with pre-trained weights on imagenet\n",
    "model = VGG16(weights='imagenet', include_top=True)"
   ]
  },
  {
   "cell_type": "code",
   "execution_count": 24,
   "metadata": {},
   "outputs": [],
   "source": [
    "model.compile(optimizer='sgd', loss='categorical_crossentropy')"
   ]
  },
  {
   "cell_type": "code",
   "execution_count": 27,
   "metadata": {},
   "outputs": [
    {
     "data": {
      "text/plain": [
       "array([[[[159., 148., 146.],\n",
       "         [170., 156., 149.],\n",
       "         [169., 150., 144.],\n",
       "         ...,\n",
       "         [159., 139., 122.],\n",
       "         [155., 136., 119.],\n",
       "         [160., 140., 123.]],\n",
       "\n",
       "        [[163., 151., 147.],\n",
       "         [193., 178., 171.],\n",
       "         [190., 171., 164.],\n",
       "         ...,\n",
       "         [155., 132., 116.],\n",
       "         [158., 133., 117.],\n",
       "         [158., 134., 118.]],\n",
       "\n",
       "        [[166., 153., 144.],\n",
       "         [163., 148., 140.],\n",
       "         [174., 157., 148.],\n",
       "         ...,\n",
       "         [158., 135., 117.],\n",
       "         [153., 127., 111.],\n",
       "         [159., 135., 119.]],\n",
       "\n",
       "        ...,\n",
       "\n",
       "        [[ 91.,  99., 106.],\n",
       "         [ 48.,  60.,  63.],\n",
       "         [ 33.,  32.,  38.],\n",
       "         ...,\n",
       "         [132., 123., 132.],\n",
       "         [169., 168., 172.],\n",
       "         [158., 153., 158.]],\n",
       "\n",
       "        [[  8.,  10.,  18.],\n",
       "         [ 18.,  15.,  23.],\n",
       "         [  0.,   2.,   7.],\n",
       "         ...,\n",
       "         [161., 157., 162.],\n",
       "         [168., 158., 164.],\n",
       "         [157., 146., 152.]],\n",
       "\n",
       "        [[105., 105., 120.],\n",
       "         [ 42.,  44.,  57.],\n",
       "         [115., 121., 131.],\n",
       "         ...,\n",
       "         [134., 130., 135.],\n",
       "         [154., 148., 153.],\n",
       "         [168., 162., 167.]]]], dtype=float32)"
      ]
     },
     "execution_count": 27,
     "metadata": {},
     "output_type": "execute_result"
    }
   ],
   "source": [
    "# resize into VGG16 trained images' format\n",
    "dir = 'D:/project_minor/python/golbin2/DeepLearningWithTensorflowAndKeras/sources/Chapter 4/'\n",
    "im = cv2.resize(cv2.imread(dir + 'steam-locomotive.jpg'), (224, 224))\n",
    "im = np.expand_dims(im, axis=0)\n",
    "im.astype(np.float32)"
   ]
  },
  {
   "cell_type": "code",
   "execution_count": 29,
   "metadata": {},
   "outputs": [
    {
     "name": "stdout",
     "output_type": "stream",
     "text": [
      "820\n"
     ]
    },
    {
     "data": {
      "image/png": "[encoded data removed]",
      "text/plain": [
       "<Figure size 432x288 with 1 Axes>"
      ]
     },
     "metadata": {
      "needs_background": "light"
     },
     "output_type": "display_data"
    }
   ],
   "source": [
    "# predict\n",
    "out = model.predict(im)\n",
    "index = np.argmax(out)\n",
    "print(index)\n",
    "plt.plot(out.ravel())\n",
    "plt.show()\n",
    "# this should print 820 for steaming train"
   ]
  },
  {
   "cell_type": "markdown",
   "metadata": {},
   "source": [
    "All the other classes have very weak support, as shown in the preceding figure  \n",
    "VGG16 is only one of the modules that is prebuilt in **`tf.keras`**. A full list of pretrained models is available online (https://www.tensorflow.org/api_docs/python/tf/keras/applications).\n"
   ]
  },
  {
   "cell_type": "markdown",
   "metadata": {},
   "source": [
    "## Recycling prebuilt deep learning models for extracting features"
   ]
  },
  {
   "cell_type": "markdown",
   "metadata": {},
   "source": [
    "One very simple idea is to use VGG16, and more generally DCNN, for feature extraction. This code implements the idea by extracting features from a specific layer. Note that we need to switch to the functional API since the sequential model only accepts layers:"
   ]
  },
  {
   "cell_type": "code",
   "execution_count": 42,
   "metadata": {},
   "outputs": [],
   "source": [
    "import tensorflow as tf\n",
    "from tensorflow.keras.applications.vgg16 import VGG16\n",
    "from tensorflow.keras import models\n",
    "from tensorflow.keras.preprocessing import image\n",
    "from tensorflow.keras.applications.vgg16 import preprocess_input\n",
    "import numpy as np\n",
    "import cv2"
   ]
  },
  {
   "cell_type": "code",
   "execution_count": 43,
   "metadata": {},
   "outputs": [
    {
     "name": "stdout",
     "output_type": "stream",
     "text": [
      "<tensorflow.python.keras.engine.training.Model object at 0x000002514EF67708>\n"
     ]
    }
   ],
   "source": [
    "# prebuild model with pre-trained weights on imagenet\n",
    "base_model = VGG16(weights='imagenet', include_top=True)\n",
    "print(base_model)"
   ]
  },
  {
   "cell_type": "code",
   "execution_count": 44,
   "metadata": {},
   "outputs": [
    {
     "name": "stdout",
     "output_type": "stream",
     "text": [
      "0 input_3 [(None, 224, 224, 3)]\n",
      "1 block1_conv1 (None, 224, 224, 64)\n",
      "2 block1_conv2 (None, 224, 224, 64)\n",
      "3 block1_pool (None, 112, 112, 64)\n",
      "4 block2_conv1 (None, 112, 112, 128)\n",
      "5 block2_conv2 (None, 112, 112, 128)\n",
      "6 block2_pool (None, 56, 56, 128)\n",
      "7 block3_conv1 (None, 56, 56, 256)\n",
      "8 block3_conv2 (None, 56, 56, 256)\n",
      "9 block3_conv3 (None, 56, 56, 256)\n",
      "10 block3_pool (None, 28, 28, 256)\n",
      "11 block4_conv1 (None, 28, 28, 512)\n",
      "12 block4_conv2 (None, 28, 28, 512)\n",
      "13 block4_conv3 (None, 28, 28, 512)\n",
      "14 block4_pool (None, 14, 14, 512)\n",
      "15 block5_conv1 (None, 14, 14, 512)\n",
      "16 block5_conv2 (None, 14, 14, 512)\n",
      "17 block5_conv3 (None, 14, 14, 512)\n",
      "18 block5_pool (None, 7, 7, 512)\n",
      "19 flatten (None, 25088)\n",
      "20 fc1 (None, 4096)\n",
      "21 fc2 (None, 4096)\n",
      "22 predictions (None, 1000)\n"
     ]
    }
   ],
   "source": [
    "for i, layer in enumerate(base_model.layers):\n",
    "    print(i, layer.name, layer.output_shape)"
   ]
  },
  {
   "cell_type": "code",
   "execution_count": 47,
   "metadata": {},
   "outputs": [],
   "source": [
    "# extract features from block4_pool block\n",
    "model = models.Model(inputs=base_model.input, outputs=base_model.get_layer('block4_pool').output)\n",
    "dir = 'D:/project_minor/python/golbin2/DeepLearningWithTensorflowAndKeras/sources/Chapter 4/'\n",
    "img_path = dir + 'cat.jpg'\n",
    "img = image.load_img(img_path, target_size=(224, 224))"
   ]
  },
  {
   "cell_type": "code",
   "execution_count": 48,
   "metadata": {
    "scrolled": true
   },
   "outputs": [
    {
     "data": {
      "image/png": "[encoded data removed]",
      "text/plain": [
       "<PIL.Image.Image image mode=RGB size=224x224 at 0x24FE6B32E88>"
      ]
     },
     "execution_count": 48,
     "metadata": {},
     "output_type": "execute_result"
    }
   ],
   "source": [
    "img"
   ]
  },
  {
   "cell_type": "code",
   "execution_count": 53,
   "metadata": {},
   "outputs": [],
   "source": [
    "x = image.img_to_array(img)"
   ]
  },
  {
   "cell_type": "code",
   "execution_count": 54,
   "metadata": {},
   "outputs": [
    {
     "data": {
      "text/plain": [
       "(224, 224, 3)"
      ]
     },
     "execution_count": 54,
     "metadata": {},
     "output_type": "execute_result"
    }
   ],
   "source": [
    "x.shape"
   ]
  },
  {
   "cell_type": "code",
   "execution_count": 55,
   "metadata": {},
   "outputs": [],
   "source": [
    "x = np.expand_dims(x, axis=0)"
   ]
  },
  {
   "cell_type": "code",
   "execution_count": 56,
   "metadata": {},
   "outputs": [
    {
     "data": {
      "text/plain": [
       "(1, 224, 224, 3)"
      ]
     },
     "execution_count": 56,
     "metadata": {},
     "output_type": "execute_result"
    }
   ],
   "source": [
    "x.shape"
   ]
  },
  {
   "cell_type": "code",
   "execution_count": 57,
   "metadata": {},
   "outputs": [],
   "source": [
    "x = preprocess_input(x)"
   ]
  },
  {
   "cell_type": "code",
   "execution_count": 60,
   "metadata": {},
   "outputs": [
    {
     "name": "stdout",
     "output_type": "stream",
     "text": [
      "[[[[  0.         0.        39.127655 ...   0.         0.\n",
      "      0.      ]\n",
      "   [  0.         0.         0.       ...   0.       261.40973\n",
      "      0.      ]\n",
      "   [  0.         0.         0.       ...   0.       376.41425\n",
      "      0.      ]\n",
      "   ...\n",
      "   [  0.         0.         0.       ...   0.       175.46494\n",
      "      0.      ]\n",
      "   [  0.         0.        32.00825  ...   0.         0.\n",
      "      0.      ]\n",
      "   [  0.         0.        76.28149  ...   0.         0.\n",
      "      0.      ]]\n",
      "\n",
      "  [[  0.         0.         0.       ...   0.        50.92023\n",
      "      0.      ]\n",
      "   [  0.         0.        44.452904 ...   0.       123.95452\n",
      "      0.      ]\n",
      "   [  0.         0.        27.892153 ...   0.       573.44165\n",
      "      0.      ]\n",
      "   ...\n",
      "   [  0.         0.         0.       ...   0.       683.4282\n",
      "      0.      ]\n",
      "   [  0.         0.         0.       ...   0.        18.34751\n",
      "      0.      ]\n",
      "   [  0.         0.        60.561913 ...   0.         0.\n",
      "      0.      ]]\n",
      "\n",
      "  [[  0.         0.        27.617643 ...   0.         0.\n",
      "      0.      ]\n",
      "   [  0.       372.48425    0.       ...  29.134195   0.\n",
      "      0.      ]\n",
      "   [  0.        34.772655 105.49562  ...   0.         0.\n",
      "      0.      ]\n",
      "   ...\n",
      "   [  0.         0.         0.       ...   0.       823.46704\n",
      "      0.      ]\n",
      "   [  0.         0.         0.       ...   0.        95.23555\n",
      "      0.      ]\n",
      "   [  0.         0.        20.0432   ...   0.         0.\n",
      "      0.      ]]\n",
      "\n",
      "  ...\n",
      "\n",
      "  [[  0.         0.         0.       ...   0.        58.513058\n",
      "      0.      ]\n",
      "   [  0.         0.         0.       ...   0.         0.\n",
      "      0.      ]\n",
      "   [  0.         0.         0.       ...   0.         0.\n",
      "      0.      ]\n",
      "   ...\n",
      "   [  0.         0.         0.       ...   0.       376.7513\n",
      "      0.      ]\n",
      "   [  0.         0.         0.       ...   0.         0.\n",
      "      0.      ]\n",
      "   [  0.         0.         9.00437  ...   0.         0.\n",
      "      0.      ]]\n",
      "\n",
      "  [[  0.         0.         0.       ...   0.       112.54091\n",
      "      0.      ]\n",
      "   [  0.         0.         0.       ...   0.        48.29862\n",
      "      0.      ]\n",
      "   [  0.         0.         0.       ...   0.         0.\n",
      "      0.      ]\n",
      "   ...\n",
      "   [  0.         0.         0.       ...   0.       340.15564\n",
      "      0.      ]\n",
      "   [  0.         0.         0.       ...   0.         0.\n",
      "      0.      ]\n",
      "   [  0.         0.         0.       ...   0.         0.\n",
      "      0.      ]]\n",
      "\n",
      "  [[  0.         0.        33.47351  ...   0.        89.46333\n",
      "      0.      ]\n",
      "   [  0.         0.         0.       ...   0.       169.87428\n",
      "      0.      ]\n",
      "   [  0.         0.         0.       ...   0.         0.\n",
      "      0.      ]\n",
      "   ...\n",
      "   [  0.         0.         0.       ...   0.       142.92583\n",
      "      0.      ]\n",
      "   [  0.         0.         0.       ...   0.        14.979053\n",
      "      0.      ]\n",
      "   [  0.         0.        51.72882  ...   0.         0.\n",
      "      0.      ]]]]\n"
     ]
    }
   ],
   "source": [
    "# get the features from this block\n",
    "features = model.predict(x)\n",
    "print(features)"
   ]
  },
  {
   "cell_type": "markdown",
   "metadata": {},
   "source": [
    "You might wonder why we wnat to extract the features from an intermediate layer in a DCNN. The reasoning is that as the network learns to classify images into categories, each layer learns to identify the features that are necessary to perform the final classification. Lower layers identify lower-order features such as color and edges, and higher layers compose these lower-order features into higher-order features such as shapes or objects. Hence, the intermediate layer has the capability to extract important features from an image, and these features are more likely to help in different kinds of classification.  \n",
    "This has multiple advantages. Fist, we can rely on publicly available large-scale training and transfer this learning to novel domains. Second, we can save time for expensive large training. Third, we can provide reasonable solutions even when we don't have a large number of training examples for our domain. We also get a good starting network shape for the task at hand, instead of guessing it."
   ]
  }
 ],
 "metadata": {
  "kernelspec": {
   "display_name": "Python 3",
   "language": "python",
   "name": "python3"
  },
  "language_info": {
   "codemirror_mode": {
    "name": "ipython",
    "version": 3
   },
   "file_extension": ".py",
   "mimetype": "text/x-python",
   "name": "python",
   "nbconvert_exporter": "python",
   "pygments_lexer": "ipython3",
   "version": "3.7.7"
  }
 },
 "nbformat": 4,
 "nbformat_minor": 4
}
