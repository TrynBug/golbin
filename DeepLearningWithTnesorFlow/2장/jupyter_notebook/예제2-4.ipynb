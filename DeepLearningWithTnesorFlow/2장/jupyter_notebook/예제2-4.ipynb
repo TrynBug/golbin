{
 "cells": [
  {
   "cell_type": "code",
   "execution_count": 5,
   "metadata": {
    "colab": {},
    "colab_type": "code",
    "id": "GL2amJB36V9_"
   },
   "outputs": [],
   "source": [
    "import io\n",
    "import pandas as pd\n",
    "import numpy as np\n",
    "import tensorflow as tf\n",
    "import tensorflow as tf\n",
    "from tensorflow import keras\n",
    "from tensorflow.keras import layers\n",
    "import random"
   ]
  },
  {
   "cell_type": "code",
   "execution_count": 6,
   "metadata": {
    "colab": {},
    "colab_type": "code",
    "id": "aVSVm0gg6VLY"
   },
   "outputs": [],
   "source": [
    "infert = pd.read_csv('infert.csv')\n",
    "X_data = infert[[\"parity\", \"induced\", \"spontaneous\"]]\n",
    "y_data = infert[\"case\"]"
   ]
  },
  {
   "cell_type": "code",
   "execution_count": 7,
   "metadata": {
    "colab": {},
    "colab_type": "code",
    "id": "QWDtrG9R7bXA"
   },
   "outputs": [],
   "source": [
    "tf.set_random_seed(123)\n",
    "train_idx = random.sample(list(range(len(infert))), int(len(infert) * 0.7 ))\n",
    "\n",
    "train_X = X_data.iloc[train_idx]\n",
    "train_y = y_data[train_idx]\n",
    "\n",
    "test_X = X_data.drop(train_idx)\n",
    "test_y = y_data.drop(train_idx)"
   ]
  },
  {
   "cell_type": "code",
   "execution_count": 8,
   "metadata": {
    "colab": {
     "base_uri": "https://localhost:8080/",
     "height": 246
    },
    "colab_type": "code",
    "executionInfo": {
     "elapsed": 707,
     "status": "ok",
     "timestamp": 1549880825038,
     "user": {
      "displayName": "BONGGEUN CHOI",
      "photoUrl": "",
      "userId": "13192430529567238042"
     },
     "user_tz": -540
    },
    "id": "bE9riUYQ7c2X",
    "outputId": "94d23fac-854b-409c-e037-130114565a17"
   },
   "outputs": [
    {
     "name": "stdout",
     "output_type": "stream",
     "text": [
      "_________________________________________________________________\n",
      "Layer (type)                 Output Shape              Param #   \n",
      "=================================================================\n",
      "dense (Dense)                (None, 3)                 12        \n",
      "_________________________________________________________________\n",
      "dense_1 (Dense)              (None, 1)                 4         \n",
      "_________________________________________________________________\n",
      "dense_2 (Dense)              (None, 1)                 2         \n",
      "=================================================================\n",
      "Total params: 18\n",
      "Trainable params: 18\n",
      "Non-trainable params: 0\n",
      "_________________________________________________________________\n"
     ]
    }
   ],
   "source": [
    "## 모델 생성 ###\n",
    "\n",
    "model = keras.Sequential([\n",
    "    layers.Dense(3, activation=tf.nn.relu, input_shape = [train_X.shape[1]]),\n",
    "    layers.Dense(1, activation=tf.nn.relu),\n",
    "    layers.Dense(1, activation=tf.nn.sigmoid)\n",
    "])\n",
    "\n",
    "model.compile(optimizer='adam', \n",
    "              loss='binary_crossentropy',\n",
    "              metrics=['accuracy'])\n",
    "\n",
    "model.summary()"
   ]
  },
  {
   "cell_type": "code",
   "execution_count": 9,
   "metadata": {
    "colab": {
     "base_uri": "https://localhost:8080/",
     "height": 3554
    },
    "colab_type": "code",
    "executionInfo": {
     "elapsed": 3461,
     "status": "ok",
     "timestamp": 1549880828107,
     "user": {
      "displayName": "BONGGEUN CHOI",
      "photoUrl": "",
      "userId": "13192430529567238042"
     },
     "user_tz": -540
    },
    "id": "urHRWDaMCU7X",
    "outputId": "9dca1a49-4aaa-495b-cf53-aa0746fb7607"
   },
   "outputs": [
    {
     "name": "stdout",
     "output_type": "stream",
     "text": [
      "Epoch 1/100\n",
      "173/173 [==============================] - 0s 2ms/step - loss: 0.6928 - acc: 0.6590\n",
      "Epoch 2/100\n",
      "173/173 [==============================] - 0s 40us/step - loss: 0.6920 - acc: 0.6590\n",
      "Epoch 3/100\n",
      "173/173 [==============================] - 0s 40us/step - loss: 0.6911 - acc: 0.6590\n",
      "Epoch 4/100\n",
      "173/173 [==============================] - 0s 46us/step - loss: 0.6903 - acc: 0.6590\n",
      "Epoch 5/100\n",
      "173/173 [==============================] - 0s 40us/step - loss: 0.6895 - acc: 0.6590\n",
      "Epoch 6/100\n",
      "173/173 [==============================] - 0s 46us/step - loss: 0.6888 - acc: 0.6590\n",
      "Epoch 7/100\n",
      "173/173 [==============================] - 0s 40us/step - loss: 0.6879 - acc: 0.6590\n",
      "Epoch 8/100\n",
      "173/173 [==============================] - 0s 46us/step - loss: 0.6871 - acc: 0.6590\n",
      "Epoch 9/100\n",
      "173/173 [==============================] - 0s 40us/step - loss: 0.6864 - acc: 0.6590\n",
      "Epoch 10/100\n",
      "173/173 [==============================] - 0s 40us/step - loss: 0.6857 - acc: 0.6590\n",
      "Epoch 11/100\n",
      "173/173 [==============================] - 0s 46us/step - loss: 0.6849 - acc: 0.6590\n",
      "Epoch 12/100\n",
      "173/173 [==============================] - 0s 46us/step - loss: 0.6842 - acc: 0.6590\n",
      "Epoch 13/100\n",
      "173/173 [==============================] - 0s 52us/step - loss: 0.6834 - acc: 0.6590\n",
      "Epoch 14/100\n",
      "173/173 [==============================] - 0s 46us/step - loss: 0.6827 - acc: 0.6590\n",
      "Epoch 15/100\n",
      "173/173 [==============================] - 0s 46us/step - loss: 0.6820 - acc: 0.6590\n",
      "Epoch 16/100\n",
      "173/173 [==============================] - 0s 52us/step - loss: 0.6813 - acc: 0.6590\n",
      "Epoch 17/100\n",
      "173/173 [==============================] - 0s 46us/step - loss: 0.6806 - acc: 0.6590\n",
      "Epoch 18/100\n",
      "173/173 [==============================] - 0s 40us/step - loss: 0.6799 - acc: 0.6590\n",
      "Epoch 19/100\n",
      "173/173 [==============================] - 0s 46us/step - loss: 0.6792 - acc: 0.6590\n",
      "Epoch 20/100\n",
      "173/173 [==============================] - 0s 46us/step - loss: 0.6786 - acc: 0.6590\n",
      "Epoch 21/100\n",
      "173/173 [==============================] - 0s 40us/step - loss: 0.6779 - acc: 0.6590\n",
      "Epoch 22/100\n",
      "173/173 [==============================] - 0s 46us/step - loss: 0.6772 - acc: 0.6590\n",
      "Epoch 23/100\n",
      "173/173 [==============================] - 0s 46us/step - loss: 0.6768 - acc: 0.6590\n",
      "Epoch 24/100\n",
      "173/173 [==============================] - 0s 46us/step - loss: 0.6760 - acc: 0.6590\n",
      "Epoch 25/100\n",
      "173/173 [==============================] - 0s 40us/step - loss: 0.6754 - acc: 0.6590\n",
      "Epoch 26/100\n",
      "173/173 [==============================] - 0s 40us/step - loss: 0.6748 - acc: 0.6590\n",
      "Epoch 27/100\n",
      "173/173 [==============================] - 0s 46us/step - loss: 0.6743 - acc: 0.6590\n",
      "Epoch 28/100\n",
      "173/173 [==============================] - 0s 46us/step - loss: 0.6738 - acc: 0.6590\n",
      "Epoch 29/100\n",
      "173/173 [==============================] - 0s 40us/step - loss: 0.6731 - acc: 0.6590\n",
      "Epoch 30/100\n",
      "173/173 [==============================] - 0s 46us/step - loss: 0.6727 - acc: 0.6590\n",
      "Epoch 31/100\n",
      "173/173 [==============================] - 0s 40us/step - loss: 0.6721 - acc: 0.6590\n",
      "Epoch 32/100\n",
      "173/173 [==============================] - 0s 35us/step - loss: 0.6716 - acc: 0.6590\n",
      "Epoch 33/100\n",
      "173/173 [==============================] - 0s 46us/step - loss: 0.6710 - acc: 0.6590\n",
      "Epoch 34/100\n",
      "173/173 [==============================] - 0s 40us/step - loss: 0.6704 - acc: 0.6590\n",
      "Epoch 35/100\n",
      "173/173 [==============================] - 0s 40us/step - loss: 0.6699 - acc: 0.6590\n",
      "Epoch 36/100\n",
      "173/173 [==============================] - 0s 40us/step - loss: 0.6694 - acc: 0.6590\n",
      "Epoch 37/100\n",
      "173/173 [==============================] - 0s 40us/step - loss: 0.6688 - acc: 0.6590\n",
      "Epoch 38/100\n",
      "173/173 [==============================] - 0s 40us/step - loss: 0.6684 - acc: 0.6590\n",
      "Epoch 39/100\n",
      "173/173 [==============================] - 0s 35us/step - loss: 0.6678 - acc: 0.6590\n",
      "Epoch 40/100\n",
      "173/173 [==============================] - 0s 46us/step - loss: 0.6675 - acc: 0.6590\n",
      "Epoch 41/100\n",
      "173/173 [==============================] - 0s 35us/step - loss: 0.6670 - acc: 0.6590\n",
      "Epoch 42/100\n",
      "173/173 [==============================] - 0s 40us/step - loss: 0.6666 - acc: 0.6590\n",
      "Epoch 43/100\n",
      "173/173 [==============================] - 0s 40us/step - loss: 0.6661 - acc: 0.6590\n",
      "Epoch 44/100\n",
      "173/173 [==============================] - 0s 35us/step - loss: 0.6657 - acc: 0.6590\n",
      "Epoch 45/100\n",
      "173/173 [==============================] - 0s 35us/step - loss: 0.6653 - acc: 0.6590\n",
      "Epoch 46/100\n",
      "173/173 [==============================] - 0s 63us/step - loss: 0.6648 - acc: 0.6590\n",
      "Epoch 47/100\n",
      "173/173 [==============================] - 0s 40us/step - loss: 0.6645 - acc: 0.6590\n",
      "Epoch 48/100\n",
      "173/173 [==============================] - 0s 40us/step - loss: 0.6641 - acc: 0.6590\n",
      "Epoch 49/100\n",
      "173/173 [==============================] - 0s 35us/step - loss: 0.6636 - acc: 0.6590\n",
      "Epoch 50/100\n",
      "173/173 [==============================] - 0s 35us/step - loss: 0.6633 - acc: 0.6590\n",
      "Epoch 51/100\n",
      "173/173 [==============================] - 0s 40us/step - loss: 0.6629 - acc: 0.6590\n",
      "Epoch 52/100\n",
      "173/173 [==============================] - 0s 40us/step - loss: 0.6625 - acc: 0.6590\n",
      "Epoch 53/100\n",
      "173/173 [==============================] - 0s 40us/step - loss: 0.6621 - acc: 0.6590\n",
      "Epoch 54/100\n",
      "173/173 [==============================] - 0s 40us/step - loss: 0.6618 - acc: 0.6590\n",
      "Epoch 55/100\n",
      "173/173 [==============================] - 0s 35us/step - loss: 0.6613 - acc: 0.6590\n",
      "Epoch 56/100\n",
      "173/173 [==============================] - 0s 46us/step - loss: 0.6609 - acc: 0.6590\n",
      "Epoch 57/100\n",
      "173/173 [==============================] - 0s 40us/step - loss: 0.6605 - acc: 0.6590\n",
      "Epoch 58/100\n",
      "173/173 [==============================] - 0s 29us/step - loss: 0.6601 - acc: 0.6590\n",
      "Epoch 59/100\n",
      "173/173 [==============================] - 0s 46us/step - loss: 0.6598 - acc: 0.6590\n",
      "Epoch 60/100\n",
      "173/173 [==============================] - 0s 46us/step - loss: 0.6593 - acc: 0.6590\n",
      "Epoch 61/100\n",
      "173/173 [==============================] - 0s 46us/step - loss: 0.6590 - acc: 0.6590\n",
      "Epoch 62/100\n",
      "173/173 [==============================] - 0s 46us/step - loss: 0.6586 - acc: 0.6590\n",
      "Epoch 63/100\n",
      "173/173 [==============================] - 0s 40us/step - loss: 0.6582 - acc: 0.6590\n",
      "Epoch 64/100\n",
      "173/173 [==============================] - 0s 35us/step - loss: 0.6579 - acc: 0.6590\n",
      "Epoch 65/100\n",
      "173/173 [==============================] - 0s 40us/step - loss: 0.6575 - acc: 0.6590\n",
      "Epoch 66/100\n",
      "173/173 [==============================] - 0s 40us/step - loss: 0.6573 - acc: 0.6590\n",
      "Epoch 67/100\n",
      "173/173 [==============================] - 0s 35us/step - loss: 0.6570 - acc: 0.6590\n",
      "Epoch 68/100\n",
      "173/173 [==============================] - 0s 40us/step - loss: 0.6567 - acc: 0.6590\n",
      "Epoch 69/100\n",
      "173/173 [==============================] - 0s 46us/step - loss: 0.6564 - acc: 0.6590\n",
      "Epoch 70/100\n",
      "173/173 [==============================] - 0s 35us/step - loss: 0.6561 - acc: 0.6590\n",
      "Epoch 71/100\n",
      "173/173 [==============================] - 0s 35us/step - loss: 0.6559 - acc: 0.6590\n",
      "Epoch 72/100\n",
      "173/173 [==============================] - 0s 46us/step - loss: 0.6555 - acc: 0.6590\n",
      "Epoch 73/100\n",
      "173/173 [==============================] - 0s 40us/step - loss: 0.6553 - acc: 0.6590\n",
      "Epoch 74/100\n",
      "173/173 [==============================] - 0s 40us/step - loss: 0.6550 - acc: 0.6590\n",
      "Epoch 75/100\n",
      "173/173 [==============================] - 0s 35us/step - loss: 0.6548 - acc: 0.6590\n",
      "Epoch 76/100\n",
      "173/173 [==============================] - 0s 35us/step - loss: 0.6545 - acc: 0.6590\n",
      "Epoch 77/100\n",
      "173/173 [==============================] - 0s 40us/step - loss: 0.6543 - acc: 0.6590\n",
      "Epoch 78/100\n",
      "173/173 [==============================] - 0s 40us/step - loss: 0.6540 - acc: 0.6590\n",
      "Epoch 79/100\n",
      "173/173 [==============================] - 0s 40us/step - loss: 0.6538 - acc: 0.6590\n",
      "Epoch 80/100\n",
      "173/173 [==============================] - 0s 46us/step - loss: 0.6536 - acc: 0.6590\n",
      "Epoch 81/100\n",
      "173/173 [==============================] - 0s 40us/step - loss: 0.6533 - acc: 0.6590\n",
      "Epoch 82/100\n",
      "173/173 [==============================] - 0s 35us/step - loss: 0.6531 - acc: 0.6590\n",
      "Epoch 83/100\n",
      "173/173 [==============================] - 0s 40us/step - loss: 0.6529 - acc: 0.6590\n",
      "Epoch 84/100\n"
     ]
    },
    {
     "name": "stdout",
     "output_type": "stream",
     "text": [
      "173/173 [==============================] - 0s 35us/step - loss: 0.6526 - acc: 0.6590\n",
      "Epoch 85/100\n",
      "173/173 [==============================] - 0s 40us/step - loss: 0.6524 - acc: 0.6590\n",
      "Epoch 86/100\n",
      "173/173 [==============================] - 0s 40us/step - loss: 0.6522 - acc: 0.6590\n",
      "Epoch 87/100\n",
      "173/173 [==============================] - 0s 35us/step - loss: 0.6520 - acc: 0.6590\n",
      "Epoch 88/100\n",
      "173/173 [==============================] - 0s 35us/step - loss: 0.6518 - acc: 0.6590\n",
      "Epoch 89/100\n",
      "173/173 [==============================] - 0s 40us/step - loss: 0.6516 - acc: 0.6590\n",
      "Epoch 90/100\n",
      "173/173 [==============================] - 0s 40us/step - loss: 0.6514 - acc: 0.6590\n",
      "Epoch 91/100\n",
      "173/173 [==============================] - 0s 40us/step - loss: 0.6512 - acc: 0.6590\n",
      "Epoch 92/100\n",
      "173/173 [==============================] - 0s 35us/step - loss: 0.6511 - acc: 0.6590\n",
      "Epoch 93/100\n",
      "173/173 [==============================] - 0s 40us/step - loss: 0.6509 - acc: 0.6590\n",
      "Epoch 94/100\n",
      "173/173 [==============================] - 0s 35us/step - loss: 0.6507 - acc: 0.6590\n",
      "Epoch 95/100\n",
      "173/173 [==============================] - 0s 40us/step - loss: 0.6505 - acc: 0.6590\n",
      "Epoch 96/100\n",
      "173/173 [==============================] - 0s 40us/step - loss: 0.6504 - acc: 0.6590\n",
      "Epoch 97/100\n",
      "173/173 [==============================] - 0s 35us/step - loss: 0.6501 - acc: 0.6590\n",
      "Epoch 98/100\n",
      "173/173 [==============================] - 0s 35us/step - loss: 0.6499 - acc: 0.6590\n",
      "Epoch 99/100\n",
      "173/173 [==============================] - 0s 35us/step - loss: 0.6498 - acc: 0.6590\n",
      "Epoch 100/100\n",
      "173/173 [==============================] - 0s 40us/step - loss: 0.6496 - acc: 0.6590\n"
     ]
    },
    {
     "data": {
      "text/plain": [
       "<tensorflow.python.keras.callbacks.History at 0x1fe3d783a90>"
      ]
     },
     "execution_count": 9,
     "metadata": {},
     "output_type": "execute_result"
    }
   ],
   "source": [
    "## 모델 훈련 ####\n",
    "\n",
    "model.fit(train_X, train_y, epochs = 100)\n",
    "\n"
   ]
  },
  {
   "cell_type": "code",
   "execution_count": 11,
   "metadata": {
    "colab": {
     "base_uri": "https://localhost:8080/",
     "height": 52
    },
    "colab_type": "code",
    "executionInfo": {
     "elapsed": 769,
     "status": "ok",
     "timestamp": 1549880839452,
     "user": {
      "displayName": "BONGGEUN CHOI",
      "photoUrl": "",
      "userId": "13192430529567238042"
     },
     "user_tz": -540
    },
    "id": "FKJMozTICMGX",
    "outputId": "b014d443-9993-400d-e43f-c4e6c861cb7f"
   },
   "outputs": [
    {
     "name": "stdout",
     "output_type": "stream",
     "text": [
      "75/75 [==============================] - 0s 40us/step\n",
      "Test accuracy: 0.68\n"
     ]
    }
   ],
   "source": [
    "## 모델 예측 ####\n",
    "\n",
    "predictions = model.predict(test_X)\n",
    "test_loss, test_acc = model.evaluate(test_X, test_y)\n",
    "print('Test accuracy:', test_acc)"
   ]
  },
  {
   "cell_type": "code",
   "execution_count": 0,
   "metadata": {
    "colab": {},
    "colab_type": "code",
    "id": "_NuUK0jCGJgZ"
   },
   "outputs": [],
   "source": []
  }
 ],
 "metadata": {
  "colab": {
   "name": "logistic_regression_kears.ipynb",
   "provenance": [],
   "version": "0.3.2"
  },
  "kernelspec": {
   "display_name": "Python 3",
   "language": "python",
   "name": "python3"
  },
  "language_info": {
   "codemirror_mode": {
    "name": "ipython",
    "version": 3
   },
   "file_extension": ".py",
   "mimetype": "text/x-python",
   "name": "python",
   "nbconvert_exporter": "python",
   "pygments_lexer": "ipython3",
   "version": "3.6.7"
  }
 },
 "nbformat": 4,
 "nbformat_minor": 1
}
