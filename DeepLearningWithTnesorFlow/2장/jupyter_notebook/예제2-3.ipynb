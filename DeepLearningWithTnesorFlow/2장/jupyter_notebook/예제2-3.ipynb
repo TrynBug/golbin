{
 "cells": [
  {
   "cell_type": "code",
   "execution_count": 3,
   "metadata": {
    "colab": {},
    "colab_type": "code",
    "id": "wsKBm-2cG2Uu"
   },
   "outputs": [],
   "source": [
    "### 모듈 및 함수 로딩 ###\n",
    "import io\n",
    "import pandas as pd\n",
    "import numpy as np\n",
    "import tensorflow as tf\n",
    "import random"
   ]
  },
  {
   "cell_type": "code",
   "execution_count": 4,
   "metadata": {
    "colab": {},
    "colab_type": "code",
    "id": "5XJvNdG4H-mh"
   },
   "outputs": [],
   "source": [
    "infert = pd.read_csv('infert.csv')"
   ]
  },
  {
   "cell_type": "code",
   "execution_count": 5,
   "metadata": {
    "colab": {
     "base_uri": "https://localhost:8080/",
     "height": 195
    },
    "colab_type": "code",
    "executionInfo": {
     "elapsed": 523,
     "status": "ok",
     "timestamp": 1549869958138,
     "user": {
      "displayName": "BONGGEUN CHOI",
      "photoUrl": "",
      "userId": "13192430529567238042"
     },
     "user_tz": -540
    },
    "id": "-0obhmbOICxR",
    "outputId": "371e52a4-a2b6-4489-d9b8-0b61d566943a"
   },
   "outputs": [
    {
     "data": {
      "text/html": [
       "<div>\n",
       "<style scoped>\n",
       "    .dataframe tbody tr th:only-of-type {\n",
       "        vertical-align: middle;\n",
       "    }\n",
       "\n",
       "    .dataframe tbody tr th {\n",
       "        vertical-align: top;\n",
       "    }\n",
       "\n",
       "    .dataframe thead th {\n",
       "        text-align: right;\n",
       "    }\n",
       "</style>\n",
       "<table border=\"1\" class=\"dataframe\">\n",
       "  <thead>\n",
       "    <tr style=\"text-align: right;\">\n",
       "      <th></th>\n",
       "      <th>education</th>\n",
       "      <th>age</th>\n",
       "      <th>parity</th>\n",
       "      <th>induced</th>\n",
       "      <th>case</th>\n",
       "      <th>spontaneous</th>\n",
       "      <th>stratum</th>\n",
       "      <th>pooled.stratum</th>\n",
       "    </tr>\n",
       "  </thead>\n",
       "  <tbody>\n",
       "    <tr>\n",
       "      <th>0</th>\n",
       "      <td>0-5yrs</td>\n",
       "      <td>26</td>\n",
       "      <td>6</td>\n",
       "      <td>1</td>\n",
       "      <td>1</td>\n",
       "      <td>2</td>\n",
       "      <td>1</td>\n",
       "      <td>3</td>\n",
       "    </tr>\n",
       "    <tr>\n",
       "      <th>1</th>\n",
       "      <td>0-5yrs</td>\n",
       "      <td>42</td>\n",
       "      <td>1</td>\n",
       "      <td>1</td>\n",
       "      <td>1</td>\n",
       "      <td>0</td>\n",
       "      <td>2</td>\n",
       "      <td>1</td>\n",
       "    </tr>\n",
       "    <tr>\n",
       "      <th>2</th>\n",
       "      <td>0-5yrs</td>\n",
       "      <td>39</td>\n",
       "      <td>6</td>\n",
       "      <td>2</td>\n",
       "      <td>1</td>\n",
       "      <td>0</td>\n",
       "      <td>3</td>\n",
       "      <td>4</td>\n",
       "    </tr>\n",
       "    <tr>\n",
       "      <th>3</th>\n",
       "      <td>0-5yrs</td>\n",
       "      <td>34</td>\n",
       "      <td>4</td>\n",
       "      <td>2</td>\n",
       "      <td>1</td>\n",
       "      <td>0</td>\n",
       "      <td>4</td>\n",
       "      <td>2</td>\n",
       "    </tr>\n",
       "    <tr>\n",
       "      <th>4</th>\n",
       "      <td>6-11yrs</td>\n",
       "      <td>35</td>\n",
       "      <td>3</td>\n",
       "      <td>1</td>\n",
       "      <td>1</td>\n",
       "      <td>1</td>\n",
       "      <td>5</td>\n",
       "      <td>32</td>\n",
       "    </tr>\n",
       "  </tbody>\n",
       "</table>\n",
       "</div>"
      ],
      "text/plain": [
       "  education  age  parity  induced  case  spontaneous  stratum  pooled.stratum\n",
       "0    0-5yrs   26       6        1     1            2        1               3\n",
       "1    0-5yrs   42       1        1     1            0        2               1\n",
       "2    0-5yrs   39       6        2     1            0        3               4\n",
       "3    0-5yrs   34       4        2     1            0        4               2\n",
       "4   6-11yrs   35       3        1     1            1        5              32"
      ]
     },
     "execution_count": 5,
     "metadata": {},
     "output_type": "execute_result"
    }
   ],
   "source": [
    "infert.head()"
   ]
  },
  {
   "cell_type": "code",
   "execution_count": 6,
   "metadata": {
    "colab": {},
    "colab_type": "code",
    "id": "aRwPcVh7ewrA"
   },
   "outputs": [],
   "source": [
    "X_data = infert[[\"parity\", \"induced\", \"spontaneous\"]]\n",
    "y_data = infert[\"case\"]"
   ]
  },
  {
   "cell_type": "code",
   "execution_count": 7,
   "metadata": {
    "colab": {},
    "colab_type": "code",
    "id": "QKpF3AB-fIFG"
   },
   "outputs": [],
   "source": [
    "tf.set_random_seed(123)\n",
    "train_idx = random.sample(list(range(len(infert))), int(len(infert) * 0.7 ))\n",
    "\n",
    "train_X = X_data.iloc[train_idx]\n",
    "train_y = y_data[train_idx]\n",
    "\n",
    "test_X = X_data.drop(train_idx)\n",
    "test_y = y_data.drop(train_idx)"
   ]
  },
  {
   "cell_type": "code",
   "execution_count": 8,
   "metadata": {
    "colab": {},
    "colab_type": "code",
    "id": "zXUNSTd1gGev"
   },
   "outputs": [],
   "source": [
    "X = tf.placeholder(shape = (None, 3), dtype = tf.float32)\n",
    "y = tf.placeholder(shape = (None), dtype = tf.float32)\n",
    "\n",
    "W1 = tf.Variable(initial_value= tf.random_normal([3, 1]), dtype = tf.float32)\n",
    "b1 = tf.Variable(initial_value= tf.random_normal([1]), dtype = tf.float32)\n",
    "L1 = tf.nn.relu(tf.add(tf.matmul(X, W1), b1))"
   ]
  },
  {
   "cell_type": "code",
   "execution_count": 9,
   "metadata": {
    "colab": {},
    "colab_type": "code",
    "id": "lxO2IA1BgtU_"
   },
   "outputs": [],
   "source": [
    "W2 = tf.Variable(initial_value= tf.random_normal([1, 1]), dtype = tf.float32)\n",
    "b2 = tf.Variable(initial_value= tf.random_normal([1]), dtype = tf.float32)\n",
    "hypo = tf.add(tf.matmul(L1, W2), b2)\n",
    "\n",
    "cost = tf.reduce_mean(tf.nn.softmax_cross_entropy_with_logits_v2(labels = y, logits = hypo))\n",
    "optimizer = tf.train.GradientDescentOptimizer(learning_rate= 0.0001)\n",
    "train = optimizer.minimize(cost)"
   ]
  },
  {
   "cell_type": "code",
   "execution_count": 10,
   "metadata": {
    "colab": {},
    "colab_type": "code",
    "id": "i1UQG8JLmbwO"
   },
   "outputs": [],
   "source": [
    "sess = tf.Session()\n",
    "sess.run(tf.global_variables_initializer())"
   ]
  },
  {
   "cell_type": "code",
   "execution_count": 11,
   "metadata": {
    "colab": {
     "base_uri": "https://localhost:8080/",
     "height": 210
    },
    "colab_type": "code",
    "executionInfo": {
     "elapsed": 568,
     "status": "ok",
     "timestamp": 1549880779478,
     "user": {
      "displayName": "BONGGEUN CHOI",
      "photoUrl": "",
      "userId": "13192430529567238042"
     },
     "user_tz": -540
    },
    "id": "goJW7nSamnq_",
    "outputId": "e9630fbb-b05c-496c-c276-c25d4e04b46d"
   },
   "outputs": [
    {
     "name": "stdout",
     "output_type": "stream",
     "text": [
      "step:  0 \t cost:  319.50394\n",
      "step:  10 \t cost:  319.50394\n",
      "step:  20 \t cost:  319.50394\n",
      "step:  30 \t cost:  319.50394\n",
      "step:  40 \t cost:  319.50394\n",
      "step:  50 \t cost:  319.50394\n",
      "step:  60 \t cost:  319.50394\n",
      "step:  70 \t cost:  319.50394\n",
      "step:  80 \t cost:  319.50394\n",
      "step:  90 \t cost:  319.50394\n",
      "train finished!!\n"
     ]
    }
   ],
   "source": [
    "for i in range(100):\n",
    "  _, cost_val = sess.run([train, cost], feed_dict = {X: train_X, y: train_y})\n",
    "  if i % 10 ==0:\n",
    "    print(\"step: \", i, \"\\t\", \"cost: \", cost_val)\n",
    "print(\"train finished!!\")"
   ]
  },
  {
   "cell_type": "code",
   "execution_count": 12,
   "metadata": {
    "colab": {
     "base_uri": "https://localhost:8080/",
     "height": 34
    },
    "colab_type": "code",
    "executionInfo": {
     "elapsed": 637,
     "status": "ok",
     "timestamp": 1549880780803,
     "user": {
      "displayName": "BONGGEUN CHOI",
      "photoUrl": "",
      "userId": "13192430529567238042"
     },
     "user_tz": -540
    },
    "id": "aw8CVbxLnH2K",
    "outputId": "d3df7e0a-b106-4a10-928d-0bbfe5d56804"
   },
   "outputs": [
    {
     "name": "stdout",
     "output_type": "stream",
     "text": [
      "accuracy:  0.28\n"
     ]
    }
   ],
   "source": [
    "predict = tf.cast(hypo > 0.5, dtype = tf.float32)\n",
    "accuracy = tf.reduce_mean(tf.cast(tf.equal(predict, y), dtype = tf.float32 ))\n",
    "print(\"accuracy: \", sess.run(accuracy, feed_dict = {X: test_X, y: test_y}))"
   ]
  },
  {
   "cell_type": "code",
   "execution_count": null,
   "metadata": {},
   "outputs": [],
   "source": []
  }
 ],
 "metadata": {
  "colab": {
   "collapsed_sections": [],
   "name": "logistic_regression.ipynb",
   "provenance": [],
   "version": "0.3.2"
  },
  "kernelspec": {
   "display_name": "Python 3",
   "language": "python",
   "name": "python3"
  },
  "language_info": {
   "codemirror_mode": {
    "name": "ipython",
    "version": 3
   },
   "file_extension": ".py",
   "mimetype": "text/x-python",
   "name": "python",
   "nbconvert_exporter": "python",
   "pygments_lexer": "ipython3",
   "version": "3.6.7"
  }
 },
 "nbformat": 4,
 "nbformat_minor": 1
}
