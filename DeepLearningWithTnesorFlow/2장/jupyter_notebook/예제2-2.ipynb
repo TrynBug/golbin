{
 "cells": [
  {
   "cell_type": "code",
   "execution_count": 4,
   "metadata": {
    "colab": {},
    "colab_type": "code",
    "id": "LXPmvEUwwHbD"
   },
   "outputs": [],
   "source": [
    "### 모듈 및 함수 로딩 ###\n",
    "import io\n",
    "import pandas as pd\n",
    "import numpy as np\n",
    "import tensorflow as tf\n",
    "import tensorflow as tf\n",
    "from tensorflow import keras\n",
    "from tensorflow.keras import layers\n",
    "\n",
    "import random\n",
    "from sklearn.preprocessing import LabelEncoder, normalize"
   ]
  },
  {
   "cell_type": "code",
   "execution_count": 5,
   "metadata": {
    "colab": {},
    "colab_type": "code",
    "id": "SbowynF-xtmo"
   },
   "outputs": [],
   "source": [
    "### 데이터 로딩 ###\n",
    "credit_card = pd.read_csv('CreditCard.csv')"
   ]
  },
  {
   "cell_type": "code",
   "execution_count": 6,
   "metadata": {
    "colab": {},
    "colab_type": "code",
    "id": "1TFY4S9KxvOV"
   },
   "outputs": [],
   "source": [
    "### 범주형 변수 더미화 ###\n",
    "credit_cat = credit_card[[\"card\", \"owner\", \"selfemp\"]]\n",
    "\n",
    "label_enc = LabelEncoder()\n",
    "\n",
    "card = label_enc.fit_transform(credit_cat[\"card\"])\n",
    "card.shape = (len(card), 1)\n",
    "\n",
    "owner = label_enc.fit_transform(credit_cat[\"owner\"])\n",
    "owner.shape = (len(owner), 1)\n",
    "\n",
    "selfemp = label_enc.fit_transform(credit_cat[\"selfemp\"])\n",
    "selfemp.shape = (len(selfemp), 1)"
   ]
  },
  {
   "cell_type": "code",
   "execution_count": 7,
   "metadata": {
    "colab": {},
    "colab_type": "code",
    "id": "Gy0ScZBlxxvO"
   },
   "outputs": [],
   "source": [
    "### 수치형 변수 정규화 ###\n",
    "credit_num  = credit_card.drop([\"card\", \"owner\", \"selfemp\", \"share\"], axis = 1)\n",
    "credit_num_norm = normalize(credit_num)"
   ]
  },
  {
   "cell_type": "code",
   "execution_count": 8,
   "metadata": {
    "colab": {},
    "colab_type": "code",
    "id": "GqrTrahfxzvt"
   },
   "outputs": [],
   "source": [
    "### X, y 데이터 설정 ###\n",
    "credit_X = np.concatenate([card, owner, selfemp, credit_num_norm], axis = 1)\n",
    "credit_y = np.array(credit_card['share'])\n",
    "credit_y.shape = (len(credit_y), 1)"
   ]
  },
  {
   "cell_type": "code",
   "execution_count": 9,
   "metadata": {
    "colab": {},
    "colab_type": "code",
    "id": "ykcUxNr5x1dZ"
   },
   "outputs": [],
   "source": [
    "### train, test 데이터로 분할 ###\n",
    "train_idx = random.sample(list(range(len(credit_card))), int(len(credit_card) * 0.7))\n",
    "train_X = credit_X[train_idx, :]\n",
    "train_y = credit_y[train_idx]\n",
    "\n",
    "test_X = np.delete(credit_X, train_idx, axis = 0)\n",
    "test_y = np.delete(credit_y, train_idx)\n",
    "test_y.shape = (len(test_y), 1)"
   ]
  },
  {
   "cell_type": "code",
   "execution_count": 10,
   "metadata": {
    "colab": {
     "base_uri": "https://localhost:8080/",
     "height": 210
    },
    "colab_type": "code",
    "executionInfo": {
     "elapsed": 557,
     "status": "ok",
     "timestamp": 1549878694409,
     "user": {
      "displayName": "BONGGEUN CHOI",
      "photoUrl": "",
      "userId": "13192430529567238042"
     },
     "user_tz": -540
    },
    "id": "YyrTCaSbx2-9",
    "outputId": "9adddd8b-8d08-414f-ed0b-e6452386fb1e"
   },
   "outputs": [
    {
     "name": "stdout",
     "output_type": "stream",
     "text": [
      "_________________________________________________________________\n",
      "Layer (type)                 Output Shape              Param #   \n",
      "=================================================================\n",
      "dense (Dense)                (None, 3)                 36        \n",
      "_________________________________________________________________\n",
      "dense_1 (Dense)              (None, 1)                 4         \n",
      "=================================================================\n",
      "Total params: 40\n",
      "Trainable params: 40\n",
      "Non-trainable params: 0\n",
      "_________________________________________________________________\n"
     ]
    }
   ],
   "source": [
    "### 모델 생성 ###\n",
    "def build_model():\n",
    "  model = keras.Sequential([\n",
    "    layers.Dense(3, activation=tf.nn.relu, input_shape=[train_X.shape[1]]),\n",
    "    layers.Dense(1),\n",
    "  ])\n",
    "\n",
    "  optimizer = tf.keras.optimizers.RMSprop(0.001)\n",
    "  model.compile(loss='mse',\n",
    "                optimizer=optimizer,\n",
    "                metrics=['mae', 'mse'])\n",
    "  return model\n",
    "\n",
    "\n",
    "model = build_model()\n",
    "model.summary()"
   ]
  },
  {
   "cell_type": "code",
   "execution_count": 11,
   "metadata": {
    "colab": {},
    "colab_type": "code",
    "id": "lA-EqaE01nwx"
   },
   "outputs": [],
   "source": [
    "### 모델 훈련 ###\n",
    "\n",
    "EPOCHS = 1000\n",
    "\n",
    "history = model.fit(\n",
    "  train_X, train_y,\n",
    "  epochs=EPOCHS, validation_split = 0.2, verbose=0)"
   ]
  },
  {
   "cell_type": "code",
   "execution_count": 12,
   "metadata": {
    "colab": {
     "base_uri": "https://localhost:8080/",
     "height": 34
    },
    "colab_type": "code",
    "executionInfo": {
     "elapsed": 562,
     "status": "ok",
     "timestamp": 1549878142964,
     "user": {
      "displayName": "BONGGEUN CHOI",
      "photoUrl": "",
      "userId": "13192430529567238042"
     },
     "user_tz": -540
    },
    "id": "fA7DcsSJ2QlK",
    "outputId": "a77cabca-78b5-404b-b52e-3d118b12d023"
   },
   "outputs": [
    {
     "name": "stdout",
     "output_type": "stream",
     "text": [
      "Testing set Mean Abs Error:  0.06\n"
     ]
    }
   ],
   "source": [
    "## 모델 예측 ###\n",
    "\n",
    "test_predictions = model.predict(test_X)\n",
    "\n",
    "loss, mae, mse = model.evaluate(test_X, test_y, verbose=0)\n",
    "print(\"Testing set Mean Abs Error: {:5.2f}\".format(mae))\n"
   ]
  },
  {
   "cell_type": "code",
   "execution_count": 0,
   "metadata": {
    "colab": {},
    "colab_type": "code",
    "id": "5JQ7tLcF77Vx"
   },
   "outputs": [],
   "source": []
  }
 ],
 "metadata": {
  "colab": {
   "name": "multi regression keras.ipynb",
   "provenance": [],
   "version": "0.3.2"
  },
  "kernelspec": {
   "display_name": "Python 3",
   "language": "python",
   "name": "python3"
  },
  "language_info": {
   "codemirror_mode": {
    "name": "ipython",
    "version": 3
   },
   "file_extension": ".py",
   "mimetype": "text/x-python",
   "name": "python",
   "nbconvert_exporter": "python",
   "pygments_lexer": "ipython3",
   "version": "3.6.7"
  }
 },
 "nbformat": 4,
 "nbformat_minor": 1
}
