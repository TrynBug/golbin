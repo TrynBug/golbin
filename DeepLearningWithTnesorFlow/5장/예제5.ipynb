{
 "cells": [
  {
   "cell_type": "markdown",
   "metadata": {},
   "source": [
    "## 예제 5-1 모의자료 분류"
   ]
  },
  {
   "cell_type": "code",
   "execution_count": 20,
   "metadata": {},
   "outputs": [],
   "source": [
    "from tensorflow.keras import datasets, layers, models, regularizers, optimizers"
   ]
  },
  {
   "cell_type": "code",
   "execution_count": 23,
   "metadata": {},
   "outputs": [],
   "source": [
    "EPOCHS=50\n",
    "NUM_CLASSES = 10\n",
    "BATCH_SIZE = 128\n",
    "    "
   ]
  },
  {
   "cell_type": "code",
   "execution_count": 21,
   "metadata": {},
   "outputs": [],
   "source": [
    "def load_data():\n",
    "    (x_train, y_train), (x_test, y_test) = datasets.cifar10.load_data()\n",
    "    x_train = x_train.astype('float32')\n",
    "    x_test = x_test.astype('float32')\n",
    " \n",
    "    #normalize \n",
    "    mean = np.mean(x_train,axis=(0,1,2,3))\n",
    "    std = np.std(x_train,axis=(0,1,2,3))\n",
    "    x_train = (x_train-mean)/(std+1e-7)\n",
    "    x_test = (x_test-mean)/(std+1e-7)\n",
    " \n",
    "    y_train =  tf.keras.utils.to_categorical(y_train,NUM_CLASSES)\n",
    "    y_test =  tf.keras.utils.to_categorical(y_test,NUM_CLASSES)\n",
    "\n",
    "    return x_train, y_train, x_test, y_test\n"
   ]
  },
  {
   "cell_type": "code",
   "execution_count": 24,
   "metadata": {},
   "outputs": [],
   "source": [
    "(x_train, y_train, x_test, y_test) = load_data()"
   ]
  },
  {
   "cell_type": "code",
   "execution_count": 25,
   "metadata": {},
   "outputs": [
    {
     "data": {
      "text/plain": [
       "(32, 32, 3)"
      ]
     },
     "execution_count": 25,
     "metadata": {},
     "output_type": "execute_result"
    }
   ],
   "source": [
    "x_train.shape[1:]"
   ]
  },
  {
   "cell_type": "code",
   "execution_count": 26,
   "metadata": {},
   "outputs": [
    {
     "data": {
      "text/plain": [
       "numpy.ndarray"
      ]
     },
     "execution_count": 26,
     "metadata": {},
     "output_type": "execute_result"
    }
   ],
   "source": [
    "type(x_train)"
   ]
  },
  {
   "cell_type": "code",
   "execution_count": 27,
   "metadata": {},
   "outputs": [
    {
     "data": {
      "text/plain": [
       "(50000, 32, 32, 3)"
      ]
     },
     "execution_count": 27,
     "metadata": {},
     "output_type": "execute_result"
    }
   ],
   "source": [
    "x_train.shape"
   ]
  },
  {
   "cell_type": "code",
   "execution_count": null,
   "metadata": {},
   "outputs": [],
   "source": []
  },
  {
   "cell_type": "code",
   "execution_count": 1,
   "metadata": {
    "scrolled": true
   },
   "outputs": [
    {
     "name": "stderr",
     "output_type": "stream",
     "text": [
      "D:\\ProgramData\\Anaconda3\\lib\\site-packages\\tensorflow\\python\\framework\\dtypes.py:516: FutureWarning: Passing (type, 1) or '1type' as a synonym of type is deprecated; in a future version of numpy, it will be understood as (type, (1,)) / '(1,)type'.\n",
      "  _np_qint8 = np.dtype([(\"qint8\", np.int8, 1)])\n",
      "D:\\ProgramData\\Anaconda3\\lib\\site-packages\\tensorflow\\python\\framework\\dtypes.py:517: FutureWarning: Passing (type, 1) or '1type' as a synonym of type is deprecated; in a future version of numpy, it will be understood as (type, (1,)) / '(1,)type'.\n",
      "  _np_quint8 = np.dtype([(\"quint8\", np.uint8, 1)])\n",
      "D:\\ProgramData\\Anaconda3\\lib\\site-packages\\tensorflow\\python\\framework\\dtypes.py:518: FutureWarning: Passing (type, 1) or '1type' as a synonym of type is deprecated; in a future version of numpy, it will be understood as (type, (1,)) / '(1,)type'.\n",
      "  _np_qint16 = np.dtype([(\"qint16\", np.int16, 1)])\n",
      "D:\\ProgramData\\Anaconda3\\lib\\site-packages\\tensorflow\\python\\framework\\dtypes.py:519: FutureWarning: Passing (type, 1) or '1type' as a synonym of type is deprecated; in a future version of numpy, it will be understood as (type, (1,)) / '(1,)type'.\n",
      "  _np_quint16 = np.dtype([(\"quint16\", np.uint16, 1)])\n",
      "D:\\ProgramData\\Anaconda3\\lib\\site-packages\\tensorflow\\python\\framework\\dtypes.py:520: FutureWarning: Passing (type, 1) or '1type' as a synonym of type is deprecated; in a future version of numpy, it will be understood as (type, (1,)) / '(1,)type'.\n",
      "  _np_qint32 = np.dtype([(\"qint32\", np.int32, 1)])\n",
      "D:\\ProgramData\\Anaconda3\\lib\\site-packages\\tensorflow\\python\\framework\\dtypes.py:525: FutureWarning: Passing (type, 1) or '1type' as a synonym of type is deprecated; in a future version of numpy, it will be understood as (type, (1,)) / '(1,)type'.\n",
      "  np_resource = np.dtype([(\"resource\", np.ubyte, 1)])\n",
      "D:\\ProgramData\\Anaconda3\\lib\\site-packages\\tensorboard\\compat\\tensorflow_stub\\dtypes.py:541: FutureWarning: Passing (type, 1) or '1type' as a synonym of type is deprecated; in a future version of numpy, it will be understood as (type, (1,)) / '(1,)type'.\n",
      "  _np_qint8 = np.dtype([(\"qint8\", np.int8, 1)])\n",
      "D:\\ProgramData\\Anaconda3\\lib\\site-packages\\tensorboard\\compat\\tensorflow_stub\\dtypes.py:542: FutureWarning: Passing (type, 1) or '1type' as a synonym of type is deprecated; in a future version of numpy, it will be understood as (type, (1,)) / '(1,)type'.\n",
      "  _np_quint8 = np.dtype([(\"quint8\", np.uint8, 1)])\n",
      "D:\\ProgramData\\Anaconda3\\lib\\site-packages\\tensorboard\\compat\\tensorflow_stub\\dtypes.py:543: FutureWarning: Passing (type, 1) or '1type' as a synonym of type is deprecated; in a future version of numpy, it will be understood as (type, (1,)) / '(1,)type'.\n",
      "  _np_qint16 = np.dtype([(\"qint16\", np.int16, 1)])\n",
      "D:\\ProgramData\\Anaconda3\\lib\\site-packages\\tensorboard\\compat\\tensorflow_stub\\dtypes.py:544: FutureWarning: Passing (type, 1) or '1type' as a synonym of type is deprecated; in a future version of numpy, it will be understood as (type, (1,)) / '(1,)type'.\n",
      "  _np_quint16 = np.dtype([(\"quint16\", np.uint16, 1)])\n",
      "D:\\ProgramData\\Anaconda3\\lib\\site-packages\\tensorboard\\compat\\tensorflow_stub\\dtypes.py:545: FutureWarning: Passing (type, 1) or '1type' as a synonym of type is deprecated; in a future version of numpy, it will be understood as (type, (1,)) / '(1,)type'.\n",
      "  _np_qint32 = np.dtype([(\"qint32\", np.int32, 1)])\n",
      "D:\\ProgramData\\Anaconda3\\lib\\site-packages\\tensorboard\\compat\\tensorflow_stub\\dtypes.py:550: FutureWarning: Passing (type, 1) or '1type' as a synonym of type is deprecated; in a future version of numpy, it will be understood as (type, (1,)) / '(1,)type'.\n",
      "  np_resource = np.dtype([(\"resource\", np.ubyte, 1)])\n",
      "Using TensorFlow backend.\n"
     ]
    }
   ],
   "source": [
    "import numpy as np\n",
    "import tensorflow as tf\n",
    "#from libs.connections import linear\n",
    "from keras.utils import np_utils\n",
    "import matplotlib.pyplot as plt"
   ]
  },
  {
   "cell_type": "code",
   "execution_count": 2,
   "metadata": {},
   "outputs": [],
   "source": [
    "# true images\n",
    "A=np.array([[0,0,0,0,0,0], [0,1,0,0,0,0],[0,1,1,0,0,0],[0,1,0,1,0,0],[0,1,0,0,1,0],[0,0,0,0,0,0]])\n",
    "B=np.array([[0,0,0,0,0,0], [0,0,0,0,1,0],[0,0,0,0,1,0],[0,0,0,0,1,0],[0,1,1,1,1,0],[0,0,0,0,0,0]])"
   ]
  },
  {
   "cell_type": "code",
   "execution_count": 3,
   "metadata": {},
   "outputs": [],
   "source": [
    "# 훈련 데이터 생성 \n",
    "trainX=np.zeros((20,36))\n",
    "for i in range(10):\n",
    "    trainX[i,:]=A.reshape(1,6*6)\n",
    "    trainX[i+10,:]=B.reshape(1,6*6)\n",
    "train_x=trainX.reshape(720,1)\n",
    "noise=np.random.choice(np.arange(2), 720, replace=True,p=[0.9,0.1])\n",
    "v=np.where(noise>0)\n",
    "train_x[v]=np.abs(train_x[v]-1)\n",
    "trainX=train_x.reshape(20,36)\n",
    "train_y=np.concatenate((np.ones((10,1)),np.zeros((10,1))),axis=0)\n",
    "train_y=np.array(train_y, np.int64)\n",
    "trainY = np_utils.to_categorical(train_y, 2)"
   ]
  },
  {
   "cell_type": "code",
   "execution_count": 4,
   "metadata": {},
   "outputs": [
    {
     "name": "stdout",
     "output_type": "stream",
     "text": [
      "(20, 36)\n",
      "(20, 2)\n"
     ]
    }
   ],
   "source": [
    "print(np.array(trainX).shape)\n",
    "print(np.array(trainY).shape)"
   ]
  },
  {
   "cell_type": "code",
   "execution_count": 5,
   "metadata": {},
   "outputs": [
    {
     "name": "stdout",
     "output_type": "stream",
     "text": [
      "[0. 0. 0. 0. 0. 1. 1. 1. 0. 0. 0. 0. 0. 1. 1. 0. 0. 0. 0. 1. 0. 1. 0. 0.\n",
      " 0. 1. 0. 0. 1. 0. 0. 1. 0. 0. 0. 0.]\n"
     ]
    }
   ],
   "source": [
    "print(trainX[0])"
   ]
  },
  {
   "cell_type": "code",
   "execution_count": 6,
   "metadata": {},
   "outputs": [
    {
     "name": "stdout",
     "output_type": "stream",
     "text": [
      "[0. 1.]\n"
     ]
    }
   ],
   "source": [
    "print(trainY[0])"
   ]
  },
  {
   "cell_type": "code",
   "execution_count": 7,
   "metadata": {},
   "outputs": [
    {
     "data": {
      "image/png": "[encoded data removed]",
      "text/plain": [
       "<Figure size 504x504 with 8 Axes>"
      ]
     },
     "metadata": {
      "needs_background": "light"
     },
     "output_type": "display_data"
    }
   ],
   "source": [
    "# 훈련 데이터 이미지\n",
    "f,axes =plt.subplots(figsize=(7,7), nrows=2, ncols=4, sharey=True, sharex=True)\n",
    "for ii in range(8):\n",
    "    plt.subplot(2,4,ii+1); \n",
    "    if ii<4: \n",
    "         if ii==0: plt.imshow(A,cmap='gray', interpolation='none')\n",
    "         else: plt.imshow(trainX[ii,:].reshape(6,6),cmap='gray', interpolation='none')\n",
    "    else: \n",
    "        if ii==4: plt.imshow(B,cmap='gray', interpolation='none')\n",
    "        else: plt.imshow(trainX[ii+5,:].reshape(6,6),cmap='gray', interpolation='none')"
   ]
  },
  {
   "cell_type": "code",
   "execution_count": 8,
   "metadata": {},
   "outputs": [],
   "source": [
    "learning_rate=0.01; epochs=20\n",
    "#X=tf.placeholder(tf.float32,[None,36])\n",
    "#X_img=tf.reshape(X,[-1,6,6,1]) \n",
    "#Y=tf.placeholder(tf.float32,[None,2])\n",
    "trainX = trainX.reshape([-1,6,6,1])"
   ]
  },
  {
   "cell_type": "code",
   "execution_count": 15,
   "metadata": {},
   "outputs": [
    {
     "name": "stdout",
     "output_type": "stream",
     "text": [
      "(20, 6, 6, 1)\n"
     ]
    }
   ],
   "source": [
    "print(trainX.shape)"
   ]
  },
  {
   "cell_type": "code",
   "execution_count": 9,
   "metadata": {
    "scrolled": true
   },
   "outputs": [
    {
     "name": "stdout",
     "output_type": "stream",
     "text": [
      "WARNING:tensorflow:From D:\\ProgramData\\Anaconda3\\lib\\site-packages\\tensorflow\\python\\ops\\init_ops.py:1251: calling VarianceScaling.__init__ (from tensorflow.python.ops.init_ops) with dtype is deprecated and will be removed in a future version.\n",
      "Instructions for updating:\n",
      "Call initializer instance with the dtype argument instead of passing it to the constructor\n"
     ]
    }
   ],
   "source": [
    "# 합성곱에 사용하는 필터 크기와 개수, 보폭 지정\n",
    "#K1=tf.Variable(tf.random_normal([4,4,1,4],stddev=0.01))\n",
    "#a1=tf.nn.conv2d(X_img, K1, strides=[1,1,1,1], padding='VALID')\n",
    "# 활성화함수 지정 \n",
    "#a1=tf.nn.relu(a1)\n",
    "model = tf.keras.Sequential()\n",
    "model.add(tf.keras.layers.Conv2D(filters=4, kernel_size=(5,5), strides=1, input_shape=(6,6,1), padding='valid', activation='relu'))"
   ]
  },
  {
   "cell_type": "code",
   "execution_count": 10,
   "metadata": {},
   "outputs": [],
   "source": [
    "# 배치정규화 \n",
    "#a1=tf.layers.batch_normalization(a1, training=True)\n",
    "model.add(tf.keras.layers.BatchNormalization())"
   ]
  },
  {
   "cell_type": "code",
   "execution_count": 11,
   "metadata": {},
   "outputs": [],
   "source": [
    "# 풀링의 종류와 크기, 보폭 지정 \n",
    "#h1=tf.nn.max_pool(a1,ksize=[1,2,2,1], strides=[1,2,2,1], padding='SAME')\n",
    "model.add(tf.keras.layers.MaxPooling2D(pool_size=(2,2), padding='same'))"
   ]
  },
  {
   "cell_type": "code",
   "execution_count": 12,
   "metadata": {},
   "outputs": [],
   "source": [
    "# 합성층의 마지막 부분을 1D로 변환\n",
    "#Flat=tf.reshape(h1,[-1,np.prod(h1.get_shape().as_list()[1:4])])\n",
    "model.add(tf.keras.layers.Flatten())"
   ]
  },
  {
   "cell_type": "code",
   "execution_count": 13,
   "metadata": {},
   "outputs": [],
   "source": [
    "# 완전 연결 신경망의 은닉층의 구조 지정\n",
    "#W1=tf.get_variable(\"W1\",shape=[np.prod(h1.get_shape().as_list()[1:4]),10],initializer=tf.contrib.layers.xavier_initializer())\n",
    "#b1=tf.Variable(tf.random_normal([10]))\n",
    "#L1=tf.matmul(Flat, W1)+b1\n",
    "# 최종 출력을 위해 소프트맥스함수 지정\n",
    "#pred =linear(L1, 2, activation=tf.nn.softmax)\n",
    "model.add(tf.keras.layers.Dense(2, activation='softmax'))"
   ]
  },
  {
   "cell_type": "code",
   "execution_count": 14,
   "metadata": {
    "scrolled": true
   },
   "outputs": [
    {
     "name": "stdout",
     "output_type": "stream",
     "text": [
      "Model: \"sequential\"\n",
      "_________________________________________________________________\n",
      "Layer (type)                 Output Shape              Param #   \n",
      "=================================================================\n",
      "conv2d (Conv2D)              (None, 2, 2, 4)           104       \n",
      "_________________________________________________________________\n",
      "batch_normalization (BatchNo (None, 2, 2, 4)           16        \n",
      "_________________________________________________________________\n",
      "max_pooling2d (MaxPooling2D) (None, 1, 1, 4)           0         \n",
      "_________________________________________________________________\n",
      "flatten (Flatten)            (None, 4)                 0         \n",
      "_________________________________________________________________\n",
      "dense (Dense)                (None, 2)                 10        \n",
      "=================================================================\n",
      "Total params: 130\n",
      "Trainable params: 122\n",
      "Non-trainable params: 8\n",
      "_________________________________________________________________\n"
     ]
    }
   ],
   "source": [
    "model.summary()"
   ]
  },
  {
   "cell_type": "code",
   "execution_count": 16,
   "metadata": {},
   "outputs": [],
   "source": [
    "#cost=tf.reduce_mean(tf.nn.softmax_cross_entropy_with_logits(logits=pred, labels=Y))\n",
    "#optim=tf.train.GradientDescentOptimizer(learning_rate=learning_rate).minimize(cost)\n",
    "#correct_predict=tf.equal(tf.argmax(pred,1), tf.argmax(Y,1))\n",
    "model.compile(loss='categorical_crossentropy', optimizer=tf.keras.optimizers.Adam(learning_rate=learning_rate), metrics=['accuracy'])"
   ]
  },
  {
   "cell_type": "code",
   "execution_count": 19,
   "metadata": {
    "scrolled": true
   },
   "outputs": [
    {
     "name": "stdout",
     "output_type": "stream",
     "text": [
      "Epoch 1/20\n",
      "20/20 [==============================] - 4s 188ms/sample - loss: 0.2052 - acc: 0.9500\n",
      "Epoch 2/20\n",
      "20/20 [==============================] - 0s 987us/sample - loss: 0.1257 - acc: 1.0000\n",
      "Epoch 3/20\n",
      "20/20 [==============================] - 0s 399us/sample - loss: 0.0836 - acc: 1.0000\n",
      "Epoch 4/20\n",
      "20/20 [==============================] - 0s 250us/sample - loss: 0.0617 - acc: 1.0000\n",
      "Epoch 5/20\n",
      "20/20 [==============================] - 0s 150us/sample - loss: 0.0497 - acc: 1.0000\n",
      "Epoch 6/20\n",
      "20/20 [==============================] - 0s 201us/sample - loss: 0.0417 - acc: 1.0000\n",
      "Epoch 7/20\n",
      "20/20 [==============================] - 0s 150us/sample - loss: 0.0352 - acc: 1.0000\n",
      "Epoch 8/20\n",
      "20/20 [==============================] - 0s 209us/sample - loss: 0.0300 - acc: 1.0000\n",
      "Epoch 9/20\n",
      "20/20 [==============================] - 0s 100us/sample - loss: 0.0257 - acc: 1.0000\n",
      "Epoch 10/20\n",
      "20/20 [==============================] - 0s 149us/sample - loss: 0.0222 - acc: 1.0000\n",
      "Epoch 11/20\n",
      "20/20 [==============================] - 0s 250us/sample - loss: 0.0195 - acc: 1.0000\n",
      "Epoch 12/20\n",
      "20/20 [==============================] - 0s 150us/sample - loss: 0.0174 - acc: 1.0000\n",
      "Epoch 13/20\n",
      "20/20 [==============================] - 0s 199us/sample - loss: 0.0156 - acc: 1.0000\n",
      "Epoch 14/20\n",
      "20/20 [==============================] - 0s 100us/sample - loss: 0.0141 - acc: 1.0000\n",
      "Epoch 15/20\n",
      "20/20 [==============================] - 0s 100us/sample - loss: 0.0128 - acc: 1.0000\n",
      "Epoch 16/20\n",
      "20/20 [==============================] - 0s 150us/sample - loss: 0.0116 - acc: 1.0000\n",
      "Epoch 17/20\n",
      "20/20 [==============================] - 0s 201us/sample - loss: 0.0106 - acc: 1.0000\n",
      "Epoch 18/20\n",
      "20/20 [==============================] - 0s 100us/sample - loss: 0.0096 - acc: 1.0000\n",
      "Epoch 19/20\n",
      "20/20 [==============================] - 0s 100us/sample - loss: 0.0089 - acc: 1.0000\n",
      "Epoch 20/20\n",
      "20/20 [==============================] - 0s 200us/sample - loss: 0.0081 - acc: 1.0000\n"
     ]
    },
    {
     "data": {
      "text/plain": [
       "<tensorflow.python.keras.callbacks.History at 0x2083aace288>"
      ]
     },
     "execution_count": 19,
     "metadata": {},
     "output_type": "execute_result"
    }
   ],
   "source": [
    "model.fit(trainX, trainY, epochs=epochs)"
   ]
  },
  {
   "cell_type": "code",
   "execution_count": 23,
   "metadata": {},
   "outputs": [
    {
     "data": {
      "text/plain": [
       "array([ True,  True,  True,  True,  True,  True,  True,  True,  True,\n",
       "        True,  True,  True,  True,  True,  True,  True,  True,  True,\n",
       "        True,  True])"
      ]
     },
     "execution_count": 23,
     "metadata": {},
     "output_type": "execute_result"
    }
   ],
   "source": [
    "np.argmax(model.predict(trainX), axis=1) == np.argmax(trainY, axis=1)"
   ]
  },
  {
   "cell_type": "markdown",
   "metadata": {},
   "source": [
    "## 예제 5-2 MNIST 손글씨 숫자 분류"
   ]
  },
  {
   "cell_type": "code",
   "execution_count": 1,
   "metadata": {},
   "outputs": [],
   "source": [
    "import numpy as np\n",
    "import tensorflow as tf\n",
    "#from libs.connections import linear \n",
    "import matplotlib.pyplot as plt\n",
    "import datetime"
   ]
  },
  {
   "cell_type": "code",
   "execution_count": 2,
   "metadata": {},
   "outputs": [],
   "source": [
    "# 자료 입력\n",
    "(X_train, Y_train), (X_test, Y_test) = tf.keras.datasets.mnist.load_data()\n",
    "Y_train = tf.keras.utils.to_categorical(Y_train)\n",
    "Y_test = tf.keras.utils.to_categorical(Y_test)"
   ]
  },
  {
   "cell_type": "code",
   "execution_count": 3,
   "metadata": {},
   "outputs": [
    {
     "name": "stdout",
     "output_type": "stream",
     "text": [
      "(60000, 28, 28)\n",
      "(60000, 10)\n",
      "(10000, 28, 28)\n",
      "(10000, 10)\n"
     ]
    }
   ],
   "source": [
    "print(X_train.shape)\n",
    "print(Y_train.shape)\n",
    "print(X_test.shape)\n",
    "print(Y_test.shape)"
   ]
  },
  {
   "cell_type": "code",
   "execution_count": 4,
   "metadata": {},
   "outputs": [
    {
     "data": {
      "image/png": "[encoded data removed]",
      "text/plain": [
       "<Figure size 504x504 with 12 Axes>"
      ]
     },
     "metadata": {
      "needs_background": "light"
     },
     "output_type": "display_data"
    }
   ],
   "source": [
    "# 훈련 데이터 이미지\n",
    "f,axes =plt.subplots(figsize=(7,7), nrows=3, ncols=4, sharey=True, sharex=True)\n",
    "for ii in range(12):\n",
    "    plt.subplot(3,4,ii+1)\n",
    "    plt.imshow(X_train[ii].reshape(28,28),cmap='Greys_r')"
   ]
  },
  {
   "cell_type": "code",
   "execution_count": 5,
   "metadata": {},
   "outputs": [],
   "source": [
    "learning_rate=0.001; epochs=10; batch_size=100\n",
    "X_train = X_train.reshape((60000, 28, 28, 1))\n",
    "X_test = X_test.reshape((10000, 28, 28, 1))"
   ]
  },
  {
   "cell_type": "code",
   "execution_count": 6,
   "metadata": {
    "scrolled": true
   },
   "outputs": [
    {
     "name": "stdout",
     "output_type": "stream",
     "text": [
      "(60000, 28, 28, 1)\n",
      "(10000, 28, 28, 1)\n"
     ]
    }
   ],
   "source": [
    "print(X_train.shape)\n",
    "print(X_test.shape)"
   ]
  },
  {
   "cell_type": "code",
   "execution_count": 7,
   "metadata": {},
   "outputs": [],
   "source": [
    "model = tf.keras.Sequential()\n",
    "# 첫 번째 합성곱층에 사용하는 필터 크기와 개수, 보폭 지정\n",
    "# 첫 번째 합성곱층의 활성화함수 지정 \n",
    "model.add(tf.keras.layers.Conv2D(filters=20, kernel_size=(5,5), strides=1, input_shape=X_train.shape[1:], padding='valid', activation='relu'))\n",
    "# 배치정규화 \n",
    "model.add(tf.keras.layers.BatchNormalization())\n",
    "# 첫 번째 풀링층에 사용하는 풀링의 종류와 크기, 보폭 지정\n",
    "model.add(tf.keras.layers.MaxPool2D(pool_size=(2,2), padding='valid'))\n",
    "# 두 번째 합성곱층에 사용하는 필터 크기와 개수, 보폭 지정\n",
    "# 두 번째 합성곱층의 활성화함수 지정\n",
    "model.add(tf.keras.layers.Conv2D(filters=50, kernel_size=(5,5), strides=1, padding='valid', activation='relu'))\n",
    "# 배치정규화 \n",
    "model.add(tf.keras.layers.BatchNormalization())\n",
    "# 두 번째 풀링층에 사용하는 풀링의 종류와 크기, 보폭 지정\n",
    "model.add(tf.keras.layers.MaxPool2D(pool_size=(2,2), padding='valid'))\n",
    "#두 번째 풀링층의 출력을 1D로 변환\n",
    "model.add(tf.keras.layers.Flatten())\n",
    "#완전 연결 신경망의 은닉층의 구조 지정\n",
    "model.add(tf.keras.layers.Dense(10, activation='softmax'))"
   ]
  },
  {
   "cell_type": "code",
   "execution_count": 8,
   "metadata": {
    "scrolled": true
   },
   "outputs": [
    {
     "name": "stdout",
     "output_type": "stream",
     "text": [
      "Model: \"sequential\"\n",
      "_________________________________________________________________\n",
      "Layer (type)                 Output Shape              Param #   \n",
      "=================================================================\n",
      "conv2d (Conv2D)              (None, 24, 24, 20)        520       \n",
      "_________________________________________________________________\n",
      "batch_normalization (BatchNo (None, 24, 24, 20)        80        \n",
      "_________________________________________________________________\n",
      "max_pooling2d (MaxPooling2D) (None, 12, 12, 20)        0         \n",
      "_________________________________________________________________\n",
      "conv2d_1 (Conv2D)            (None, 8, 8, 50)          25050     \n",
      "_________________________________________________________________\n",
      "batch_normalization_1 (Batch (None, 8, 8, 50)          200       \n",
      "_________________________________________________________________\n",
      "max_pooling2d_1 (MaxPooling2 (None, 4, 4, 50)          0         \n",
      "_________________________________________________________________\n",
      "flatten (Flatten)            (None, 800)               0         \n",
      "_________________________________________________________________\n",
      "dense (Dense)                (None, 10)                8010      \n",
      "=================================================================\n",
      "Total params: 33,860\n",
      "Trainable params: 33,720\n",
      "Non-trainable params: 140\n",
      "_________________________________________________________________\n"
     ]
    }
   ],
   "source": [
    "model.summary()"
   ]
  },
  {
   "cell_type": "code",
   "execution_count": 9,
   "metadata": {},
   "outputs": [],
   "source": [
    "model.compile(loss='categorical_crossentropy', optimizer=tf.keras.optimizers.Adam(learning_rate=learning_rate), metrics=['accuracy'])"
   ]
  },
  {
   "cell_type": "code",
   "execution_count": 10,
   "metadata": {},
   "outputs": [],
   "source": [
    "import os\n",
    "log_dir = os.path.join(\"logs\",datetime.datetime.now().strftime(\"%Y%m%d-%H%M%S\"))"
   ]
  },
  {
   "cell_type": "code",
   "execution_count": 11,
   "metadata": {},
   "outputs": [
    {
     "data": {
      "text/plain": [
       "'logs\\\\20200713-131250'"
      ]
     },
     "execution_count": 11,
     "metadata": {},
     "output_type": "execute_result"
    }
   ],
   "source": [
    "log_dir"
   ]
  },
  {
   "cell_type": "code",
   "execution_count": 12,
   "metadata": {},
   "outputs": [
    {
     "data": {
      "text/plain": [
       "'D:\\\\project\\\\python\\\\golbin\\\\DeepLearningWithTnesorFlow\\\\5'"
      ]
     },
     "execution_count": 12,
     "metadata": {},
     "output_type": "execute_result"
    }
   ],
   "source": [
    "os.getcwd()"
   ]
  },
  {
   "cell_type": "code",
   "execution_count": 13,
   "metadata": {},
   "outputs": [],
   "source": [
    "tensorboard_callback = tf.keras.callbacks.TensorBoard(log_dir=log_dir)"
   ]
  },
  {
   "cell_type": "code",
   "execution_count": 14,
   "metadata": {
    "scrolled": true
   },
   "outputs": [
    {
     "name": "stdout",
     "output_type": "stream",
     "text": [
      "Train on 60000 samples\n",
      "Epoch 1/10\n",
      "60000/60000 [==============================] - 4s 62us/sample - loss: 0.1250 - accuracy: 0.9620\n",
      "Epoch 2/10\n",
      "60000/60000 [==============================] - 2s 31us/sample - loss: 0.0405 - accuracy: 0.9875\n",
      "Epoch 3/10\n",
      "60000/60000 [==============================] - 2s 31us/sample - loss: 0.0259 - accuracy: 0.9917\n",
      "Epoch 4/10\n",
      "60000/60000 [==============================] - 2s 31us/sample - loss: 0.0207 - accuracy: 0.9934\n",
      "Epoch 5/10\n",
      "60000/60000 [==============================] - 2s 32us/sample - loss: 0.0143 - accuracy: 0.9954\n",
      "Epoch 6/10\n",
      "60000/60000 [==============================] - 2s 31us/sample - loss: 0.0102 - accuracy: 0.9967\n",
      "Epoch 7/10\n",
      "60000/60000 [==============================] - 2s 31us/sample - loss: 0.0099 - accuracy: 0.9967\n",
      "Epoch 8/10\n",
      "60000/60000 [==============================] - 2s 30us/sample - loss: 0.0076 - accuracy: 0.9976\n",
      "Epoch 9/10\n",
      "60000/60000 [==============================] - 2s 32us/sample - loss: 0.0082 - accuracy: 0.9969\n",
      "Epoch 10/10\n",
      "60000/60000 [==============================] - 2s 32us/sample - loss: 0.0083 - accuracy: 0.9970\n"
     ]
    },
    {
     "data": {
      "text/plain": [
       "<tensorflow.python.keras.callbacks.History at 0x18866ec9b48>"
      ]
     },
     "execution_count": 14,
     "metadata": {},
     "output_type": "execute_result"
    }
   ],
   "source": [
    "model.fit(X_train, Y_train, epochs=epochs, batch_size=batch_size, callbacks=[tensorboard_callback])"
   ]
  },
  {
   "cell_type": "code",
   "execution_count": 15,
   "metadata": {},
   "outputs": [
    {
     "data": {
      "text/plain": [
       "0.99765"
      ]
     },
     "execution_count": 15,
     "metadata": {},
     "output_type": "execute_result"
    }
   ],
   "source": [
    "# 훈련 데이터의 예측 정확도\n",
    "sum(np.argmax(model.predict(X_train), axis=1) == np.argmax(Y_train, axis=1)) / 60000"
   ]
  },
  {
   "cell_type": "code",
   "execution_count": 16,
   "metadata": {},
   "outputs": [
    {
     "data": {
      "text/plain": [
       "0.9877"
      ]
     },
     "execution_count": 16,
     "metadata": {},
     "output_type": "execute_result"
    }
   ],
   "source": [
    "# 검정 데이터의 예측 정확도\n",
    "sum(np.argmax(model.predict(X_test), axis=1) == np.argmax(Y_test, axis=1)) / 10000"
   ]
  },
  {
   "cell_type": "code",
   "execution_count": 19,
   "metadata": {},
   "outputs": [
    {
     "name": "stdout",
     "output_type": "stream",
     "text": [
      "The tensorboard extension is already loaded. To reload it, use:\n",
      "  %reload_ext tensorboard\n"
     ]
    }
   ],
   "source": [
    "%load_ext tensorboard"
   ]
  },
  {
   "cell_type": "code",
   "execution_count": 20,
   "metadata": {},
   "outputs": [
    {
     "data": {
      "text/plain": [
       "ERROR: Timed out waiting for TensorBoard to start. It may still be running as pid 8912."
      ]
     },
     "metadata": {},
     "output_type": "display_data"
    }
   ],
   "source": [
    "#log_dir = 'D:\\\\project\\\\python\\\\golbin\\\\DeepLearningWithTnesorFlow\\\\5\\\\logs\\\\20200713-131250'\n",
    "#log_dir = 'D:/project/python/golbin/DeepLearningWithTnesorFlow/5/logs/20200713-130406'\n",
    "%tensorboard --logdir {log_dir}"
   ]
  },
  {
   "cell_type": "markdown",
   "metadata": {},
   "source": [
    "## 예제 5-3 MNIST 손글씨 숫자 분류(ResNet)"
   ]
  },
  {
   "cell_type": "code",
   "execution_count": 1,
   "metadata": {},
   "outputs": [],
   "source": [
    "import numpy as np\n",
    "import tensorflow as tf\n",
    "from collections import namedtuple\n",
    "from tensorflow.keras.layers import Conv2D, MaxPool2D\n",
    "import datetime"
   ]
  },
  {
   "cell_type": "code",
   "execution_count": 2,
   "metadata": {},
   "outputs": [],
   "source": [
    "# 자료 입력\n",
    "(X_train, Y_train), (X_test, Y_test) = tf.keras.datasets.mnist.load_data()\n",
    "Y_train = tf.keras.utils.to_categorical(Y_train)\n",
    "Y_test = tf.keras.utils.to_categorical(Y_test)"
   ]
  },
  {
   "cell_type": "code",
   "execution_count": 3,
   "metadata": {},
   "outputs": [
    {
     "name": "stdout",
     "output_type": "stream",
     "text": [
      "(60000, 28, 28)\n",
      "(60000, 10)\n",
      "(10000, 28, 28)\n",
      "(10000, 10)\n"
     ]
    }
   ],
   "source": [
    "print(X_train.shape)\n",
    "print(Y_train.shape)\n",
    "print(X_test.shape)\n",
    "print(Y_test.shape)"
   ]
  },
  {
   "cell_type": "code",
   "execution_count": 4,
   "metadata": {
    "scrolled": true
   },
   "outputs": [],
   "source": [
    "learning_rate=0.001; epochs=10; batch_size=100\n",
    "X_train = X_train.reshape((60000, 28, 28, 1))\n",
    "X_test = X_test.reshape((10000, 28, 28, 1))"
   ]
  },
  {
   "cell_type": "code",
   "execution_count": 5,
   "metadata": {},
   "outputs": [
    {
     "name": "stdout",
     "output_type": "stream",
     "text": [
      "(60000, 28, 28, 1)\n",
      "(60000, 10)\n",
      "(10000, 28, 28, 1)\n",
      "(10000, 10)\n"
     ]
    }
   ],
   "source": [
    "print(X_train.shape)\n",
    "print(Y_train.shape)\n",
    "print(X_test.shape)\n",
    "print(Y_test.shape)"
   ]
  },
  {
   "cell_type": "code",
   "execution_count": 6,
   "metadata": {},
   "outputs": [],
   "source": [
    "learning_rate=0.001; epochs=10; batch_size=100\n",
    "X_train = X_train.reshape((60000, 28, 28, 1))\n",
    "X_test = X_test.reshape((10000, 28, 28, 1))"
   ]
  },
  {
   "cell_type": "code",
   "execution_count": 7,
   "metadata": {},
   "outputs": [],
   "source": [
    "# ResNet 블록 구조(bottleneck 구조) \n",
    "LayerBlock = namedtuple('LayerBlock', ['num_repeats', 'num_filters', 'bottleneck_size'])\n",
    "blocks = [LayerBlock(3, 128, 32),LayerBlock(3, 256, 64),LayerBlock(3, 512, 128),\n",
    "          LayerBlock(3, 1024, 256)]"
   ]
  },
  {
   "cell_type": "code",
   "execution_count": 8,
   "metadata": {},
   "outputs": [
    {
     "data": {
      "text/plain": [
       "[LayerBlock(num_repeats=3, num_filters=128, bottleneck_size=32),\n",
       " LayerBlock(num_repeats=3, num_filters=256, bottleneck_size=64),\n",
       " LayerBlock(num_repeats=3, num_filters=512, bottleneck_size=128),\n",
       " LayerBlock(num_repeats=3, num_filters=1024, bottleneck_size=256)]"
      ]
     },
     "execution_count": 8,
     "metadata": {},
     "output_type": "execute_result"
    }
   ],
   "source": [
    "blocks"
   ]
  },
  {
   "cell_type": "code",
   "execution_count": 9,
   "metadata": {},
   "outputs": [
    {
     "data": {
      "text/plain": [
       "128"
      ]
     },
     "execution_count": 9,
     "metadata": {},
     "output_type": "execute_result"
    }
   ],
   "source": [
    "blocks[0].num_filters"
   ]
  },
  {
   "cell_type": "code",
   "execution_count": 10,
   "metadata": {
    "scrolled": true
   },
   "outputs": [
    {
     "name": "stdout",
     "output_type": "stream",
     "text": [
      "(None, 28, 28, 1) inputs; Input(shape= (28, 28, 1) )\n",
      "(None, 14, 14, 64) net; Conv2D(filters=64, kernel_size=(7,7), strides=2, padding=same)\n",
      "(None, 7, 7, 64) net; MaxPool2D(pool_size=(3,3), strides=(2, 2), padding=same)\n",
      "(None, 7, 7, 128) net; Conv2D(128, kernel_size=(1,1), strides=1, padding=valid)\n",
      "0 0 (None, 7, 7, 128) net\n",
      "0 0 (None, 7, 7, 32) conv1; Conv2D(filters= 32 , kernel_size=(1,1), padding=valid, strides=1)\n",
      "0 0 (None, 7, 7, 32) conv2; Conv2D(filters= 32 , kernel_size=(3,3), padding=same, strides=1)\n",
      "0 0 (None, 7, 7, 128) conv3; Conv2D(filters= 128 , kernel_size=(1,1), padding=valid, strides=1)\n",
      "0 1 (None, 7, 7, 128) net\n",
      "0 1 (None, 7, 7, 32) conv1; Conv2D(filters= 32 , kernel_size=(1,1), padding=valid, strides=1)\n",
      "0 1 (None, 7, 7, 32) conv2; Conv2D(filters= 32 , kernel_size=(3,3), padding=same, strides=1)\n",
      "0 1 (None, 7, 7, 128) conv3; Conv2D(filters= 128 , kernel_size=(1,1), padding=valid, strides=1)\n",
      "0 2 (None, 7, 7, 128) net\n",
      "0 2 (None, 7, 7, 32) conv1; Conv2D(filters= 32 , kernel_size=(1,1), padding=valid, strides=1)\n",
      "0 2 (None, 7, 7, 32) conv2; Conv2D(filters= 32 , kernel_size=(3,3), padding=same, strides=1)\n",
      "0 2 (None, 7, 7, 128) conv3; Conv2D(filters= 128 , kernel_size=(1,1), padding=valid, strides=1)\n",
      "0 (None, 7, 7, 256) net; Conv2D(filters= 256 , kernel_size=(1,1), padding=same, strides=1)\n",
      "1 0 (None, 7, 7, 256) net\n",
      "1 0 (None, 7, 7, 64) conv1; Conv2D(filters= 64 , kernel_size=(1,1), padding=valid, strides=1)\n",
      "1 0 (None, 7, 7, 64) conv2; Conv2D(filters= 64 , kernel_size=(3,3), padding=same, strides=1)\n",
      "1 0 (None, 7, 7, 256) conv3; Conv2D(filters= 256 , kernel_size=(1,1), padding=valid, strides=1)\n",
      "1 1 (None, 7, 7, 256) net\n",
      "1 1 (None, 7, 7, 64) conv1; Conv2D(filters= 64 , kernel_size=(1,1), padding=valid, strides=1)\n",
      "1 1 (None, 7, 7, 64) conv2; Conv2D(filters= 64 , kernel_size=(3,3), padding=same, strides=1)\n",
      "1 1 (None, 7, 7, 256) conv3; Conv2D(filters= 256 , kernel_size=(1,1), padding=valid, strides=1)\n",
      "1 2 (None, 7, 7, 256) net\n",
      "1 2 (None, 7, 7, 64) conv1; Conv2D(filters= 64 , kernel_size=(1,1), padding=valid, strides=1)\n",
      "1 2 (None, 7, 7, 64) conv2; Conv2D(filters= 64 , kernel_size=(3,3), padding=same, strides=1)\n",
      "1 2 (None, 7, 7, 256) conv3; Conv2D(filters= 256 , kernel_size=(1,1), padding=valid, strides=1)\n",
      "1 (None, 7, 7, 512) net; Conv2D(filters= 512 , kernel_size=(1,1), padding=same, strides=1)\n",
      "2 0 (None, 7, 7, 512) net\n",
      "2 0 (None, 7, 7, 128) conv1; Conv2D(filters= 128 , kernel_size=(1,1), padding=valid, strides=1)\n",
      "2 0 (None, 7, 7, 128) conv2; Conv2D(filters= 128 , kernel_size=(3,3), padding=same, strides=1)\n",
      "2 0 (None, 7, 7, 512) conv3; Conv2D(filters= 512 , kernel_size=(1,1), padding=valid, strides=1)\n",
      "2 1 (None, 7, 7, 512) net\n",
      "2 1 (None, 7, 7, 128) conv1; Conv2D(filters= 128 , kernel_size=(1,1), padding=valid, strides=1)\n",
      "2 1 (None, 7, 7, 128) conv2; Conv2D(filters= 128 , kernel_size=(3,3), padding=same, strides=1)\n",
      "2 1 (None, 7, 7, 512) conv3; Conv2D(filters= 512 , kernel_size=(1,1), padding=valid, strides=1)\n",
      "2 2 (None, 7, 7, 512) net\n",
      "2 2 (None, 7, 7, 128) conv1; Conv2D(filters= 128 , kernel_size=(1,1), padding=valid, strides=1)\n",
      "2 2 (None, 7, 7, 128) conv2; Conv2D(filters= 128 , kernel_size=(3,3), padding=same, strides=1)\n",
      "2 2 (None, 7, 7, 512) conv3; Conv2D(filters= 512 , kernel_size=(1,1), padding=valid, strides=1)\n",
      "2 (None, 7, 7, 1024) net; Conv2D(filters= 1024 , kernel_size=(1,1), padding=same, strides=1)\n",
      "3 0 (None, 7, 7, 1024) net\n",
      "3 0 (None, 7, 7, 256) conv1; Conv2D(filters= 256 , kernel_size=(1,1), padding=valid, strides=1)\n",
      "3 0 (None, 7, 7, 256) conv2; Conv2D(filters= 256 , kernel_size=(3,3), padding=same, strides=1)\n",
      "3 0 (None, 7, 7, 1024) conv3; Conv2D(filters= 1024 , kernel_size=(1,1), padding=valid, strides=1)\n",
      "3 1 (None, 7, 7, 1024) net\n",
      "3 1 (None, 7, 7, 256) conv1; Conv2D(filters= 256 , kernel_size=(1,1), padding=valid, strides=1)\n",
      "3 1 (None, 7, 7, 256) conv2; Conv2D(filters= 256 , kernel_size=(3,3), padding=same, strides=1)\n",
      "3 1 (None, 7, 7, 1024) conv3; Conv2D(filters= 1024 , kernel_size=(1,1), padding=valid, strides=1)\n",
      "3 2 (None, 7, 7, 1024) net\n",
      "3 2 (None, 7, 7, 256) conv1; Conv2D(filters= 256 , kernel_size=(1,1), padding=valid, strides=1)\n",
      "3 2 (None, 7, 7, 256) conv2; Conv2D(filters= 256 , kernel_size=(3,3), padding=same, strides=1)\n",
      "3 2 (None, 7, 7, 1024) conv3; Conv2D(filters= 1024 , kernel_size=(1,1), padding=valid, strides=1)\n",
      "IndexError\n",
      "(None, 1, 1, 1024) net; AveragePooling2D(pool_size=( 1 , 1 ), strides=1, padding=valid)\n",
      "(None, 1024) Flat; Flatten()\n",
      "(None, 10) Y_pred; Dense(10, activation=softmax)\n"
     ]
    }
   ],
   "source": [
    "inputs = tf.keras.Input(shape=X_train.shape[1:])\n",
    "print(inputs.shape, 'inputs; Input(shape=',X_train.shape[1:],')')\n",
    "# 채널수 64의 합성곱 출력을 만들고 다운샘플링\n",
    "net = Conv2D(filters=64, kernel_size=(7,7), strides=2, padding='same', activation='relu', name='conv1')(inputs)\n",
    "print(net.shape, 'net; Conv2D(filters=64, kernel_size=(7,7), strides=2, padding=''same'')')\n",
    "\n",
    "net = MaxPool2D(pool_size=(3,3), strides=(2, 2), padding='same')(net)\n",
    "print(net.shape, 'net; MaxPool2D(pool_size=(3,3), strides=(2, 2), padding=''same'')')\n",
    "\n",
    "# ResNet 블록구조의 입력 생성 \n",
    "net = Conv2D(128, kernel_size=(1,1), strides=1, padding='valid', name='conv2')(net)\n",
    "print(net.shape, 'net; Conv2D(128, kernel_size=(1,1), strides=1, padding=''valid'')')\n",
    "\n",
    "# ResNet 블록 반복 \n",
    "for block_i, block in enumerate(blocks):\n",
    "    for repeat_i in range(block.num_repeats):\n",
    "        name = 'block_%d/repeat_%d' % (block_i, repeat_i)\n",
    "        print(block_i, repeat_i, net.shape, 'net')\n",
    "        conv1 = Conv2D(filters=block.bottleneck_size, \n",
    "                       kernel_size=(1,1), padding='valid', strides=1, \n",
    "                       activation='relu', name=name + '/conv_in')(net)\n",
    "        print(block_i, repeat_i, conv1.shape, 'conv1; Conv2D(filters=',block.bottleneck_size,', kernel_size=(1,1), padding=''valid'', strides=1)')\n",
    "\n",
    "        conv2 = Conv2D(filters=block.bottleneck_size,\n",
    "                       kernel_size=(3,3), padding='same', strides=1,\n",
    "                       activation='relu', name=name + '/conv_bottleneck')(conv1)\n",
    "        print(block_i, repeat_i, conv2.shape, 'conv2; Conv2D(filters=',block.bottleneck_size,', kernel_size=(3,3), padding=''same'', strides=1)')\n",
    "\n",
    "        conv3 = Conv2D(filters=block.num_filters,\n",
    "                       kernel_size=(1,1), padding='valid', strides=1,\n",
    "                       activation='relu', name=name + '/conv_out')(conv2)\n",
    "        print(block_i, repeat_i, conv3.shape, 'conv3; Conv2D(filters=',block.num_filters,', kernel_size=(1,1), padding=''valid'', strides=1)')\n",
    "        net = conv3 + net\n",
    "\n",
    "    try:\n",
    "        # upscale to the next block size\n",
    "        next_block = blocks[block_i + 1]\n",
    "        net = Conv2D(filters=next_block.num_filters,\n",
    "                     kernel_size=(1,1), padding='same', strides=1, use_bias=False,\n",
    "                     name='block_%d/conv_upscale' % block_i)(net)\n",
    "        print(block_i, net.shape, 'net; Conv2D(filters=', next_block.num_filters, ', kernel_size=(1,1), padding=''same'', strides=1)')\n",
    "    except IndexError:\n",
    "        print(\"IndexError\")\n",
    "        pass\n",
    "\n",
    "# 평균 풀링을 이용하여 블록 구조의 최종 출력의 차원 변환\n",
    "net = tf.keras.layers.AveragePooling2D(pool_size=(net.shape[1],net.shape[2]), strides=1, padding='valid')(net)\n",
    "print(net.shape, 'net; AveragePooling2D(pool_size=(',net.shape[1],',',net.shape[2],'), strides=1, padding=''valid'')')\n",
    "\n",
    "#ResNet 블록 구조의 최종 출력을 1D로 변환\n",
    "Flat=tf.keras.layers.Flatten()(net)\n",
    "print(Flat.shape, 'Flat; Flatten()')\n",
    "# 최종 출력을 위해 소프트맥스함수 지정\n",
    "Y_pred=tf.keras.layers.Dense(10, activation='softmax')(Flat)\n",
    "print(Y_pred.shape, 'Y_pred; Dense(10, activation=''softmax'')')"
   ]
  },
  {
   "cell_type": "code",
   "execution_count": 11,
   "metadata": {},
   "outputs": [
    {
     "name": "stdout",
     "output_type": "stream",
     "text": [
      "Model: \"model\"\n",
      "__________________________________________________________________________________________________\n",
      "Layer (type)                    Output Shape         Param #     Connected to                     \n",
      "==================================================================================================\n",
      "input_1 (InputLayer)            [(None, 28, 28, 1)]  0                                            \n",
      "__________________________________________________________________________________________________\n",
      "conv1 (Conv2D)                  (None, 14, 14, 64)   3200        input_1[0][0]                    \n",
      "__________________________________________________________________________________________________\n",
      "max_pooling2d (MaxPooling2D)    (None, 7, 7, 64)     0           conv1[0][0]                      \n",
      "__________________________________________________________________________________________________\n",
      "conv2 (Conv2D)                  (None, 7, 7, 128)    8320        max_pooling2d[0][0]              \n",
      "__________________________________________________________________________________________________\n",
      "block_0/repeat_0/conv_in (Conv2 (None, 7, 7, 32)     4128        conv2[0][0]                      \n",
      "__________________________________________________________________________________________________\n",
      "block_0/repeat_0/conv_bottlenec (None, 7, 7, 32)     9248        block_0/repeat_0/conv_in[0][0]   \n",
      "__________________________________________________________________________________________________\n",
      "block_0/repeat_0/conv_out (Conv (None, 7, 7, 128)    4224        block_0/repeat_0/conv_bottleneck[\n",
      "__________________________________________________________________________________________________\n",
      "tf_op_layer_add (TensorFlowOpLa [(None, 7, 7, 128)]  0           block_0/repeat_0/conv_out[0][0]  \n",
      "                                                                 conv2[0][0]                      \n",
      "__________________________________________________________________________________________________\n",
      "block_0/repeat_1/conv_in (Conv2 (None, 7, 7, 32)     4128        tf_op_layer_add[0][0]            \n",
      "__________________________________________________________________________________________________\n",
      "block_0/repeat_1/conv_bottlenec (None, 7, 7, 32)     9248        block_0/repeat_1/conv_in[0][0]   \n",
      "__________________________________________________________________________________________________\n",
      "block_0/repeat_1/conv_out (Conv (None, 7, 7, 128)    4224        block_0/repeat_1/conv_bottleneck[\n",
      "__________________________________________________________________________________________________\n",
      "tf_op_layer_add_1 (TensorFlowOp [(None, 7, 7, 128)]  0           block_0/repeat_1/conv_out[0][0]  \n",
      "                                                                 tf_op_layer_add[0][0]            \n",
      "__________________________________________________________________________________________________\n",
      "block_0/repeat_2/conv_in (Conv2 (None, 7, 7, 32)     4128        tf_op_layer_add_1[0][0]          \n",
      "__________________________________________________________________________________________________\n",
      "block_0/repeat_2/conv_bottlenec (None, 7, 7, 32)     9248        block_0/repeat_2/conv_in[0][0]   \n",
      "__________________________________________________________________________________________________\n",
      "block_0/repeat_2/conv_out (Conv (None, 7, 7, 128)    4224        block_0/repeat_2/conv_bottleneck[\n",
      "__________________________________________________________________________________________________\n",
      "tf_op_layer_add_2 (TensorFlowOp [(None, 7, 7, 128)]  0           block_0/repeat_2/conv_out[0][0]  \n",
      "                                                                 tf_op_layer_add_1[0][0]          \n",
      "__________________________________________________________________________________________________\n",
      "block_0/conv_upscale (Conv2D)   (None, 7, 7, 256)    32768       tf_op_layer_add_2[0][0]          \n",
      "__________________________________________________________________________________________________\n",
      "block_1/repeat_0/conv_in (Conv2 (None, 7, 7, 64)     16448       block_0/conv_upscale[0][0]       \n",
      "__________________________________________________________________________________________________\n",
      "block_1/repeat_0/conv_bottlenec (None, 7, 7, 64)     36928       block_1/repeat_0/conv_in[0][0]   \n",
      "__________________________________________________________________________________________________\n",
      "block_1/repeat_0/conv_out (Conv (None, 7, 7, 256)    16640       block_1/repeat_0/conv_bottleneck[\n",
      "__________________________________________________________________________________________________\n",
      "tf_op_layer_add_3 (TensorFlowOp [(None, 7, 7, 256)]  0           block_1/repeat_0/conv_out[0][0]  \n",
      "                                                                 block_0/conv_upscale[0][0]       \n",
      "__________________________________________________________________________________________________\n",
      "block_1/repeat_1/conv_in (Conv2 (None, 7, 7, 64)     16448       tf_op_layer_add_3[0][0]          \n",
      "__________________________________________________________________________________________________\n",
      "block_1/repeat_1/conv_bottlenec (None, 7, 7, 64)     36928       block_1/repeat_1/conv_in[0][0]   \n",
      "__________________________________________________________________________________________________\n",
      "block_1/repeat_1/conv_out (Conv (None, 7, 7, 256)    16640       block_1/repeat_1/conv_bottleneck[\n",
      "__________________________________________________________________________________________________\n",
      "tf_op_layer_add_4 (TensorFlowOp [(None, 7, 7, 256)]  0           block_1/repeat_1/conv_out[0][0]  \n",
      "                                                                 tf_op_layer_add_3[0][0]          \n",
      "__________________________________________________________________________________________________\n",
      "block_1/repeat_2/conv_in (Conv2 (None, 7, 7, 64)     16448       tf_op_layer_add_4[0][0]          \n",
      "__________________________________________________________________________________________________\n",
      "block_1/repeat_2/conv_bottlenec (None, 7, 7, 64)     36928       block_1/repeat_2/conv_in[0][0]   \n",
      "__________________________________________________________________________________________________\n",
      "block_1/repeat_2/conv_out (Conv (None, 7, 7, 256)    16640       block_1/repeat_2/conv_bottleneck[\n",
      "__________________________________________________________________________________________________\n",
      "tf_op_layer_add_5 (TensorFlowOp [(None, 7, 7, 256)]  0           block_1/repeat_2/conv_out[0][0]  \n",
      "                                                                 tf_op_layer_add_4[0][0]          \n",
      "__________________________________________________________________________________________________\n",
      "block_1/conv_upscale (Conv2D)   (None, 7, 7, 512)    131072      tf_op_layer_add_5[0][0]          \n",
      "__________________________________________________________________________________________________\n",
      "block_2/repeat_0/conv_in (Conv2 (None, 7, 7, 128)    65664       block_1/conv_upscale[0][0]       \n",
      "__________________________________________________________________________________________________\n",
      "block_2/repeat_0/conv_bottlenec (None, 7, 7, 128)    147584      block_2/repeat_0/conv_in[0][0]   \n",
      "__________________________________________________________________________________________________\n",
      "block_2/repeat_0/conv_out (Conv (None, 7, 7, 512)    66048       block_2/repeat_0/conv_bottleneck[\n",
      "__________________________________________________________________________________________________\n",
      "tf_op_layer_add_6 (TensorFlowOp [(None, 7, 7, 512)]  0           block_2/repeat_0/conv_out[0][0]  \n",
      "                                                                 block_1/conv_upscale[0][0]       \n",
      "__________________________________________________________________________________________________\n",
      "block_2/repeat_1/conv_in (Conv2 (None, 7, 7, 128)    65664       tf_op_layer_add_6[0][0]          \n",
      "__________________________________________________________________________________________________\n",
      "block_2/repeat_1/conv_bottlenec (None, 7, 7, 128)    147584      block_2/repeat_1/conv_in[0][0]   \n",
      "__________________________________________________________________________________________________\n",
      "block_2/repeat_1/conv_out (Conv (None, 7, 7, 512)    66048       block_2/repeat_1/conv_bottleneck[\n",
      "__________________________________________________________________________________________________\n",
      "tf_op_layer_add_7 (TensorFlowOp [(None, 7, 7, 512)]  0           block_2/repeat_1/conv_out[0][0]  \n",
      "                                                                 tf_op_layer_add_6[0][0]          \n",
      "__________________________________________________________________________________________________\n",
      "block_2/repeat_2/conv_in (Conv2 (None, 7, 7, 128)    65664       tf_op_layer_add_7[0][0]          \n",
      "__________________________________________________________________________________________________\n",
      "block_2/repeat_2/conv_bottlenec (None, 7, 7, 128)    147584      block_2/repeat_2/conv_in[0][0]   \n",
      "__________________________________________________________________________________________________\n",
      "block_2/repeat_2/conv_out (Conv (None, 7, 7, 512)    66048       block_2/repeat_2/conv_bottleneck[\n",
      "__________________________________________________________________________________________________\n",
      "tf_op_layer_add_8 (TensorFlowOp [(None, 7, 7, 512)]  0           block_2/repeat_2/conv_out[0][0]  \n",
      "                                                                 tf_op_layer_add_7[0][0]          \n",
      "__________________________________________________________________________________________________\n",
      "block_2/conv_upscale (Conv2D)   (None, 7, 7, 1024)   524288      tf_op_layer_add_8[0][0]          \n",
      "__________________________________________________________________________________________________\n",
      "block_3/repeat_0/conv_in (Conv2 (None, 7, 7, 256)    262400      block_2/conv_upscale[0][0]       \n",
      "__________________________________________________________________________________________________\n",
      "block_3/repeat_0/conv_bottlenec (None, 7, 7, 256)    590080      block_3/repeat_0/conv_in[0][0]   \n",
      "__________________________________________________________________________________________________\n",
      "block_3/repeat_0/conv_out (Conv (None, 7, 7, 1024)   263168      block_3/repeat_0/conv_bottleneck[\n",
      "__________________________________________________________________________________________________\n",
      "tf_op_layer_add_9 (TensorFlowOp [(None, 7, 7, 1024)] 0           block_3/repeat_0/conv_out[0][0]  \n",
      "                                                                 block_2/conv_upscale[0][0]       \n",
      "__________________________________________________________________________________________________\n",
      "block_3/repeat_1/conv_in (Conv2 (None, 7, 7, 256)    262400      tf_op_layer_add_9[0][0]          \n",
      "__________________________________________________________________________________________________\n",
      "block_3/repeat_1/conv_bottlenec (None, 7, 7, 256)    590080      block_3/repeat_1/conv_in[0][0]   \n",
      "__________________________________________________________________________________________________\n",
      "block_3/repeat_1/conv_out (Conv (None, 7, 7, 1024)   263168      block_3/repeat_1/conv_bottleneck[\n",
      "__________________________________________________________________________________________________\n",
      "tf_op_layer_add_10 (TensorFlowO [(None, 7, 7, 1024)] 0           block_3/repeat_1/conv_out[0][0]  \n",
      "                                                                 tf_op_layer_add_9[0][0]          \n",
      "__________________________________________________________________________________________________\n",
      "block_3/repeat_2/conv_in (Conv2 (None, 7, 7, 256)    262400      tf_op_layer_add_10[0][0]         \n",
      "__________________________________________________________________________________________________\n",
      "block_3/repeat_2/conv_bottlenec (None, 7, 7, 256)    590080      block_3/repeat_2/conv_in[0][0]   \n",
      "__________________________________________________________________________________________________\n",
      "block_3/repeat_2/conv_out (Conv (None, 7, 7, 1024)   263168      block_3/repeat_2/conv_bottleneck[\n",
      "__________________________________________________________________________________________________\n",
      "tf_op_layer_add_11 (TensorFlowO [(None, 7, 7, 1024)] 0           block_3/repeat_2/conv_out[0][0]  \n",
      "                                                                 tf_op_layer_add_10[0][0]         \n",
      "__________________________________________________________________________________________________\n",
      "average_pooling2d (AveragePooli (None, 1, 1, 1024)   0           tf_op_layer_add_11[0][0]         \n",
      "__________________________________________________________________________________________________\n",
      "flatten (Flatten)               (None, 1024)         0           average_pooling2d[0][0]          \n",
      "__________________________________________________________________________________________________\n",
      "dense (Dense)                   (None, 10)           10250       flatten[0][0]                    \n",
      "==================================================================================================\n",
      "Total params: 5,157,578\n",
      "Trainable params: 5,157,578\n",
      "Non-trainable params: 0\n",
      "__________________________________________________________________________________________________\n"
     ]
    }
   ],
   "source": [
    "model = tf.keras.Model(inputs, Y_pred)\n",
    "model.summary()"
   ]
  },
  {
   "cell_type": "code",
   "execution_count": 12,
   "metadata": {},
   "outputs": [],
   "source": [
    "model.compile(loss='categorical_crossentropy', optimizer=tf.keras.optimizers.Adam(learning_rate=learning_rate), metrics=['accuracy'])"
   ]
  },
  {
   "cell_type": "code",
   "execution_count": 13,
   "metadata": {},
   "outputs": [],
   "source": [
    "log_dir = \"logs\\\\\" + datetime.datetime.now().strftime(\"%Y%m%d-%H%M%S\")"
   ]
  },
  {
   "cell_type": "code",
   "execution_count": 14,
   "metadata": {},
   "outputs": [
    {
     "data": {
      "text/plain": [
       "'logs\\\\20200713-131654'"
      ]
     },
     "execution_count": 14,
     "metadata": {},
     "output_type": "execute_result"
    }
   ],
   "source": [
    "log_dir"
   ]
  },
  {
   "cell_type": "code",
   "execution_count": 15,
   "metadata": {},
   "outputs": [],
   "source": [
    "tensorboard_callback = tf.keras.callbacks.TensorBoard(log_dir=log_dir)"
   ]
  },
  {
   "cell_type": "code",
   "execution_count": 16,
   "metadata": {},
   "outputs": [
    {
     "name": "stdout",
     "output_type": "stream",
     "text": [
      "Train on 60000 samples\n",
      "Epoch 1/10\n",
      "60000/60000 [==============================] - 37s 622us/sample - loss: 1.4880 - accuracy: 0.8701\n",
      "Epoch 2/10\n",
      "60000/60000 [==============================] - 33s 552us/sample - loss: 0.0790 - accuracy: 0.9756\n",
      "Epoch 3/10\n",
      "60000/60000 [==============================] - 34s 566us/sample - loss: 0.0553 - accuracy: 0.9829\n",
      "Epoch 4/10\n",
      "60000/60000 [==============================] - 34s 563us/sample - loss: 0.0480 - accuracy: 0.9856\n",
      "Epoch 5/10\n",
      "60000/60000 [==============================] - 34s 561us/sample - loss: 0.0474 - accuracy: 0.9853\n",
      "Epoch 6/10\n",
      "60000/60000 [==============================] - 34s 560us/sample - loss: 0.0497 - accuracy: 0.9850\n",
      "Epoch 7/10\n",
      "60000/60000 [==============================] - 33s 555us/sample - loss: 0.0501 - accuracy: 0.9856\n",
      "Epoch 8/10\n",
      "60000/60000 [==============================] - 33s 553us/sample - loss: 0.0621 - accuracy: 0.9825\n",
      "Epoch 9/10\n",
      "60000/60000 [==============================] - 33s 553us/sample - loss: 0.0602 - accuracy: 0.9833\n",
      "Epoch 10/10\n",
      "60000/60000 [==============================] - 33s 556us/sample - loss: 0.0603 - accuracy: 0.9830\n"
     ]
    },
    {
     "data": {
      "text/plain": [
       "<tensorflow.python.keras.callbacks.History at 0x16d4b008d08>"
      ]
     },
     "execution_count": 16,
     "metadata": {},
     "output_type": "execute_result"
    }
   ],
   "source": [
    "model.fit(X_train, Y_train, epochs=epochs, batch_size=batch_size, callbacks=[tensorboard_callback])"
   ]
  },
  {
   "cell_type": "code",
   "execution_count": 17,
   "metadata": {},
   "outputs": [
    {
     "data": {
      "text/plain": [
       "0.9902833333333333"
      ]
     },
     "execution_count": 17,
     "metadata": {},
     "output_type": "execute_result"
    }
   ],
   "source": [
    "# 훈련 데이터의 예측 정확도\n",
    "sum(np.argmax(model.predict(X_train), axis=1) == np.argmax(Y_train, axis=1)) / 60000"
   ]
  },
  {
   "cell_type": "code",
   "execution_count": 18,
   "metadata": {
    "scrolled": false
   },
   "outputs": [
    {
     "data": {
      "text/plain": [
       "0.9856"
      ]
     },
     "execution_count": 18,
     "metadata": {},
     "output_type": "execute_result"
    }
   ],
   "source": [
    "# 검정 데이터의 예측 정확도\n",
    "sum(np.argmax(model.predict(X_test), axis=1) == np.argmax(Y_test, axis=1)) / 10000"
   ]
  },
  {
   "cell_type": "code",
   "execution_count": 30,
   "metadata": {},
   "outputs": [
    {
     "name": "stdout",
     "output_type": "stream",
     "text": [
      "The tensorboard extension is already loaded. To reload it, use:\n",
      "  %reload_ext tensorboard\n"
     ]
    },
    {
     "data": {
      "text/plain": [
       "ERROR: Timed out waiting for TensorBoard to start. It may still be running as pid 24388."
      ]
     },
     "metadata": {},
     "output_type": "display_data"
    }
   ],
   "source": [
    "%load_ext tensorboard\n",
    "%tensorboard --logdir {log_dir}"
   ]
  },
  {
   "cell_type": "code",
   "execution_count": 60,
   "metadata": {},
   "outputs": [],
   "source": [
    "class ResNet(tf.keras.Model):\n",
    "    def __init__(self, **kwargs):\n",
    "        super(ResNet, self).__init__(**kwargs)\n",
    "        \n",
    "    def call(self, x):\n",
    "        return x\n",
    "    \n",
    "    def build_graph(self, input_shape): \n",
    "        input_shape_nobatch = input_shape[1:]\n",
    "        self.build(input_shape)\n",
    "        inputs = tf.keras.Input(shape=input_shape_nobatch)\n",
    "        \n",
    "        if not hasattr(self, 'call'):\n",
    "            raise AttributeError(\"User should define 'call' method in sub-class model!\")\n",
    "        \n",
    "        _ = self.call(inputs)"
   ]
  }
 ],
 "metadata": {
  "kernelspec": {
   "display_name": "Python 3",
   "language": "python",
   "name": "python3"
  },
  "language_info": {
   "codemirror_mode": {
    "name": "ipython",
    "version": 3
   },
   "file_extension": ".py",
   "mimetype": "text/x-python",
   "name": "python",
   "nbconvert_exporter": "python",
   "pygments_lexer": "ipython3",
   "version": "3.7.7"
  }
 },
 "nbformat": 4,
 "nbformat_minor": 4
}
