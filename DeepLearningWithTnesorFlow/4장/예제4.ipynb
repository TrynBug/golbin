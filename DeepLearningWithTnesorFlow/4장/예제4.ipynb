{
 "cells": [
  {
   "cell_type": "markdown",
   "metadata": {},
   "source": [
    "## 예제 4-2 셰익스피어 작품의 문장 생성을 LSTM으로 학습하기"
   ]
  },
  {
   "cell_type": "markdown",
   "metadata": {},
   "source": [
    "LSTM으로 셰익스피어 작품 흉내 내기를 실습한다. 모형은 입력층과 2개의 은닉층 그리고 출력층으로 구성된다. 은닉층의 노드 수는 32, 서열 길이는 50, 가중치 클리핑은 5로 설정하였다."
   ]
  },
  {
   "cell_type": "code",
   "execution_count": 1,
   "metadata": {},
   "outputs": [],
   "source": [
    "import os\n",
    "import numpy as np\n",
    "import tensorflow as tf"
   ]
  },
  {
   "cell_type": "code",
   "execution_count": 2,
   "metadata": {},
   "outputs": [],
   "source": [
    "#-------------------------------------------------\n",
    "# 데이터 불러오기\n",
    "#-------------------------------------------------\n",
    "#os.chdir(\"C:\\\\Users\\\\admin\\\\Dropbox\\\\저서\\텐서플로_딥러닝\\\\RNN_tensorflow\")\n",
    "raw_data = open('./input.txt', 'r').read() # input.txt 예제 데이터\n",
    "# 계산 시간 때문에 일부만 사용\n",
    "raw_data = raw_data[:200000]"
   ]
  },
  {
   "cell_type": "code",
   "execution_count": 3,
   "metadata": {},
   "outputs": [
    {
     "name": "stdout",
     "output_type": "stream",
     "text": [
      "<class 'str'>\n",
      "200000\n",
      "First Citizen:\n",
      "Before we proceed any further, hear me speak.\n",
      "\n",
      "All:\n",
      "Speak, speak.\n",
      "\n",
      "First Citizen:\n",
      "You\n"
     ]
    }
   ],
   "source": [
    "print(type(raw_data))\n",
    "print(len(raw_data))\n",
    "print(raw_data[0:100])"
   ]
  },
  {
   "cell_type": "code",
   "execution_count": 4,
   "metadata": {},
   "outputs": [],
   "source": [
    "# 전체 문자 수\n",
    "n_samples = len(raw_data)\n",
    "# 고유한 문자\n",
    "unique_chars = list(set(raw_data));\n",
    "# 문자를 정수로 변환하는 딕셔너리\n",
    "char_to_int = { ch:i for i,ch in enumerate(unique_chars) }\n",
    "# 정수를 문자로 변환하는 딕셔너리\n",
    "int_to_char = { i:ch for i,ch in enumerate(unique_chars) }\n",
    "# 고유한 문자 수\n",
    "n_unique_chars = len(unique_chars)"
   ]
  },
  {
   "cell_type": "code",
   "execution_count": 5,
   "metadata": {},
   "outputs": [
    {
     "name": "stdout",
     "output_type": "stream",
     "text": [
      "200000\n",
      "62\n"
     ]
    }
   ],
   "source": [
    "print(n_samples)\n",
    "print(n_unique_chars)"
   ]
  },
  {
   "cell_type": "code",
   "execution_count": 6,
   "metadata": {},
   "outputs": [],
   "source": [
    "# 입력층의 노드 수(입력 크기) = 원-핫 벡터 크기\n",
    "input_dim = n_unique_chars\n",
    "# 출력층의 노드 수 = 고유한 문자 수\n",
    "num_classes = n_unique_chars"
   ]
  },
  {
   "cell_type": "code",
   "execution_count": 39,
   "metadata": {},
   "outputs": [],
   "source": [
    "#-------------------------------------------\n",
    "# 매개변수 설정\n",
    "#-------------------------------------------\n",
    "# 은닉층 크기: 32\n",
    "# 미니배치 크기: 100\n",
    "# 반복 수: 200\n",
    "# 학습률: 0.1\n",
    "# Gradient Clipping에 사용할 임곗값: 2\n",
    "batch_size = 100\n",
    "seq_len = 62 # 한 번에 입력되는 서열 길이\n",
    "hidden_size = 32 # 은닉층 노드 수\n",
    "learning_rate = 0.05\n",
    "grad_clip = 5 # Gradient Clipping에 사용할 임곗값\n",
    "nepochs = 50 # 반복 수\n",
    "# 배치 개수\n",
    "num_batches = int(len(raw_data)/(batch_size * seq_len)) # 40"
   ]
  },
  {
   "cell_type": "code",
   "execution_count": 40,
   "metadata": {},
   "outputs": [],
   "source": [
    "# 데이터 - (배치 크기*배치 개수)\n",
    "data = raw_data[:num_batches*batch_size*seq_len]\n",
    "# 데이터를 정수로 변환\n",
    "data = np.array([char_to_int[n] for n in data]);"
   ]
  },
  {
   "cell_type": "code",
   "execution_count": 41,
   "metadata": {},
   "outputs": [],
   "source": [
    "# 입력과 목표 데이터 설정\n",
    "xdata = data\n",
    "ydata = np.copy(data)\n",
    "ydata[:-1] = xdata[1:]\n",
    "ydata[-1] = xdata[0]"
   ]
  },
  {
   "cell_type": "code",
   "execution_count": 42,
   "metadata": {},
   "outputs": [],
   "source": [
    "# 배치 개수*배치 크기*서열 길이 = (?, 100, 32)\n",
    "#x_batches = np.split(xdata.reshape(batch_size, -1),num_batches, 1)\n",
    "#x_batches = np.asarray(x_batches)\n",
    "#x_batches.shape\n",
    "dataset = tf.data.Dataset.from_tensor_slices((xdata, ydata)).batch(seq_len, drop_remainder=True)\n",
    "dataset = dataset.batch(batch_size, drop_remainder=True)"
   ]
  },
  {
   "cell_type": "code",
   "execution_count": 43,
   "metadata": {},
   "outputs": [
    {
     "name": "stdout",
     "output_type": "stream",
     "text": [
      "<class 'tensorflow.python.data.ops.dataset_ops.BatchDataset'>\n",
      "<BatchDataset shapes: ((100, 62), (100, 62)), types: (tf.int32, tf.int32)>\n",
      "(array([[34, 51, 57, ..., 25, 60, 60],\n",
      "       [52, 53, 53, ...,  6,  1, 57],\n",
      "       [31, 48,  3, ..., 48, 51, 49],\n",
      "       ...,\n",
      "       [ 1, 12, 48, ..., 26, 24, 60],\n",
      "       [28,  6,  1, ..., 20,  1, 31],\n",
      "       [48,  6, 12, ..., 12, 53, 53]]), array([[51, 57, 30, ..., 60, 60, 52],\n",
      "       [53, 53,  4, ...,  1, 57, 31],\n",
      "       [48,  3, 31, ..., 51, 49,  1],\n",
      "       ...,\n",
      "       [12, 48, 31, ..., 24, 60, 28],\n",
      "       [ 6,  1, 31, ...,  1, 31, 48],\n",
      "       [ 6, 12, 48, ..., 53, 53, 31]]))\n"
     ]
    }
   ],
   "source": [
    "print(type(dataset))\n",
    "print(dataset)\n",
    "print(list(dataset.as_numpy_iterator())[0])"
   ]
  },
  {
   "cell_type": "code",
   "execution_count": 44,
   "metadata": {},
   "outputs": [],
   "source": [
    "# 입력 데이터 플레이스 홀더 설정([batch_size, seq_len])\n",
    "#X = tf.placeholder(tf.int32, shape = [None, None])\n",
    "# 목표 데이터 플레이스 홀더 설정([batch_size*seq_len, n_unique_chars])\n",
    "#Y = tf.placeholder(tf.int32, shape = [None, None])\n",
    "#state_batch_size = tf.placeholder(tf.int32, shape=[]) # Training: 100, Sampling: 1"
   ]
  },
  {
   "cell_type": "code",
   "execution_count": 45,
   "metadata": {},
   "outputs": [],
   "source": [
    "model = tf.keras.Sequential()\n",
    "# 각 문자를 원-핫 코딩이 아닌 hidden_size 크기의 숫자 벡터로 변환\n",
    "# 즉 n_unique_chars -> hidden_size\n",
    "model.add(tf.keras.layers.Embedding(n_unique_chars, hidden_size))\n",
    "# 드롭아웃 사용\n",
    "model.add(tf.keras.layers.SpatialDropout1D(0.2))\n",
    "# LSTM으로 cell을 정의한다.\n",
    "model.add(tf.keras.layers.LSTM(hidden_size, return_sequences=True)) # returns a sequence of vectors of dimension 32\n",
    "# 은닉층 추가\n",
    "model.add(tf.keras.layers.LSTM(hidden_size, return_sequences=True)) # returns a sequence of vectors of dimension 32\n",
    "# 은닉층 추가\n",
    "model.add(tf.keras.layers.LSTM(hidden_size)) # return a single vector of dimension 32\n",
    "\n",
    "# 은닉층의 값으로 출력을 만듦\n",
    "# 은닉층의 결과를 완전 연결층을 통하여 분류\n",
    "model.add(tf.keras.layers.Dense(num_classes, activation='softmax'))"
   ]
  },
  {
   "cell_type": "code",
   "execution_count": 46,
   "metadata": {},
   "outputs": [],
   "source": [
    "model.build(input_shape=(batch_size, seq_len))"
   ]
  },
  {
   "cell_type": "code",
   "execution_count": 47,
   "metadata": {},
   "outputs": [
    {
     "name": "stdout",
     "output_type": "stream",
     "text": [
      "Model: \"sequential_3\"\n",
      "_________________________________________________________________\n",
      "Layer (type)                 Output Shape              Param #   \n",
      "=================================================================\n",
      "embedding_3 (Embedding)      (None, None, 32)          1984      \n",
      "_________________________________________________________________\n",
      "spatial_dropout1d_3 (Spatial (None, None, 32)          0         \n",
      "_________________________________________________________________\n",
      "lstm_9 (LSTM)                (None, None, 32)          8320      \n",
      "_________________________________________________________________\n",
      "lstm_10 (LSTM)               (None, None, 32)          8320      \n",
      "_________________________________________________________________\n",
      "lstm_11 (LSTM)               (None, 32)                8320      \n",
      "_________________________________________________________________\n",
      "dense_3 (Dense)              (None, 62)                2046      \n",
      "=================================================================\n",
      "Total params: 28,990\n",
      "Trainable params: 28,990\n",
      "Non-trainable params: 0\n",
      "_________________________________________________________________\n"
     ]
    }
   ],
   "source": [
    "model.summary()"
   ]
  },
  {
   "cell_type": "code",
   "execution_count": 52,
   "metadata": {},
   "outputs": [],
   "source": [
    "# 손실함수\n",
    "#cost = tf.reduce_mean(tf.nn.softmax_cross_entropy_with_logits(logits = model, labels = Y))\n",
    "def loss(labels, predictions):\n",
    "    #return tf.losses.sparse_categorical_crossentropy(labels, predictions, from_logits=True)\n",
    "    return tf.losses.categorical_crossentropy(labels, predictions, from_logits=True)"
   ]
  },
  {
   "cell_type": "code",
   "execution_count": 49,
   "metadata": {},
   "outputs": [],
   "source": [
    "# 변수 선언\n",
    "#tvars = tf.trainable_variables()\n",
    "# 기울기 클리핑\n",
    "#grads, _ = tf.clip_by_global_norm(tf.gradients(cost, tvars), grad_clip)"
   ]
  },
  {
   "cell_type": "code",
   "execution_count": 53,
   "metadata": {},
   "outputs": [],
   "source": [
    "# 옵티마이저\n",
    "#optim = tf.train.AdamOptimizer(learning_rate)\n",
    "# 기울기 적용 (optim.AdamOptimizer().minimize() 대신 사용됨)\n",
    "#train_step = optim.apply_gradients(zip(grads, tvars))\n",
    "model.compile(optimizer=tf.optimizers.Adam(), loss=loss)"
   ]
  },
  {
   "cell_type": "code",
   "execution_count": null,
   "metadata": {},
   "outputs": [],
   "source": [
    "#------------------------------------------------\n",
    "# 텐서플로 그래프 생성 및 학습 \n",
    "#------------------------------------------------\n",
    "steps_per_epoch = n_samples // seq_len // batch_size # 200000 / 100 / 50 = 40\n",
    "history = model.fit(dataset.repeat(), epochs=nepochs, steps_per_epoch=steps_per_epoch)"
   ]
  },
  {
   "cell_type": "markdown",
   "metadata": {},
   "source": [
    "## 예제 4-2 셰익스피어 작품의 문장 생성을 LSTM으로 학습하기 (2)"
   ]
  },
  {
   "cell_type": "code",
   "execution_count": 1,
   "metadata": {},
   "outputs": [],
   "source": [
    "import os\n",
    "import numpy as np\n",
    "import tensorflow as tf\n",
    "import matplotlib.pyplot as plt"
   ]
  },
  {
   "cell_type": "code",
   "execution_count": 2,
   "metadata": {},
   "outputs": [],
   "source": [
    "#-------------------------------------------------\n",
    "# 데이터 불러오기\n",
    "#-------------------------------------------------\n",
    "raw_data = open('./input.txt', 'r').read() # input.txt 예제 데이터\n",
    "# 계산 시간 때문에 일부만 사용\n",
    "raw_data = raw_data[:200000]"
   ]
  },
  {
   "cell_type": "code",
   "execution_count": 3,
   "metadata": {},
   "outputs": [
    {
     "name": "stdout",
     "output_type": "stream",
     "text": [
      "<class 'str'>\n",
      "200000\n",
      "First Citizen:\n",
      "Before we proceed any further, hear me speak.\n",
      "\n",
      "All:\n",
      "Speak, speak.\n",
      "\n",
      "First Citizen:\n",
      "You\n"
     ]
    }
   ],
   "source": [
    "print(type(raw_data))\n",
    "print(len(raw_data))\n",
    "print(raw_data[0:100])"
   ]
  },
  {
   "cell_type": "code",
   "execution_count": 4,
   "metadata": {},
   "outputs": [],
   "source": [
    "# 전체 문자 수\n",
    "n_samples = len(raw_data)\n",
    "# 고유한 문자\n",
    "unique_chars = list(set(raw_data));\n",
    "# 문자를 정수로 변환하는 딕셔너리\n",
    "char_to_int = { ch:i for i,ch in enumerate(unique_chars) }\n",
    "# 정수를 문자로 변환하는 딕셔너리\n",
    "int_to_char = { i:ch for i,ch in enumerate(unique_chars) }\n",
    "# 고유한 문자 수\n",
    "n_unique_chars = len(unique_chars)"
   ]
  },
  {
   "cell_type": "code",
   "execution_count": 5,
   "metadata": {},
   "outputs": [
    {
     "name": "stdout",
     "output_type": "stream",
     "text": [
      "200000\n",
      "62\n"
     ]
    }
   ],
   "source": [
    "print(n_samples)\n",
    "print(n_unique_chars)"
   ]
  },
  {
   "cell_type": "code",
   "execution_count": 6,
   "metadata": {},
   "outputs": [],
   "source": [
    "# 입력층의 노드 수(입력 크기) = 원-핫 벡터 크기\n",
    "input_dim = n_unique_chars\n",
    "# 출력층의 노드 수 = 고유한 문자 수\n",
    "num_classes = n_unique_chars"
   ]
  },
  {
   "cell_type": "code",
   "execution_count": 7,
   "metadata": {},
   "outputs": [],
   "source": [
    "#-------------------------------------------\n",
    "# 매개변수 설정\n",
    "#-------------------------------------------\n",
    "# 은닉층 크기: 32\n",
    "# 미니배치 크기: 100\n",
    "# 반복 수: 200\n",
    "# 학습률: 0.1\n",
    "# Gradient Clipping에 사용할 임곗값: 2\n",
    "batch_size = 100\n",
    "seq_len = 50 # 한 번에 입력되는 서열 길이\n",
    "hidden_size = 32 # 은닉층 노드 수\n",
    "learning_rate = 0.05\n",
    "grad_clip = 5 # Gradient Clipping에 사용할 임곗값\n",
    "nepochs = 50 # 반복 수\n",
    "# 배치 개수\n",
    "num_batches = int(len(raw_data)/(batch_size * seq_len)) # 40"
   ]
  },
  {
   "cell_type": "code",
   "execution_count": 8,
   "metadata": {},
   "outputs": [],
   "source": [
    "# 데이터 - (배치 크기*배치 개수)\n",
    "data = raw_data[:num_batches*batch_size*seq_len]\n",
    "# 데이터를 정수로 변환\n",
    "data = np.array([char_to_int[n] for n in data]);"
   ]
  },
  {
   "cell_type": "code",
   "execution_count": 9,
   "metadata": {},
   "outputs": [],
   "source": [
    "# 입력과 목표 데이터 설정\n",
    "xdata = data\n",
    "ydata = np.copy(data)\n",
    "ydata[:-1] = xdata[1:]\n",
    "ydata[-1] = xdata[0]"
   ]
  },
  {
   "cell_type": "code",
   "execution_count": 10,
   "metadata": {},
   "outputs": [],
   "source": [
    "# 배치 개수*배치 크기*서열 길이 = (?, 100, 32)\n",
    "#x_batches = np.split(xdata.reshape(batch_size, -1),num_batches, 1)\n",
    "#x_batches = np.asarray(x_batches)\n",
    "#x_batches.shape\n",
    "dataset = tf.data.Dataset.from_tensor_slices((xdata, ydata)).batch(seq_len, drop_remainder=True)\n",
    "dataset = dataset.batch(batch_size, drop_remainder=True)"
   ]
  },
  {
   "cell_type": "code",
   "execution_count": 11,
   "metadata": {
    "scrolled": true
   },
   "outputs": [
    {
     "name": "stdout",
     "output_type": "stream",
     "text": [
      "<class 'tensorflow.python.data.ops.dataset_ops.BatchDataset'>\n",
      "<BatchDataset shapes: ((100, 50), (100, 50)), types: (tf.int32, tf.int32)>\n",
      "(array([[10, 40, 60, ..., 13, 20, 60],\n",
      "       [61, 33, 13, ..., 36, 55, 50],\n",
      "       [61, 20, 60, ..., 12, 12,  1],\n",
      "       ...,\n",
      "       [40, 39, 25, ..., 18, 55, 50],\n",
      "       [14, 12, 12, ..., 13, 61,  4],\n",
      "       [40, 25, 39, ..., 13, 15, 15]]), array([[40, 60,  0, ..., 20, 60, 61],\n",
      "       [33, 13, 61, ..., 55, 50, 61],\n",
      "       [20, 60, 13, ..., 12,  1, 15],\n",
      "       ...,\n",
      "       [39, 25, 61, ..., 55, 50, 14],\n",
      "       [12, 12, 10, ..., 61,  4, 40],\n",
      "       [25, 39, 15, ..., 15, 15, 55]]))\n"
     ]
    }
   ],
   "source": [
    "print(type(dataset))\n",
    "print(dataset)\n",
    "print(list(dataset.as_numpy_iterator())[0])"
   ]
  },
  {
   "cell_type": "code",
   "execution_count": 31,
   "metadata": {},
   "outputs": [],
   "source": [
    "model = tf.keras.Sequential()\n",
    "model.add(tf.keras.layers.Embedding(n_unique_chars, hidden_size))\n",
    "model.add(tf.keras.layers.SpatialDropout1D(0.2))\n",
    "model.add(tf.keras.layers.LSTM(hidden_size, return_sequences=True))\n",
    "model.add(tf.keras.layers.LSTM(hidden_size, return_sequences=True))\n",
    "model.add(tf.keras.layers.LSTM(hidden_size, return_sequences=True))\n",
    "model.add(tf.keras.layers.Dense(n_unique_chars))"
   ]
  },
  {
   "cell_type": "code",
   "execution_count": 25,
   "metadata": {},
   "outputs": [],
   "source": [
    "class CharGenModel(tf.keras.Model):\n",
    "    def __init__(self, vocab_size, hidden_size, embedding_dim, **kwargs):\n",
    "        super(CharGenModel, self).__init__(**kwargs)\n",
    "        self.embedding_layer = tf.keras.layers.Embedding(vocab_size, embedding_dim)\n",
    "        self.dropout = tf.keras.layers.SpatialDropout1D(0.2)\n",
    "        self.rnn_layer_1 = tf.keras.layers.LSTM(hidden_size,\n",
    "                                            recurrent_initializer='glorot_uniform',\n",
    "                                            recurrent_activation='sigmoid',\n",
    "                                            #stateful=True,\n",
    "                                            return_sequences=True)\n",
    "        self.rnn_layer_2 = tf.keras.layers.LSTM(hidden_size,\n",
    "                                            recurrent_initializer='glorot_uniform',\n",
    "                                            recurrent_activation='sigmoid',\n",
    "                                            #stateful=True,\n",
    "                                            return_sequences=True)\n",
    "        self.rnn_layer_3 = tf.keras.layers.LSTM(hidden_size,\n",
    "                                            recurrent_initializer='glorot_uniform',\n",
    "                                            recurrent_activation='sigmoid',\n",
    "                                               return_sequences=True)\n",
    "        self.dense_layer = tf.keras.layers.Dense(vocab_size)\n",
    "        \n",
    "        \n",
    "#model.add(tf.keras.layers.Embedding(n_unique_chars, hidden_size))\n",
    "# 드롭아웃 사용\n",
    "#model.add(tf.keras.layers.SpatialDropout1D(0.2))\n",
    "# LSTM으로 cell을 정의한다.\n",
    "#model.add(tf.keras.layers.LSTM(hidden_size, return_sequences=True)) # returns a sequence of vectors of dimension 32\n",
    "# 은닉층 추가\n",
    "#model.add(tf.keras.layers.LSTM(hidden_size, return_sequences=True)) # returns a sequence of vectors of dimension 32\n",
    "# 은닉층 추가\n",
    "#model.add(tf.keras.layers.LSTM(hidden_size)) # return a single vector of dimension 32\n",
    "\n",
    "    def call(self, x):\n",
    "        x = self.embedding_layer(x)\n",
    "        x = self.dropout(x)\n",
    "        x = self.rnn_layer_1(x)\n",
    "        x = self.rnn_layer_2(x)\n",
    "        x = self.rnn_layer_3(x)\n",
    "        x = self.dense_layer(x)\n",
    "        return x"
   ]
  },
  {
   "cell_type": "code",
   "execution_count": null,
   "metadata": {},
   "outputs": [],
   "source": [
    "model = CharGenModel(n_unique_chars, hidden_size, hidden_size)\n",
    "model.build(input_shape=(batch_size, seq_len))"
   ]
  },
  {
   "cell_type": "code",
   "execution_count": 13,
   "metadata": {},
   "outputs": [
    {
     "name": "stdout",
     "output_type": "stream",
     "text": [
      "Model: \"sequential\"\n",
      "_________________________________________________________________\n",
      "Layer (type)                 Output Shape              Param #   \n",
      "=================================================================\n",
      "embedding (Embedding)        (None, None, 32)          1984      \n",
      "_________________________________________________________________\n",
      "spatial_dropout1d (SpatialDr (None, None, 32)          0         \n",
      "_________________________________________________________________\n",
      "lstm (LSTM)                  (None, None, 32)          8320      \n",
      "_________________________________________________________________\n",
      "lstm_1 (LSTM)                (None, None, 32)          8320      \n",
      "_________________________________________________________________\n",
      "lstm_2 (LSTM)                (None, None, 32)          8320      \n",
      "_________________________________________________________________\n",
      "dense (Dense)                (None, None, 62)          2046      \n",
      "=================================================================\n",
      "Total params: 28,990\n",
      "Trainable params: 28,990\n",
      "Non-trainable params: 0\n",
      "_________________________________________________________________\n"
     ]
    }
   ],
   "source": [
    "model.summary()"
   ]
  },
  {
   "cell_type": "code",
   "execution_count": 32,
   "metadata": {},
   "outputs": [],
   "source": [
    "def loss(labels, predictions):\n",
    "    return tf.losses.sparse_categorical_crossentropy(labels, predictions, from_logits=True)"
   ]
  },
  {
   "cell_type": "code",
   "execution_count": 33,
   "metadata": {},
   "outputs": [],
   "source": [
    "#model.compile(optimizer=tf.optimizers.Adam(), loss='categorical_crossentropy')\n",
    "model.compile(optimizer=tf.optimizers.Adam(learning_rate=learning_rate, clipvalue=grad_clip), loss=loss)"
   ]
  },
  {
   "cell_type": "code",
   "execution_count": 34,
   "metadata": {},
   "outputs": [
    {
     "name": "stdout",
     "output_type": "stream",
     "text": [
      "Train for 40 steps\n",
      "Epoch 1/50\n",
      "40/40 [==============================] - 4s 95ms/step - loss: 3.3201\n",
      "Epoch 2/50\n",
      "40/40 [==============================] - 0s 9ms/step - loss: 2.9024\n",
      "Epoch 3/50\n",
      "40/40 [==============================] - 0s 8ms/step - loss: 2.6203\n",
      "Epoch 4/50\n",
      "40/40 [==============================] - 0s 9ms/step - loss: 2.5088\n",
      "Epoch 5/50\n",
      "40/40 [==============================] - 0s 9ms/step - loss: 2.3928\n",
      "Epoch 6/50\n",
      "40/40 [==============================] - 0s 9ms/step - loss: 2.3019\n",
      "Epoch 7/50\n",
      "40/40 [==============================] - 0s 9ms/step - loss: 2.2436\n",
      "Epoch 8/50\n",
      "40/40 [==============================] - 0s 9ms/step - loss: 2.1990\n",
      "Epoch 9/50\n",
      "40/40 [==============================] - 0s 9ms/step - loss: 2.1639\n",
      "Epoch 10/50\n",
      "40/40 [==============================] - 0s 9ms/step - loss: 2.1225\n",
      "Epoch 11/50\n",
      "40/40 [==============================] - 0s 9ms/step - loss: 2.0936\n",
      "Epoch 12/50\n",
      "40/40 [==============================] - 0s 9ms/step - loss: 2.0738\n",
      "Epoch 13/50\n",
      "40/40 [==============================] - 0s 9ms/step - loss: 2.0490\n",
      "Epoch 14/50\n",
      "40/40 [==============================] - 0s 9ms/step - loss: 2.0310\n",
      "Epoch 15/50\n",
      "40/40 [==============================] - 0s 9ms/step - loss: 2.0205\n",
      "Epoch 16/50\n",
      "40/40 [==============================] - 0s 9ms/step - loss: 2.0071\n",
      "Epoch 17/50\n",
      "40/40 [==============================] - 0s 9ms/step - loss: 1.9957\n",
      "Epoch 18/50\n",
      "40/40 [==============================] - 0s 9ms/step - loss: 1.9840\n",
      "Epoch 19/50\n",
      "40/40 [==============================] - 0s 8ms/step - loss: 1.9772\n",
      "Epoch 20/50\n",
      "40/40 [==============================] - 0s 8ms/step - loss: 1.9642\n",
      "Epoch 21/50\n",
      "40/40 [==============================] - 0s 8ms/step - loss: 1.9575\n",
      "Epoch 22/50\n",
      "40/40 [==============================] - 0s 9ms/step - loss: 1.9497\n",
      "Epoch 23/50\n",
      "40/40 [==============================] - 0s 9ms/step - loss: 1.9419\n",
      "Epoch 24/50\n",
      "40/40 [==============================] - 0s 8ms/step - loss: 1.9381\n",
      "Epoch 25/50\n",
      "40/40 [==============================] - 0s 9ms/step - loss: 1.9348\n",
      "Epoch 26/50\n",
      "40/40 [==============================] - 0s 9ms/step - loss: 1.9343\n",
      "Epoch 27/50\n",
      "40/40 [==============================] - 0s 9ms/step - loss: 1.9316\n",
      "Epoch 28/50\n",
      "40/40 [==============================] - 0s 9ms/step - loss: 1.9244\n",
      "Epoch 29/50\n",
      "40/40 [==============================] - 0s 9ms/step - loss: 1.9224\n",
      "Epoch 30/50\n",
      "40/40 [==============================] - 0s 9ms/step - loss: 1.9179\n",
      "Epoch 31/50\n",
      "40/40 [==============================] - 0s 9ms/step - loss: 1.9144\n",
      "Epoch 32/50\n",
      "40/40 [==============================] - 0s 9ms/step - loss: 1.9054\n",
      "Epoch 33/50\n",
      "40/40 [==============================] - 0s 8ms/step - loss: 1.9081\n",
      "Epoch 34/50\n",
      "40/40 [==============================] - 0s 9ms/step - loss: 1.9054\n",
      "Epoch 35/50\n",
      "40/40 [==============================] - 0s 9ms/step - loss: 1.9036\n",
      "Epoch 36/50\n",
      "40/40 [==============================] - 0s 9ms/step - loss: 1.8978\n",
      "Epoch 37/50\n",
      "40/40 [==============================] - 0s 9ms/step - loss: 1.8945\n",
      "Epoch 38/50\n",
      "40/40 [==============================] - 0s 8ms/step - loss: 1.8995\n",
      "Epoch 39/50\n",
      "40/40 [==============================] - 0s 8ms/step - loss: 1.8928\n",
      "Epoch 40/50\n",
      "40/40 [==============================] - 0s 9ms/step - loss: 1.8847\n",
      "Epoch 41/50\n",
      "40/40 [==============================] - 0s 9ms/step - loss: 1.8811\n",
      "Epoch 42/50\n",
      "40/40 [==============================] - 0s 9ms/step - loss: 1.8800\n",
      "Epoch 43/50\n",
      "40/40 [==============================] - 0s 9ms/step - loss: 1.8743\n",
      "Epoch 44/50\n",
      "40/40 [==============================] - 0s 9ms/step - loss: 1.8708\n",
      "Epoch 45/50\n",
      "40/40 [==============================] - 0s 9ms/step - loss: 1.8675\n",
      "Epoch 46/50\n",
      "40/40 [==============================] - 0s 9ms/step - loss: 1.8660\n",
      "Epoch 47/50\n",
      "40/40 [==============================] - 0s 9ms/step - loss: 1.8619\n",
      "Epoch 48/50\n",
      "40/40 [==============================] - 0s 9ms/step - loss: 1.8614\n",
      "Epoch 49/50\n",
      "40/40 [==============================] - 0s 9ms/step - loss: 1.8577\n",
      "Epoch 50/50\n",
      "40/40 [==============================] - 0s 9ms/step - loss: 1.8524\n"
     ]
    }
   ],
   "source": [
    "steps_per_epoch = n_samples // seq_len // batch_size # 200000 / 100 / 50 = 40\n",
    "history = model.fit(dataset.repeat(), epochs=nepochs, steps_per_epoch=steps_per_epoch)"
   ]
  },
  {
   "cell_type": "code",
   "execution_count": 29,
   "metadata": {},
   "outputs": [
    {
     "name": "stdout",
     "output_type": "stream",
     "text": [
      "loss [3.807945889234543, 3.3841592490673067, 3.332049036026001, 3.318163937330246, 3.3099526345729826, 3.3042814671993255, 3.3009482741355898, 3.2990593135356905, 3.2977127015590666, 3.295790636539459, 3.289447271823883, 3.2577452480793, 3.193133521080017, 3.125380641222, 3.054002982378006, 2.977961426973343, 2.9002927124500273, 2.8365539789199827, 2.7893757104873655, 2.752096915245056, 2.7202860355377196, 2.695071017742157, 2.6742831110954284, 2.6564983665943145, 2.640400010347366, 2.625147503614426, 2.6105785965919495, 2.597229462862015, 2.5852218151092528, 2.5733910739421844, 2.562173104286194, 2.5515903353691103, 2.540703761577606, 2.5303552448749542, 2.520364999771118, 2.510841292142868, 2.5013031363487244, 2.491811752319336, 2.48232581615448, 2.473926991224289, 2.464893102645874, 2.4575085043907166, 2.449648863077164, 2.4425165832042692, 2.4351768791675568, 2.428162342309952, 2.4207546412944794, 2.414255440235138, 2.407371884584427, 2.3999757528305055]\n"
     ]
    }
   ],
   "source": [
    "for k, v in history.history.items():\n",
    "    print (k, v)"
   ]
  },
  {
   "cell_type": "code",
   "execution_count": 35,
   "metadata": {
    "scrolled": true
   },
   "outputs": [
    {
     "data": {
      "text/plain": [
       "Text(0, 0.5, 'Losses')"
      ]
     },
     "execution_count": 35,
     "metadata": {},
     "output_type": "execute_result"
    },
    {
     "data": {
      "image/png": "[encoded data removed]",
      "text/plain": [
       "<Figure size 432x288 with 1 Axes>"
      ]
     },
     "metadata": {
      "needs_background": "light"
     },
     "output_type": "display_data"
    }
   ],
   "source": [
    "fig, ax = plt.subplots()\n",
    "plt.plot(history.history['loss'])\n",
    "ax.set_xlabel('epochs')\n",
    "ax.set_ylabel('Losses')"
   ]
  },
  {
   "cell_type": "code",
   "execution_count": 36,
   "metadata": {},
   "outputs": [],
   "source": [
    "DATA_DIR = \"data\" # where you download the source code\n",
    "CHECKPOINT_DIR = os.path.join(DATA_DIR, \"checkpoints\") # where we will save the weights\n",
    "checkpoint_file = os.path.join(CHECKPOINT_DIR, 'model_ex4-2')\n",
    "model.save_weights(checkpoint_file)"
   ]
  },
  {
   "cell_type": "code",
   "execution_count": null,
   "metadata": {
    "scrolled": true
   },
   "outputs": [],
   "source": [
    "# create generative model using the trained model so far\n",
    "gen_model = CharGenModel(n_unique_chars, hidden_size, hidden_size)\n",
    "gen_model.load_weights(checkpoint_file)\n",
    "gen_model.build(input_shape=(1, seq_len))"
   ]
  },
  {
   "cell_type": "code",
   "execution_count": 38,
   "metadata": {},
   "outputs": [],
   "source": [
    "gen_model = tf.keras.Sequential()\n",
    "gen_model.add(tf.keras.layers.Embedding(n_unique_chars, hidden_size))\n",
    "gen_model.add(tf.keras.layers.SpatialDropout1D(0.2))\n",
    "gen_model.add(tf.keras.layers.LSTM(hidden_size, return_sequences=True))\n",
    "gen_model.add(tf.keras.layers.LSTM(hidden_size, return_sequences=True))\n",
    "gen_model.add(tf.keras.layers.LSTM(hidden_size, return_sequences=True))\n",
    "gen_model.add(tf.keras.layers.Dense(n_unique_chars))\n",
    "gen_model.load_weights(checkpoint_file)\n",
    "gen_model.build(input_shape=(1, seq_len))"
   ]
  },
  {
   "cell_type": "code",
   "execution_count": 39,
   "metadata": {},
   "outputs": [],
   "source": [
    "# 생성할 문장의 길이\n",
    "generated_text_len = 200  \n",
    "# 시작 문자를 't'로 지정.\n",
    "generated_text = 't' \n",
    "# RNN의 최초 state값을 0으로 초기화.\n",
    "#state = sess.run(cell.zero_state(1, tf.float32))\n",
    "gen_model.reset_states()\n",
    "gen_model.build(input_shape=(1, seq_len))"
   ]
  },
  {
   "cell_type": "code",
   "execution_count": 40,
   "metadata": {},
   "outputs": [
    {
     "name": "stdout",
     "output_type": "stream",
     "text": [
      "thor wanthede u de:\n",
      "OMandeatiseendescelloog.\n",
      "CERCI IUS:\n",
      "Tegee lsead melrre y hewase!\n",
      "Titprndosthayowuscllstalanlrwider; t. tharisth harloouss y w f Ifer!\n",
      "Wouyswechearchachedowur RTer INas,\n",
      "Aes?\n",
      "Dotr\n",
      "Wo\n"
     ]
    }
   ],
   "source": [
    "text_generated = []\n",
    "input = [char_to_int[s] for s in generated_text]\n",
    "input = tf.expand_dims(input, 0)\n",
    "for i in range(generated_text_len):\n",
    "    preds = gen_model(input)\n",
    "    # 차원이 1인 차원을 모두 제거한다\n",
    "    preds = tf.squeeze(preds, 0)\n",
    "    # predict char returned by model\n",
    "    pred_id = tf.random.categorical(preds, num_samples=1)[-1, 0].numpy()\n",
    "    text_generated.append(int_to_char[pred_id])\n",
    "    # pass the prediction as the next input to the model\n",
    "    input = tf.expand_dims([pred_id], 0)\n",
    "        \n",
    "print(generated_text + \"\".join(text_generated))"
   ]
  },
  {
   "cell_type": "markdown",
   "metadata": {},
   "source": [
    "## 예제 4-3 AR(2) 모형 학습하기"
   ]
  },
  {
   "cell_type": "markdown",
   "metadata": {},
   "source": [
    "이번에는 AR(2) 모형을 따르는 시계열을 예측하는 예제를 다룬다."
   ]
  },
  {
   "cell_type": "code",
   "execution_count": 2,
   "metadata": {},
   "outputs": [],
   "source": [
    "import numpy as np\n",
    "import matplotlib.pyplot as plt\n",
    "import tensorflow as tf"
   ]
  },
  {
   "cell_type": "code",
   "execution_count": 3,
   "metadata": {},
   "outputs": [],
   "source": [
    "#--------------------------------------------------\n",
    "# 길이가 100인 data(#AR(2) with a1=0.5; a2=-0.3) 만들기\n",
    "#--------------------------------------------------\n",
    "k=100\n",
    "x=np.random.normal(0,1,k); \n",
    "e=np.random.normal(0,1,k)\n",
    "a1=0.5 \n",
    "a2=-0.3\n",
    "\n",
    "x[2]=a1*x[1]+a2*x[0]+e[2]\n",
    "for i in range(2,k):\n",
    "    x[i]=a1*x[i-1]+a2*x[i-2]+e[i]\n",
    "\n",
    "# 표준화    \n",
    "x=(x-min(x))/(max(x)-min(x))"
   ]
  },
  {
   "cell_type": "code",
   "execution_count": 4,
   "metadata": {},
   "outputs": [
    {
     "data": {
      "text/plain": [
       "[<matplotlib.lines.Line2D at 0x2451dc44dc8>]"
      ]
     },
     "execution_count": 4,
     "metadata": {},
     "output_type": "execute_result"
    },
    {
     "data": {
      "image/png": "[encoded data removed]",
      "text/plain": [
       "<Figure size 432x288 with 1 Axes>"
      ]
     },
     "metadata": {
      "needs_background": "light"
     },
     "output_type": "display_data"
    }
   ],
   "source": [
    "plt.plot(x)"
   ]
  },
  {
   "cell_type": "code",
   "execution_count": 5,
   "metadata": {},
   "outputs": [],
   "source": [
    "#-------------------------------------------\n",
    "# 매개변수 설정\n",
    "#-------------------------------------------\n",
    "# 은닉층 크기: 16\n",
    "# 미니배치 크기: 1\n",
    "# 반복 수: 1000\n",
    "# 학습률 :0.0005\n",
    "# 서열길이 10\n",
    "hidden_size =16 \n",
    "learning_rate = 0.0005 \n",
    "nepochs = 1000 \n",
    "seq_len=10 \n",
    "batch_size=1"
   ]
  },
  {
   "cell_type": "code",
   "execution_count": 6,
   "metadata": {},
   "outputs": [],
   "source": [
    "#------------------------------------------\n",
    "# 시계열 훈련에 적합한 데이터 만들기\n",
    "# 0~9 : input, 10: target\n",
    "# 1~10 : input, 11: target\n",
    "# ...\n",
    "# 89~98 : input, 99: target\n",
    "#-------------------------------------------\n",
    "dataX = []; dataY = []\n",
    "for i in range(k-seq_len):\n",
    "    tempX=x[i:i+seq_len]\n",
    "    dataX.append(tempX)\n",
    "    tempY=x[i+seq_len]\n",
    "    dataY.append(tempY)"
   ]
  },
  {
   "cell_type": "code",
   "execution_count": 7,
   "metadata": {
    "scrolled": false
   },
   "outputs": [
    {
     "name": "stdout",
     "output_type": "stream",
     "text": [
      "90\n",
      "90\n",
      "[0.39326355 0.47769821 0.67747714 0.67262686 0.57863535 0.55462864\n",
      " 0.73913865 0.43533403 0.56227372 0.28441282]\n",
      "0.4210029388904181\n",
      "[0.47769821 0.67747714 0.67262686 0.57863535 0.55462864 0.73913865\n",
      " 0.43533403 0.56227372 0.28441282 0.42100294]\n",
      "0.7963624257166244\n"
     ]
    }
   ],
   "source": [
    "print(len(dataX))\n",
    "print(len(dataY))\n",
    "print(dataX[0])\n",
    "print(dataY[0])\n",
    "print(dataX[1])\n",
    "print(dataY[1])"
   ]
  },
  {
   "cell_type": "code",
   "execution_count": 8,
   "metadata": {},
   "outputs": [],
   "source": [
    "dataset = tf.data.Dataset.from_tensor_slices((dataX, dataY)).batch(seq_len, drop_remainder=True)\n",
    "dataset = dataset.batch(batch_size, drop_remainder=True)"
   ]
  },
  {
   "cell_type": "code",
   "execution_count": 9,
   "metadata": {},
   "outputs": [],
   "source": [
    "# 훈련자료 크기    \n",
    "sample_size=np.array(dataY).shape[0] # 90"
   ]
  },
  {
   "cell_type": "code",
   "execution_count": null,
   "metadata": {},
   "outputs": [],
   "source": [
    "model = tf.keras.Sequential()\n",
    "model.add(tf.keras.layers.LSTM(hidden_size, return_sequences=True))\n",
    "model.add(tf.keras.layers.LSTM(hidden_size, return_sequences=True))\n",
    "model.add(tf.keras.layers.Dense(n_unique_chars))"
   ]
  }
 ],
 "metadata": {
  "kernelspec": {
   "display_name": "Python 3",
   "language": "python",
   "name": "python3"
  },
  "language_info": {
   "codemirror_mode": {
    "name": "ipython",
    "version": 3
   },
   "file_extension": ".py",
   "mimetype": "text/x-python",
   "name": "python",
   "nbconvert_exporter": "python",
   "pygments_lexer": "ipython3",
   "version": "3.7.7"
  }
 },
 "nbformat": 4,
 "nbformat_minor": 4
}
