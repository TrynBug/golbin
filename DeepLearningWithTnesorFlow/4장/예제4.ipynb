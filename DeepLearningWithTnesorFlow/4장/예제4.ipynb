{
 "cells": [
  {
   "cell_type": "markdown",
   "metadata": {},
   "source": [
    "## 예제 4-2 셰익스피어 작품의 문장 생성을 LSTM으로 학습하기"
   ]
  },
  {
   "cell_type": "markdown",
   "metadata": {},
   "source": [
    "LSTM으로 셰익스피어 작품 흉내 내기를 실습한다. 모형은 입력층과 2개의 은닉층 그리고 출력층으로 구성된다. 은닉층의 노드 수는 32, 서열 길이는 50, 가중치 클리핑은 5로 설정하였다."
   ]
  },
  {
   "cell_type": "code",
   "execution_count": 1,
   "metadata": {},
   "outputs": [],
   "source": [
    "import os\n",
    "import numpy as np\n",
    "import tensorflow as tf\n",
    "import matplotlib.pyplot as plt"
   ]
  },
  {
   "cell_type": "code",
   "execution_count": 131,
   "metadata": {},
   "outputs": [],
   "source": [
    "#-------------------------------------------------\n",
    "# 데이터 불러오기\n",
    "#-------------------------------------------------\n",
    "raw_data = open('./input.txt', 'r').read() # input.txt 예제 데이터"
   ]
  },
  {
   "cell_type": "code",
   "execution_count": 132,
   "metadata": {},
   "outputs": [
    {
     "name": "stdout",
     "output_type": "stream",
     "text": [
      "1115394\n"
     ]
    }
   ],
   "source": [
    "print(len(raw_data))"
   ]
  },
  {
   "cell_type": "code",
   "execution_count": 69,
   "metadata": {},
   "outputs": [],
   "source": [
    "# 계산 시간 때문에 일부만 사용\n",
    "raw_data = raw_data[:200000]"
   ]
  },
  {
   "cell_type": "code",
   "execution_count": 133,
   "metadata": {},
   "outputs": [
    {
     "name": "stdout",
     "output_type": "stream",
     "text": [
      "<class 'str'>\n",
      "1115394\n",
      "First Citizen:\n",
      "Before we proceed any further, hear me speak.\n",
      "\n",
      "All:\n",
      "Speak, speak.\n",
      "\n",
      "First Citizen:\n",
      "You\n"
     ]
    }
   ],
   "source": [
    "print(type(raw_data))\n",
    "print(len(raw_data))\n",
    "print(raw_data[0:100])"
   ]
  },
  {
   "cell_type": "code",
   "execution_count": 134,
   "metadata": {},
   "outputs": [],
   "source": [
    "# 전체 문자 수\n",
    "n_samples = len(raw_data)\n",
    "# 고유한 문자\n",
    "unique_chars = list(set(raw_data));\n",
    "# 문자를 정수로 변환하는 딕셔너리\n",
    "char_to_int = { ch:i for i,ch in enumerate(unique_chars) }\n",
    "# 정수를 문자로 변환하는 딕셔너리\n",
    "int_to_char = { i:ch for i,ch in enumerate(unique_chars) }\n",
    "# 고유한 문자 수\n",
    "n_unique_chars = len(unique_chars)"
   ]
  },
  {
   "cell_type": "code",
   "execution_count": 135,
   "metadata": {},
   "outputs": [
    {
     "name": "stdout",
     "output_type": "stream",
     "text": [
      "1115394\n",
      "65\n"
     ]
    }
   ],
   "source": [
    "print(n_samples)\n",
    "print(n_unique_chars)"
   ]
  },
  {
   "cell_type": "code",
   "execution_count": 136,
   "metadata": {},
   "outputs": [],
   "source": [
    "# 입력층의 노드 수(입력 크기) = 원-핫 벡터 크기\n",
    "input_dim = n_unique_chars\n",
    "# 출력층의 노드 수 = 고유한 문자 수\n",
    "num_classes = n_unique_chars"
   ]
  },
  {
   "cell_type": "code",
   "execution_count": 137,
   "metadata": {},
   "outputs": [],
   "source": [
    "#-------------------------------------------\n",
    "# 매개변수 설정\n",
    "#-------------------------------------------\n",
    "# 은닉층 크기: 32\n",
    "# 미니배치 크기: 100\n",
    "# 반복 수: 200\n",
    "# 학습률: 0.1\n",
    "# Gradient Clipping에 사용할 임곗값: 2\n",
    "batch_size = 100\n",
    "seq_len = 50 # 한 번에 입력되는 서열 길이\n",
    "hidden_size = 32 # 은닉층 노드 수\n",
    "learning_rate = 0.05\n",
    "grad_clip = 5 # Gradient Clipping에 사용할 임곗값\n",
    "nepochs = 50 # 반복 수\n",
    "# 배치 개수\n",
    "num_batches = int(len(raw_data)/(batch_size * seq_len)) # 40"
   ]
  },
  {
   "cell_type": "code",
   "execution_count": 138,
   "metadata": {},
   "outputs": [],
   "source": [
    "# 데이터 - (배치 크기*배치 개수)\n",
    "data = raw_data[:num_batches*batch_size*seq_len]\n",
    "# 데이터를 정수로 변환\n",
    "data = np.array([char_to_int[n] for n in data]);"
   ]
  },
  {
   "cell_type": "code",
   "execution_count": 139,
   "metadata": {},
   "outputs": [],
   "source": [
    "# 입력과 목표 데이터 설정\n",
    "xdata = data\n",
    "ydata = np.copy(data)\n",
    "ydata[:-1] = xdata[1:]\n",
    "ydata[-1] = xdata[0]"
   ]
  },
  {
   "cell_type": "code",
   "execution_count": 140,
   "metadata": {},
   "outputs": [],
   "source": [
    "# 배치 개수*배치 크기*서열 길이 = (?, 100, 32)\n",
    "#x_batches = np.split(xdata.reshape(batch_size, -1),num_batches, 1)\n",
    "#x_batches = np.asarray(x_batches)\n",
    "#x_batches.shape\n",
    "dataset = tf.data.Dataset.from_tensor_slices((xdata, ydata)).batch(seq_len, drop_remainder=True)\n",
    "dataset = dataset.batch(batch_size, drop_remainder=True)"
   ]
  },
  {
   "cell_type": "code",
   "execution_count": 141,
   "metadata": {
    "scrolled": true
   },
   "outputs": [
    {
     "name": "stdout",
     "output_type": "stream",
     "text": [
      "<class 'tensorflow.python.data.ops.dataset_ops.BatchDataset'>\n",
      "<BatchDataset shapes: ((100, 50), (100, 50)), types: (tf.int32, tf.int32)>\n",
      "(array([[40, 47, 33, ..., 12,  2, 33],\n",
      "       [27,  7, 12, ...,  4, 52, 30],\n",
      "       [27,  2, 33, ..., 61, 61, 50],\n",
      "       ...,\n",
      "       [47, 39,  0, ..., 25, 52, 30],\n",
      "       [34, 61, 61, ..., 12, 27,  8],\n",
      "       [47,  0, 39, ..., 12, 63, 63]]), array([[47, 33, 17, ...,  2, 33, 27],\n",
      "       [ 7, 12, 27, ..., 52, 30, 27],\n",
      "       [ 2, 33, 12, ..., 61, 50, 63],\n",
      "       ...,\n",
      "       [39,  0, 27, ..., 52, 30, 34],\n",
      "       [61, 61, 40, ..., 27,  8, 47],\n",
      "       [ 0, 39, 63, ..., 63, 63, 52]]))\n"
     ]
    }
   ],
   "source": [
    "print(type(dataset))\n",
    "print(dataset)\n",
    "print(list(dataset.as_numpy_iterator())[0])"
   ]
  },
  {
   "cell_type": "code",
   "execution_count": 79,
   "metadata": {},
   "outputs": [],
   "source": [
    "model = tf.keras.Sequential()\n",
    "model.add(tf.keras.layers.Embedding(n_unique_chars, hidden_size))\n",
    "model.add(tf.keras.layers.SpatialDropout1D(0.2))\n",
    "model.add(tf.keras.layers.LSTM(hidden_size, return_sequences=True))\n",
    "model.add(tf.keras.layers.LSTM(hidden_size, return_sequences=True))\n",
    "model.add(tf.keras.layers.LSTM(hidden_size, return_sequences=True))\n",
    "#model.add(tf.keras.layers.LSTM(hidden_size))\n",
    "model.add(tf.keras.layers.Dense(n_unique_chars))"
   ]
  },
  {
   "cell_type": "code",
   "execution_count": 66,
   "metadata": {
    "scrolled": true
   },
   "outputs": [
    {
     "name": "stdout",
     "output_type": "stream",
     "text": [
      "layer:  embedding_6  | input shape:  (None, None)  | output shape:  (None, None, 32)\n",
      "layer:  spatial_dropout1d_6  | input shape:  (None, None, 32)  | output shape:  (None, None, 32)\n",
      "layer:  lstm_18  | input shape:  (None, None, 32)  | output shape:  (None, None, 32)\n",
      "layer:  lstm_19  | input shape:  (None, None, 32)  | output shape:  (None, None, 32)\n",
      "layer:  lstm_20  | input shape:  (None, None, 32)  | output shape:  (None, None, 32)\n",
      "layer:  dense_6  | input shape:  (None, None, 32)  | output shape:  (None, None, 62)\n"
     ]
    }
   ],
   "source": [
    "for layer in model.layers:\n",
    "    print(\"layer: \", layer.name, \" | input shape: \", layer.input.shape, \" | output shape: \", layer.output.shape, )"
   ]
  },
  {
   "cell_type": "code",
   "execution_count": 67,
   "metadata": {},
   "outputs": [
    {
     "name": "stdout",
     "output_type": "stream",
     "text": [
      "Model: \"sequential_6\"\n",
      "_________________________________________________________________\n",
      "Layer (type)                 Output Shape              Param #   \n",
      "=================================================================\n",
      "embedding_6 (Embedding)      (None, None, 32)          1984      \n",
      "_________________________________________________________________\n",
      "spatial_dropout1d_6 (Spatial (None, None, 32)          0         \n",
      "_________________________________________________________________\n",
      "lstm_18 (LSTM)               (None, None, 32)          8320      \n",
      "_________________________________________________________________\n",
      "lstm_19 (LSTM)               (None, None, 32)          8320      \n",
      "_________________________________________________________________\n",
      "lstm_20 (LSTM)               (None, None, 32)          8320      \n",
      "_________________________________________________________________\n",
      "dense_6 (Dense)              (None, None, 62)          2046      \n",
      "=================================================================\n",
      "Total params: 28,990\n",
      "Trainable params: 28,990\n",
      "Non-trainable params: 0\n",
      "_________________________________________________________________\n"
     ]
    }
   ],
   "source": [
    "model.summary()"
   ]
  },
  {
   "cell_type": "code",
   "execution_count": 68,
   "metadata": {},
   "outputs": [],
   "source": [
    "def loss(labels, predictions):\n",
    "    return tf.losses.sparse_categorical_crossentropy(labels, predictions, from_logits=True)"
   ]
  },
  {
   "cell_type": "code",
   "execution_count": 69,
   "metadata": {},
   "outputs": [],
   "source": [
    "#model.compile(optimizer=tf.optimizers.Adam(), loss='categorical_crossentropy')\n",
    "model.compile(optimizer=tf.optimizers.Adam(learning_rate=learning_rate, clipvalue=grad_clip), loss=loss)"
   ]
  },
  {
   "cell_type": "code",
   "execution_count": 70,
   "metadata": {},
   "outputs": [
    {
     "name": "stdout",
     "output_type": "stream",
     "text": [
      "Train for 40 steps\n",
      "Epoch 1/100\n",
      "40/40 [==============================] - 4s 109ms/step - loss: 3.2582\n",
      "Epoch 2/100\n",
      "40/40 [==============================] - 1s 26ms/step - loss: 2.7748\n",
      "Epoch 3/100\n",
      "40/40 [==============================] - 1s 26ms/step - loss: 2.5527\n",
      "Epoch 4/100\n",
      "40/40 [==============================] - 1s 25ms/step - loss: 2.4547\n",
      "Epoch 5/100\n",
      "40/40 [==============================] - 1s 26ms/step - loss: 2.3689\n",
      "Epoch 6/100\n",
      "40/40 [==============================] - 1s 26ms/step - loss: 2.3035\n",
      "Epoch 7/100\n",
      "40/40 [==============================] - 1s 26ms/step - loss: 2.2498\n",
      "Epoch 8/100\n",
      "40/40 [==============================] - 1s 26ms/step - loss: 2.2049\n",
      "Epoch 9/100\n",
      "40/40 [==============================] - 1s 26ms/step - loss: 2.1728\n",
      "Epoch 10/100\n",
      "40/40 [==============================] - 1s 26ms/step - loss: 2.1432\n",
      "Epoch 11/100\n",
      "40/40 [==============================] - 1s 26ms/step - loss: 2.1082\n",
      "Epoch 12/100\n",
      "40/40 [==============================] - 1s 26ms/step - loss: 2.0907\n",
      "Epoch 13/100\n",
      "40/40 [==============================] - 1s 26ms/step - loss: 2.0682\n",
      "Epoch 14/100\n",
      "40/40 [==============================] - 1s 26ms/step - loss: 2.0476\n",
      "Epoch 15/100\n",
      "40/40 [==============================] - 1s 26ms/step - loss: 2.0281\n",
      "Epoch 16/100\n",
      "40/40 [==============================] - 1s 26ms/step - loss: 2.0147\n",
      "Epoch 17/100\n",
      "40/40 [==============================] - 1s 26ms/step - loss: 2.0028\n",
      "Epoch 18/100\n",
      "40/40 [==============================] - 1s 26ms/step - loss: 1.9866\n",
      "Epoch 19/100\n",
      "40/40 [==============================] - 1s 26ms/step - loss: 1.9766\n",
      "Epoch 20/100\n",
      "40/40 [==============================] - 1s 26ms/step - loss: 1.9681\n",
      "Epoch 21/100\n",
      "40/40 [==============================] - 1s 26ms/step - loss: 1.9615\n",
      "Epoch 22/100\n",
      "40/40 [==============================] - 1s 26ms/step - loss: 1.9624\n",
      "Epoch 23/100\n",
      "40/40 [==============================] - 1s 26ms/step - loss: 1.9569\n",
      "Epoch 24/100\n",
      "40/40 [==============================] - 1s 26ms/step - loss: 1.9503\n",
      "Epoch 25/100\n",
      "40/40 [==============================] - 1s 26ms/step - loss: 1.9416\n",
      "Epoch 26/100\n",
      "40/40 [==============================] - 1s 26ms/step - loss: 1.9350\n",
      "Epoch 27/100\n",
      "40/40 [==============================] - 1s 26ms/step - loss: 1.9332\n",
      "Epoch 28/100\n",
      "40/40 [==============================] - 1s 26ms/step - loss: 1.9292\n",
      "Epoch 29/100\n",
      "40/40 [==============================] - 1s 26ms/step - loss: 1.9256\n",
      "Epoch 30/100\n",
      "40/40 [==============================] - 1s 26ms/step - loss: 1.9224\n",
      "Epoch 31/100\n",
      "40/40 [==============================] - 1s 26ms/step - loss: 1.9219\n",
      "Epoch 32/100\n",
      "40/40 [==============================] - 1s 26ms/step - loss: 1.9160\n",
      "Epoch 33/100\n",
      "40/40 [==============================] - 1s 26ms/step - loss: 1.9091\n",
      "Epoch 34/100\n",
      "40/40 [==============================] - 1s 26ms/step - loss: 1.9107\n",
      "Epoch 35/100\n",
      "40/40 [==============================] - 1s 26ms/step - loss: 1.9023\n",
      "Epoch 36/100\n",
      "40/40 [==============================] - 1s 26ms/step - loss: 1.8967\n",
      "Epoch 37/100\n",
      "40/40 [==============================] - 1s 26ms/step - loss: 1.8976\n",
      "Epoch 38/100\n",
      "40/40 [==============================] - 1s 26ms/step - loss: 1.8961\n",
      "Epoch 39/100\n",
      "40/40 [==============================] - 1s 26ms/step - loss: 1.8973\n",
      "Epoch 40/100\n",
      "40/40 [==============================] - 1s 26ms/step - loss: 1.8892\n",
      "Epoch 41/100\n",
      "40/40 [==============================] - 1s 26ms/step - loss: 1.8856\n",
      "Epoch 42/100\n",
      "40/40 [==============================] - 1s 26ms/step - loss: 1.8810\n",
      "Epoch 43/100\n",
      "40/40 [==============================] - 1s 25ms/step - loss: 1.8778\n",
      "Epoch 44/100\n",
      "40/40 [==============================] - 1s 26ms/step - loss: 1.8758\n",
      "Epoch 45/100\n",
      "40/40 [==============================] - 1s 26ms/step - loss: 1.8778\n",
      "Epoch 46/100\n",
      "40/40 [==============================] - 1s 26ms/step - loss: 1.8723\n",
      "Epoch 47/100\n",
      "40/40 [==============================] - 1s 26ms/step - loss: 1.8728\n",
      "Epoch 48/100\n",
      "40/40 [==============================] - 1s 26ms/step - loss: 1.8661\n",
      "Epoch 49/100\n",
      "40/40 [==============================] - 1s 26ms/step - loss: 1.8612\n",
      "Epoch 50/100\n",
      "40/40 [==============================] - 1s 26ms/step - loss: 1.8581\n",
      "Epoch 51/100\n",
      "40/40 [==============================] - 1s 26ms/step - loss: 1.8545\n",
      "Epoch 52/100\n",
      "40/40 [==============================] - 1s 26ms/step - loss: 1.8543\n",
      "Epoch 53/100\n",
      "40/40 [==============================] - 1s 26ms/step - loss: 1.8517\n",
      "Epoch 54/100\n",
      "40/40 [==============================] - 1s 26ms/step - loss: 1.8547\n",
      "Epoch 55/100\n",
      "40/40 [==============================] - 1s 26ms/step - loss: 1.8540\n",
      "Epoch 56/100\n",
      "40/40 [==============================] - 1s 26ms/step - loss: 1.8489\n",
      "Epoch 57/100\n",
      "40/40 [==============================] - 1s 26ms/step - loss: 1.8466\n",
      "Epoch 58/100\n",
      "40/40 [==============================] - 1s 26ms/step - loss: 1.8483\n",
      "Epoch 59/100\n",
      "40/40 [==============================] - 1s 26ms/step - loss: 1.8490\n",
      "Epoch 60/100\n",
      "40/40 [==============================] - ETA: 0s - loss: 1.844 - 1s 26ms/step - loss: 1.8432\n",
      "Epoch 61/100\n",
      "40/40 [==============================] - 1s 26ms/step - loss: 1.8447\n",
      "Epoch 62/100\n",
      "40/40 [==============================] - 1s 26ms/step - loss: 1.8514\n",
      "Epoch 63/100\n",
      "40/40 [==============================] - 1s 26ms/step - loss: 1.8519\n",
      "Epoch 64/100\n",
      "40/40 [==============================] - 1s 26ms/step - loss: 1.8523\n",
      "Epoch 65/100\n",
      "40/40 [==============================] - 1s 26ms/step - loss: 1.8537\n",
      "Epoch 66/100\n",
      "40/40 [==============================] - 1s 26ms/step - loss: 1.8515\n",
      "Epoch 67/100\n",
      "40/40 [==============================] - 1s 26ms/step - loss: 1.8601\n",
      "Epoch 68/100\n",
      "40/40 [==============================] - 1s 26ms/step - loss: 1.8570\n",
      "Epoch 69/100\n",
      "40/40 [==============================] - 1s 26ms/step - loss: 1.8544\n",
      "Epoch 70/100\n",
      "40/40 [==============================] - 1s 26ms/step - loss: 1.8433\n",
      "Epoch 71/100\n",
      "40/40 [==============================] - 1s 26ms/step - loss: 1.8411\n",
      "Epoch 72/100\n",
      "40/40 [==============================] - 1s 26ms/step - loss: 1.8390\n",
      "Epoch 73/100\n",
      "40/40 [==============================] - 1s 26ms/step - loss: 1.8386\n",
      "Epoch 74/100\n",
      "40/40 [==============================] - 1s 26ms/step - loss: 1.8357\n",
      "Epoch 75/100\n",
      "40/40 [==============================] - 1s 26ms/step - loss: 1.8356\n",
      "Epoch 76/100\n",
      "40/40 [==============================] - 1s 26ms/step - loss: 1.8296\n",
      "Epoch 77/100\n",
      "40/40 [==============================] - 1s 26ms/step - loss: 1.8280\n",
      "Epoch 78/100\n",
      "40/40 [==============================] - 1s 26ms/step - loss: 1.8354\n",
      "Epoch 79/100\n",
      "40/40 [==============================] - 1s 26ms/step - loss: 1.8329\n",
      "Epoch 80/100\n",
      "40/40 [==============================] - 1s 26ms/step - loss: 1.8326\n",
      "Epoch 81/100\n",
      "40/40 [==============================] - 1s 26ms/step - loss: 1.8360\n",
      "Epoch 82/100\n",
      "40/40 [==============================] - 1s 26ms/step - loss: 1.8360\n",
      "Epoch 83/100\n",
      "40/40 [==============================] - 1s 26ms/step - loss: 1.8273\n",
      "Epoch 84/100\n",
      "40/40 [==============================] - 1s 26ms/step - loss: 1.8484\n",
      "Epoch 85/100\n",
      "40/40 [==============================] - 1s 26ms/step - loss: 1.8436\n",
      "Epoch 86/100\n",
      "40/40 [==============================] - 1s 26ms/step - loss: 1.8391\n",
      "Epoch 87/100\n",
      "40/40 [==============================] - 1s 26ms/step - loss: 1.8323\n",
      "Epoch 88/100\n",
      "40/40 [==============================] - 1s 26ms/step - loss: 1.8309\n",
      "Epoch 89/100\n",
      "40/40 [==============================] - 1s 26ms/step - loss: 1.8327\n",
      "Epoch 90/100\n",
      "40/40 [==============================] - 1s 26ms/step - loss: 1.8299\n",
      "Epoch 91/100\n",
      "40/40 [==============================] - 1s 26ms/step - loss: 1.8331\n",
      "Epoch 92/100\n",
      "40/40 [==============================] - 1s 26ms/step - loss: 1.8334\n",
      "Epoch 93/100\n",
      "40/40 [==============================] - 1s 26ms/step - loss: 1.8410\n",
      "Epoch 94/100\n",
      "40/40 [==============================] - 1s 26ms/step - loss: 1.8406\n",
      "Epoch 95/100\n",
      "40/40 [==============================] - 1s 26ms/step - loss: 1.8330\n",
      "Epoch 96/100\n",
      "40/40 [==============================] - 1s 26ms/step - loss: 1.8370\n",
      "Epoch 97/100\n",
      "40/40 [==============================] - 1s 26ms/step - loss: 1.8432\n",
      "Epoch 98/100\n",
      "40/40 [==============================] - 1s 26ms/step - loss: 1.8471\n",
      "Epoch 99/100\n",
      "40/40 [==============================] - 1s 26ms/step - loss: 1.8431\n",
      "Epoch 100/100\n",
      "40/40 [==============================] - 1s 25ms/step - loss: 1.8494\n"
     ]
    }
   ],
   "source": [
    "steps_per_epoch = n_samples // seq_len // batch_size # 200000 / 100 / 50 = 40\n",
    "#history = model.fit(dataset.repeat(), epochs=nepochs, steps_per_epoch=steps_per_epoch)\n",
    "history = model.fit(dataset.repeat(), epochs=100, steps_per_epoch=steps_per_epoch)"
   ]
  },
  {
   "cell_type": "code",
   "execution_count": 72,
   "metadata": {
    "scrolled": true
   },
   "outputs": [
    {
     "data": {
      "text/plain": [
       "Text(0, 0.5, 'Losses')"
      ]
     },
     "execution_count": 72,
     "metadata": {},
     "output_type": "execute_result"
    },
    {
     "data": {
      "image/png": "[encoded data removed]",
      "text/plain": [
       "<Figure size 432x288 with 1 Axes>"
      ]
     },
     "metadata": {
      "needs_background": "light"
     },
     "output_type": "display_data"
    }
   ],
   "source": [
    "fig, ax = plt.subplots()\n",
    "plt.plot(history.history['loss'])\n",
    "ax.set_xlabel('epochs')\n",
    "ax.set_ylabel('Losses')"
   ]
  },
  {
   "cell_type": "code",
   "execution_count": 96,
   "metadata": {},
   "outputs": [],
   "source": [
    "# 생성할 문장의 길이\n",
    "generated_text_len = 200  \n",
    "# 시작 문자를 't'로 지정.\n",
    "generated_text = 't' "
   ]
  },
  {
   "cell_type": "code",
   "execution_count": 97,
   "metadata": {},
   "outputs": [],
   "source": [
    "# RNN의 최초 state값을 0으로 초기화.\n",
    "#state = sess.run(cell.zero_state(1, tf.float32))\n",
    "model.reset_states()"
   ]
  },
  {
   "cell_type": "code",
   "execution_count": 100,
   "metadata": {},
   "outputs": [],
   "source": [
    "text_generated = []\n",
    "input = [char_to_int[s] for s in generated_text]\n",
    "input = tf.expand_dims(input, 0)\n",
    "for i in range(generated_text_len):\n",
    "    preds = model(input)\n",
    "    # 차원이 1인 차원을 모두 제거한다\n",
    "    preds = tf.squeeze(preds, 0)\n",
    "    # predict char returned by model\n",
    "    pred_id = tf.random.categorical(preds, num_samples=1)[-1, 0].numpy()\n",
    "    text_generated.append(int_to_char[pred_id])\n",
    "    # pass the prediction as the next input to the model\n",
    "    input = tf.expand_dims([pred_id], 0)"
   ]
  },
  {
   "cell_type": "code",
   "execution_count": 101,
   "metadata": {
    "scrolled": false
   },
   "outputs": [
    {
     "name": "stdout",
     "output_type": "stream",
     "text": [
      "t ot mns oito te t'R:\n",
      "Gut ower, n, alfemhelit, an os\n",
      "GLAn'sur rgee'd, mer d\n",
      "Whe, n's re,-sareneres ve t o cus, ado, d b, lesongesuvinldthe ten a sal ard tr l do I R:\n",
      "\n",
      "Qut io d,\n",
      "S: d hee mef d band f s \n"
     ]
    }
   ],
   "source": [
    "print(generated_text + \"\".join(text_generated))"
   ]
  },
  {
   "cell_type": "markdown",
   "metadata": {},
   "source": [
    "## 예제 4-2 셰익스피어 작품의 문장 생성을 LSTM으로 학습하기 (using stateful and entire data)"
   ]
  },
  {
   "cell_type": "markdown",
   "metadata": {},
   "source": [
    "LSTM으로 셰익스피어 작품 흉내 내기를 실습한다. 모형은 입력층과 2개의 은닉층 그리고 출력층으로 구성된다. 은닉층의 노드 수는 32, 서열 길이는 50, 가중치 클리핑은 5로 설정하였다."
   ]
  },
  {
   "cell_type": "code",
   "execution_count": 104,
   "metadata": {},
   "outputs": [],
   "source": [
    "import os\n",
    "import numpy as np\n",
    "import tensorflow as tf\n",
    "import matplotlib.pyplot as plt"
   ]
  },
  {
   "cell_type": "code",
   "execution_count": 142,
   "metadata": {},
   "outputs": [],
   "source": [
    "#-------------------------------------------------\n",
    "# 데이터 불러오기\n",
    "#-------------------------------------------------\n",
    "raw_data = open('./input.txt', 'r').read() # input.txt 예제 데이터"
   ]
  },
  {
   "cell_type": "code",
   "execution_count": 143,
   "metadata": {},
   "outputs": [
    {
     "name": "stdout",
     "output_type": "stream",
     "text": [
      "1115394\n"
     ]
    }
   ],
   "source": [
    "print(len(raw_data))"
   ]
  },
  {
   "cell_type": "code",
   "execution_count": 107,
   "metadata": {},
   "outputs": [],
   "source": [
    "# 계산 시간 때문에 일부만 사용\n",
    "raw_data = raw_data[:200000]"
   ]
  },
  {
   "cell_type": "code",
   "execution_count": 144,
   "metadata": {},
   "outputs": [
    {
     "name": "stdout",
     "output_type": "stream",
     "text": [
      "<class 'str'>\n",
      "1115394\n",
      "First Citizen:\n",
      "Before we proceed any further, hear me speak.\n",
      "\n",
      "All:\n",
      "Speak, speak.\n",
      "\n",
      "First Citizen:\n",
      "You\n"
     ]
    }
   ],
   "source": [
    "print(type(raw_data))\n",
    "print(len(raw_data))\n",
    "print(raw_data[0:100])"
   ]
  },
  {
   "cell_type": "code",
   "execution_count": 145,
   "metadata": {},
   "outputs": [],
   "source": [
    "# 전체 문자 수\n",
    "n_samples = len(raw_data)\n",
    "# 고유한 문자\n",
    "unique_chars = list(set(raw_data));\n",
    "# 문자를 정수로 변환하는 딕셔너리\n",
    "char_to_int = { ch:i for i,ch in enumerate(unique_chars) }\n",
    "# 정수를 문자로 변환하는 딕셔너리\n",
    "int_to_char = { i:ch for i,ch in enumerate(unique_chars) }\n",
    "# 고유한 문자 수\n",
    "n_unique_chars = len(unique_chars)"
   ]
  },
  {
   "cell_type": "code",
   "execution_count": 146,
   "metadata": {},
   "outputs": [
    {
     "name": "stdout",
     "output_type": "stream",
     "text": [
      "1115394\n",
      "65\n"
     ]
    }
   ],
   "source": [
    "print(n_samples)\n",
    "print(n_unique_chars)"
   ]
  },
  {
   "cell_type": "code",
   "execution_count": 147,
   "metadata": {},
   "outputs": [],
   "source": [
    "# 입력층의 노드 수(입력 크기) = 원-핫 벡터 크기\n",
    "input_dim = n_unique_chars\n",
    "# 출력층의 노드 수 = 고유한 문자 수\n",
    "num_classes = n_unique_chars"
   ]
  },
  {
   "cell_type": "code",
   "execution_count": 148,
   "metadata": {},
   "outputs": [],
   "source": [
    "#-------------------------------------------\n",
    "# 매개변수 설정\n",
    "#-------------------------------------------\n",
    "# 은닉층 크기: 32\n",
    "# 미니배치 크기: 100\n",
    "# 반복 수: 200\n",
    "# 학습률: 0.1\n",
    "# Gradient Clipping에 사용할 임곗값: 2\n",
    "batch_size = 100\n",
    "seq_len = 50 # 한 번에 입력되는 서열 길이\n",
    "hidden_size = 32 # 은닉층 노드 수\n",
    "learning_rate = 0.05\n",
    "grad_clip = 5 # Gradient Clipping에 사용할 임곗값\n",
    "nepochs = 50 # 반복 수\n",
    "# 배치 개수\n",
    "num_batches = int(len(raw_data)/(batch_size * seq_len)) # 40"
   ]
  },
  {
   "cell_type": "code",
   "execution_count": 149,
   "metadata": {},
   "outputs": [],
   "source": [
    "# 데이터 - (배치 크기*배치 개수)\n",
    "data = raw_data[:num_batches*batch_size*seq_len]\n",
    "# 데이터를 정수로 변환\n",
    "data = np.array([char_to_int[n] for n in data]);"
   ]
  },
  {
   "cell_type": "code",
   "execution_count": 150,
   "metadata": {},
   "outputs": [],
   "source": [
    "# 입력과 목표 데이터 설정\n",
    "xdata = data\n",
    "ydata = np.copy(data)\n",
    "ydata[:-1] = xdata[1:]\n",
    "ydata[-1] = xdata[0]"
   ]
  },
  {
   "cell_type": "code",
   "execution_count": 151,
   "metadata": {},
   "outputs": [],
   "source": [
    "# 배치 개수*배치 크기*서열 길이 = (?, 100, 32)\n",
    "#x_batches = np.split(xdata.reshape(batch_size, -1),num_batches, 1)\n",
    "#x_batches = np.asarray(x_batches)\n",
    "#x_batches.shape\n",
    "dataset = tf.data.Dataset.from_tensor_slices((xdata, ydata)).batch(seq_len, drop_remainder=True)\n",
    "dataset = dataset.batch(batch_size, drop_remainder=True)"
   ]
  },
  {
   "cell_type": "code",
   "execution_count": 152,
   "metadata": {
    "scrolled": true
   },
   "outputs": [
    {
     "name": "stdout",
     "output_type": "stream",
     "text": [
      "<class 'tensorflow.python.data.ops.dataset_ops.BatchDataset'>\n",
      "<BatchDataset shapes: ((100, 50), (100, 50)), types: (tf.int32, tf.int32)>\n",
      "(array([[40, 47, 33, ..., 12,  2, 33],\n",
      "       [27,  7, 12, ...,  4, 52, 30],\n",
      "       [27,  2, 33, ..., 61, 61, 50],\n",
      "       ...,\n",
      "       [47, 39,  0, ..., 25, 52, 30],\n",
      "       [34, 61, 61, ..., 12, 27,  8],\n",
      "       [47,  0, 39, ..., 12, 63, 63]]), array([[47, 33, 17, ...,  2, 33, 27],\n",
      "       [ 7, 12, 27, ..., 52, 30, 27],\n",
      "       [ 2, 33, 12, ..., 61, 50, 63],\n",
      "       ...,\n",
      "       [39,  0, 27, ..., 52, 30, 34],\n",
      "       [61, 61, 40, ..., 27,  8, 47],\n",
      "       [ 0, 39, 63, ..., 63, 63, 52]]))\n"
     ]
    }
   ],
   "source": [
    "print(type(dataset))\n",
    "print(dataset)\n",
    "print(list(dataset.as_numpy_iterator())[0])"
   ]
  },
  {
   "cell_type": "code",
   "execution_count": 167,
   "metadata": {},
   "outputs": [],
   "source": [
    "class CharGenModel(tf.keras.Model):\n",
    "    def __init__(self, vocab_size, num_timesteps, embedding_dim, **kwargs):\n",
    "        super(CharGenModel, self).__init__(**kwargs)\n",
    "        self.embedding_layer = tf.keras.layers.Embedding(n_unique_chars, hidden_size)\n",
    "        self.dropout = tf.keras.layers.SpatialDropout1D(0.2)\n",
    "        self.rnn_layer_1 = tf.keras.layers.LSTM(hidden_size, return_sequences=True, stateful=True)\n",
    "        self.rnn_layer_2 = tf.keras.layers.LSTM(hidden_size, return_sequences=True, stateful=True)\n",
    "        self.rnn_layer_3 = tf.keras.layers.LSTM(hidden_size, return_sequences=True, stateful=True)\n",
    "        self.dense_layer = tf.keras.layers.Dense(n_unique_chars)\n",
    "        \n",
    "    def call(self, x):\n",
    "        x = self.embedding_layer(x)\n",
    "        x = self.dropout(x)\n",
    "        x = self.rnn_layer_1(x)\n",
    "        x = self.rnn_layer_2(x)\n",
    "        x = self.rnn_layer_3(x)\n",
    "        x = self.dense_layer(x)\n",
    "        return x"
   ]
  },
  {
   "cell_type": "code",
   "execution_count": 168,
   "metadata": {},
   "outputs": [],
   "source": [
    "model = CharGenModel(n_unique_chars, seq_len, hidden_size)\n",
    "model.build(input_shape=(batch_size, seq_len))"
   ]
  },
  {
   "cell_type": "code",
   "execution_count": 169,
   "metadata": {},
   "outputs": [
    {
     "name": "stdout",
     "output_type": "stream",
     "text": [
      "Model: \"char_gen_model_13\"\n",
      "_________________________________________________________________\n",
      "Layer (type)                 Output Shape              Param #   \n",
      "=================================================================\n",
      "embedding_14 (Embedding)     multiple                  2080      \n",
      "_________________________________________________________________\n",
      "spatial_dropout1d_14 (Spatia multiple                  0         \n",
      "_________________________________________________________________\n",
      "lstm_42 (LSTM)               multiple                  8320      \n",
      "_________________________________________________________________\n",
      "lstm_43 (LSTM)               multiple                  8320      \n",
      "_________________________________________________________________\n",
      "lstm_44 (LSTM)               multiple                  8320      \n",
      "_________________________________________________________________\n",
      "dense_14 (Dense)             multiple                  2145      \n",
      "=================================================================\n",
      "Total params: 29,185\n",
      "Trainable params: 29,185\n",
      "Non-trainable params: 0\n",
      "_________________________________________________________________\n"
     ]
    }
   ],
   "source": [
    "model.summary()"
   ]
  },
  {
   "cell_type": "code",
   "execution_count": 170,
   "metadata": {},
   "outputs": [],
   "source": [
    "def loss(labels, predictions):\n",
    "    return tf.losses.sparse_categorical_crossentropy(labels, predictions, from_logits=True)"
   ]
  },
  {
   "cell_type": "code",
   "execution_count": 171,
   "metadata": {},
   "outputs": [],
   "source": [
    "model.compile(optimizer=tf.optimizers.Adam(learning_rate=learning_rate, clipvalue=grad_clip), loss=loss)"
   ]
  },
  {
   "cell_type": "code",
   "execution_count": 172,
   "metadata": {},
   "outputs": [
    {
     "name": "stdout",
     "output_type": "stream",
     "text": [
      "223\n"
     ]
    }
   ],
   "source": [
    "steps_per_epoch = n_samples // seq_len // batch_size # 200000 / 100 / 50 = 40\n",
    "print(steps_per_epoch)"
   ]
  },
  {
   "cell_type": "code",
   "execution_count": 173,
   "metadata": {},
   "outputs": [
    {
     "name": "stdout",
     "output_type": "stream",
     "text": [
      "Train for 223 steps\n",
      "Epoch 1/50\n",
      "223/223 [==============================] - 18s 80ms/step - loss: 2.6839\n",
      "Epoch 2/50\n",
      "223/223 [==============================] - 15s 66ms/step - loss: 2.3044\n",
      "Epoch 3/50\n",
      "223/223 [==============================] - 15s 67ms/step - loss: 2.1993\n",
      "Epoch 4/50\n",
      "223/223 [==============================] - 15s 67ms/step - loss: 2.1561\n",
      "Epoch 5/50\n",
      "223/223 [==============================] - 15s 67ms/step - loss: 2.1280\n",
      "Epoch 6/50\n",
      "223/223 [==============================] - 15s 67ms/step - loss: 2.1057\n",
      "Epoch 7/50\n",
      "223/223 [==============================] - 15s 66ms/step - loss: 2.0843\n",
      "Epoch 8/50\n",
      "223/223 [==============================] - 15s 68ms/step - loss: 2.0702\n",
      "Epoch 9/50\n",
      "223/223 [==============================] - 15s 69ms/step - loss: 2.0594\n",
      "Epoch 10/50\n",
      "223/223 [==============================] - 16s 70ms/step - loss: 2.0514\n",
      "Epoch 11/50\n",
      "223/223 [==============================] - 15s 67ms/step - loss: 2.0462\n",
      "Epoch 12/50\n",
      "223/223 [==============================] - 15s 67ms/step - loss: 2.0390\n",
      "Epoch 13/50\n",
      "223/223 [==============================] - 15s 67ms/step - loss: 2.0347\n",
      "Epoch 14/50\n",
      "223/223 [==============================] - 15s 67ms/step - loss: 2.0331\n",
      "Epoch 15/50\n",
      "223/223 [==============================] - 15s 67ms/step - loss: 2.0275\n",
      "Epoch 16/50\n",
      "223/223 [==============================] - 15s 67ms/step - loss: 2.0204\n",
      "Epoch 17/50\n",
      "223/223 [==============================] - 15s 67ms/step - loss: 2.0229\n",
      "Epoch 18/50\n",
      "223/223 [==============================] - 15s 67ms/step - loss: 2.0143\n",
      "Epoch 19/50\n",
      "223/223 [==============================] - 15s 66ms/step - loss: 2.0131\n",
      "Epoch 20/50\n",
      "223/223 [==============================] - 15s 67ms/step - loss: 2.0115\n",
      "Epoch 21/50\n",
      "223/223 [==============================] - 15s 67ms/step - loss: 2.0106\n",
      "Epoch 22/50\n",
      "223/223 [==============================] - 15s 67ms/step - loss: 2.0093\n",
      "Epoch 23/50\n",
      "223/223 [==============================] - 15s 68ms/step - loss: 2.0051\n",
      "Epoch 24/50\n",
      "223/223 [==============================] - 15s 67ms/step - loss: 2.0037\n",
      "Epoch 25/50\n",
      "223/223 [==============================] - 15s 67ms/step - loss: 2.0023\n",
      "Epoch 26/50\n",
      "223/223 [==============================] - 15s 67ms/step - loss: 1.9984\n",
      "Epoch 27/50\n",
      "223/223 [==============================] - 15s 68ms/step - loss: 2.0000\n",
      "Epoch 28/50\n",
      "223/223 [==============================] - 15s 67ms/step - loss: 1.9968\n",
      "Epoch 29/50\n",
      "223/223 [==============================] - 15s 66ms/step - loss: 2.0017\n",
      "Epoch 30/50\n",
      "223/223 [==============================] - 15s 66ms/step - loss: 1.9971\n",
      "Epoch 31/50\n",
      "223/223 [==============================] - 15s 66ms/step - loss: 1.9956\n",
      "Epoch 32/50\n",
      "223/223 [==============================] - 15s 66ms/step - loss: 1.9944\n",
      "Epoch 33/50\n",
      "223/223 [==============================] - 15s 66ms/step - loss: 1.9944\n",
      "Epoch 34/50\n",
      "223/223 [==============================] - 15s 66ms/step - loss: 1.9920\n",
      "Epoch 35/50\n",
      "223/223 [==============================] - 15s 67ms/step - loss: 1.9931\n",
      "Epoch 36/50\n",
      "223/223 [==============================] - 15s 66ms/step - loss: 1.9955\n",
      "Epoch 37/50\n",
      "223/223 [==============================] - 15s 66ms/step - loss: 1.9909\n",
      "Epoch 38/50\n",
      "223/223 [==============================] - 15s 66ms/step - loss: 1.9902\n",
      "Epoch 39/50\n",
      "223/223 [==============================] - 15s 66ms/step - loss: 1.9950\n",
      "Epoch 40/50\n",
      "223/223 [==============================] - 15s 66ms/step - loss: 1.9926\n",
      "Epoch 41/50\n",
      "223/223 [==============================] - 15s 66ms/step - loss: 1.9884\n",
      "Epoch 42/50\n",
      "223/223 [==============================] - 15s 66ms/step - loss: 1.9924\n",
      "Epoch 43/50\n",
      "223/223 [==============================] - 15s 66ms/step - loss: 1.9958\n",
      "Epoch 44/50\n",
      "223/223 [==============================] - 15s 66ms/step - loss: 1.9975\n",
      "Epoch 45/50\n",
      "223/223 [==============================] - 15s 66ms/step - loss: 1.9931\n",
      "Epoch 46/50\n",
      "223/223 [==============================] - 15s 66ms/step - loss: 1.9956\n",
      "Epoch 47/50\n",
      "223/223 [==============================] - 15s 66ms/step - loss: 2.0034\n",
      "Epoch 48/50\n",
      "223/223 [==============================] - 15s 66ms/step - loss: 1.9974\n",
      "Epoch 49/50\n",
      "223/223 [==============================] - 15s 66ms/step - loss: 1.9924\n",
      "Epoch 50/50\n",
      "223/223 [==============================] - 15s 66ms/step - loss: 1.9878\n"
     ]
    }
   ],
   "source": [
    "history = model.fit(dataset.repeat(), epochs=nepochs, steps_per_epoch=steps_per_epoch)"
   ]
  },
  {
   "cell_type": "code",
   "execution_count": 174,
   "metadata": {
    "scrolled": false
   },
   "outputs": [
    {
     "data": {
      "text/plain": [
       "Text(0, 0.5, 'Losses')"
      ]
     },
     "execution_count": 174,
     "metadata": {},
     "output_type": "execute_result"
    },
    {
     "data": {
      "image/png": "[encoded data removed]",
      "text/plain": [
       "<Figure size 432x288 with 1 Axes>"
      ]
     },
     "metadata": {
      "needs_background": "light"
     },
     "output_type": "display_data"
    }
   ],
   "source": [
    "fig, ax = plt.subplots()\n",
    "plt.plot(history.history['loss'])\n",
    "ax.set_xlabel('epochs')\n",
    "ax.set_ylabel('Losses')"
   ]
  },
  {
   "cell_type": "code",
   "execution_count": 175,
   "metadata": {},
   "outputs": [],
   "source": [
    "# 생성할 문장의 길이\n",
    "generated_text_len = 1000  \n",
    "# 시작 문자를 't'로 지정.\n",
    "generated_text = 't'"
   ]
  },
  {
   "cell_type": "code",
   "execution_count": 176,
   "metadata": {},
   "outputs": [],
   "source": [
    "CHECKPOINT_DIR = os.path.join(\"data\", \"checkpoints\") # where we will save the weights\n",
    "checkpoint_file = os.path.join(CHECKPOINT_DIR, 'char_gen_model')\n",
    "model.save_weights(checkpoint_file)"
   ]
  },
  {
   "cell_type": "code",
   "execution_count": null,
   "metadata": {},
   "outputs": [],
   "source": [
    "gen_model = CharGenModel(n_unique_chars, seq_len, hidden_size)\n",
    "gen_model.load_weights(checkpoint_file)\n",
    "gen_model.build(input_shape=(1, seq_len))\n",
    "gen_model.reset_states()"
   ]
  },
  {
   "cell_type": "code",
   "execution_count": 187,
   "metadata": {
    "scrolled": true
   },
   "outputs": [
    {
     "name": "stdout",
     "output_type": "stream",
     "text": [
      "t\n",
      "Her of thou ne wor.\n",
      "\n",
      "Luest:\n",
      "Hoshish Pome\n",
      "As is the vixe.\n",
      "\n",
      "PENSENTE:\n",
      "And these resters of dow not brt thombn bedringer woors leathors trron? yewt light; elis the with sean your raon worl the filler, geathle as wille to to got the knlosge be, bothoil with my doot is\n",
      "In wad mher to farg by keem bees,\n",
      "Whipe, anllar an esdeews n speimge it so nond Be'\n",
      "to hather.\n",
      "I,\n",
      "They gather wofore bid come thing! but at joth inst;\n",
      "The puitherft \n",
      "Andent Kangy more he no deslan that he you show of a bove for the reather\n",
      "Besent.\n",
      "And. I sprans? and fie.'\n",
      "My\n",
      "\n",
      "The goid trord'd spant to your not Oily; youd, uplore his whenten so huths agored.\n",
      "\n",
      "Fnow:\n",
      "War my ost's that loace, we dare\n",
      "Thy\n",
      "I fh in me\n",
      "A\n",
      "this the swell!\n",
      "\n",
      "BETRUCHIO:\n",
      "For, lock!\n",
      "\n",
      "Grorst: them ofl.\n",
      "\n",
      "PETRUCHIO:\n",
      "By le's groma, un casen his arherr puer, aran on all suor.\n",
      "\n",
      "GOPA:\n",
      "To nom stabnattto: the partter that melirm abowg lidomed\n",
      "sill dirtore of the fapblescio.'\n",
      "\n",
      "Goikgt Kenedart zingpy:\n",
      "His lorcitas\n",
      "I'lliompeatan and raynend here oolfer:\n",
      "Arbucher the a\n"
     ]
    }
   ],
   "source": [
    "text_generated = []\n",
    "input = [char_to_int[s] for s in generated_text]\n",
    "input = tf.expand_dims(input, 1)\n",
    "for i in range(generated_text_len):\n",
    "    preds = gen_model(input)\n",
    "    # 차원이 1인 차원을 모두 제거한다\n",
    "    preds = tf.squeeze(preds, 0)\n",
    "    # predict char returned by model\n",
    "    pred_id = tf.random.categorical(preds, num_samples=1)[-1, 0].numpy()\n",
    "    text_generated.append(int_to_char[pred_id])\n",
    "    # pass the prediction as the next input to the model\n",
    "    input = tf.expand_dims([pred_id], 0)\n",
    "    \n",
    "print(generated_text + \"\".join(text_generated))"
   ]
  },
  {
   "cell_type": "code",
   "execution_count": null,
   "metadata": {},
   "outputs": [],
   "source": []
  },
  {
   "cell_type": "markdown",
   "metadata": {},
   "source": [
    "## 예제 4-3 AR(2) 모형 학습하기"
   ]
  },
  {
   "cell_type": "markdown",
   "metadata": {},
   "source": [
    "이번에는 AR(2) 모형을 따르는 시계열을 예측하는 예제를 다룬다."
   ]
  },
  {
   "cell_type": "code",
   "execution_count": 1,
   "metadata": {},
   "outputs": [],
   "source": [
    "import numpy as np\n",
    "import matplotlib.pyplot as plt\n",
    "import tensorflow as tf"
   ]
  },
  {
   "cell_type": "code",
   "execution_count": 2,
   "metadata": {},
   "outputs": [],
   "source": [
    "#--------------------------------------------------\n",
    "# 길이가 100인 data(#AR(2) with a1=0.5; a2=-0.3) 만들기\n",
    "#--------------------------------------------------\n",
    "k=100\n",
    "x=np.random.normal(0,1,k); \n",
    "e=np.random.normal(0,1,k)\n",
    "a1=0.5 \n",
    "a2=-0.3\n",
    "\n",
    "x[2]=a1*x[1]+a2*x[0]+e[2]\n",
    "for i in range(2,k):\n",
    "    x[i]=a1*x[i-1]+a2*x[i-2]+e[i]\n",
    "\n",
    "# 표준화    \n",
    "x=(x-min(x))/(max(x)-min(x))"
   ]
  },
  {
   "cell_type": "code",
   "execution_count": 3,
   "metadata": {},
   "outputs": [
    {
     "data": {
      "text/plain": [
       "[<matplotlib.lines.Line2D at 0x1e9a2643648>]"
      ]
     },
     "execution_count": 3,
     "metadata": {},
     "output_type": "execute_result"
    },
    {
     "data": {
      "image/png": "[encoded data removed]",
      "text/plain": [
       "<Figure size 432x288 with 1 Axes>"
      ]
     },
     "metadata": {
      "needs_background": "light"
     },
     "output_type": "display_data"
    }
   ],
   "source": [
    "plt.plot(x)"
   ]
  },
  {
   "cell_type": "code",
   "execution_count": 4,
   "metadata": {},
   "outputs": [],
   "source": [
    "#-------------------------------------------\n",
    "# 매개변수 설정\n",
    "#-------------------------------------------\n",
    "# 은닉층 크기: 16\n",
    "# 미니배치 크기: 1\n",
    "# 반복 수: 1000\n",
    "# 학습률 :0.0005\n",
    "# 서열길이 10\n",
    "hidden_size =16 \n",
    "learning_rate = 0.0005 \n",
    "nepochs = 1000 \n",
    "seq_len=10 \n",
    "batch_size=1"
   ]
  },
  {
   "cell_type": "code",
   "execution_count": 5,
   "metadata": {},
   "outputs": [],
   "source": [
    "#------------------------------------------\n",
    "# 시계열 훈련에 적합한 데이터 만들기\n",
    "# 0~9 : input, 10: target\n",
    "# 1~10 : input, 11: target\n",
    "# ...\n",
    "# 89~98 : input, 99: target\n",
    "#-------------------------------------------\n",
    "dataX = []; dataY = []\n",
    "for i in range(k-seq_len):\n",
    "    tempX=x[i:i+seq_len]\n",
    "    dataX.append(tempX)\n",
    "    tempY=x[i+seq_len]\n",
    "    dataY.append(tempY)"
   ]
  },
  {
   "cell_type": "code",
   "execution_count": 6,
   "metadata": {
    "scrolled": true
   },
   "outputs": [
    {
     "name": "stdout",
     "output_type": "stream",
     "text": [
      "90\n",
      "90\n",
      "[0.46937678 0.678638   0.70595934 0.70866806 0.84377514 0.54845276\n",
      " 0.58144987 0.71020056 0.60577893 0.44079241]\n",
      "0.4072385006651737\n",
      "[0.678638   0.70595934 0.70866806 0.84377514 0.54845276 0.58144987\n",
      " 0.71020056 0.60577893 0.44079241 0.4072385 ]\n",
      "0.5269757293876081\n"
     ]
    }
   ],
   "source": [
    "print(len(dataX)) # (90, 10)\n",
    "print(len(dataY)) # (90, 1)\n",
    "print(dataX[0])\n",
    "print(dataY[0])\n",
    "print(dataX[1])\n",
    "print(dataY[1])"
   ]
  },
  {
   "cell_type": "code",
   "execution_count": 7,
   "metadata": {},
   "outputs": [],
   "source": [
    "# 데이터를 3차원으로 만듬\n",
    "dataX = [x.reshape(seq_len, 1) for x in dataX] # (90, 10, 1)\n",
    "dataY = [y.reshape(1,1) for y in dataY]  # (10, 1)"
   ]
  },
  {
   "cell_type": "code",
   "execution_count": 9,
   "metadata": {},
   "outputs": [],
   "source": [
    "# 데이터셋 생성\n",
    "dataset = tf.data.Dataset.from_tensor_slices((dataX, dataY))"
   ]
  },
  {
   "cell_type": "code",
   "execution_count": 22,
   "metadata": {},
   "outputs": [],
   "source": [
    "# 훈련 데이터와 테스트 데이터로 분리\n",
    "train_size = 70\n",
    "test_size = 20\n",
    "train_dataset = dataset.take(train_size)\n",
    "test_dataset = dataset.skip(train_size)\n",
    "train_dataset = train_dataset.batch(batch_size, drop_remainder=True) # (70, 10, 1)\n",
    "test_dataset = test_dataset.batch(batch_size, drop_remainder=True) # (20, 10, 1)"
   ]
  },
  {
   "cell_type": "code",
   "execution_count": 24,
   "metadata": {},
   "outputs": [
    {
     "name": "stdout",
     "output_type": "stream",
     "text": [
      "<BatchDataset shapes: ((1, 10, 1), (1, 1, 1)), types: (tf.float64, tf.float64)>\n"
     ]
    }
   ],
   "source": [
    "print(train_dataset)"
   ]
  },
  {
   "cell_type": "code",
   "execution_count": 12,
   "metadata": {
    "scrolled": true
   },
   "outputs": [
    {
     "name": "stdout",
     "output_type": "stream",
     "text": [
      "(<tf.Tensor: shape=(10, 1), dtype=float64, numpy=\n",
      "array([[0.46937678],\n",
      "       [0.678638  ],\n",
      "       [0.70595934],\n",
      "       [0.70866806],\n",
      "       [0.84377514],\n",
      "       [0.54845276],\n",
      "       [0.58144987],\n",
      "       [0.71020056],\n",
      "       [0.60577893],\n",
      "       [0.44079241]])>, <tf.Tensor: shape=(1, 1), dtype=float64, numpy=array([[0.4072385]])>)\n"
     ]
    }
   ],
   "source": [
    "print(list(train_dataset)[0])"
   ]
  },
  {
   "cell_type": "code",
   "execution_count": 55,
   "metadata": {},
   "outputs": [
    {
     "name": "stdout",
     "output_type": "stream",
     "text": [
      "90\n"
     ]
    }
   ],
   "source": [
    "# 훈련자료 크기    \n",
    "sample_size=np.array(dataY).shape[0] # 90\n",
    "print(sample_size)"
   ]
  },
  {
   "cell_type": "code",
   "execution_count": 10,
   "metadata": {},
   "outputs": [],
   "source": [
    "# 플레이스 홀더\n",
    "#X = tf.placeholder(tf.float32, shape=[None,seq_len,1])  # (None, 10, 1)\n",
    "#Y = tf.placeholder(tf.float32, [None,1])                # (None, 1)\n",
    "\n",
    "# 가중치와 편의 변수 \n",
    "#W = tf.Variable(tf.random_normal([hidden_size, 1]))     # (16, 1)\n",
    "#b = tf.Variable(tf.random_normal([1]))                  # (1)\n",
    "\n",
    "# LSTM 셀 정의 \n",
    "#cell1 = tf.nn.rnn_cell.BasicLSTMCell(hidden_size)       # (16)\n",
    "#cell2 = tf.nn.rnn_cell.BasicLSTMCell(hidden_size)       # (16)\n",
    "# 은닉층 2개\n",
    "#multi_cell = tf.nn.rnn_cell.MultiRNNCell([cell1, cell2])\n",
    "#output0, states = tf.nn.dynamic_rnn(multi_cell, X, dtype=tf.float32)  \n",
    "\n",
    "# 서열의 마지막 출력 값\n",
    "#output1 = tf.transpose(output0, [1, 0, 2]); \n",
    "#outputs = output1[-1]   \n",
    "#Y_pred= tf.matmul(outputs, W) + b\n"
   ]
  },
  {
   "cell_type": "code",
   "execution_count": 25,
   "metadata": {},
   "outputs": [],
   "source": [
    "# 모델 생성\n",
    "model = tf.keras.Sequential()\n",
    "model.add(tf.keras.layers.LSTM(hidden_size, return_sequences=True))\n",
    "model.add(tf.keras.layers.LSTM(hidden_size))\n",
    "model.add(tf.keras.layers.Dense(1, activation=None))"
   ]
  },
  {
   "cell_type": "code",
   "execution_count": 26,
   "metadata": {},
   "outputs": [],
   "source": [
    "# input shape 설정\n",
    "model.build(input_shape=(batch_size, seq_len, 1))"
   ]
  },
  {
   "cell_type": "code",
   "execution_count": 27,
   "metadata": {
    "scrolled": true
   },
   "outputs": [
    {
     "name": "stdout",
     "output_type": "stream",
     "text": [
      "Model: \"sequential_1\"\n",
      "_________________________________________________________________\n",
      "Layer (type)                 Output Shape              Param #   \n",
      "=================================================================\n",
      "lstm_2 (LSTM)                multiple                  1152      \n",
      "_________________________________________________________________\n",
      "lstm_3 (LSTM)                multiple                  2112      \n",
      "_________________________________________________________________\n",
      "dense_1 (Dense)              multiple                  17        \n",
      "=================================================================\n",
      "Total params: 3,281\n",
      "Trainable params: 3,281\n",
      "Non-trainable params: 0\n",
      "_________________________________________________________________\n"
     ]
    }
   ],
   "source": [
    "model.summary()"
   ]
  },
  {
   "cell_type": "code",
   "execution_count": 28,
   "metadata": {},
   "outputs": [],
   "source": [
    "# 손실함수와 옵티마이저\n",
    "#cost = tf.reduce_sum(tf.square(Y_pred - Y))  \n",
    "#optim = tf.train.AdamOptimizer(learning_rate).minimize(cost)\n",
    "model.compile(optimizer=tf.optimizers.Adam(learning_rate=learning_rate), loss='MSE')"
   ]
  },
  {
   "cell_type": "code",
   "execution_count": 29,
   "metadata": {},
   "outputs": [],
   "source": [
    "# 50 epoch마다 학습과정을 출력하기 위해 callback 함수 생성\n",
    "callback = tf.keras.callbacks.LambdaCallback(\n",
    "    on_epoch_end=lambda epoch, logs: print(\"epoch: \", epoch, \", loss: \", round(logs['loss'], 5)) if epoch%50 == 0 else None\n",
    ")"
   ]
  },
  {
   "cell_type": "code",
   "execution_count": 30,
   "metadata": {
    "scrolled": true
   },
   "outputs": [
    {
     "name": "stdout",
     "output_type": "stream",
     "text": [
      "epoch:  0 , loss:  0.16084\n",
      "epoch:  50 , loss:  0.0366\n",
      "epoch:  100 , loss:  0.035\n",
      "epoch:  150 , loss:  0.02604\n",
      "epoch:  200 , loss:  0.02437\n",
      "epoch:  250 , loss:  0.02261\n",
      "epoch:  300 , loss:  0.02142\n",
      "epoch:  350 , loss:  0.02011\n",
      "epoch:  400 , loss:  0.01701\n",
      "epoch:  450 , loss:  0.01135\n",
      "epoch:  500 , loss:  0.00619\n",
      "epoch:  550 , loss:  0.00354\n",
      "epoch:  600 , loss:  0.00178\n",
      "epoch:  650 , loss:  0.00239\n",
      "epoch:  700 , loss:  0.00028\n",
      "epoch:  750 , loss:  0.00021\n",
      "epoch:  800 , loss:  0.00023\n",
      "epoch:  850 , loss:  0.00338\n",
      "epoch:  900 , loss:  0.00038\n",
      "epoch:  950 , loss:  4e-05\n"
     ]
    },
    {
     "data": {
      "text/plain": [
       "<tensorflow.python.keras.callbacks.History at 0x1e9db4b7388>"
      ]
     },
     "execution_count": 30,
     "metadata": {},
     "output_type": "execute_result"
    }
   ],
   "source": [
    "#------------------------------------------------\n",
    "# 텐서플로 그래프 생성 및 학습 \n",
    "#------------------------------------------------\n",
    "model.fit(train_dataset, epochs=nepochs, callbacks=[callback], verbose=0)"
   ]
  },
  {
   "cell_type": "code",
   "execution_count": 41,
   "metadata": {},
   "outputs": [],
   "source": [
    "# 훈련에 사용되지 않은 20개와 사용된 30개에 대한 예측\n",
    "pred_dataset = train_dataset.skip(40).concatenate(test_dataset) # 훈련 데이터 끝 30개와 테스트 데이터 20개를 합침"
   ]
  },
  {
   "cell_type": "code",
   "execution_count": 43,
   "metadata": {},
   "outputs": [
    {
     "name": "stdout",
     "output_type": "stream",
     "text": [
      "50\n",
      "<ConcatenateDataset shapes: ((1, 10, 1), (1, 1, 1)), types: (tf.float64, tf.float64)>\n"
     ]
    }
   ],
   "source": [
    "print(len(list(pred_dataset)))\n",
    "print(pred_dataset)"
   ]
  },
  {
   "cell_type": "code",
   "execution_count": 52,
   "metadata": {},
   "outputs": [],
   "source": [
    "# 예측값 생성\n",
    "prediction = model.predict(pred_dataset)"
   ]
  },
  {
   "cell_type": "code",
   "execution_count": 53,
   "metadata": {
    "scrolled": true
   },
   "outputs": [
    {
     "name": "stdout",
     "output_type": "stream",
     "text": [
      "(50, 1)\n",
      "[[0.780345  ]\n",
      " [0.6466387 ]\n",
      " [0.31450632]\n",
      " [0.7544555 ]\n",
      " [0.48441875]\n",
      " [0.6902306 ]\n",
      " [0.8931378 ]\n",
      " [0.9595697 ]\n",
      " [0.5800881 ]\n",
      " [0.320546  ]]\n"
     ]
    }
   ],
   "source": [
    "print(prediction.shape)\n",
    "print(prediction[0:10])"
   ]
  },
  {
   "cell_type": "code",
   "execution_count": 80,
   "metadata": {},
   "outputs": [
    {
     "data": {
      "text/plain": [
       "Text(0.5, 1.0, '1-step ahead prediction based on 10 previous data')"
      ]
     },
     "execution_count": 80,
     "metadata": {},
     "output_type": "execute_result"
    },
    {
     "data": {
      "image/png": "[encoded data removed]",
      "text/plain": [
       "<Figure size 432x288 with 1 Axes>"
      ]
     },
     "metadata": {
      "needs_background": "light"
     },
     "output_type": "display_data"
    }
   ],
   "source": [
    "# 예측 결과 그림\n",
    "b=np.array(prediction).shape[0]  \n",
    "plt.plot(range(50, 50+b),np.array(prediction).reshape(b,),'bs-', label='predicted',color='grey', linewidth=1, alpha=0.5)\n",
    "plt.plot(range(50,50+b),tf.squeeze(dataY)[sample_size-50:sample_size],'ro-', label='real', linewidth=1, alpha=0.5)\n",
    "plt.legend(loc='best')\n",
    "plt.title('1-step ahead prediction based on 10 previous data')"
   ]
  },
  {
   "cell_type": "markdown",
   "metadata": {},
   "source": [
    "## 예제 4-4 워드 임베딩 실습"
   ]
  },
  {
   "cell_type": "code",
   "execution_count": 1,
   "metadata": {},
   "outputs": [
    {
     "name": "stderr",
     "output_type": "stream",
     "text": [
      "Using TensorFlow backend.\n"
     ]
    }
   ],
   "source": [
    "# 필요한 라이브러리 부름\n",
    "import tensorflow as tf\n",
    "import numpy as np\n",
    "from keras.utils import np_utils \n",
    "import matplotlib.pyplot as plt"
   ]
  },
  {
   "cell_type": "code",
   "execution_count": 81,
   "metadata": {},
   "outputs": [],
   "source": [
    "# 매개변수 지정\n",
    "# 학습률: 0.1\n",
    "# 반복 수: 10000\n",
    "# 임베딩 차원: 2\n",
    "# 윈도우 크기: 1\n",
    "learning_rate=0.1\n",
    "nepochs=1000\n",
    "embedding_dim=2\n",
    "window_size = 1"
   ]
  },
  {
   "cell_type": "code",
   "execution_count": 3,
   "metadata": {},
   "outputs": [],
   "source": [
    "# 워드 임베딩에 적용할 문장\n",
    "#text = 'Arthur is a famous king He is a brave man The king is royal Elizabeth is the royal  queen She is a beautiful woman'\n",
    "text =\"King is a brave man Queen is a beautiful woman\""
   ]
  },
  {
   "cell_type": "code",
   "execution_count": 4,
   "metadata": {},
   "outputs": [],
   "source": [
    "# 소문자로 변환\n",
    "text = text.lower()"
   ]
  },
  {
   "cell_type": "code",
   "execution_count": 5,
   "metadata": {},
   "outputs": [],
   "source": [
    "# 간단한 불용어와 문자 그리고 숫자 제거\n",
    "word_seq = []\n",
    "for word in text.split():\n",
    "    if ((word != '.') & (word not in '0123456789')& (word not in ['a','is', 'the'] )):\n",
    "        word_seq.append(word)"
   ]
  },
  {
   "cell_type": "code",
   "execution_count": 6,
   "metadata": {},
   "outputs": [
    {
     "name": "stdout",
     "output_type": "stream",
     "text": [
      "['king', 'brave', 'man', 'queen', 'beautiful', 'woman']\n"
     ]
    }
   ],
   "source": [
    "print(word_seq)"
   ]
  },
  {
   "cell_type": "code",
   "execution_count": 7,
   "metadata": {},
   "outputs": [],
   "source": [
    "# 고유한 단어들로 만든 집합\n",
    "unique_words = set(word_seq) \n",
    "n_unique_words = len(unique_words) "
   ]
  },
  {
   "cell_type": "code",
   "execution_count": 8,
   "metadata": {},
   "outputs": [
    {
     "name": "stdout",
     "output_type": "stream",
     "text": [
      "{'king', 'beautiful', 'brave', 'woman', 'man', 'queen'}\n",
      "6\n"
     ]
    }
   ],
   "source": [
    "print(unique_words)\n",
    "print(n_unique_words)"
   ]
  },
  {
   "cell_type": "code",
   "execution_count": 9,
   "metadata": {},
   "outputs": [],
   "source": [
    "# 단어와 정수 매핑\n",
    "word_to_int = {w: i for i, w in enumerate(unique_words)}\n",
    "int_to_word = {i: w for i, w in enumerate(unique_words)}"
   ]
  },
  {
   "cell_type": "code",
   "execution_count": 10,
   "metadata": {},
   "outputs": [],
   "source": [
    "# 훈련에 사용될 데이터 [input, target] 만듬              \n",
    "data = []\n",
    "for i in range(1, len(word_seq) - 1):\n",
    "    # [input, target] = [neighbors, target]\n",
    "    target = word_seq[i]\n",
    "    neighbor=[]\n",
    "    for j in range(window_size):\n",
    "        neighbor.append(word_seq[i - j-1])\n",
    "        neighbor.append(word_seq[i +  j+ 1])\n",
    "\n",
    "    for w in neighbor:\n",
    "        data.append([w, target])"
   ]
  },
  {
   "cell_type": "code",
   "execution_count": 11,
   "metadata": {},
   "outputs": [
    {
     "name": "stdout",
     "output_type": "stream",
     "text": [
      "[['king', 'brave'], ['man', 'brave'], ['brave', 'man'], ['queen', 'man'], ['man', 'queen'], ['beautiful', 'queen'], ['queen', 'beautiful'], ['woman', 'beautiful']]\n"
     ]
    }
   ],
   "source": [
    "print(data)"
   ]
  },
  {
   "cell_type": "code",
   "execution_count": 12,
   "metadata": {},
   "outputs": [],
   "source": [
    "# 원-핫 벡터로 변환\n",
    "x_train = [] \n",
    "y_train = [] \n",
    "\n",
    "for w in data:\n",
    "    x_train.append(np_utils.to_categorical(word_to_int[w[0]] , n_unique_words))\n",
    "    y_train.append(np_utils.to_categorical(word_to_int[w[1]] , n_unique_words))"
   ]
  },
  {
   "cell_type": "code",
   "execution_count": 13,
   "metadata": {},
   "outputs": [],
   "source": [
    "# 넘파이 arrary로 변환\n",
    "x_train = np.asarray(x_train)\n",
    "y_train = np.asarray(y_train)"
   ]
  },
  {
   "cell_type": "code",
   "execution_count": 14,
   "metadata": {
    "scrolled": true
   },
   "outputs": [
    {
     "name": "stdout",
     "output_type": "stream",
     "text": [
      "[[1. 0. 0. 0. 0. 0.]\n",
      " [0. 0. 0. 0. 1. 0.]\n",
      " [0. 0. 1. 0. 0. 0.]\n",
      " [0. 0. 0. 0. 0. 1.]\n",
      " [0. 0. 0. 0. 1. 0.]\n",
      " [0. 1. 0. 0. 0. 0.]\n",
      " [0. 0. 0. 0. 0. 1.]\n",
      " [0. 0. 0. 1. 0. 0.]] \n",
      "\n",
      "[[0. 0. 1. 0. 0. 0.]\n",
      " [0. 0. 1. 0. 0. 0.]\n",
      " [0. 0. 0. 0. 1. 0.]\n",
      " [0. 0. 0. 0. 1. 0.]\n",
      " [0. 0. 0. 0. 0. 1.]\n",
      " [0. 0. 0. 0. 0. 1.]\n",
      " [0. 1. 0. 0. 0. 0.]\n",
      " [0. 1. 0. 0. 0. 0.]]\n"
     ]
    }
   ],
   "source": [
    "print(x_train, \"\\n\")\n",
    "print(y_train)"
   ]
  },
  {
   "cell_type": "code",
   "execution_count": 15,
   "metadata": {},
   "outputs": [],
   "source": [
    "dataset = tf.data.Dataset.from_tensor_slices((x_train, y_train)).batch(6, drop_remainder=True)"
   ]
  },
  {
   "cell_type": "code",
   "execution_count": 16,
   "metadata": {},
   "outputs": [
    {
     "name": "stdout",
     "output_type": "stream",
     "text": [
      "<BatchDataset shapes: ((6, 6), (6, 6)), types: (tf.float32, tf.float32)>\n"
     ]
    }
   ],
   "source": [
    "print(dataset)"
   ]
  },
  {
   "cell_type": "code",
   "execution_count": 17,
   "metadata": {},
   "outputs": [
    {
     "name": "stdout",
     "output_type": "stream",
     "text": [
      "(<tf.Tensor: shape=(6, 6), dtype=float32, numpy=\n",
      "array([[1., 0., 0., 0., 0., 0.],\n",
      "       [0., 0., 0., 0., 1., 0.],\n",
      "       [0., 0., 1., 0., 0., 0.],\n",
      "       [0., 0., 0., 0., 0., 1.],\n",
      "       [0., 0., 0., 0., 1., 0.],\n",
      "       [0., 1., 0., 0., 0., 0.]], dtype=float32)>, <tf.Tensor: shape=(6, 6), dtype=float32, numpy=\n",
      "array([[0., 0., 1., 0., 0., 0.],\n",
      "       [0., 0., 1., 0., 0., 0.],\n",
      "       [0., 0., 0., 0., 1., 0.],\n",
      "       [0., 0., 0., 0., 1., 0.],\n",
      "       [0., 0., 0., 0., 0., 1.],\n",
      "       [0., 0., 0., 0., 0., 1.]], dtype=float32)>)\n"
     ]
    }
   ],
   "source": [
    "for i in dataset:\n",
    "    print(i)\n",
    "    break"
   ]
  },
  {
   "cell_type": "code",
   "execution_count": 18,
   "metadata": {},
   "outputs": [],
   "source": [
    "# 훈련에 사용될 placeholder\n",
    "#X = tf.placeholder(tf.float32, shape=(None, n_unique_words)) # (None, 6)\n",
    "#Y = tf.placeholder(tf.float32, shape=(None, n_unique_words)) # (None, 6)\n",
    "\n",
    "# 입력층과 은닉층의 가중치\n",
    "#W1 = tf.Variable(tf.random_normal([n_unique_words, embedding_dim])) # (6,2)\n",
    "#b1 = tf.Variable(tf.random_normal([embedding_dim])) # (2)\n",
    "# 은닉층 값\n",
    "#hidden_representation = tf.add(tf.matmul(X,W1), b1)\n",
    "# 은닉층과 출력층의 가중치\n",
    "#W2 = tf.Variable(tf.random_normal([embedding_dim, n_unique_words])) # (2, 6)\n",
    "#b2 = tf.Variable(tf.random_normal([n_unique_words])) # (6)\n",
    "\n",
    "# 출력값\n",
    "#prediction = tf.nn.softmax(tf.add( tf.matmul(hidden_representation, W2), b2))"
   ]
  },
  {
   "cell_type": "code",
   "execution_count": 82,
   "metadata": {},
   "outputs": [],
   "source": [
    "model = tf.keras.Sequential()\n",
    "model.add(tf.keras.layers.Dense(2, input_shape=(6,), activation=None))\n",
    "model.add(tf.keras.layers.Dense(6, activation='softmax'))"
   ]
  },
  {
   "cell_type": "code",
   "execution_count": 87,
   "metadata": {
    "scrolled": true
   },
   "outputs": [
    {
     "name": "stdout",
     "output_type": "stream",
     "text": [
      "Model: \"sequential_4\"\n",
      "_________________________________________________________________\n",
      "Layer (type)                 Output Shape              Param #   \n",
      "=================================================================\n",
      "dense_8 (Dense)              (None, 2)                 14        \n",
      "_________________________________________________________________\n",
      "dense_9 (Dense)              (None, 6)                 18        \n",
      "=================================================================\n",
      "Total params: 32\n",
      "Trainable params: 32\n",
      "Non-trainable params: 0\n",
      "_________________________________________________________________\n"
     ]
    }
   ],
   "source": [
    "model.summary()"
   ]
  },
  {
   "cell_type": "code",
   "execution_count": 88,
   "metadata": {},
   "outputs": [],
   "source": [
    "# 손실함수 \n",
    "#cross_entropy_loss = tf.reduce_mean(-tf.reduce_sum(Y * tf.log(prediction), reduction_indices=[1]))\n",
    "def loss(labels, predictions):\n",
    "    return tf.reduce_mean(-tf.reduce_sum(labels * tf.math.log(predictions), axis=1))"
   ]
  },
  {
   "cell_type": "code",
   "execution_count": 89,
   "metadata": {},
   "outputs": [],
   "source": [
    "# optimizer 정의\n",
    "#train_step = tf.train.GradientDescentOptimizer(learning_rate).minimize(cross_entropy_loss)\n",
    "model.compile(optimizer=tf.optimizers.SGD(learning_rate=learning_rate), loss=loss)"
   ]
  },
  {
   "cell_type": "code",
   "execution_count": 90,
   "metadata": {},
   "outputs": [],
   "source": [
    "history = model.fit(dataset, epochs=nepochs, verbose=0)"
   ]
  },
  {
   "cell_type": "code",
   "execution_count": 91,
   "metadata": {},
   "outputs": [
    {
     "data": {
      "text/plain": [
       "Text(0, 0.5, 'Losses')"
      ]
     },
     "execution_count": 91,
     "metadata": {},
     "output_type": "execute_result"
    },
    {
     "data": {
      "image/png": "[encoded data removed]",
      "text/plain": [
       "<Figure size 432x288 with 1 Axes>"
      ]
     },
     "metadata": {
      "needs_background": "light"
     },
     "output_type": "display_data"
    }
   ],
   "source": [
    "fig, ax = plt.subplots()\n",
    "_ = plt.plot(history.history['loss'])\n",
    "ax.set_xlabel('epochs')\n",
    "ax.set_ylabel('Losses')"
   ]
  },
  {
   "cell_type": "code",
   "execution_count": 92,
   "metadata": {},
   "outputs": [],
   "source": [
    "# 임베딩 결과\n",
    "W1 = model.get_weights()[0] # 첫 번째 층의 가중치\n",
    "b1 = model.get_weights()[1] # 첫 번째 층의 bias"
   ]
  },
  {
   "cell_type": "code",
   "execution_count": 93,
   "metadata": {},
   "outputs": [
    {
     "name": "stdout",
     "output_type": "stream",
     "text": [
      "[[ 2.6590095  -2.125996  ]\n",
      " [ 1.1518244   1.3135844 ]\n",
      " [-0.9255158  -1.8148738 ]\n",
      " [ 0.9056039  -1.2620358 ]\n",
      " [ 2.150806   -0.31324035]\n",
      " [-0.77656615 -2.068821  ]]\n"
     ]
    }
   ],
   "source": [
    "vectors = W1 + b1\n",
    "print(vectors)"
   ]
  },
  {
   "cell_type": "code",
   "execution_count": 94,
   "metadata": {},
   "outputs": [
    {
     "data": {
      "image/png": "[encoded data removed]",
      "text/plain": [
       "<Figure size 432x288 with 1 Axes>"
      ]
     },
     "metadata": {
      "needs_background": "light"
     },
     "output_type": "display_data"
    }
   ],
   "source": [
    "fig, ax = plt.subplots()\n",
    "\n",
    "#임베딩 그림\n",
    "for  i, label in enumerate(word_to_int):\n",
    "    x, y = vectors[i]\n",
    "    plt.xlim(-10,10)\n",
    "    plt.ylim(-10,10)\n",
    "    plt.scatter(x, y)\n",
    "    plt.annotate(label, xy=(x, y), xytext=(5, 2),\n",
    "                 textcoords='offset points', ha='right', va='bottom')\n",
    "    \n",
    "plt.show()"
   ]
  },
  {
   "cell_type": "code",
   "execution_count": null,
   "metadata": {},
   "outputs": [],
   "source": []
  }
 ],
 "metadata": {
  "kernelspec": {
   "display_name": "Python 3",
   "language": "python",
   "name": "python3"
  },
  "language_info": {
   "codemirror_mode": {
    "name": "ipython",
    "version": 3
   },
   "file_extension": ".py",
   "mimetype": "text/x-python",
   "name": "python",
   "nbconvert_exporter": "python",
   "pygments_lexer": "ipython3",
   "version": "3.7.7"
  }
 },
 "nbformat": 4,
 "nbformat_minor": 4
}
