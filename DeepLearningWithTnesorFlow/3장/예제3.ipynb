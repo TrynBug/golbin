{
 "cells": [
  {
   "cell_type": "code",
   "execution_count": 1,
   "metadata": {},
   "outputs": [
    {
     "data": {
      "text/plain": [
       "1024"
      ]
     },
     "execution_count": 1,
     "metadata": {},
     "output_type": "execute_result"
    }
   ],
   "source": [
    "32*32"
   ]
  },
  {
   "cell_type": "code",
   "execution_count": 2,
   "metadata": {},
   "outputs": [],
   "source": [
    "import numpy as np"
   ]
  },
  {
   "cell_type": "code",
   "execution_count": 5,
   "metadata": {},
   "outputs": [],
   "source": [
    "a = np.array([[1,2,3],[4,5,6]])\n",
    "b = np.array([[-1,-2,-3],[-4,-5,-6]])"
   ]
  },
  {
   "cell_type": "code",
   "execution_count": 6,
   "metadata": {},
   "outputs": [
    {
     "data": {
      "text/plain": [
       "array([[ -1,  -4,  -9],\n",
       "       [-16, -25, -36]])"
      ]
     },
     "execution_count": 6,
     "metadata": {},
     "output_type": "execute_result"
    }
   ],
   "source": [
    "a*b"
   ]
  },
  {
   "cell_type": "code",
   "execution_count": 8,
   "metadata": {},
   "outputs": [
    {
     "ename": "SyntaxError",
     "evalue": "invalid syntax (<ipython-input-8-adb16d99f69d>, line 1)",
     "output_type": "error",
     "traceback": [
      "\u001b[1;36m  File \u001b[1;32m\"<ipython-input-8-adb16d99f69d>\"\u001b[1;36m, line \u001b[1;32m1\u001b[0m\n\u001b[1;33m    a.*b\u001b[0m\n\u001b[1;37m      ^\u001b[0m\n\u001b[1;31mSyntaxError\u001b[0m\u001b[1;31m:\u001b[0m invalid syntax\n"
     ]
    }
   ],
   "source": [
    "a.*b"
   ]
  },
  {
   "cell_type": "code",
   "execution_count": 9,
   "metadata": {},
   "outputs": [],
   "source": [
    "a = []"
   ]
  },
  {
   "cell_type": "code",
   "execution_count": 10,
   "metadata": {},
   "outputs": [],
   "source": [
    "a.append(3)"
   ]
  },
  {
   "cell_type": "code",
   "execution_count": 11,
   "metadata": {},
   "outputs": [
    {
     "data": {
      "text/plain": [
       "[3]"
      ]
     },
     "execution_count": 11,
     "metadata": {},
     "output_type": "execute_result"
    }
   ],
   "source": [
    "a"
   ]
  },
  {
   "cell_type": "code",
   "execution_count": 12,
   "metadata": {},
   "outputs": [],
   "source": [
    "a.append([12,3])"
   ]
  },
  {
   "cell_type": "code",
   "execution_count": 13,
   "metadata": {},
   "outputs": [
    {
     "data": {
      "text/plain": [
       "[3, [12, 3]]"
      ]
     },
     "execution_count": 13,
     "metadata": {},
     "output_type": "execute_result"
    }
   ],
   "source": [
    "a"
   ]
  },
  {
   "cell_type": "code",
   "execution_count": 14,
   "metadata": {},
   "outputs": [],
   "source": [
    "from __future__ import absolute_import\n",
    "from __future__ import division\n",
    "from __future__ import print_function\n",
    "\n",
    "import collections\n",
    "import gzip\n",
    "import os\n",
    "\n",
    "import numpy\n",
    "from six.moves import urllib\n",
    "from six.moves import xrange  # pylint: disable=redefined-builtin\n",
    "\n",
    "from tensorflow.python.framework import dtypes\n",
    "from tensorflow.python.framework import random_seed\n",
    "from tensorflow.python.platform import gfile\n",
    "from tensorflow.python.util.deprecation import deprecated\n",
    "\n",
    "_Datasets = collections.namedtuple('_Datasets', ['train', 'validation', 'test'])"
   ]
  },
  {
   "cell_type": "code",
   "execution_count": 2,
   "metadata": {},
   "outputs": [],
   "source": [
    "import collections\n",
    "_Datasets = collections.namedtuple('_Datasets', ['train', 'validation', 'test'])"
   ]
  },
  {
   "cell_type": "markdown",
   "metadata": {},
   "source": [
    "## 예제 3-5 MNIST 데이터에 대한 희박 오토인코더 (수정)"
   ]
  },
  {
   "cell_type": "code",
   "execution_count": 1,
   "metadata": {},
   "outputs": [],
   "source": [
    "## 필요한 라이브러리를 불러들임 \n",
    "import tensorflow.compat.v1 as tf\n",
    "import numpy as np\n",
    "import matplotlib.pyplot as plt\n",
    "import time"
   ]
  },
  {
   "cell_type": "code",
   "execution_count": 2,
   "metadata": {},
   "outputs": [
    {
     "name": "stdout",
     "output_type": "stream",
     "text": [
      "WARNING:tensorflow:From D:\\ProgramData\\miniconda3\\envs\\golbin2\\lib\\site-packages\\tensorflow_core\\python\\compat\\v2_compat.py:88: disable_resource_variables (from tensorflow.python.ops.variable_scope) is deprecated and will be removed in a future version.\n",
      "Instructions for updating:\n",
      "non-resource variables are not supported in the long term\n"
     ]
    }
   ],
   "source": [
    "tf.disable_v2_behavior()"
   ]
  },
  {
   "cell_type": "code",
   "execution_count": 3,
   "metadata": {
    "scrolled": true
   },
   "outputs": [
    {
     "name": "stdout",
     "output_type": "stream",
     "text": [
      "WARNING:tensorflow:From <ipython-input-3-dec967735a69>:3: read_data_sets (from tensorflow.examples.tutorials.mnist.input_data) is deprecated and will be removed in a future version.\n",
      "Instructions for updating:\n",
      "Please use alternatives such as: tensorflow_datasets.load('mnist')\n",
      "WARNING:tensorflow:From D:\\ProgramData\\miniconda3\\envs\\golbin2\\lib\\site-packages\\tensorflow_core\\examples\\tutorials\\mnist\\input_data.py:297: _maybe_download (from tensorflow.examples.tutorials.mnist.input_data) is deprecated and will be removed in a future version.\n",
      "Instructions for updating:\n",
      "Please write your own downloading logic.\n",
      "WARNING:tensorflow:From D:\\ProgramData\\miniconda3\\envs\\golbin2\\lib\\site-packages\\tensorflow_core\\examples\\tutorials\\mnist\\input_data.py:299: _extract_images (from tensorflow.examples.tutorials.mnist.input_data) is deprecated and will be removed in a future version.\n",
      "Instructions for updating:\n",
      "Please use tf.data to implement this functionality.\n",
      "Extracting MNIST_data\\train-images-idx3-ubyte.gz\n",
      "WARNING:tensorflow:From D:\\ProgramData\\miniconda3\\envs\\golbin2\\lib\\site-packages\\tensorflow_core\\examples\\tutorials\\mnist\\input_data.py:304: _extract_labels (from tensorflow.examples.tutorials.mnist.input_data) is deprecated and will be removed in a future version.\n",
      "Instructions for updating:\n",
      "Please use tf.data to implement this functionality.\n",
      "Extracting MNIST_data\\train-labels-idx1-ubyte.gz\n",
      "WARNING:tensorflow:From D:\\ProgramData\\miniconda3\\envs\\golbin2\\lib\\site-packages\\tensorflow_core\\examples\\tutorials\\mnist\\input_data.py:112: _dense_to_one_hot (from tensorflow.examples.tutorials.mnist.input_data) is deprecated and will be removed in a future version.\n",
      "Instructions for updating:\n",
      "Please use tf.one_hot on tensors.\n",
      "Extracting MNIST_data\\t10k-images-idx3-ubyte.gz\n",
      "Extracting MNIST_data\\t10k-labels-idx1-ubyte.gz\n",
      "WARNING:tensorflow:From D:\\ProgramData\\miniconda3\\envs\\golbin2\\lib\\site-packages\\tensorflow_core\\examples\\tutorials\\mnist\\input_data.py:328: _DataSet.__init__ (from tensorflow.examples.tutorials.mnist.input_data) is deprecated and will be removed in a future version.\n",
      "Instructions for updating:\n",
      "Please use alternatives such as official/mnist/_DataSet.py from tensorflow/models.\n"
     ]
    }
   ],
   "source": [
    "# MNIST 데이터 읽어들임\n",
    "from tensorflow.examples.tutorials.mnist import input_data\n",
    "mnist = input_data.read_data_sets(\"MNIST_data\", one_hot=True)"
   ]
  },
  {
   "cell_type": "code",
   "execution_count": 4,
   "metadata": {},
   "outputs": [],
   "source": [
    "# 학습관련 매개변수 설정\n",
    "learning_rate = 0.001\n",
    "wgt_decay = 0.0001\n",
    "sparse_penalty = 0.001\n",
    "batch_size = 1000\n",
    "display_step = 1\n",
    "examples_to_show = 10"
   ]
  },
  {
   "cell_type": "code",
   "execution_count": 5,
   "metadata": {},
   "outputs": [],
   "source": [
    "n_input = 28*28 # MNIST 데이터 입력 \n",
    "n_hidden = 32*32 # 은닉노드 개수"
   ]
  },
  {
   "cell_type": "code",
   "execution_count": 6,
   "metadata": {},
   "outputs": [],
   "source": [
    "# 입력, 가중치 및 편향을 정의함\n",
    "X = tf.placeholder(\"float\", [None, n_input])\n",
    "\n",
    "weights = {\n",
    "    'encoder_h': tf.Variable(tf.random_normal([n_input,n_hidden])), # 784 * 1024\n",
    "    'decoder_h': tf.Variable(tf.random_normal([n_hidden,n_input])), # 1024 * 784\n",
    "}    \n",
    "biases = {\n",
    "    'encoder_b': tf.Variable(tf.random_normal([n_hidden])), # 1024 * 1\n",
    "    'decoder_b': tf.Variable(tf.random_normal([n_input])),  # 784 * 1\n",
    "}"
   ]
  },
  {
   "cell_type": "code",
   "execution_count": 7,
   "metadata": {},
   "outputs": [],
   "source": [
    "# 인코더를 구축함\n",
    "def encoder(x):\n",
    "    # sigmoid(X(M, 784) .* W1(784, 1024) + b1(1024, 1)) = a1(M, 1024)\n",
    "    e_layer = tf.nn.sigmoid(tf.add(tf.matmul(x, weights['encoder_h']),\n",
    "                                   biases['encoder_b']))\n",
    "    return e_layer"
   ]
  },
  {
   "cell_type": "code",
   "execution_count": 8,
   "metadata": {},
   "outputs": [],
   "source": [
    "# 수정됨\n",
    "# 디코더를 구축함\n",
    "def decoder(x):\n",
    "    # sigmoid(a1(M, 1024) .* W2(1024 * 784) + b2(784, 1)) = a2(M, 784)\n",
    "    # (기존) d_layer = tf.nn.sigmoid(tf.add(tf.matmul(x, tf.transpose(weights['encoder_h'])), biases['decoder_b']))\n",
    "    d_layer = tf.nn.sigmoid(tf.add(tf.matmul(x, weights['decoder_h']), biases['decoder_b']))\n",
    "    return d_layer"
   ]
  },
  {
   "cell_type": "code",
   "execution_count": 9,
   "metadata": {},
   "outputs": [],
   "source": [
    "# Kullback Leibler 정보량 계산\n",
    "def kl_div(rho, rho_hat):\n",
    "    # Kullback Leibler divergence\n",
    "    return rho * tf.log(rho / rho_hat) + (1 - rho) * tf.log((1 - rho) / (1 - rho_hat))"
   ]
  },
  {
   "cell_type": "code",
   "execution_count": 10,
   "metadata": {},
   "outputs": [
    {
     "name": "stdout",
     "output_type": "stream",
     "text": [
      "(?, 1024)\n",
      "(?, 784)\n",
      "(1024,)\n"
     ]
    }
   ],
   "source": [
    "# 수정됨\n",
    "# 오토인코더 모형 구축\n",
    "op_encoder = encoder(X)\n",
    "print(op_encoder.shape)\n",
    "op_decoder = decoder(op_encoder)\n",
    "print(op_decoder.shape)\n",
    "# (기존) rho_hat = tf.reduce_mean(op_encoder,1) # 인코더층의 출력값을 column 기준으로 평균을 낸다. 즉, 모든 input X에 대한 인코더층의 출력값을 노드별로 평균낸다.\n",
    "rho_hat = tf.reduce_mean(op_encoder,0) \n",
    "print(rho_hat.shape)"
   ]
  },
  {
   "cell_type": "code",
   "execution_count": 11,
   "metadata": {},
   "outputs": [],
   "source": [
    "# 예측값\n",
    "y_true = X\n",
    "y_pred = op_decoder"
   ]
  },
  {
   "cell_type": "code",
   "execution_count": 12,
   "metadata": {},
   "outputs": [],
   "source": [
    "# 손실함수 및 최적화 정의 \n",
    "loss_mse = tf.reduce_mean(tf.square(y_true - y_pred))\n",
    "loss_reg = wgt_decay*tf.nn.l2_loss(weights['encoder_h']) # wgt_decay(0.0001) * 인코더층의 가중치행렬에 대한 L2 regularization\n",
    "loss_sparse = sparse_penalty*tf.reduce_sum(kl_div(0.2,rho_hat)) # sparse_penalty(0.001) * KL정보량(Kullback_Leibler divergence)\n",
    "#loss = loss_mse + loss_reg + loss_sparse # 최종 손실함수\n",
    "loss = loss_mse + loss_reg # 최종 손실함수"
   ]
  },
  {
   "cell_type": "code",
   "execution_count": 13,
   "metadata": {
    "scrolled": false
   },
   "outputs": [
    {
     "name": "stdout",
     "output_type": "stream",
     "text": [
      "WARNING:tensorflow:From D:\\ProgramData\\miniconda3\\envs\\golbin2\\lib\\site-packages\\tensorflow_core\\python\\training\\rmsprop.py:119: calling Ones.__init__ (from tensorflow.python.ops.init_ops) with dtype is deprecated and will be removed in a future version.\n",
      "Instructions for updating:\n",
      "Call initializer instance with the dtype argument instead of passing it to the constructor\n"
     ]
    }
   ],
   "source": [
    "optimizer = tf.train.RMSPropOptimizer(learning_rate).minimize(loss)"
   ]
  },
  {
   "cell_type": "code",
   "execution_count": 14,
   "metadata": {},
   "outputs": [
    {
     "name": "stdout",
     "output_type": "stream",
     "text": [
      "Epoch: 0001 loss = 40.608291626\n",
      "Epoch: 0002 loss = 40.561756134\n",
      "Epoch: 0003 loss = 39.812362671\n",
      "Epoch: 0004 loss = 36.822235107\n",
      "Epoch: 0005 loss = 33.565002441\n",
      "Epoch: 0006 loss = 30.616767883\n",
      "Epoch: 0007 loss = 27.885225296\n",
      "Epoch: 0008 loss = 25.361396790\n",
      "Epoch: 0009 loss = 23.025476456\n",
      "Epoch: 0010 loss = 20.868330002\n",
      "Epoch: 0011 loss = 18.879806519\n",
      "Epoch: 0012 loss = 17.051586151\n",
      "Epoch: 0013 loss = 15.369082451\n",
      "Epoch: 0014 loss = 13.829712868\n",
      "Epoch: 0015 loss = 12.419402122\n",
      "Epoch: 0016 loss = 11.138426781\n",
      "Epoch: 0017 loss = 9.968153954\n",
      "Epoch: 0018 loss = 8.904924393\n",
      "Epoch: 0019 loss = 7.939997196\n",
      "Epoch: 0020 loss = 7.065692902\n",
      "Epoch: 0021 loss = 6.278196812\n",
      "Epoch: 0022 loss = 5.566510677\n",
      "Epoch: 0023 loss = 4.927493572\n",
      "Epoch: 0024 loss = 4.354053497\n",
      "Epoch: 0025 loss = 3.838811398\n",
      "Epoch: 0026 loss = 3.379621506\n",
      "Epoch: 0027 loss = 2.970266342\n",
      "Epoch: 0028 loss = 2.605150938\n",
      "Epoch: 0029 loss = 2.281527996\n",
      "Epoch: 0030 loss = 1.993701935\n",
      "Epoch: 0031 loss = 1.740757346\n",
      "Epoch: 0032 loss = 1.516587257\n",
      "Epoch: 0033 loss = 1.319973469\n",
      "Epoch: 0034 loss = 1.145788908\n",
      "Epoch: 0035 loss = 0.994662941\n",
      "Epoch: 0036 loss = 0.863067865\n",
      "Epoch: 0037 loss = 0.748432517\n",
      "Epoch: 0038 loss = 0.649087846\n",
      "Epoch: 0039 loss = 0.563390791\n",
      "Epoch: 0040 loss = 0.487381786\n",
      "Epoch: 0041 loss = 0.422958046\n",
      "Epoch: 0042 loss = 0.369131148\n",
      "Epoch: 0043 loss = 0.321234345\n",
      "Epoch: 0044 loss = 0.279199749\n",
      "Epoch: 0045 loss = 0.243841410\n",
      "Epoch: 0046 loss = 0.214657620\n",
      "Epoch: 0047 loss = 0.189422205\n",
      "Epoch: 0048 loss = 0.166867763\n",
      "Epoch: 0049 loss = 0.147984669\n",
      "Epoch: 0050 loss = 0.130888447\n",
      "Epoch: 0051 loss = 0.118589140\n",
      "Epoch: 0052 loss = 0.108173251\n",
      "Epoch: 0053 loss = 0.100018755\n",
      "Epoch: 0054 loss = 0.090368539\n",
      "Epoch: 0055 loss = 0.083680481\n",
      "Epoch: 0056 loss = 0.077369615\n",
      "Epoch: 0057 loss = 0.073225886\n",
      "Epoch: 0058 loss = 0.068188682\n",
      "Epoch: 0059 loss = 0.065489218\n",
      "Epoch: 0060 loss = 0.063051566\n",
      "Epoch: 0061 loss = 0.060434371\n",
      "Epoch: 0062 loss = 0.058270089\n",
      "Epoch: 0063 loss = 0.056417964\n",
      "Epoch: 0064 loss = 0.056821246\n",
      "Epoch: 0065 loss = 0.054453496\n",
      "Epoch: 0066 loss = 0.053006742\n",
      "Epoch: 0067 loss = 0.051899821\n",
      "Epoch: 0068 loss = 0.051287256\n",
      "Epoch: 0069 loss = 0.052245978\n",
      "Epoch: 0070 loss = 0.052311581\n",
      "Epoch: 0071 loss = 0.052210674\n",
      "Epoch: 0072 loss = 0.051878057\n",
      "Epoch: 0073 loss = 0.050932329\n",
      "Epoch: 0074 loss = 0.049681339\n",
      "Epoch: 0075 loss = 0.050824456\n",
      "Epoch: 0076 loss = 0.050504860\n",
      "Epoch: 0077 loss = 0.049875248\n",
      "Epoch: 0078 loss = 0.051161628\n",
      "Epoch: 0079 loss = 0.050157432\n",
      "Epoch: 0080 loss = 0.051319577\n",
      "Epoch: 0081 loss = 0.050211631\n",
      "Epoch: 0082 loss = 0.048838511\n",
      "Epoch: 0083 loss = 0.050007466\n",
      "Epoch: 0084 loss = 0.051058412\n",
      "Epoch: 0085 loss = 0.050104730\n",
      "Epoch: 0086 loss = 0.050942548\n",
      "Epoch: 0087 loss = 0.050955553\n",
      "Epoch: 0088 loss = 0.049041972\n",
      "Epoch: 0089 loss = 0.051260125\n",
      "Epoch: 0090 loss = 0.050660957\n",
      "Epoch: 0091 loss = 0.049878541\n",
      "Epoch: 0092 loss = 0.050191805\n",
      "Epoch: 0093 loss = 0.051669355\n",
      "Epoch: 0094 loss = 0.050631132\n",
      "Epoch: 0095 loss = 0.049538523\n",
      "Epoch: 0096 loss = 0.049055766\n",
      "Epoch: 0097 loss = 0.051127750\n",
      "Epoch: 0098 loss = 0.050337888\n",
      "Epoch: 0099 loss = 0.050081193\n",
      "Epoch: 0100 loss = 0.048704062\n",
      "Optimization Finished!\n",
      "elapsed time: 27.302805185317993\n"
     ]
    },
    {
     "data": {
      "image/png": "[encoded data removed]",
      "text/plain": [
       "<Figure size 720x144 with 16 Axes>"
      ]
     },
     "metadata": {
      "needs_background": "light"
     },
     "output_type": "display_data"
    }
   ],
   "source": [
    "# 텐서플로 그래프 실행\n",
    "start_time = time.time()\n",
    "sess = tf.Session()\n",
    "# 모형의 변수들을 초기화하기\n",
    "init = tf.global_variables_initializer()\n",
    "sess.run(init)\n",
    "num_batch = int(mnist.train.num_examples/batch_size)\n",
    "# 학습 과정\n",
    "num_epoch = 100\n",
    "for epoch in range(num_epoch):\n",
    "    # 모든 미니배치에 대해 반복함\n",
    "    for i in range(num_batch):\n",
    "        batch_xs, batch_ys = mnist.train.next_batch(batch_size)\n",
    "        _, los = sess.run([optimizer, loss], feed_dict={X: batch_xs})\n",
    "    # 실행 단계 보여주기\n",
    "    if epoch % display_step == 0:\n",
    "        print(\"Epoch:\", '%04d' % (epoch+1),\n",
    "              \"loss =\", \"{:.9f}\".format(los))\n",
    "\n",
    "print(\"Optimization Finished!\")\n",
    "\n",
    "# 검정 데이터 집합에 인코더와 디코더를 적용함\n",
    "n_digit = 8\n",
    "reconstruct_digit = sess.run(y_pred, feed_dict={X: mnist.test.images[:n_digit]})\n",
    "# 검정 데이터에 속하는 원래 이미지와 복원된 이미지를 비교함 \n",
    "fig, a = plt.subplots(2, n_digit, figsize=(10, 2))\n",
    "for i in range(n_digit):\n",
    "    a[0][i].imshow(np.reshape(mnist.test.images[i], (28, 28)),cmap='gray')\n",
    "    a[1][i].imshow(np.reshape(reconstruct_digit[i], (28, 28)),cmap='gray')\n",
    "# 인코더 및 디코더 관련 가중치를 저장함 \n",
    "w_encod = sess.run(weights['encoder_h'])\n",
    "w_decod = sess.run(weights['decoder_h'])\n",
    "\n",
    "end_time = time.time()\n",
    "print('elapsed time:',end_time - start_time)"
   ]
  },
  {
   "cell_type": "code",
   "execution_count": 15,
   "metadata": {},
   "outputs": [],
   "source": [
    "encoder_digit = sess.run(op_encoder, feed_dict={X: mnist.test.images})"
   ]
  },
  {
   "cell_type": "code",
   "execution_count": 16,
   "metadata": {},
   "outputs": [
    {
     "data": {
      "text/plain": [
       "(10000, 1024)"
      ]
     },
     "execution_count": 16,
     "metadata": {},
     "output_type": "execute_result"
    }
   ],
   "source": [
    "encoder_digit.shape"
   ]
  },
  {
   "cell_type": "code",
   "execution_count": 17,
   "metadata": {},
   "outputs": [
    {
     "data": {
      "image/png": "[encoded data removed]",
      "text/plain": [
       "<Figure size 432x288 with 1 Axes>"
      ]
     },
     "metadata": {
      "needs_background": "light"
     },
     "output_type": "display_data"
    }
   ],
   "source": [
    "_ = plt.hist(np.mean(encoder_digit, 0), bins=50)"
   ]
  },
  {
   "cell_type": "code",
   "execution_count": null,
   "metadata": {},
   "outputs": [],
   "source": [
    "_ = plt.hist(encoder_digit, )"
   ]
  }
 ],
 "metadata": {
  "kernelspec": {
   "display_name": "Python 3",
   "language": "python",
   "name": "python3"
  },
  "language_info": {
   "codemirror_mode": {
    "name": "ipython",
    "version": 3
   },
   "file_extension": ".py",
   "mimetype": "text/x-python",
   "name": "python",
   "nbconvert_exporter": "python",
   "pygments_lexer": "ipython3",
   "version": "3.7.7"
  }
 },
 "nbformat": 4,
 "nbformat_minor": 4
}
