{
 "cells": [
  {
   "cell_type": "markdown",
   "metadata": {},
   "source": [
    "## 예제 3-4 붓꽃 데이터에 대한 오토인코더"
   ]
  },
  {
   "cell_type": "markdown",
   "metadata": {},
   "source": [
    "예제 3-4: Autoencoder를 iris 데이터에 적용"
   ]
  },
  {
   "cell_type": "code",
   "execution_count": 1,
   "metadata": {},
   "outputs": [],
   "source": [
    "## 필요한 라이브러리를 불러들임 \n",
    "import tensorflow.compat.v1 as tf\n",
    "import numpy as np\n",
    "import pandas as pd\n",
    "import matplotlib.pyplot as plt"
   ]
  },
  {
   "cell_type": "code",
   "execution_count": 2,
   "metadata": {},
   "outputs": [
    {
     "name": "stdout",
     "output_type": "stream",
     "text": [
      "WARNING:tensorflow:From D:\\ProgramData\\miniconda3\\envs\\golbin2\\lib\\site-packages\\tensorflow_core\\python\\compat\\v2_compat.py:88: disable_resource_variables (from tensorflow.python.ops.variable_scope) is deprecated and will be removed in a future version.\n",
      "Instructions for updating:\n",
      "non-resource variables are not supported in the long term\n"
     ]
    }
   ],
   "source": [
    "tf.disable_v2_behavior()"
   ]
  },
  {
   "cell_type": "code",
   "execution_count": 3,
   "metadata": {},
   "outputs": [],
   "source": [
    "## iris 데이터 불러오기\n",
    "url='https://raw.githubusercontent.com/uiuc-cse/data-fa14/gh-pages/data/iris.csv'\n",
    "iris = pd.read_csv(url)"
   ]
  },
  {
   "cell_type": "code",
   "execution_count": 4,
   "metadata": {},
   "outputs": [],
   "source": [
    "## iris 데이터를 입력 데이터와 출력 데이터로 분리        \n",
    "irisX = np.array(iris.iloc[:,:4])\n",
    "irisY = iris.iloc[:,4]   "
   ]
  },
  {
   "cell_type": "code",
   "execution_count": 5,
   "metadata": {},
   "outputs": [],
   "source": [
    "## 입력 데이터의 min-max 정규화 \n",
    "minmax = np.amin(irisX, 0), np.amax(irisX, 0)\n",
    "no_irisX = (irisX-minmax[0])/(minmax[1]-minmax[0])"
   ]
  },
  {
   "cell_type": "code",
   "execution_count": 6,
   "metadata": {},
   "outputs": [],
   "source": [
    "## 학습관련 매개변수 설정 \n",
    "n_input     = 4\n",
    "n_hidden    = 2  \n",
    "n_output = n_input\n",
    "learning_rate = 0.01\n",
    "n_class = 3\n",
    "num_epoch = 1000"
   ]
  },
  {
   "cell_type": "code",
   "execution_count": 7,
   "metadata": {},
   "outputs": [
    {
     "name": "stdout",
     "output_type": "stream",
     "text": [
      "WARNING:tensorflow:From <ipython-input-7-71188eb72b79>:3: dense (from tensorflow.python.layers.core) is deprecated and will be removed in a future version.\n",
      "Instructions for updating:\n",
      "Use keras.layers.Dense instead.\n",
      "WARNING:tensorflow:From D:\\ProgramData\\miniconda3\\envs\\golbin2\\lib\\site-packages\\tensorflow_core\\python\\layers\\core.py:187: Layer.apply (from tensorflow.python.keras.engine.base_layer) is deprecated and will be removed in a future version.\n",
      "Instructions for updating:\n",
      "Please use `layer.__call__` method instead.\n"
     ]
    }
   ],
   "source": [
    "## 오토인코더 구축 및 계산\n",
    "X = tf.placeholder(tf.float32, shape=[None, n_input])\n",
    "hidden = tf.layers.dense(X, n_hidden, activation=None)\n",
    "output = tf.layers.dense(hidden, n_output, activation=None)"
   ]
  },
  {
   "cell_type": "code",
   "execution_count": 8,
   "metadata": {},
   "outputs": [],
   "source": [
    "reconstruction_loss = tf.reduce_mean(tf.square(output - X))\n",
    "optimizer = tf.train.AdamOptimizer(learning_rate)\n",
    "training_op = optimizer.minimize(reconstruction_loss)"
   ]
  },
  {
   "cell_type": "code",
   "execution_count": 9,
   "metadata": {},
   "outputs": [],
   "source": [
    "codings = hidden"
   ]
  },
  {
   "cell_type": "code",
   "execution_count": 10,
   "metadata": {},
   "outputs": [],
   "source": [
    "## 텐서플로 그래프 실행\n",
    "with tf.Session() as sess:\n",
    "    init = tf.global_variables_initializer()\n",
    "    sess.run(init)\n",
    "\n",
    "    # 학습 시작  \n",
    "    for iteration in range(num_epoch):\n",
    "        training_op.run(feed_dict={X: no_irisX})\n",
    "    \n",
    "    codings_val = codings.eval(feed_dict={X: no_irisX})"
   ]
  },
  {
   "cell_type": "code",
   "execution_count": 11,
   "metadata": {},
   "outputs": [
    {
     "data": {
      "image/png": "[encoded data removed]",
      "text/plain": [
       "<Figure size 432x288 with 1 Axes>"
      ]
     },
     "metadata": {
      "needs_background": "light"
     },
     "output_type": "display_data"
    }
   ],
   "source": [
    "## 오토인코더 은닉노드의 값 산점도\n",
    "plt.scatter(codings_val[np.where(irisY=='setosa')[0], 0], codings_val[np.where(irisY=='setosa')[0], 1], color = 'red')\n",
    "plt.scatter(codings_val[np.where(irisY=='virginica')[0], 0], codings_val[np.where(irisY=='virginica')[0], 1], color = 'blue')\n",
    "plt.scatter(codings_val[np.where(irisY=='versicolor')[0], 0], codings_val[np.where(irisY=='versicolor')[0], 1], color = 'black')\n",
    "plt.xlabel(\"$z_1$\", fontsize=16)\n",
    "plt.ylabel(\"$z_2$\", fontsize=16, rotation=0)\n",
    "plt.show()"
   ]
  },
  {
   "cell_type": "markdown",
   "metadata": {},
   "source": [
    "## 예제 3-5 MNIST 데이터에 대한 희박 오토인코더"
   ]
  },
  {
   "cell_type": "markdown",
   "metadata": {},
   "source": [
    "예제 3-5: 희박 오토인코더: Pro Deep Learning + Hands on ML"
   ]
  },
  {
   "cell_type": "code",
   "execution_count": 5,
   "metadata": {},
   "outputs": [],
   "source": [
    "## 필요한 라이브러리를 불러들임 \n",
    "import tensorflow.compat.v1 as tf\n",
    "import numpy as np\n",
    "import matplotlib.pyplot as plt\n",
    "import time"
   ]
  },
  {
   "cell_type": "code",
   "execution_count": 27,
   "metadata": {},
   "outputs": [],
   "source": [
    "tf.disable_v2_behavior()"
   ]
  },
  {
   "cell_type": "code",
   "execution_count": 6,
   "metadata": {
    "scrolled": true
   },
   "outputs": [
    {
     "name": "stdout",
     "output_type": "stream",
     "text": [
      "WARNING:tensorflow:From <ipython-input-6-dec967735a69>:3: read_data_sets (from tensorflow.examples.tutorials.mnist.input_data) is deprecated and will be removed in a future version.\n",
      "Instructions for updating:\n",
      "Please use alternatives such as: tensorflow_datasets.load('mnist')\n",
      "WARNING:tensorflow:From D:\\ProgramData\\miniconda3\\envs\\golbin2\\lib\\site-packages\\tensorflow_core\\examples\\tutorials\\mnist\\input_data.py:297: _maybe_download (from tensorflow.examples.tutorials.mnist.input_data) is deprecated and will be removed in a future version.\n",
      "Instructions for updating:\n",
      "Please write your own downloading logic.\n",
      "WARNING:tensorflow:From D:\\ProgramData\\miniconda3\\envs\\golbin2\\lib\\site-packages\\tensorflow_core\\examples\\tutorials\\mnist\\input_data.py:299: _extract_images (from tensorflow.examples.tutorials.mnist.input_data) is deprecated and will be removed in a future version.\n",
      "Instructions for updating:\n",
      "Please use tf.data to implement this functionality.\n",
      "Extracting MNIST_data\\train-images-idx3-ubyte.gz\n",
      "WARNING:tensorflow:From D:\\ProgramData\\miniconda3\\envs\\golbin2\\lib\\site-packages\\tensorflow_core\\examples\\tutorials\\mnist\\input_data.py:304: _extract_labels (from tensorflow.examples.tutorials.mnist.input_data) is deprecated and will be removed in a future version.\n",
      "Instructions for updating:\n",
      "Please use tf.data to implement this functionality.\n",
      "Extracting MNIST_data\\train-labels-idx1-ubyte.gz\n",
      "WARNING:tensorflow:From D:\\ProgramData\\miniconda3\\envs\\golbin2\\lib\\site-packages\\tensorflow_core\\examples\\tutorials\\mnist\\input_data.py:112: _dense_to_one_hot (from tensorflow.examples.tutorials.mnist.input_data) is deprecated and will be removed in a future version.\n",
      "Instructions for updating:\n",
      "Please use tf.one_hot on tensors.\n",
      "Extracting MNIST_data\\t10k-images-idx3-ubyte.gz\n",
      "Extracting MNIST_data\\t10k-labels-idx1-ubyte.gz\n",
      "WARNING:tensorflow:From D:\\ProgramData\\miniconda3\\envs\\golbin2\\lib\\site-packages\\tensorflow_core\\examples\\tutorials\\mnist\\input_data.py:328: _DataSet.__init__ (from tensorflow.examples.tutorials.mnist.input_data) is deprecated and will be removed in a future version.\n",
      "Instructions for updating:\n",
      "Please use alternatives such as official/mnist/_DataSet.py from tensorflow/models.\n"
     ]
    }
   ],
   "source": [
    "# MNIST 데이터 읽어들임\n",
    "from tensorflow.examples.tutorials.mnist import input_data\n",
    "mnist = input_data.read_data_sets(\"MNIST_data\", one_hot=True)"
   ]
  },
  {
   "cell_type": "code",
   "execution_count": 9,
   "metadata": {},
   "outputs": [],
   "source": [
    "# 학습관련 매개변수 설정\n",
    "learning_rate = 0.001\n",
    "wgt_decay = 0.0001\n",
    "sparse_penalty = 0.001\n",
    "batch_size = 1000\n",
    "display_step = 1\n",
    "examples_to_show = 10"
   ]
  },
  {
   "cell_type": "code",
   "execution_count": 10,
   "metadata": {},
   "outputs": [],
   "source": [
    "n_input = 28*28 # MNIST 데이터 입력 \n",
    "n_hidden = 32*32 # 은닉노드 개수"
   ]
  },
  {
   "cell_type": "code",
   "execution_count": 11,
   "metadata": {},
   "outputs": [],
   "source": [
    "# 입력, 가중치 및 편향을 정의함\n",
    "X = tf.placeholder(\"float\", [None, n_input])\n",
    "\n",
    "weights = {\n",
    "    'encoder_h': tf.Variable(tf.random_normal([n_input,n_hidden])), # 784 * 1024\n",
    "    'decoder_h': tf.Variable(tf.random_normal([n_hidden,n_input])), # 1024 * 784\n",
    "}    \n",
    "biases = {\n",
    "    'encoder_b': tf.Variable(tf.random_normal([n_hidden])), # 1024 * 1\n",
    "    'decoder_b': tf.Variable(tf.random_normal([n_input])),  # 784 * 1\n",
    "}"
   ]
  },
  {
   "cell_type": "code",
   "execution_count": 12,
   "metadata": {},
   "outputs": [],
   "source": [
    "# 인코더를 구축함\n",
    "def encoder(x):\n",
    "    # sigmoid(X(M, 784) .* W1(784, 1024) + b1(1024, 1)) = a1(M, 1024)\n",
    "    e_layer = tf.nn.sigmoid(tf.add(tf.matmul(x, weights['encoder_h']),\n",
    "                                   biases['encoder_b']))\n",
    "    return e_layer"
   ]
  },
  {
   "cell_type": "code",
   "execution_count": 13,
   "metadata": {},
   "outputs": [],
   "source": [
    "# 디코더를 구축함\n",
    "def decoder(x):\n",
    "    # sigmoid(a1(M, 1024) .* W1'(1024 * 784) + b2(784, 1)) = a2(M, 784)\n",
    "    d_layer = tf.nn.sigmoid(tf.add(tf.matmul(x, tf.transpose(weights['encoder_h'])),\n",
    "                                   biases['decoder_b']))\n",
    "    return d_layer"
   ]
  },
  {
   "cell_type": "code",
   "execution_count": 14,
   "metadata": {},
   "outputs": [],
   "source": [
    "# Kullback Leibler 정보량 계산\n",
    "def kl_div(rho, rho_hat):\n",
    "    # Kullback Leibler divergence\n",
    "    return rho * tf.log(rho / rho_hat) + (1 - rho) * tf.log((1 - rho) / (1 - rho_hat))"
   ]
  },
  {
   "cell_type": "code",
   "execution_count": 21,
   "metadata": {},
   "outputs": [
    {
     "name": "stdout",
     "output_type": "stream",
     "text": [
      "(?, 1024)\n",
      "(?, 784)\n",
      "(?,)\n"
     ]
    }
   ],
   "source": [
    "# 오토인코더 모형 구축\n",
    "op_encoder = encoder(X)\n",
    "print(op_encoder.shape)\n",
    "op_decoder = decoder(op_encoder)\n",
    "print(op_decoder.shape)\n",
    "rho_hat = tf.reduce_mean(op_encoder,1) # 인코더층의 출력값을 column 기준으로 평균을 낸다. 즉, 모든 input X에 대한 인코더층의 출력값을 노드별로 평균낸다.\n",
    "print(rho_hat.shape)"
   ]
  },
  {
   "cell_type": "code",
   "execution_count": 16,
   "metadata": {},
   "outputs": [],
   "source": [
    "# 예측값\n",
    "y_true = X\n",
    "y_pred = op_decoder"
   ]
  },
  {
   "cell_type": "code",
   "execution_count": 22,
   "metadata": {},
   "outputs": [],
   "source": [
    "# 손실함수 및 최적화 정의 \n",
    "loss_mse = tf.reduce_mean(tf.square(y_true - y_pred))\n",
    "loss_reg = wgt_decay*tf.nn.l2_loss(weights['encoder_h']) # wgt_decay(0.0001) * 인코더층의 가중치행렬에 대한 L2 regularization\n",
    "loss_sparse = sparse_penalty*tf.reduce_sum(kl_div(0.2,rho_hat)) # sparse_penalty(0.001) * KL정보량(Kullback_Leibler divergence)\n",
    "loss = loss_mse + loss_reg + loss_sparse # 최종 손실함수"
   ]
  },
  {
   "cell_type": "code",
   "execution_count": 23,
   "metadata": {
    "scrolled": true
   },
   "outputs": [
    {
     "name": "stdout",
     "output_type": "stream",
     "text": [
      "WARNING:tensorflow:From D:\\ProgramData\\miniconda3\\envs\\golbin2\\lib\\site-packages\\tensorflow_core\\python\\training\\rmsprop.py:119: calling Ones.__init__ (from tensorflow.python.ops.init_ops) with dtype is deprecated and will be removed in a future version.\n",
      "Instructions for updating:\n",
      "Call initializer instance with the dtype argument instead of passing it to the constructor\n"
     ]
    }
   ],
   "source": [
    "optimizer = tf.train.RMSPropOptimizer(learning_rate).minimize(loss)"
   ]
  },
  {
   "cell_type": "code",
   "execution_count": 24,
   "metadata": {},
   "outputs": [
    {
     "name": "stdout",
     "output_type": "stream",
     "text": [
      "Epoch: 0001 loss = 40.696487427\n",
      "Epoch: 0002 loss = 40.648864746\n",
      "Epoch: 0003 loss = 39.889976501\n",
      "Epoch: 0004 loss = 36.969833374\n",
      "Epoch: 0005 loss = 33.782772064\n",
      "Epoch: 0006 loss = 30.814819336\n",
      "Epoch: 0007 loss = 28.058656693\n",
      "Epoch: 0008 loss = 25.500284195\n",
      "Epoch: 0009 loss = 23.135513306\n",
      "Epoch: 0010 loss = 20.953334808\n",
      "Epoch: 0011 loss = 18.942319870\n",
      "Epoch: 0012 loss = 17.093387604\n",
      "Epoch: 0013 loss = 15.395942688\n",
      "Epoch: 0014 loss = 13.841073990\n",
      "Epoch: 0015 loss = 12.421439171\n",
      "Epoch: 0016 loss = 11.126357079\n",
      "Epoch: 0017 loss = 9.946323395\n",
      "Epoch: 0018 loss = 8.873196602\n",
      "Epoch: 0019 loss = 7.900848866\n",
      "Epoch: 0020 loss = 7.020365715\n",
      "Epoch: 0021 loss = 6.226189613\n",
      "Epoch: 0022 loss = 5.511125565\n",
      "Epoch: 0023 loss = 4.868218422\n",
      "Epoch: 0024 loss = 4.291055679\n",
      "Epoch: 0025 loss = 3.774963617\n",
      "Epoch: 0026 loss = 3.313818693\n",
      "Epoch: 0027 loss = 2.903254032\n",
      "Epoch: 0028 loss = 2.538367033\n",
      "Epoch: 0029 loss = 2.214936972\n",
      "Epoch: 0030 loss = 1.928791165\n",
      "Epoch: 0031 loss = 1.676360488\n",
      "Epoch: 0032 loss = 1.454077363\n",
      "Epoch: 0033 loss = 1.259162426\n",
      "Epoch: 0034 loss = 1.088865161\n",
      "Epoch: 0035 loss = 0.939815462\n",
      "Epoch: 0036 loss = 0.810009956\n",
      "Epoch: 0037 loss = 0.697880507\n",
      "Epoch: 0038 loss = 0.600416720\n",
      "Epoch: 0039 loss = 0.516201556\n",
      "Epoch: 0040 loss = 0.444215477\n",
      "Epoch: 0041 loss = 0.382117152\n",
      "Epoch: 0042 loss = 0.329016328\n",
      "Epoch: 0043 loss = 0.283920556\n",
      "Epoch: 0044 loss = 0.245189458\n",
      "Epoch: 0045 loss = 0.212391779\n",
      "Epoch: 0046 loss = 0.184434339\n",
      "Epoch: 0047 loss = 0.161697894\n",
      "Epoch: 0048 loss = 0.141777188\n",
      "Epoch: 0049 loss = 0.125528082\n",
      "Epoch: 0050 loss = 0.111139745\n",
      "Epoch: 0051 loss = 0.100084677\n",
      "Epoch: 0052 loss = 0.090420246\n",
      "Epoch: 0053 loss = 0.082208872\n",
      "Epoch: 0054 loss = 0.075686105\n",
      "Epoch: 0055 loss = 0.069640249\n",
      "Epoch: 0056 loss = 0.065115444\n",
      "Epoch: 0057 loss = 0.061957985\n",
      "Epoch: 0058 loss = 0.059106413\n",
      "Epoch: 0059 loss = 0.056516349\n",
      "Epoch: 0060 loss = 0.054431561\n",
      "Epoch: 0061 loss = 0.052738342\n",
      "Epoch: 0062 loss = 0.051471557\n",
      "Epoch: 0063 loss = 0.050918296\n",
      "Epoch: 0064 loss = 0.050153885\n",
      "Epoch: 0065 loss = 0.049220912\n",
      "Epoch: 0066 loss = 0.048440274\n",
      "Epoch: 0067 loss = 0.048070792\n",
      "Epoch: 0068 loss = 0.047899596\n",
      "Epoch: 0069 loss = 0.046692163\n",
      "Epoch: 0070 loss = 0.046566140\n",
      "Epoch: 0071 loss = 0.046537340\n",
      "Epoch: 0072 loss = 0.046301849\n",
      "Epoch: 0073 loss = 0.046123914\n",
      "Epoch: 0074 loss = 0.045815453\n",
      "Epoch: 0075 loss = 0.045769647\n",
      "Epoch: 0076 loss = 0.046257872\n",
      "Epoch: 0077 loss = 0.045614425\n",
      "Epoch: 0078 loss = 0.045673009\n",
      "Epoch: 0079 loss = 0.045641597\n",
      "Epoch: 0080 loss = 0.044994254\n",
      "Epoch: 0081 loss = 0.045901328\n",
      "Epoch: 0082 loss = 0.045114640\n",
      "Epoch: 0083 loss = 0.045729719\n",
      "Epoch: 0084 loss = 0.045158073\n",
      "Epoch: 0085 loss = 0.045009773\n",
      "Epoch: 0086 loss = 0.045476686\n",
      "Epoch: 0087 loss = 0.044984266\n",
      "Epoch: 0088 loss = 0.045277797\n",
      "Epoch: 0089 loss = 0.044868212\n",
      "Epoch: 0090 loss = 0.045173943\n",
      "Epoch: 0091 loss = 0.044901069\n",
      "Epoch: 0092 loss = 0.045087252\n",
      "Epoch: 0093 loss = 0.045289427\n",
      "Epoch: 0094 loss = 0.044686943\n",
      "Epoch: 0095 loss = 0.045018665\n",
      "Epoch: 0096 loss = 0.045108907\n",
      "Epoch: 0097 loss = 0.044620331\n",
      "Epoch: 0098 loss = 0.044879701\n",
      "Epoch: 0099 loss = 0.044763934\n",
      "Epoch: 0100 loss = 0.044751599\n",
      "Optimization Finished!\n",
      "elapsed time: 39.20061492919922\n"
     ]
    },
    {
     "data": {
      "image/png": "[encoded data removed]",
      "text/plain": [
       "<Figure size 720x144 with 16 Axes>"
      ]
     },
     "metadata": {
      "needs_background": "light"
     },
     "output_type": "display_data"
    }
   ],
   "source": [
    "# 텐서플로 그래프 실행\n",
    "start_time = time.time()\n",
    "with tf.Session() as sess:\n",
    "\t# 모형의 변수들을 초기화하기\n",
    "    init = tf.global_variables_initializer()\n",
    "    sess.run(init)\n",
    "    num_batch = int(mnist.train.num_examples/batch_size)\n",
    "    # 학습 과정\n",
    "    num_epoch = 100\n",
    "    for epoch in range(num_epoch):\n",
    "        # 모든 미니배치에 대해 반복함\n",
    "        for i in range(num_batch):\n",
    "            batch_xs, batch_ys = mnist.train.next_batch(batch_size)\n",
    "            _, los = sess.run([optimizer, loss], feed_dict={X: batch_xs})\n",
    "        # 실행 단계 보여주기\n",
    "        if epoch % display_step == 0:\n",
    "            print(\"Epoch:\", '%04d' % (epoch+1),\n",
    "                  \"loss =\", \"{:.9f}\".format(los))\n",
    "\n",
    "    print(\"Optimization Finished!\")\n",
    "\n",
    "    # 검정 데이터 집합에 인코더와 디코더를 적용함\n",
    "    n_digit = 8\n",
    "    reconstruct_digit = sess.run(y_pred, feed_dict={X: mnist.test.images[:n_digit]})\n",
    "    # 검정 데이터에 속하는 원래 이미지와 복원된 이미지를 비교함 \n",
    "    fig, a = plt.subplots(2, n_digit, figsize=(10, 2))\n",
    "    for i in range(n_digit):\n",
    "        a[0][i].imshow(np.reshape(mnist.test.images[i], (28, 28)),cmap='gray')\n",
    "        a[1][i].imshow(np.reshape(reconstruct_digit[i], (28, 28)),cmap='gray')\n",
    "    # 인코더 및 디코더 관련 가중치를 저장함 \n",
    "    w_encod = sess.run(weights['encoder_h'])\n",
    "    w_decod = sess.run(weights['decoder_h'])\n",
    "end_time = time.time()\n",
    "print('elapsed time:',end_time - start_time)"
   ]
  },
  {
   "cell_type": "markdown",
   "metadata": {},
   "source": [
    "## 예제 3-5 MNIST 데이터에 대한 희박 오토인코더 (수정)"
   ]
  },
  {
   "cell_type": "code",
   "execution_count": 1,
   "metadata": {},
   "outputs": [],
   "source": [
    "## 필요한 라이브러리를 불러들임 \n",
    "import tensorflow.compat.v1 as tf\n",
    "import numpy as np\n",
    "import matplotlib.pyplot as plt\n",
    "import time"
   ]
  },
  {
   "cell_type": "code",
   "execution_count": 2,
   "metadata": {},
   "outputs": [
    {
     "name": "stdout",
     "output_type": "stream",
     "text": [
      "WARNING:tensorflow:From D:\\ProgramData\\miniconda3\\envs\\golbin2\\lib\\site-packages\\tensorflow_core\\python\\compat\\v2_compat.py:88: disable_resource_variables (from tensorflow.python.ops.variable_scope) is deprecated and will be removed in a future version.\n",
      "Instructions for updating:\n",
      "non-resource variables are not supported in the long term\n"
     ]
    }
   ],
   "source": [
    "tf.disable_v2_behavior()"
   ]
  },
  {
   "cell_type": "code",
   "execution_count": 3,
   "metadata": {
    "scrolled": true
   },
   "outputs": [
    {
     "name": "stdout",
     "output_type": "stream",
     "text": [
      "WARNING:tensorflow:From <ipython-input-3-dec967735a69>:3: read_data_sets (from tensorflow.examples.tutorials.mnist.input_data) is deprecated and will be removed in a future version.\n",
      "Instructions for updating:\n",
      "Please use alternatives such as: tensorflow_datasets.load('mnist')\n",
      "WARNING:tensorflow:From D:\\ProgramData\\miniconda3\\envs\\golbin2\\lib\\site-packages\\tensorflow_core\\examples\\tutorials\\mnist\\input_data.py:297: _maybe_download (from tensorflow.examples.tutorials.mnist.input_data) is deprecated and will be removed in a future version.\n",
      "Instructions for updating:\n",
      "Please write your own downloading logic.\n",
      "WARNING:tensorflow:From D:\\ProgramData\\miniconda3\\envs\\golbin2\\lib\\site-packages\\tensorflow_core\\examples\\tutorials\\mnist\\input_data.py:299: _extract_images (from tensorflow.examples.tutorials.mnist.input_data) is deprecated and will be removed in a future version.\n",
      "Instructions for updating:\n",
      "Please use tf.data to implement this functionality.\n",
      "Extracting MNIST_data\\train-images-idx3-ubyte.gz\n",
      "WARNING:tensorflow:From D:\\ProgramData\\miniconda3\\envs\\golbin2\\lib\\site-packages\\tensorflow_core\\examples\\tutorials\\mnist\\input_data.py:304: _extract_labels (from tensorflow.examples.tutorials.mnist.input_data) is deprecated and will be removed in a future version.\n",
      "Instructions for updating:\n",
      "Please use tf.data to implement this functionality.\n",
      "Extracting MNIST_data\\train-labels-idx1-ubyte.gz\n",
      "WARNING:tensorflow:From D:\\ProgramData\\miniconda3\\envs\\golbin2\\lib\\site-packages\\tensorflow_core\\examples\\tutorials\\mnist\\input_data.py:112: _dense_to_one_hot (from tensorflow.examples.tutorials.mnist.input_data) is deprecated and will be removed in a future version.\n",
      "Instructions for updating:\n",
      "Please use tf.one_hot on tensors.\n",
      "Extracting MNIST_data\\t10k-images-idx3-ubyte.gz\n",
      "Extracting MNIST_data\\t10k-labels-idx1-ubyte.gz\n",
      "WARNING:tensorflow:From D:\\ProgramData\\miniconda3\\envs\\golbin2\\lib\\site-packages\\tensorflow_core\\examples\\tutorials\\mnist\\input_data.py:328: _DataSet.__init__ (from tensorflow.examples.tutorials.mnist.input_data) is deprecated and will be removed in a future version.\n",
      "Instructions for updating:\n",
      "Please use alternatives such as official/mnist/_DataSet.py from tensorflow/models.\n"
     ]
    }
   ],
   "source": [
    "# MNIST 데이터 읽어들임\n",
    "from tensorflow.examples.tutorials.mnist import input_data\n",
    "mnist = input_data.read_data_sets(\"MNIST_data\", one_hot=True)"
   ]
  },
  {
   "cell_type": "code",
   "execution_count": 4,
   "metadata": {},
   "outputs": [],
   "source": [
    "# 학습관련 매개변수 설정\n",
    "learning_rate = 0.001\n",
    "wgt_decay = 0.0001\n",
    "sparse_penalty = 0.001\n",
    "batch_size = 1000\n",
    "display_step = 1\n",
    "examples_to_show = 10"
   ]
  },
  {
   "cell_type": "code",
   "execution_count": 5,
   "metadata": {},
   "outputs": [],
   "source": [
    "n_input = 28*28 # MNIST 데이터 입력 \n",
    "n_hidden = 32*32 # 은닉노드 개수"
   ]
  },
  {
   "cell_type": "code",
   "execution_count": 6,
   "metadata": {},
   "outputs": [],
   "source": [
    "# 입력, 가중치 및 편향을 정의함\n",
    "X = tf.placeholder(\"float\", [None, n_input])\n",
    "\n",
    "weights = {\n",
    "    'encoder_h': tf.Variable(tf.random_normal([n_input,n_hidden])), # 784 * 1024\n",
    "    'decoder_h': tf.Variable(tf.random_normal([n_hidden,n_input])), # 1024 * 784\n",
    "}    \n",
    "biases = {\n",
    "    'encoder_b': tf.Variable(tf.random_normal([n_hidden])), # 1024 * 1\n",
    "    'decoder_b': tf.Variable(tf.random_normal([n_input])),  # 784 * 1\n",
    "}"
   ]
  },
  {
   "cell_type": "code",
   "execution_count": 7,
   "metadata": {},
   "outputs": [],
   "source": [
    "# 인코더를 구축함\n",
    "def encoder(x):\n",
    "    # sigmoid(X(M, 784) .* W1(784, 1024) + b1(1024, 1)) = a1(M, 1024)\n",
    "    e_layer = tf.nn.sigmoid(tf.add(tf.matmul(x, weights['encoder_h']),\n",
    "                                   biases['encoder_b']))\n",
    "    return e_layer"
   ]
  },
  {
   "cell_type": "code",
   "execution_count": 8,
   "metadata": {},
   "outputs": [],
   "source": [
    "# 수정됨\n",
    "# 디코더를 구축함\n",
    "def decoder(x):\n",
    "    # sigmoid(a1(M, 1024) .* W2(1024 * 784) + b2(784, 1)) = a2(M, 784)\n",
    "    # (기존) d_layer = tf.nn.sigmoid(tf.add(tf.matmul(x, tf.transpose(weights['encoder_h'])), biases['decoder_b']))\n",
    "    d_layer = tf.nn.sigmoid(tf.add(tf.matmul(x, weights['decoder_h']), biases['decoder_b']))\n",
    "    return d_layer"
   ]
  },
  {
   "cell_type": "code",
   "execution_count": 9,
   "metadata": {},
   "outputs": [],
   "source": [
    "# Kullback Leibler 정보량 계산\n",
    "def kl_div(rho, rho_hat):\n",
    "    # Kullback Leibler divergence\n",
    "    return rho * tf.log(rho / rho_hat) + (1 - rho) * tf.log((1 - rho) / (1 - rho_hat))"
   ]
  },
  {
   "cell_type": "code",
   "execution_count": 10,
   "metadata": {},
   "outputs": [
    {
     "name": "stdout",
     "output_type": "stream",
     "text": [
      "(?, 1024)\n",
      "(?, 784)\n",
      "(1024,)\n"
     ]
    }
   ],
   "source": [
    "# 수정됨\n",
    "# 오토인코더 모형 구축\n",
    "op_encoder = encoder(X)\n",
    "print(op_encoder.shape)\n",
    "op_decoder = decoder(op_encoder)\n",
    "print(op_decoder.shape)\n",
    "# (기존) rho_hat = tf.reduce_mean(op_encoder,1) # 인코더층의 출력값을 column 기준으로 평균을 낸다. 즉, 모든 input X에 대한 인코더층의 출력값을 노드별로 평균낸다.\n",
    "rho_hat = tf.reduce_mean(op_encoder,0) \n",
    "print(rho_hat.shape)"
   ]
  },
  {
   "cell_type": "code",
   "execution_count": 11,
   "metadata": {},
   "outputs": [],
   "source": [
    "# 예측값\n",
    "y_true = X\n",
    "y_pred = op_decoder"
   ]
  },
  {
   "cell_type": "code",
   "execution_count": 12,
   "metadata": {},
   "outputs": [],
   "source": [
    "# 손실함수 및 최적화 정의 \n",
    "loss_mse = tf.reduce_mean(tf.square(y_true - y_pred))\n",
    "loss_reg = wgt_decay*tf.nn.l2_loss(weights['encoder_h']) # wgt_decay(0.0001) * 인코더층의 가중치행렬에 대한 L2 regularization\n",
    "loss_sparse = sparse_penalty*tf.reduce_sum(kl_div(0.2,rho_hat)) # sparse_penalty(0.001) * KL정보량(Kullback_Leibler divergence)\n",
    "loss = loss_mse + loss_reg + loss_sparse # 최종 손실함수"
   ]
  },
  {
   "cell_type": "code",
   "execution_count": 13,
   "metadata": {
    "scrolled": true
   },
   "outputs": [
    {
     "name": "stdout",
     "output_type": "stream",
     "text": [
      "WARNING:tensorflow:From D:\\ProgramData\\miniconda3\\envs\\golbin2\\lib\\site-packages\\tensorflow_core\\python\\training\\rmsprop.py:119: calling Ones.__init__ (from tensorflow.python.ops.init_ops) with dtype is deprecated and will be removed in a future version.\n",
      "Instructions for updating:\n",
      "Call initializer instance with the dtype argument instead of passing it to the constructor\n"
     ]
    }
   ],
   "source": [
    "optimizer = tf.train.RMSPropOptimizer(learning_rate).minimize(loss)"
   ]
  },
  {
   "cell_type": "code",
   "execution_count": 14,
   "metadata": {},
   "outputs": [
    {
     "name": "stdout",
     "output_type": "stream",
     "text": [
      "Epoch: 0001 loss = 40.984786987\n",
      "Epoch: 0002 loss = 40.936012268\n",
      "Epoch: 0003 loss = 40.158676147\n",
      "Epoch: 0004 loss = 37.115447998\n",
      "Epoch: 0005 loss = 33.814266205\n",
      "Epoch: 0006 loss = 30.808605194\n",
      "Epoch: 0007 loss = 28.042312622\n",
      "Epoch: 0008 loss = 25.486625671\n",
      "Epoch: 0009 loss = 23.125164032\n",
      "Epoch: 0010 loss = 20.945426941\n",
      "Epoch: 0011 loss = 18.939346313\n",
      "Epoch: 0012 loss = 17.095376968\n",
      "Epoch: 0013 loss = 15.403028488\n",
      "Epoch: 0014 loss = 13.853285789\n",
      "Epoch: 0015 loss = 12.437021255\n",
      "Epoch: 0016 loss = 11.146495819\n",
      "Epoch: 0017 loss = 9.970377922\n",
      "Epoch: 0018 loss = 8.902605057\n",
      "Epoch: 0019 loss = 7.933977127\n",
      "Epoch: 0020 loss = 7.056795597\n",
      "Epoch: 0021 loss = 6.264178753\n",
      "Epoch: 0022 loss = 5.553023815\n",
      "Epoch: 0023 loss = 4.912185669\n",
      "Epoch: 0024 loss = 4.335026264\n",
      "Epoch: 0025 loss = 3.819047689\n",
      "Epoch: 0026 loss = 3.360224247\n",
      "Epoch: 0027 loss = 2.948048353\n",
      "Epoch: 0028 loss = 2.584152937\n",
      "Epoch: 0029 loss = 2.258210659\n",
      "Epoch: 0030 loss = 1.971520305\n",
      "Epoch: 0031 loss = 1.717060566\n",
      "Epoch: 0032 loss = 1.494554162\n",
      "Epoch: 0033 loss = 1.295946836\n",
      "Epoch: 0034 loss = 1.123646617\n",
      "Epoch: 0035 loss = 0.971857011\n",
      "Epoch: 0036 loss = 0.838761866\n",
      "Epoch: 0037 loss = 0.723387301\n",
      "Epoch: 0038 loss = 0.623641729\n",
      "Epoch: 0039 loss = 0.537097692\n",
      "Epoch: 0040 loss = 0.461759508\n",
      "Epoch: 0041 loss = 0.396316767\n",
      "Epoch: 0042 loss = 0.341984898\n",
      "Epoch: 0043 loss = 0.294204175\n",
      "Epoch: 0044 loss = 0.252830446\n",
      "Epoch: 0045 loss = 0.218100324\n",
      "Epoch: 0046 loss = 0.188024029\n",
      "Epoch: 0047 loss = 0.162883893\n",
      "Epoch: 0048 loss = 0.140972942\n",
      "Epoch: 0049 loss = 0.123639658\n",
      "Epoch: 0050 loss = 0.106986336\n",
      "Epoch: 0051 loss = 0.093317993\n",
      "Epoch: 0052 loss = 0.082003698\n",
      "Epoch: 0053 loss = 0.073376395\n",
      "Epoch: 0054 loss = 0.065402903\n",
      "Epoch: 0055 loss = 0.058863558\n",
      "Epoch: 0056 loss = 0.053123113\n",
      "Epoch: 0057 loss = 0.047832161\n",
      "Epoch: 0058 loss = 0.044466723\n",
      "Epoch: 0059 loss = 0.041306246\n",
      "Epoch: 0060 loss = 0.038477410\n",
      "Epoch: 0061 loss = 0.035814114\n",
      "Epoch: 0062 loss = 0.034166981\n",
      "Epoch: 0063 loss = 0.033332914\n",
      "Epoch: 0064 loss = 0.032215230\n",
      "Epoch: 0065 loss = 0.031031970\n",
      "Epoch: 0066 loss = 0.029303499\n",
      "Epoch: 0067 loss = 0.028749824\n",
      "Epoch: 0068 loss = 0.028089985\n",
      "Epoch: 0069 loss = 0.028615234\n",
      "Epoch: 0070 loss = 0.028078487\n",
      "Epoch: 0071 loss = 0.027853161\n",
      "Epoch: 0072 loss = 0.026027916\n",
      "Epoch: 0073 loss = 0.027425734\n",
      "Epoch: 0074 loss = 0.027223524\n",
      "Epoch: 0075 loss = 0.025736427\n",
      "Epoch: 0076 loss = 0.025880307\n",
      "Epoch: 0077 loss = 0.026296332\n",
      "Epoch: 0078 loss = 0.025544211\n",
      "Epoch: 0079 loss = 0.026216665\n",
      "Epoch: 0080 loss = 0.026625862\n",
      "Epoch: 0081 loss = 0.026043750\n",
      "Epoch: 0082 loss = 0.025949098\n",
      "Epoch: 0083 loss = 0.026253272\n",
      "Epoch: 0084 loss = 0.026384281\n",
      "Epoch: 0085 loss = 0.026199477\n",
      "Epoch: 0086 loss = 0.025732620\n",
      "Epoch: 0087 loss = 0.025889622\n",
      "Epoch: 0088 loss = 0.025716189\n",
      "Epoch: 0089 loss = 0.026240358\n",
      "Epoch: 0090 loss = 0.025398741\n",
      "Epoch: 0091 loss = 0.025640858\n",
      "Epoch: 0092 loss = 0.026596490\n",
      "Epoch: 0093 loss = 0.025984574\n",
      "Epoch: 0094 loss = 0.026822766\n",
      "Epoch: 0095 loss = 0.025630785\n",
      "Epoch: 0096 loss = 0.026052224\n",
      "Epoch: 0097 loss = 0.026490552\n",
      "Epoch: 0098 loss = 0.025414051\n",
      "Epoch: 0099 loss = 0.026455102\n",
      "Epoch: 0100 loss = 0.025922853\n",
      "Optimization Finished!\n",
      "elapsed time: 28.041477918624878\n"
     ]
    },
    {
     "data": {
      "image/png": "[encoded data removed]",
      "text/plain": [
       "<Figure size 720x144 with 16 Axes>"
      ]
     },
     "metadata": {
      "needs_background": "light"
     },
     "output_type": "display_data"
    }
   ],
   "source": [
    "# 텐서플로 그래프 실행\n",
    "start_time = time.time()\n",
    "sess = tf.Session()\n",
    "# 모형의 변수들을 초기화하기\n",
    "init = tf.global_variables_initializer()\n",
    "sess.run(init)\n",
    "num_batch = int(mnist.train.num_examples/batch_size)\n",
    "# 학습 과정\n",
    "num_epoch = 100\n",
    "for epoch in range(num_epoch):\n",
    "    # 모든 미니배치에 대해 반복함\n",
    "    for i in range(num_batch):\n",
    "        batch_xs, batch_ys = mnist.train.next_batch(batch_size)\n",
    "        _, los = sess.run([optimizer, loss], feed_dict={X: batch_xs})\n",
    "    # 실행 단계 보여주기\n",
    "    if epoch % display_step == 0:\n",
    "        print(\"Epoch:\", '%04d' % (epoch+1),\n",
    "              \"loss =\", \"{:.9f}\".format(los))\n",
    "\n",
    "print(\"Optimization Finished!\")\n",
    "\n",
    "# 검정 데이터 집합에 인코더와 디코더를 적용함\n",
    "n_digit = 8\n",
    "reconstruct_digit = sess.run(y_pred, feed_dict={X: mnist.test.images[:n_digit]})\n",
    "# 검정 데이터에 속하는 원래 이미지와 복원된 이미지를 비교함 \n",
    "fig, a = plt.subplots(2, n_digit, figsize=(10, 2))\n",
    "for i in range(n_digit):\n",
    "    a[0][i].imshow(np.reshape(mnist.test.images[i], (28, 28)),cmap='gray')\n",
    "    a[1][i].imshow(np.reshape(reconstruct_digit[i], (28, 28)),cmap='gray')\n",
    "# 인코더 및 디코더 관련 가중치를 저장함 \n",
    "w_encod = sess.run(weights['encoder_h'])\n",
    "w_decod = sess.run(weights['decoder_h'])\n",
    "\n",
    "end_time = time.time()\n",
    "print('elapsed time:',end_time - start_time)"
   ]
  },
  {
   "cell_type": "code",
   "execution_count": 15,
   "metadata": {},
   "outputs": [],
   "source": [
    "encoder_digit = sess.run(op_encoder, feed_dict={X: mnist.test.images})"
   ]
  },
  {
   "cell_type": "code",
   "execution_count": 16,
   "metadata": {},
   "outputs": [
    {
     "data": {
      "text/plain": [
       "(10000, 1024)"
      ]
     },
     "execution_count": 16,
     "metadata": {},
     "output_type": "execute_result"
    }
   ],
   "source": [
    "encoder_digit.shape"
   ]
  },
  {
   "cell_type": "code",
   "execution_count": 17,
   "metadata": {
    "scrolled": true
   },
   "outputs": [
    {
     "data": {
      "image/png": "[encoded data removed]",
      "text/plain": [
       "<Figure size 432x288 with 1 Axes>"
      ]
     },
     "metadata": {
      "needs_background": "light"
     },
     "output_type": "display_data"
    }
   ],
   "source": [
    "# encoder 층 출력값의 평균의 분포\n",
    "_ = plt.hist(np.mean(encoder_digit, 0), bins=50)"
   ]
  },
  {
   "cell_type": "markdown",
   "metadata": {},
   "source": [
    "## 예제 3-6 MNIST 데이터에 잡음 제거 오토인코더 (수정)"
   ]
  },
  {
   "cell_type": "markdown",
   "metadata": {},
   "source": [
    "예제 3-6: 잡음 제거 오토인코더: Pro Deep Learning + Hands on ML"
   ]
  },
  {
   "cell_type": "code",
   "execution_count": 6,
   "metadata": {},
   "outputs": [],
   "source": [
    "## 필요한 라이브러리를 불러들임 \n",
    "import tensorflow.compat.v1 as tf\n",
    "import numpy as np\n",
    "import matplotlib.pyplot as plt\n",
    "import time"
   ]
  },
  {
   "cell_type": "code",
   "execution_count": 7,
   "metadata": {},
   "outputs": [
    {
     "name": "stdout",
     "output_type": "stream",
     "text": [
      "WARNING:tensorflow:From D:\\ProgramData\\miniconda3\\envs\\golbin2\\lib\\site-packages\\tensorflow_core\\python\\compat\\v2_compat.py:88: disable_resource_variables (from tensorflow.python.ops.variable_scope) is deprecated and will be removed in a future version.\n",
      "Instructions for updating:\n",
      "non-resource variables are not supported in the long term\n"
     ]
    }
   ],
   "source": [
    "tf.disable_v2_behavior()"
   ]
  },
  {
   "cell_type": "code",
   "execution_count": 56,
   "metadata": {},
   "outputs": [],
   "source": [
    "# 학습관련 매개변수 설정\n",
    "learning_rate = 0.01\n",
    "batch_size = 150\n",
    "display_step = 1\n",
    "examples_to_show = 10\n",
    "noise_level = 1"
   ]
  },
  {
   "cell_type": "code",
   "execution_count": 46,
   "metadata": {
    "scrolled": true
   },
   "outputs": [
    {
     "name": "stdout",
     "output_type": "stream",
     "text": [
      "Extracting MNIST_data\\train-images-idx3-ubyte.gz\n",
      "Extracting MNIST_data\\train-labels-idx1-ubyte.gz\n",
      "Extracting MNIST_data\\t10k-images-idx3-ubyte.gz\n",
      "Extracting MNIST_data\\t10k-labels-idx1-ubyte.gz\n"
     ]
    }
   ],
   "source": [
    "# MNIST 데이터 읽어들임\n",
    "from tensorflow.examples.tutorials.mnist import input_data\n",
    "mnist = input_data.read_data_sets(\"MNIST_data\", one_hot=True)"
   ]
  },
  {
   "cell_type": "code",
   "execution_count": 47,
   "metadata": {},
   "outputs": [],
   "source": [
    "n_input = 28*28 # MNIST 데이터 입력 \n",
    "n_hidden = 300 # 은닉노드 개수"
   ]
  },
  {
   "cell_type": "code",
   "execution_count": 48,
   "metadata": {},
   "outputs": [],
   "source": [
    "# 잡음 포함 입력, 가중치 및 편향을 정의함\n",
    "X = tf.placeholder(\"float\", [None, n_input])\n",
    "# (기존) X_noisy = X + noise_level * tf.random_normal(tf.shape(X))\n",
    "X_noisy = tf.placeholder(\"float\", [None, n_input])"
   ]
  },
  {
   "cell_type": "code",
   "execution_count": 49,
   "metadata": {},
   "outputs": [],
   "source": [
    "weights = {\n",
    "    'encoder_h': tf.Variable(tf.random_normal([n_input,n_hidden])),\n",
    "    'decoder_h': tf.Variable(tf.random_normal([n_hidden,n_input])),\n",
    "}    \n",
    "biases = {\n",
    "    'encoder_b': tf.Variable(tf.random_normal([n_hidden])),\n",
    "    'decoder_b': tf.Variable(tf.random_normal([n_input])),\n",
    "}"
   ]
  },
  {
   "cell_type": "code",
   "execution_count": 50,
   "metadata": {},
   "outputs": [],
   "source": [
    "# 인코더를 구축함\n",
    "def encoder(x):\n",
    "    e_layer = tf.nn.sigmoid(tf.add(tf.matmul(x, weights['encoder_h']),\n",
    "                                   biases['encoder_b']))\n",
    "    return e_layer"
   ]
  },
  {
   "cell_type": "code",
   "execution_count": 51,
   "metadata": {},
   "outputs": [],
   "source": [
    "# 수정됨\n",
    "# 디코더를 구축함\n",
    "def decoder(x):\n",
    "    # (기존) d_layer = tf.nn.sigmoid(tf.add(tf.matmul(x, weights['encoder_h']), biases['decoder_b']))\n",
    "    d_layer = tf.nn.sigmoid(tf.add(tf.matmul(x, weights['decoder_h']), biases['decoder_b']))\n",
    "    return d_layer"
   ]
  },
  {
   "cell_type": "code",
   "execution_count": 52,
   "metadata": {},
   "outputs": [],
   "source": [
    "# 오토인코더 모형 구축\n",
    "op_encoder = encoder(X_noisy)\n",
    "op_decoder = decoder(op_encoder)"
   ]
  },
  {
   "cell_type": "code",
   "execution_count": 53,
   "metadata": {},
   "outputs": [],
   "source": [
    "# 예측값\n",
    "y_true = X\n",
    "y_pred = op_decoder"
   ]
  },
  {
   "cell_type": "code",
   "execution_count": 54,
   "metadata": {},
   "outputs": [],
   "source": [
    "# 손실함수 및 최적화 정의 \n",
    "loss = tf.reduce_mean(tf.square(y_true - y_pred))\n",
    "optimizer = tf.train.AdamOptimizer(learning_rate).minimize(loss)"
   ]
  },
  {
   "cell_type": "code",
   "execution_count": 58,
   "metadata": {},
   "outputs": [
    {
     "name": "stdout",
     "output_type": "stream",
     "text": [
      "Epoch: 0001 loss = 0.056028821\n",
      "Epoch: 0002 loss = 0.049108617\n",
      "Epoch: 0003 loss = 0.042899668\n",
      "Epoch: 0004 loss = 0.040384732\n",
      "Epoch: 0005 loss = 0.040472861\n",
      "Epoch: 0006 loss = 0.037346762\n",
      "Epoch: 0007 loss = 0.034294993\n",
      "Epoch: 0008 loss = 0.035867751\n",
      "Epoch: 0009 loss = 0.033924930\n",
      "Epoch: 0010 loss = 0.036983203\n",
      "Optimization Finished!\n",
      "elapsed time: 19.7629554271698\n"
     ]
    },
    {
     "data": {
      "image/png": "[encoded data removed]",
      "text/plain": [
       "<Figure size 720x144 with 16 Axes>"
      ]
     },
     "metadata": {
      "needs_background": "light"
     },
     "output_type": "display_data"
    }
   ],
   "source": [
    "# 텐서플로 그래프 실행\n",
    "start_time = time.time()\n",
    "with tf.Session() as sess:\n",
    "\t# 모형의 변수들을 초기화하기\n",
    "    init = tf.global_variables_initializer()\n",
    "    sess.run(init)\n",
    "    num_batch = int(mnist.train.num_examples/batch_size)\n",
    "    # 학습 과정\n",
    "    num_epoch = 10\n",
    "    for epoch in range(num_epoch):\n",
    "        # 모든 미니배치에 대해 반복함\n",
    "        for i in range(num_batch):\n",
    "            batch_xs, batch_ys = mnist.train.next_batch(batch_size)\n",
    "            batch_xs_noisy = batch_xs + noise_level * np.random.normal(size=batch_xs.shape) # noise가 포함된 input 데이터 생성\n",
    "            batch_xs_noisy = batch_xs_noisy.astype(np.float32)\n",
    "            _, los = sess.run([optimizer, loss], feed_dict={X_noisy: batch_xs_noisy, X: batch_xs})\n",
    "        # 실행 단계 보여주기\n",
    "        if epoch % display_step == 0:\n",
    "            print(\"Epoch:\", '%04d' % (epoch+1),\n",
    "                  \"loss =\", \"{:.9f}\".format(los))\n",
    "\n",
    "    print(\"Optimization Finished!\")\n",
    "\n",
    "    # 검정 데이터 집합에 인코더와 디코더를 적용함\n",
    "    n_digit = 8\n",
    "    xs = mnist.test.images[:n_digit]\n",
    "    xs_noisy = xs + noise_level * np.random.normal(size=xs.shape) # noise가 포함된 input 데이터 생성\n",
    "    xs_noisy = xs_noisy.astype(np.float32)\n",
    "    reconstruct_digit = sess.run(y_pred, feed_dict={X_noisy: xs_noisy, X: xs})\n",
    "    # 검정 데이터에 속하는 원래 이미지와 복원된 이미지를 비교함 \n",
    "    fig, a = plt.subplots(2, n_digit, figsize=(10, 2))\n",
    "    for i in range(n_digit):\n",
    "        a[0][i].imshow(np.reshape(xs_noisy[i], (28, 28)),cmap='gray')\n",
    "        a[1][i].imshow(np.reshape(reconstruct_digit[i], (28, 28)),cmap='gray')\n",
    "    # 인코더 및 디코더 관련 가중치를 저장함 \n",
    "    w_encod = sess.run(weights['encoder_h'])\n",
    "    w_decod = sess.run(weights['decoder_h'])\n",
    "end_time = time.time()\n",
    "print('elapsed time:',end_time - start_time)"
   ]
  },
  {
   "cell_type": "markdown",
   "metadata": {},
   "source": [
    "## 예제 3-7 MNIST 데이터에 대한 분류용 - DBN"
   ]
  },
  {
   "cell_type": "code",
   "execution_count": 60,
   "metadata": {},
   "outputs": [
    {
     "name": "stdout",
     "output_type": "stream",
     "text": [
      "Extracting MNIST_data\\train-images-idx3-ubyte.gz\n",
      "Extracting MNIST_data\\train-labels-idx1-ubyte.gz\n",
      "Extracting MNIST_data\\t10k-images-idx3-ubyte.gz\n",
      "Extracting MNIST_data\\t10k-labels-idx1-ubyte.gz\n",
      "Epoch: 0001\n",
      "Epoch: 0002\n",
      "Epoch: 0003\n",
      "Epoch: 0004\n",
      "Epoch: 0005\n",
      "Epoch: 0006\n",
      "Epoch: 0007\n",
      "Epoch: 0008\n",
      "Epoch: 0009\n",
      "Epoch: 0010\n",
      "Epoch: 0011\n",
      "Epoch: 0012\n",
      "Epoch: 0013\n",
      "Epoch: 0014\n",
      "Epoch: 0015\n",
      "Epoch: 0016\n",
      "Epoch: 0017\n",
      "Epoch: 0018\n",
      "Epoch: 0019\n",
      "Epoch: 0020\n",
      "Epoch: 0021\n",
      "Epoch: 0022\n",
      "Epoch: 0023\n",
      "Epoch: 0024\n",
      "Epoch: 0025\n",
      "Epoch: 0026\n",
      "Epoch: 0027\n",
      "Epoch: 0028\n",
      "Epoch: 0029\n",
      "Epoch: 0030\n",
      "Epoch: 0031\n",
      "Epoch: 0032\n",
      "Epoch: 0033\n",
      "Epoch: 0034\n",
      "Epoch: 0035\n",
      "Epoch: 0036\n",
      "Epoch: 0037\n",
      "Epoch: 0038\n",
      "Epoch: 0039\n",
      "Epoch: 0040\n",
      "Epoch: 0041\n",
      "Epoch: 0042\n",
      "Epoch: 0043\n",
      "Epoch: 0044\n",
      "Epoch: 0045\n",
      "Epoch: 0046\n",
      "Epoch: 0047\n",
      "Epoch: 0048\n",
      "Epoch: 0049\n",
      "Epoch: 0050\n",
      "Epoch: 0051\n",
      "Epoch: 0052\n",
      "Epoch: 0053\n",
      "Epoch: 0054\n",
      "Epoch: 0055\n",
      "Epoch: 0056\n",
      "Epoch: 0057\n",
      "Epoch: 0058\n",
      "Epoch: 0059\n",
      "Epoch: 0060\n",
      "Epoch: 0061\n",
      "Epoch: 0062\n",
      "Epoch: 0063\n",
      "Epoch: 0064\n",
      "Epoch: 0065\n",
      "Epoch: 0066\n",
      "Epoch: 0067\n",
      "Epoch: 0068\n",
      "Epoch: 0069\n",
      "Epoch: 0070\n",
      "Epoch: 0071\n",
      "Epoch: 0072\n",
      "Epoch: 0073\n",
      "Epoch: 0074\n",
      "Epoch: 0075\n",
      "Epoch: 0076\n",
      "Epoch: 0077\n",
      "Epoch: 0078\n",
      "Epoch: 0079\n",
      "Epoch: 0080\n",
      "Epoch: 0081\n",
      "Epoch: 0082\n",
      "Epoch: 0083\n",
      "Epoch: 0084\n",
      "Epoch: 0085\n",
      "Epoch: 0086\n",
      "Epoch: 0087\n",
      "Epoch: 0088\n",
      "Epoch: 0089\n",
      "Epoch: 0090\n",
      "Epoch: 0091\n",
      "Epoch: 0092\n",
      "Epoch: 0093\n",
      "Epoch: 0094\n",
      "Epoch: 0095\n",
      "Epoch: 0096\n",
      "Epoch: 0097\n",
      "Epoch: 0098\n",
      "Epoch: 0099\n",
      "Epoch: 0100\n",
      "Epoch: 0101\n",
      "Epoch: 0102\n",
      "Epoch: 0103\n",
      "Epoch: 0104\n",
      "Epoch: 0105\n",
      "Epoch: 0106\n",
      "Epoch: 0107\n",
      "Epoch: 0108\n",
      "Epoch: 0109\n",
      "Epoch: 0110\n",
      "Epoch: 0111\n",
      "Epoch: 0112\n",
      "Epoch: 0113\n",
      "Epoch: 0114\n",
      "Epoch: 0115\n",
      "Epoch: 0116\n",
      "Epoch: 0117\n",
      "Epoch: 0118\n",
      "Epoch: 0119\n",
      "Epoch: 0120\n",
      "Epoch: 0121\n",
      "Epoch: 0122\n",
      "Epoch: 0123\n",
      "Epoch: 0124\n",
      "Epoch: 0125\n",
      "Epoch: 0126\n",
      "Epoch: 0127\n",
      "Epoch: 0128\n",
      "Epoch: 0129\n",
      "Epoch: 0130\n",
      "Epoch: 0131\n",
      "Epoch: 0132\n",
      "Epoch: 0133\n",
      "Epoch: 0134\n",
      "Epoch: 0135\n",
      "Epoch: 0136\n",
      "Epoch: 0137\n",
      "Epoch: 0138\n",
      "Epoch: 0139\n",
      "Epoch: 0140\n",
      "Epoch: 0141\n",
      "Epoch: 0142\n",
      "Epoch: 0143\n",
      "Epoch: 0144\n",
      "Epoch: 0145\n",
      "Epoch: 0146\n",
      "Epoch: 0147\n",
      "Epoch: 0148\n",
      "Epoch: 0149\n",
      "Epoch: 0150\n",
      "Epoch: 0151\n",
      "Epoch: 0152\n",
      "Epoch: 0153\n",
      "Epoch: 0154\n",
      "Epoch: 0155\n",
      "Epoch: 0156\n",
      "Epoch: 0157\n",
      "Epoch: 0158\n",
      "Epoch: 0159\n",
      "Epoch: 0160\n",
      "Epoch: 0161\n",
      "Epoch: 0162\n",
      "Epoch: 0163\n",
      "Epoch: 0164\n",
      "Epoch: 0165\n",
      "Epoch: 0166\n",
      "Epoch: 0167\n",
      "Epoch: 0168\n",
      "Epoch: 0169\n",
      "Epoch: 0170\n",
      "Epoch: 0171\n",
      "Epoch: 0172\n",
      "Epoch: 0173\n",
      "Epoch: 0174\n",
      "Epoch: 0175\n",
      "Epoch: 0176\n",
      "Epoch: 0177\n",
      "Epoch: 0178\n",
      "Epoch: 0179\n",
      "Epoch: 0180\n",
      "Epoch: 0181\n",
      "Epoch: 0182\n",
      "Epoch: 0183\n",
      "Epoch: 0184\n",
      "Epoch: 0185\n",
      "Epoch: 0186\n",
      "Epoch: 0187\n",
      "Epoch: 0188\n",
      "Epoch: 0189\n",
      "Epoch: 0190\n",
      "Epoch: 0191\n",
      "Epoch: 0192\n",
      "Epoch: 0193\n",
      "Epoch: 0194\n",
      "Epoch: 0195\n",
      "Epoch: 0196\n",
      "Epoch: 0197\n",
      "Epoch: 0198\n",
      "Epoch: 0199\n",
      "Epoch: 0200\n",
      "RBM training Completed !\n",
      "Iter 0, Minibatch Loss= 9.944584, Training Accuracy= 0.13281\n",
      "Iter 10, Minibatch Loss= 2.720571, Training Accuracy= 0.45703\n",
      "Iter 20, Minibatch Loss= 1.291616, Training Accuracy= 0.66016\n",
      "Iter 30, Minibatch Loss= 1.042421, Training Accuracy= 0.70703\n",
      "Iter 40, Minibatch Loss= 0.721563, Training Accuracy= 0.77344\n",
      "Iter 50, Minibatch Loss= 0.834070, Training Accuracy= 0.77344\n",
      "Iter 60, Minibatch Loss= 0.887025, Training Accuracy= 0.78906\n",
      "Iter 70, Minibatch Loss= 0.653409, Training Accuracy= 0.83984\n",
      "Iter 80, Minibatch Loss= 0.445035, Training Accuracy= 0.87500\n",
      "Iter 90, Minibatch Loss= 0.669966, Training Accuracy= 0.80078\n",
      "Iter 100, Minibatch Loss= 0.699424, Training Accuracy= 0.80859\n",
      "Iter 110, Minibatch Loss= 0.683702, Training Accuracy= 0.82422\n",
      "Iter 120, Minibatch Loss= 0.533053, Training Accuracy= 0.84766\n",
      "Iter 130, Minibatch Loss= 0.516655, Training Accuracy= 0.87500\n",
      "Iter 140, Minibatch Loss= 0.606353, Training Accuracy= 0.83984\n",
      "Iter 150, Minibatch Loss= 0.545145, Training Accuracy= 0.84766\n",
      "Iter 160, Minibatch Loss= 0.400137, Training Accuracy= 0.87891\n",
      "Iter 170, Minibatch Loss= 0.409313, Training Accuracy= 0.89062\n",
      "Iter 180, Minibatch Loss= 0.306645, Training Accuracy= 0.91406\n",
      "Iter 190, Minibatch Loss= 0.427324, Training Accuracy= 0.85547\n",
      "Optimization Finished!\n",
      "Testing Accuracy: 0.8764\n"
     ]
    }
   ],
   "source": [
    "# 필요한 라이브러리를 불러들임 \n",
    "import numpy as np\n",
    "import pandas as pd\n",
    "import tensorflow.compat.v1 as tf\n",
    "import matplotlib.pyplot as plt\n",
    "%matplotlib inline\n",
    "\n",
    "tf.disable_v2_behavior()\n",
    "\n",
    "# MNIST 파일 읽어들임\n",
    "from tensorflow.examples.tutorials.mnist import input_data\n",
    "mnist = input_data.read_data_sets(\"MNIST_data\", one_hot=True)\n",
    "\n",
    "# 학습관련 매개변수 설정\n",
    "n_input      = 784\n",
    "n_hidden1    = 500\n",
    "n_hidden2    = 256\n",
    "display_step = 1\n",
    "n_epoch = 200 \n",
    "batch_size = 256 \n",
    "lr_rbm = tf.constant(0.001, tf.float32)\n",
    "lr_class = tf.constant(0.01, tf.float32)\n",
    "n_class = 10\n",
    "n_iter = 200\n",
    "\n",
    "# 입력 및 출력을 정의함\n",
    "x  = tf.placeholder(tf.float32, [None, n_input], name=\"x\") \n",
    "y  = tf.placeholder(tf.float32, [None,10], name=\"y\") \n",
    "\n",
    "# 첫 번째 은닉층 관련 가중치 및 편향을 정의함\n",
    "W1  = tf.Variable(tf.random_normal([n_input, n_hidden1], 0.01), name=\"W1\") \n",
    "b1_h = tf.Variable(tf.zeros([1, n_hidden1],  tf.float32, name=\"b1_h\")) \n",
    "b1_i = tf.Variable(tf.zeros([1, n_input],  tf.float32, name=\"b1_i\")) \n",
    "\n",
    "# 두 번째 은닉층 관련 가중치 및 편향을 정의함\n",
    "W2  = tf.Variable(tf.random_normal([n_hidden1, n_hidden2], 0.01), name=\"W2\") \n",
    "b2_h = tf.Variable(tf.zeros([1, n_hidden2],  tf.float32, name=\"b2_h\")) \n",
    "b2_i = tf.Variable(tf.zeros([1, n_hidden1],  tf.float32, name=\"b2_i\")) \n",
    "\n",
    "# 라벨층 관련 가중치 및 편향을 정의함\n",
    "W_c = tf.Variable(tf.random_normal([n_hidden2,n_class], 0.01), name=\"W_c\") \n",
    "b_c = tf.Variable(tf.zeros([1, n_class],  tf.float32, name=\"b_c\")) \n",
    "\n",
    "# 확률을 이산 상태, 즉 0과 1로 변환함 \n",
    "def binary(prob):\n",
    "    return tf.floor(prob + tf.random_uniform(tf.shape(prob), 0, 1))\n",
    "\n",
    "# Gibbs 표본추출 단계\n",
    "def cd_step(x_k,W,b_h,b_i):\n",
    "    h_k = binary(tf.sigmoid(tf.matmul(x_k, W) + b_h)) \n",
    "    x_k = binary(tf.sigmoid(tf.matmul(h_k, tf.transpose(W)) + b_i))\n",
    "    return x_k\n",
    "\n",
    "# 표본추출 단계 실행     \n",
    "def cd_gibbs(k,x_k,W,b_h,b_i):\n",
    "    for i in range(k):\n",
    "        x_out = cd_step(x_k,W,b_h,b_i) \n",
    "    # k 반복 후에 깁스 표본을 반환함\n",
    "    return x_out\n",
    "\n",
    "# 2개의 은닉층을 갖는 DBN에 대한 CD-2 알고리즘\n",
    "# 1. 현재 입력값을 기반으로 깁스 표본추출을 통해 새로운 입력값 x_s를 구함\n",
    "# 2. 새로운 x_s를 기반으로 새로운 은닉노드 값 h_s를 구함    \n",
    "x_s = cd_gibbs(2,x,W1,b1_h,b1_i) \n",
    "act_h1_s = binary(tf.sigmoid(tf.matmul(x_s, W1) + b1_h)) \n",
    "h1_s = cd_gibbs(2,act_h1_s,W2,b2_h,b2_i) \n",
    "act_h2_s = binary(tf.sigmoid(tf.matmul(h1_s, W2) + b2_h)) \n",
    "\n",
    "# 입력값이 주어질 때 은닉노드 값 h를 구함\n",
    "act_h1 = tf.sigmoid(tf.matmul(x, W1) + b1_h) \n",
    "act_h2 = tf.sigmoid(tf.matmul(act_h1_s, W2) + b2_h) \n",
    "\n",
    "# 경사 하강법을 이용한 가중치 및 편향 업데이트 \n",
    "size_batch = tf.cast(tf.shape(x)[0], tf.float32)\n",
    "\n",
    "W1_add  = tf.multiply(lr_rbm/size_batch, tf.subtract(tf.matmul(tf.transpose(x), \\\n",
    "          act_h1), tf.matmul(tf.transpose(x_s), act_h1_s)))\n",
    "b1_i_add = tf.multiply(lr_rbm/size_batch, tf.reduce_sum(tf.subtract(x, x_s), \\\n",
    "           0, True))\n",
    "b1_h_add = tf.multiply(lr_rbm/size_batch, tf.reduce_sum(tf.subtract(act_h1, act_h1_s), \\\n",
    "           0, True))\n",
    "\n",
    "W2_add  = tf.multiply(lr_rbm/size_batch, tf.subtract(tf.matmul(tf.transpose(act_h1_s), \\\n",
    "          act_h2), tf.matmul(tf.transpose(h1_s), act_h2_s)))\n",
    "b2_i_add = tf.multiply(lr_rbm/size_batch, tf.reduce_sum(tf.subtract(act_h1_s, h1_s), \\\n",
    "           0, True))\n",
    "b2_h_add = tf.multiply(lr_rbm/size_batch, tf.reduce_sum(tf.subtract(act_h2, act_h2_s), \\\n",
    "        0, True))\n",
    "\n",
    "updt = [W1.assign_add(W1_add), b1_i.assign_add(b1_i_add), b1_h.assign_add(b1_h_add),\\\n",
    "        W2.assign_add(W2_add), b2_i.assign_add(b2_i_add), b2_h.assign_add(b2_h_add)]\n",
    "\n",
    "#-------------------------------------------------------------\n",
    "# 소프트맥스 층을 추가한 분류용-DBN 을 위한 연산과정\n",
    "#------------------------------------------------------------- \n",
    "\n",
    "logits = tf.matmul(act_h2,W_c) + b_c\n",
    "cost = tf.reduce_mean(tf.nn.softmax_cross_entropy_with_logits_v2(logits=logits, labels=y))\n",
    "optimizer = tf.train.AdamOptimizer(learning_rate=lr_class).minimize(cost)\n",
    "correct_pred = tf.equal(tf.argmax(logits,1), tf.argmax(y, 1))\n",
    "accuracy = tf.reduce_mean(tf.cast(correct_pred, tf.float32))\n",
    "\n",
    "#-------------------------------------------------------------                   \n",
    "# RBM을 쌓아 올려가며 DBN을 학습하는 텐서플로 그래프 실행   \n",
    "#-------------------------------------------------------------\n",
    "with tf.Session() as sess:\n",
    "    # Initialize the variables of the Model\n",
    "    init = tf.global_variables_initializer()\n",
    "    sess.run(init)\n",
    "    \n",
    "    n_batch = int(mnist.train.num_examples/batch_size)\n",
    "    # Start the training \n",
    "    for epoch in range(n_epoch):\n",
    "        # Loop over all batches\n",
    "        for i in range(n_batch):\n",
    "            batch_xs, batch_ys = mnist.train.next_batch(batch_size)\n",
    "            # Run the weight update \n",
    "            batch_xs = (batch_xs > 0)*1\n",
    "            _ = sess.run([updt], feed_dict={x:batch_xs})\n",
    "            \n",
    "        # Display the running step \n",
    "        if epoch % display_step == 0:\n",
    "            print(\"Epoch:\", '%04d' % (epoch+1))\n",
    "                  \n",
    "    print(\"RBM training Completed !\")\n",
    " \n",
    "#--------------------------------------------------------------\n",
    "# 소프트맥스 층을 추가한 분류용-DBN 학습 및 예측\n",
    "#--------------------------------------------------------------\n",
    "    for i in range(n_iter):\n",
    "        batch_x, batch_y = mnist.train.next_batch(batch_size)\n",
    "        # 최적화 과정 실행\n",
    "        sess.run(optimizer, feed_dict={x: batch_x, y: batch_y})\n",
    "        if i % 10 == 0:\n",
    "            # MINIST 훈련용 이미지의 배치에 대한 손실과 정확도를 계산\n",
    "            tr_loss, tr_acc = sess.run([cost, accuracy], \n",
    "            \t                    feed_dict={x: batch_x, y: batch_y})\n",
    "            print(\"Iter \" + str(i) + \", Minibatch Loss= \" + \\\n",
    "                  \"{:.6f}\".format(tr_loss) + \", Training Accuracy= \" + \\\n",
    "                  \"{:.5f}\".format(tr_acc))\n",
    "        \n",
    "    print(\"Optimization Finished!\")\n",
    "\n",
    "    # MINIST 검정용 이미지에 대한 정확도 계산 \n",
    "    print(\"Testing Accuracy:\", \\\n",
    "        sess.run(accuracy, feed_dict={x: mnist.test.images,\n",
    "                                      y: mnist.test.labels}))\n",
    "\n",
    "    sess.close()\n",
    "    # Testing Accuracy: 0.8769"
   ]
  },
  {
   "cell_type": "code",
   "execution_count": null,
   "metadata": {},
   "outputs": [],
   "source": []
  }
 ],
 "metadata": {
  "kernelspec": {
   "display_name": "Python 3",
   "language": "python",
   "name": "python3"
  },
  "language_info": {
   "codemirror_mode": {
    "name": "ipython",
    "version": 3
   },
   "file_extension": ".py",
   "mimetype": "text/x-python",
   "name": "python",
   "nbconvert_exporter": "python",
   "pygments_lexer": "ipython3",
   "version": "3.7.7"
  }
 },
 "nbformat": 4,
 "nbformat_minor": 4
}
